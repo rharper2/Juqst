{
 "cells": [
  {
   "cell_type": "markdown",
   "metadata": {},
   "source": [
    "# Quick overview of how to generate the 'stabilisers' for the Cleve paper\n",
    "\n",
    "## This is used to actually generate the relevant Clifford gates in a different (Julia) workbook called \"The Cleve Paper\""
   ]
  },
  {
   "cell_type": "markdown",
   "metadata": {},
   "source": [
    "Obviously the next line will depend on where you are, but change into the finite-fields directory.\n",
    "\n",
    "This workbook assumes Python3 (but should work with python2.7 with minimal changes --- not tested)\n",
    "\n",
    "Note that PyCall in Julia is set up to use Python 2.7 by default. This should be changed, which is slightly involved but not difficult.\n",
    "\n",
    "NOTE: if when you run the notebook you see, for example, in output 4 \\\\u2208 rather than $\\in$, then it may be you are running this in IJulia jupyter rather than a 'jupyter notebook' started from the command line. At least that's what happens to me."
   ]
  },
  {
   "cell_type": "code",
   "execution_count": 1,
   "metadata": {},
   "outputs": [
    {
     "name": "stdout",
     "output_type": "stream",
     "text": [
      "/Users/robin/Dropbox (Sydney Uni)/Juqst/finite-fields\n"
     ]
    }
   ],
   "source": [
    "cd '../finite-fields/'"
   ]
  },
  {
   "cell_type": "code",
   "execution_count": 2,
   "metadata": {},
   "outputs": [],
   "source": [
    "# All the relevant functions are in SLFunctions, but I will (later) step through what is going on\n",
    "\n",
    "import numpy as np\n",
    "from finitefield import *\n",
    "from SLFunctions import *\n"
   ]
  },
  {
   "cell_type": "code",
   "execution_count": 3,
   "metadata": {},
   "outputs": [
    {
     "name": "stdout",
     "output_type": "stream",
     "text": [
      "1 + 0 x^1 + 0 x^2 + 1 x^3\n",
      "1 + 1 x^1 + 1 x^2 + 1 x^3\n",
      "1 + 1 x^1 + 0 x^2 + 1 x^3\n"
     ]
    }
   ],
   "source": [
    "# We can generate the FiniteField objects as follows\n",
    "# NOTE there is a random element to this as we randomly find an irreducible polynomial over Z/p\n",
    "\n",
    "# So here we are generating a binary field i.e. modulus 2 (0 or 1), of third degree polynomials (upto x^3)\n",
    "# The print out is the basis chosen - this might change each time the kernel is restarted\n",
    "F23=FiniteField(2,3)\n",
    "\n",
    "\n"
   ]
  },
  {
   "cell_type": "markdown",
   "metadata": {},
   "source": [
    "So we have a created a finite field with modulus 2 and of degree 3, this is modeled as a binary coefficient polynomial e.g $a_0 + a_1x + a_2x^2$, where $a_i$ is ${0,1}$\n",
    "\n",
    "The beauty of the finite-field package is that it allows us to easily add/multiply/divide and take inverses of these fields. We will use this extensively later on. \n",
    "\n",
    "The output from the instantiation above is it attempting to find the polynomial that will generate the field. This is used to get the dual basis. Note it is not unique and might change every time the kernel restarts. The dual basis will change depending on this polynomial (so needs to be recalculated) - more later."
   ]
  },
  {
   "cell_type": "code",
   "execution_count": 4,
   "metadata": {},
   "outputs": [
    {
     "data": {
      "text/plain": [
       "[1 ∈ F_{2^3}, 0 + 1 x^1 ∈ F_{2^3}, 0 + 0 x^1 + 1 x^2 ∈ F_{2^3}]"
      ]
     },
     "execution_count": 4,
     "metadata": {},
     "output_type": "execute_result"
    }
   ],
   "source": [
    "# This is just a helper to get the basis elements of the field\n",
    "# If we were to express them as vectors they would be: (0,0,1), (0,1,0) and (1,0,0)\n",
    "basis3=getPolyBasis(F23)\n",
    "basis3"
   ]
  },
  {
   "cell_type": "code",
   "execution_count": 5,
   "metadata": {},
   "outputs": [],
   "source": [
    "# This allows us to extract the matrices that translate between the above basis and its dual\n",
    "w,wb=getW_WBForPoly(F23)"
   ]
  },
  {
   "cell_type": "code",
   "execution_count": 6,
   "metadata": {},
   "outputs": [
    {
     "data": {
      "text/plain": [
       "array([[1., 0., 0.],\n",
       "       [0., 0., 1.],\n",
       "       [0., 1., 0.]])"
      ]
     },
     "execution_count": 6,
     "metadata": {},
     "output_type": "execute_result"
    }
   ],
   "source": [
    "w"
   ]
  },
  {
   "cell_type": "code",
   "execution_count": 7,
   "metadata": {},
   "outputs": [
    {
     "data": {
      "text/plain": [
       "array([[1., 0., 0.],\n",
       "       [0., 0., 1.],\n",
       "       [0., 1., 0.]])"
      ]
     },
     "execution_count": 7,
     "metadata": {},
     "output_type": "execute_result"
    }
   ],
   "source": [
    "wb"
   ]
  },
  {
   "cell_type": "code",
   "execution_count": 8,
   "metadata": {},
   "outputs": [
    {
     "name": "stdout",
     "output_type": "stream",
     "text": [
      "1 ∈ F_{2^3}  =>  1 ∈ F_{2^3}  ==>  1 ∈ F_{2^3}\n",
      "0 + 1 x^1 ∈ F_{2^3}  =>  0 + 0 x^1 + 1 x^2 ∈ F_{2^3}  ==>  0 + 1 x^1 ∈ F_{2^3}\n",
      "0 + 0 x^1 + 1 x^2 ∈ F_{2^3}  =>  0 + 1 x^1 ∈ F_{2^3}  ==>  0 + 0 x^1 + 1 x^2 ∈ F_{2^3}\n"
     ]
    }
   ],
   "source": [
    "# A quick sanity check - translate into the dual and back again.\n",
    "for i in basis3:\n",
    "    print(i,\" => \",toPoly(F23,translateWithW(w,i)),\" ==> \", toPoly(F23,translateWithW(wb,toPoly(F23,translateWithW(w,i)))))\n"
   ]
  },
  {
   "cell_type": "markdown",
   "metadata": {},
   "source": [
    "# The code in SLFuntions just allows you to directly get the stabilisers for a certain 'n' = qubits\n",
    "# The julia worksheet 'The Cleve Paper' shows how to use these to generate actual clifford gates\n",
    "\n",
    "# Below I discuss how this works, for those interested."
   ]
  },
  {
   "cell_type": "code",
   "execution_count": 9,
   "metadata": {},
   "outputs": [
    {
     "name": "stdout",
     "output_type": "stream",
     "text": [
      "0 + 0 x^1 + 1 x^2\n",
      "0 + 0 x^1 + 1 x^2\n",
      "0 + 1 x^1 + 1 x^2\n",
      "1 + 1 x^1 + 1 x^2\n"
     ]
    },
    {
     "data": {
      "text/plain": [
       "[[[0, 0, 1, 0], [0, 0, 0, 1], [1, 0, 0, 0], [0, 1, 0, 0]],\n",
       " [[0, 0, 1, 0], [0, 0, 0, 1], [1, 0, 0, 1], [0, 1, 1, 1]],\n",
       " [[0, 0, 1, 0], [0, 0, 0, 1], [1, 0, 1, 0], [0, 1, 0, 1]],\n",
       " [[0, 0, 1, 0], [0, 0, 0, 1], [1, 0, 1, 1], [0, 1, 1, 0]],\n",
       " [[0, 0, 0, 1], [0, 0, 1, 1], [1, 1, 0, 0], [1, 0, 0, 0]],\n",
       " [[0, 0, 0, 1], [0, 0, 1, 1], [1, 1, 0, 1], [1, 0, 1, 1]],\n",
       " [[0, 0, 0, 1], [0, 0, 1, 1], [1, 1, 1, 0], [1, 0, 0, 1]],\n",
       " [[0, 0, 0, 1], [0, 0, 1, 1], [1, 1, 1, 1], [1, 0, 1, 0]],\n",
       " [[0, 0, 1, 1], [0, 0, 1, 0], [0, 1, 0, 0], [1, 1, 0, 0]],\n",
       " [[0, 0, 1, 1], [0, 0, 1, 0], [0, 1, 0, 1], [1, 1, 1, 1]],\n",
       " [[0, 0, 1, 1], [0, 0, 1, 0], [0, 1, 1, 0], [1, 1, 0, 1]],\n",
       " [[0, 0, 1, 1], [0, 0, 1, 0], [0, 1, 1, 1], [1, 1, 1, 0]],\n",
       " [[0, 1, 0, 0], [1, 1, 0, 0], [0, 0, 1, 1], [0, 0, 1, 0]],\n",
       " [[0, 1, 1, 1], [1, 1, 1, 0], [0, 0, 1, 1], [0, 0, 1, 0]],\n",
       " [[0, 1, 0, 1], [1, 1, 1, 1], [0, 0, 1, 1], [0, 0, 1, 0]],\n",
       " [[0, 1, 1, 0], [1, 1, 0, 1], [0, 0, 1, 1], [0, 0, 1, 0]],\n",
       " [[0, 1, 0, 0], [1, 1, 0, 0], [1, 0, 1, 1], [0, 1, 1, 0]],\n",
       " [[0, 1, 1, 1], [1, 1, 1, 0], [1, 0, 1, 0], [0, 1, 0, 1]],\n",
       " [[0, 1, 0, 1], [1, 1, 1, 1], [1, 0, 0, 1], [0, 1, 1, 1]],\n",
       " [[0, 1, 1, 0], [1, 1, 0, 1], [1, 0, 0, 0], [0, 1, 0, 0]],\n",
       " [[0, 1, 0, 0], [1, 1, 0, 0], [1, 1, 1, 1], [1, 0, 1, 0]],\n",
       " [[0, 1, 1, 1], [1, 1, 1, 0], [1, 1, 0, 1], [1, 0, 1, 1]],\n",
       " [[0, 1, 0, 1], [1, 1, 1, 1], [1, 1, 0, 0], [1, 0, 0, 0]],\n",
       " [[0, 1, 1, 0], [1, 1, 0, 1], [1, 1, 1, 0], [1, 0, 0, 1]],\n",
       " [[0, 1, 0, 0], [1, 1, 0, 0], [0, 1, 1, 1], [1, 1, 1, 0]],\n",
       " [[0, 1, 1, 1], [1, 1, 1, 0], [0, 1, 0, 0], [1, 1, 0, 0]],\n",
       " [[0, 1, 0, 1], [1, 1, 1, 1], [0, 1, 1, 0], [1, 1, 0, 1]],\n",
       " [[0, 1, 1, 0], [1, 1, 0, 1], [0, 1, 0, 1], [1, 1, 1, 1]],\n",
       " [[1, 0, 0, 0], [0, 1, 0, 0], [0, 0, 1, 0], [0, 0, 0, 1]],\n",
       " [[1, 0, 1, 1], [0, 1, 1, 0], [0, 0, 1, 0], [0, 0, 0, 1]],\n",
       " [[1, 0, 0, 1], [0, 1, 1, 1], [0, 0, 1, 0], [0, 0, 0, 1]],\n",
       " [[1, 0, 1, 0], [0, 1, 0, 1], [0, 0, 1, 0], [0, 0, 0, 1]],\n",
       " [[1, 0, 0, 0], [0, 1, 0, 0], [1, 0, 1, 0], [0, 1, 0, 1]],\n",
       " [[1, 0, 1, 1], [0, 1, 1, 0], [1, 0, 0, 1], [0, 1, 1, 1]],\n",
       " [[1, 0, 0, 1], [0, 1, 1, 1], [1, 0, 1, 1], [0, 1, 1, 0]],\n",
       " [[1, 0, 1, 0], [0, 1, 0, 1], [1, 0, 0, 0], [0, 1, 0, 0]],\n",
       " [[1, 0, 0, 0], [0, 1, 0, 0], [1, 1, 1, 0], [1, 0, 0, 1]],\n",
       " [[1, 0, 1, 1], [0, 1, 1, 0], [1, 1, 1, 1], [1, 0, 1, 0]],\n",
       " [[1, 0, 0, 1], [0, 1, 1, 1], [1, 1, 0, 0], [1, 0, 0, 0]],\n",
       " [[1, 0, 1, 0], [0, 1, 0, 1], [1, 1, 0, 1], [1, 0, 1, 1]],\n",
       " [[1, 0, 0, 0], [0, 1, 0, 0], [0, 1, 1, 0], [1, 1, 0, 1]],\n",
       " [[1, 0, 1, 1], [0, 1, 1, 0], [0, 1, 0, 0], [1, 1, 0, 0]],\n",
       " [[1, 0, 0, 1], [0, 1, 1, 1], [0, 1, 0, 1], [1, 1, 1, 1]],\n",
       " [[1, 0, 1, 0], [0, 1, 0, 1], [0, 1, 1, 1], [1, 1, 1, 0]],\n",
       " [[1, 1, 0, 0], [1, 0, 0, 0], [0, 0, 0, 1], [0, 0, 1, 1]],\n",
       " [[1, 1, 1, 1], [1, 0, 1, 0], [0, 0, 0, 1], [0, 0, 1, 1]],\n",
       " [[1, 1, 0, 1], [1, 0, 1, 1], [0, 0, 0, 1], [0, 0, 1, 1]],\n",
       " [[1, 1, 1, 0], [1, 0, 0, 1], [0, 0, 0, 1], [0, 0, 1, 1]],\n",
       " [[1, 1, 0, 0], [1, 0, 0, 0], [1, 0, 0, 1], [0, 1, 1, 1]],\n",
       " [[1, 1, 1, 1], [1, 0, 1, 0], [1, 0, 1, 1], [0, 1, 1, 0]],\n",
       " [[1, 1, 0, 1], [1, 0, 1, 1], [1, 0, 1, 0], [0, 1, 0, 1]],\n",
       " [[1, 1, 1, 0], [1, 0, 0, 1], [1, 0, 0, 0], [0, 1, 0, 0]],\n",
       " [[1, 1, 0, 0], [1, 0, 0, 0], [1, 1, 0, 1], [1, 0, 1, 1]],\n",
       " [[1, 1, 1, 1], [1, 0, 1, 0], [1, 1, 1, 0], [1, 0, 0, 1]],\n",
       " [[1, 1, 0, 1], [1, 0, 1, 1], [1, 1, 0, 0], [1, 0, 0, 0]],\n",
       " [[1, 1, 1, 0], [1, 0, 0, 1], [1, 1, 1, 1], [1, 0, 1, 0]],\n",
       " [[1, 1, 0, 0], [1, 0, 0, 0], [0, 1, 0, 1], [1, 1, 1, 1]],\n",
       " [[1, 1, 1, 1], [1, 0, 1, 0], [0, 1, 0, 0], [1, 1, 0, 0]],\n",
       " [[1, 1, 0, 1], [1, 0, 1, 1], [0, 1, 1, 1], [1, 1, 1, 0]],\n",
       " [[1, 1, 1, 0], [1, 0, 0, 1], [0, 1, 1, 0], [1, 1, 0, 1]]]"
      ]
     },
     "execution_count": 9,
     "metadata": {},
     "output_type": "execute_result"
    }
   ],
   "source": [
    "getF2Stabilisers()"
   ]
  },
  {
   "cell_type": "markdown",
   "metadata": {},
   "source": [
    "# So in order to find the stabiliser What we need to do is \n",
    "\n",
    "- get w and wb (so we can translate to and from the dual basis)\n",
    "- get the SL matrices for this field\n",
    "- translate using wb to w\n",
    "- multiply by SL\n",
    "- translate back to wb"
   ]
  },
  {
   "cell_type": "markdown",
   "metadata": {},
   "source": [
    "## This example will be for 2-qubits\n",
    "### Check the basis states are working, convert to one then convert back"
   ]
  },
  {
   "cell_type": "code",
   "execution_count": 10,
   "metadata": {},
   "outputs": [
    {
     "name": "stdout",
     "output_type": "stream",
     "text": [
      "1 ∈ F_{2^2} ---> 1 + 1 x^1 ∈ F_{2^2} ----> 1 ∈ F_{2^2}\n",
      "0 + 1 x^1 ∈ F_{2^2} ---> 1 ∈ F_{2^2} ----> 0 + 1 x^1 ∈ F_{2^2}\n"
     ]
    }
   ],
   "source": [
    "F22 = FiniteField(2,2)\n",
    "basis2=getPolyBasis(F22)\n",
    "w2,w2b=getW_WBForPoly(F22)\n",
    "for i in basis2:\n",
    "    start= toPoly(F22,translateWithW(w2b,i))\n",
    "    # Here is where to do the GL thing.\n",
    "    s2=toPoly(F22,translateWithW(w2,start))\n",
    "    print(i,\"--->\",start,\"---->\",s2)\n",
    "    \n"
   ]
  },
  {
   "cell_type": "markdown",
   "metadata": {},
   "source": [
    "### I have automated the finding of the SL Groups, here we do it for F22\n",
    "\n",
    "Essentially a way we can do this (which works not too slowly up to about F26) is just to brute force it.\n",
    "\n",
    "Members of $SL_2(GF(2^n))$ can be written as a matrix:\n",
    "\n",
    "$\\left(\\begin{array}{cc}\\alpha&\\beta\\\\\\gamma&\\delta\\end{array}\\right)$, where each of $\\alpha,\\beta,\\delta,\\gamma$ are (effectively) bit strings, $n$-bits long. ie. are members of our Field (here F22). Then we required: $\\alpha\\delta+\\beta\\gamma=1$ (note the sign here is +, but we are dealing with modulo 2, so minus is the same thing).\n",
    "\n",
    "So the brute force method is just to loop over every possible $\\alpha,\\beta,\\delta$ and $\\gamma$, check the condition, keep it if satisfied and throw it away if not."
   ]
  },
  {
   "cell_type": "code",
   "execution_count": 11,
   "metadata": {},
   "outputs": [],
   "source": [
    "field,slm = setUpSLGroups(F22)\n",
    "# This gives up back the field i.e. all the different values each of α,β,γ and δ can take.\n",
    "# Then SLM is an array, where each element is the 'indexed' value of these variables. ie. 3 = 3rd element of the field"
   ]
  },
  {
   "cell_type": "code",
   "execution_count": 12,
   "metadata": {},
   "outputs": [
    {
     "data": {
      "text/plain": [
       "[0 ∈ F_{2^2}, 0 + 1 x^1 ∈ F_{2^2}, 1 ∈ F_{2^2}, 1 + 1 x^1 ∈ F_{2^2}]"
      ]
     },
     "execution_count": 12,
     "metadata": {},
     "output_type": "execute_result"
    }
   ],
   "source": [
    "field"
   ]
  },
  {
   "cell_type": "code",
   "execution_count": 13,
   "metadata": {},
   "outputs": [
    {
     "data": {
      "text/plain": [
       "[[0, 1, 3, 0],\n",
       " [0, 1, 3, 1],\n",
       " [0, 1, 3, 2],\n",
       " [0, 1, 3, 3],\n",
       " [0, 2, 2, 0],\n",
       " [0, 2, 2, 1],\n",
       " [0, 2, 2, 2],\n",
       " [0, 2, 2, 3],\n",
       " [0, 3, 1, 0],\n",
       " [0, 3, 1, 1],\n",
       " [0, 3, 1, 2],\n",
       " [0, 3, 1, 3],\n",
       " [1, 0, 0, 3],\n",
       " [1, 0, 1, 3],\n",
       " [1, 0, 2, 3],\n",
       " [1, 0, 3, 3],\n",
       " [1, 1, 0, 3],\n",
       " [1, 1, 1, 2],\n",
       " [1, 1, 2, 1],\n",
       " [1, 1, 3, 0],\n",
       " [1, 2, 0, 3],\n",
       " [1, 2, 1, 1],\n",
       " [1, 2, 2, 0],\n",
       " [1, 2, 3, 2],\n",
       " [1, 3, 0, 3],\n",
       " [1, 3, 1, 0],\n",
       " [1, 3, 2, 2],\n",
       " [1, 3, 3, 1],\n",
       " [2, 0, 0, 2],\n",
       " [2, 0, 1, 2],\n",
       " [2, 0, 2, 2],\n",
       " [2, 0, 3, 2],\n",
       " [2, 1, 0, 2],\n",
       " [2, 1, 1, 1],\n",
       " [2, 1, 2, 3],\n",
       " [2, 1, 3, 0],\n",
       " [2, 2, 0, 2],\n",
       " [2, 2, 1, 3],\n",
       " [2, 2, 2, 0],\n",
       " [2, 2, 3, 1],\n",
       " [2, 3, 0, 2],\n",
       " [2, 3, 1, 0],\n",
       " [2, 3, 2, 1],\n",
       " [2, 3, 3, 3],\n",
       " [3, 0, 0, 1],\n",
       " [3, 0, 1, 1],\n",
       " [3, 0, 2, 1],\n",
       " [3, 0, 3, 1],\n",
       " [3, 1, 0, 1],\n",
       " [3, 1, 1, 3],\n",
       " [3, 1, 2, 2],\n",
       " [3, 1, 3, 0],\n",
       " [3, 2, 0, 1],\n",
       " [3, 2, 1, 2],\n",
       " [3, 2, 2, 0],\n",
       " [3, 2, 3, 3],\n",
       " [3, 3, 0, 1],\n",
       " [3, 3, 1, 0],\n",
       " [3, 3, 2, 3],\n",
       " [3, 3, 3, 2]]"
      ]
     },
     "execution_count": 13,
     "metadata": {},
     "output_type": "execute_result"
    }
   ],
   "source": [
    "slm # obviously its a bit long to print for > F22"
   ]
  },
  {
   "cell_type": "code",
   "execution_count": 14,
   "metadata": {},
   "outputs": [
    {
     "data": {
      "text/plain": [
       "60"
      ]
     },
     "execution_count": 14,
     "metadata": {},
     "output_type": "execute_result"
    }
   ],
   "source": [
    "# which is what we were expecting\n",
    "len(slm)"
   ]
  },
  {
   "cell_type": "code",
   "execution_count": 15,
   "metadata": {},
   "outputs": [],
   "source": [
    "def getAlpha(field,no):\n",
    "    \"\"\" Returns the actualy block [alpha,beta//gamma,delta]\n",
    "        nicely wrapped up in a numpy array. Which allows us\n",
    "        to nicely np.dot() [array multiply] it later\n",
    "        Because of the way types work it all just happens in the correct\n",
    "        field.\n",
    "    \"\"\"\n",
    "    return np.array([ [field[no[0]],field[no[1]] ], [ field[no[2]],field[no[3]]]])"
   ]
  },
  {
   "cell_type": "code",
   "execution_count": 16,
   "metadata": {},
   "outputs": [],
   "source": [
    "mat=getAlpha(field,slm[0])\n"
   ]
  },
  {
   "cell_type": "code",
   "execution_count": 17,
   "metadata": {},
   "outputs": [
    {
     "data": {
      "text/plain": [
       "array([[0 ∈ F_{2^2}, 0 + 1 x^1 ∈ F_{2^2}],\n",
       "       [1 + 1 x^1 ∈ F_{2^2}, 0 ∈ F_{2^2}]], dtype=object)"
      ]
     },
     "execution_count": 17,
     "metadata": {},
     "output_type": "execute_result"
    }
   ],
   "source": [
    "mat"
   ]
  },
  {
   "cell_type": "markdown",
   "metadata": {},
   "source": [
    "# So now we are looking at equations around (13) in the paper.\n",
    "\n",
    "## Our gate is defined by what it does to both the X paulis and the Z paulis\n",
    "\n",
    "In GL2 if we start with the following (the |00> state), which has anti-stabilizers $XI$ and $IX$ and stabilizers $ZI$ and $IZ$, then we can represent that in Aaronson form (see A Stabilizer run through) as: \n",
    "\n",
    "$\\left(\\begin{array}{ccccc}X&I&&I&I\\\\I&X&&I&I\\\\=&=&=&=&=\\\\I&I&&Z&I\\\\I&I&&I&Z\\end{array}\\right)$,\n",
    "\n",
    "where I have written $X$ or $Z$ to make it clear what that translates to, but in reality its just a 1.\n",
    "\n",
    "## So I need to set up the vectors for that state (ie. each of the rows above). Then we will multiply by each the appropriate M (which comes from getAlpha(field,1..slm))\n",
    "\n",
    "- its going to be xi ii/ix ii/ii zi/ii iz for GL2^2\n",
    "- So iterate through field size, setting everything to zero (translated zero)\n",
    "- Apart from the one we are at which we set to that polybasis for x\n",
    "- and the translated polybase for z (<--- this is important in the paper superscripted b is in the dual basis - see first few lines of section 4)."
   ]
  },
  {
   "cell_type": "code",
   "execution_count": 18,
   "metadata": {},
   "outputs": [],
   "source": [
    "def createStabiliserBasis(x):\n",
    "    \"\"\" Returns the matrices for the field x\n",
    "    That are required to form the stabiliser states\n",
    "    You would normally multiply this by the relevant SL matrix\n",
    "    to get the stabiliser state that represents the clifford you want    \n",
    "    \"\"\" \n",
    "    matrices=[]\n",
    "    w,wb=getW_WBForPoly(x)\n",
    "    # This first bit is effectively just returning the XI, IX bits\n",
    "    # e.g. for 2 qubits matrices will end up looking like: [[1, 0], [0, 1]]\n",
    "    for i in range(0,x.degree):\n",
    "        makingIt=[]\n",
    "        for pre in range(0,i):\n",
    "            makingIt = makingIt+[0]\n",
    "        makingIt=makingIt+[1]\n",
    "        if (i+1<= x.degree):\n",
    "            for aft in range(i+1,x.degree):\n",
    "                makingIt=makingIt+[0]\n",
    "        matrices = matrices + [makingIt]\n",
    "    samples=[]\n",
    "    # Then for the X part its the matrix and 0000, in the correct field\n",
    "    for i in matrices:\n",
    "        samples = samples + [np.array([[x(i)],[x([0])]])]\n",
    "    # For the Z part its 0000 and the matrix, but remembering to translate into the dual basis.\n",
    "    for i in matrices:\n",
    "        samples = samples + [np.array([[x(0)],[toPoly(x,translateWithW(wb,x(i)))]])]\n",
    "    return samples"
   ]
  },
  {
   "cell_type": "code",
   "execution_count": 19,
   "metadata": {},
   "outputs": [
    {
     "data": {
      "text/plain": [
       "[array([[1 ∈ F_{2^2}],\n",
       "        [0 ∈ F_{2^2}]], dtype=object), array([[0 + 1 x^1 ∈ F_{2^2}],\n",
       "        [0 ∈ F_{2^2}]], dtype=object), array([[0 ∈ F_{2^2}],\n",
       "        [1 + 1 x^1 ∈ F_{2^2}]], dtype=object), array([[0 ∈ F_{2^2}],\n",
       "        [1 ∈ F_{2^2}]], dtype=object)]"
      ]
     },
     "execution_count": 19,
     "metadata": {},
     "output_type": "execute_result"
    }
   ],
   "source": [
    "stabsA = createStabiliserBasis(F22)\n",
    "stabsA"
   ]
  },
  {
   "cell_type": "markdown",
   "metadata": {},
   "source": [
    "### What are we expecting to see with 2 qubits\n",
    "- The first one will be the 'polynomial' translation of [1,0][0,0]\n",
    "- The second one will be the 'polynomial' translation of [0,1][0,0]\n",
    "- The third one will be the 'polynomial' translation of [0,0]DUALBASIS([1,0])\n",
    "- The fourth one will be the 'polynomial' translation of [0,0]DUALBASIS([0,1])\n"
   ]
  },
  {
   "cell_type": "code",
   "execution_count": 20,
   "metadata": {},
   "outputs": [
    {
     "name": "stdout",
     "output_type": "stream",
     "text": [
      "[[1 ∈ F_{2^2}]\n",
      " [0 ∈ F_{2^2}]] \n",
      "======\n",
      "\n",
      "[[0 + 1 x^1 ∈ F_{2^2}]\n",
      " [0 ∈ F_{2^2}]] \n",
      "======\n",
      "\n",
      "[[0 ∈ F_{2^2}]\n",
      " [1 + 1 x^1 ∈ F_{2^2}]] \n",
      "======\n",
      "\n",
      "[[0 ∈ F_{2^2}]\n",
      " [1 ∈ F_{2^2}]] \n",
      "======\n",
      "\n"
     ]
    }
   ],
   "source": [
    "for i in stabsA:\n",
    "    print(i,\"\\n======\\n\")"
   ]
  },
  {
   "cell_type": "markdown",
   "metadata": {},
   "source": [
    "So we take each of the \"getAlpha\" SL members and multiply each stabsA by it and this will give us our $a'$ and $b'$ of equation (12), which are the stabilised states of the Clifford we want.\n"
   ]
  },
  {
   "cell_type": "code",
   "execution_count": 21,
   "metadata": {},
   "outputs": [],
   "source": [
    "mat=getAlpha(field,slm[1])"
   ]
  },
  {
   "cell_type": "code",
   "execution_count": 22,
   "metadata": {},
   "outputs": [],
   "source": [
    "def stabiliserFori(field,slm,no,stabsA):\n",
    "    fullStabiliserX = []\n",
    "    fullStabiliserZ = []\n",
    "    mat=getAlpha(field,slm[no])\n",
    "    for i in stabsA:\n",
    "          temp =  np.dot(mat,i)\n",
    "          # remember to translate\n",
    "          fullStabiliserX.append(polyToList(temp[0,0]))\n",
    "          fullStabiliserZ.append(polyToList(toPoly(F22,translateWithW(w2b,temp[1,0]))))\n",
    "    return fullStabiliserX,fullStabiliserZ\n"
   ]
  },
  {
   "cell_type": "code",
   "execution_count": 23,
   "metadata": {},
   "outputs": [
    {
     "name": "stdout",
     "output_type": "stream",
     "text": [
      "([[0, 0], [0, 0], [1, 0], [0, 1]], [[0, 1], [1, 1], [0, 0], [0, 0]])\n",
      "([[0, 0], [0, 0], [1, 0], [0, 1]], [[0, 1], [1, 1], [1, 1], [1, 0]])\n",
      "([[0, 0], [0, 0], [1, 0], [0, 1]], [[0, 1], [1, 1], [0, 1], [1, 1]])\n",
      "([[0, 0], [0, 0], [1, 0], [0, 1]], [[0, 1], [1, 1], [1, 0], [0, 1]])\n",
      "([[0, 0], [0, 0], [1, 1], [1, 0]], [[1, 1], [1, 0], [0, 0], [0, 0]])\n",
      "([[0, 0], [0, 0], [1, 1], [1, 0]], [[1, 1], [1, 0], [1, 1], [1, 0]])\n",
      "([[0, 0], [0, 0], [1, 1], [1, 0]], [[1, 1], [1, 0], [0, 1], [1, 1]])\n",
      "([[0, 0], [0, 0], [1, 1], [1, 0]], [[1, 1], [1, 0], [1, 0], [0, 1]])\n",
      "([[0, 0], [0, 0], [0, 1], [1, 1]], [[1, 0], [0, 1], [0, 0], [0, 0]])\n",
      "([[0, 0], [0, 0], [0, 1], [1, 1]], [[1, 0], [0, 1], [1, 1], [1, 0]])\n",
      "([[0, 0], [0, 0], [0, 1], [1, 1]], [[1, 0], [0, 1], [0, 1], [1, 1]])\n",
      "([[0, 0], [0, 0], [0, 1], [1, 1]], [[1, 0], [0, 1], [1, 0], [0, 1]])\n",
      "([[0, 1], [1, 1], [0, 0], [0, 0]], [[0, 0], [0, 0], [1, 0], [0, 1]])\n",
      "([[0, 1], [1, 1], [0, 0], [0, 0]], [[1, 0], [0, 1], [1, 0], [0, 1]])\n",
      "([[0, 1], [1, 1], [0, 0], [0, 0]], [[1, 1], [1, 0], [1, 0], [0, 1]])\n",
      "([[0, 1], [1, 1], [0, 0], [0, 0]], [[0, 1], [1, 1], [1, 0], [0, 1]])\n",
      "([[0, 1], [1, 1], [1, 0], [0, 1]], [[0, 0], [0, 0], [1, 0], [0, 1]])\n",
      "([[0, 1], [1, 1], [1, 0], [0, 1]], [[1, 0], [0, 1], [0, 1], [1, 1]])\n",
      "([[0, 1], [1, 1], [1, 0], [0, 1]], [[1, 1], [1, 0], [1, 1], [1, 0]])\n",
      "([[0, 1], [1, 1], [1, 0], [0, 1]], [[0, 1], [1, 1], [0, 0], [0, 0]])\n",
      "([[0, 1], [1, 1], [1, 1], [1, 0]], [[0, 0], [0, 0], [1, 0], [0, 1]])\n",
      "([[0, 1], [1, 1], [1, 1], [1, 0]], [[1, 0], [0, 1], [1, 1], [1, 0]])\n",
      "([[0, 1], [1, 1], [1, 1], [1, 0]], [[1, 1], [1, 0], [0, 0], [0, 0]])\n",
      "([[0, 1], [1, 1], [1, 1], [1, 0]], [[0, 1], [1, 1], [0, 1], [1, 1]])\n",
      "([[0, 1], [1, 1], [0, 1], [1, 1]], [[0, 0], [0, 0], [1, 0], [0, 1]])\n",
      "([[0, 1], [1, 1], [0, 1], [1, 1]], [[1, 0], [0, 1], [0, 0], [0, 0]])\n",
      "([[0, 1], [1, 1], [0, 1], [1, 1]], [[1, 1], [1, 0], [0, 1], [1, 1]])\n",
      "([[0, 1], [1, 1], [0, 1], [1, 1]], [[0, 1], [1, 1], [1, 1], [1, 0]])\n",
      "([[1, 0], [0, 1], [0, 0], [0, 0]], [[0, 0], [0, 0], [0, 1], [1, 1]])\n",
      "([[1, 0], [0, 1], [0, 0], [0, 0]], [[1, 0], [0, 1], [0, 1], [1, 1]])\n",
      "([[1, 0], [0, 1], [0, 0], [0, 0]], [[1, 1], [1, 0], [0, 1], [1, 1]])\n",
      "([[1, 0], [0, 1], [0, 0], [0, 0]], [[0, 1], [1, 1], [0, 1], [1, 1]])\n",
      "([[1, 0], [0, 1], [1, 0], [0, 1]], [[0, 0], [0, 0], [0, 1], [1, 1]])\n",
      "([[1, 0], [0, 1], [1, 0], [0, 1]], [[1, 0], [0, 1], [1, 1], [1, 0]])\n",
      "([[1, 0], [0, 1], [1, 0], [0, 1]], [[1, 1], [1, 0], [1, 0], [0, 1]])\n",
      "([[1, 0], [0, 1], [1, 0], [0, 1]], [[0, 1], [1, 1], [0, 0], [0, 0]])\n",
      "([[1, 0], [0, 1], [1, 1], [1, 0]], [[0, 0], [0, 0], [0, 1], [1, 1]])\n",
      "([[1, 0], [0, 1], [1, 1], [1, 0]], [[1, 0], [0, 1], [1, 0], [0, 1]])\n",
      "([[1, 0], [0, 1], [1, 1], [1, 0]], [[1, 1], [1, 0], [0, 0], [0, 0]])\n",
      "([[1, 0], [0, 1], [1, 1], [1, 0]], [[0, 1], [1, 1], [1, 1], [1, 0]])\n",
      "([[1, 0], [0, 1], [0, 1], [1, 1]], [[0, 0], [0, 0], [0, 1], [1, 1]])\n",
      "([[1, 0], [0, 1], [0, 1], [1, 1]], [[1, 0], [0, 1], [0, 0], [0, 0]])\n",
      "([[1, 0], [0, 1], [0, 1], [1, 1]], [[1, 1], [1, 0], [1, 1], [1, 0]])\n",
      "([[1, 0], [0, 1], [0, 1], [1, 1]], [[0, 1], [1, 1], [1, 0], [0, 1]])\n",
      "([[1, 1], [1, 0], [0, 0], [0, 0]], [[0, 0], [0, 0], [1, 1], [1, 0]])\n",
      "([[1, 1], [1, 0], [0, 0], [0, 0]], [[1, 0], [0, 1], [1, 1], [1, 0]])\n",
      "([[1, 1], [1, 0], [0, 0], [0, 0]], [[1, 1], [1, 0], [1, 1], [1, 0]])\n",
      "([[1, 1], [1, 0], [0, 0], [0, 0]], [[0, 1], [1, 1], [1, 1], [1, 0]])\n",
      "([[1, 1], [1, 0], [1, 0], [0, 1]], [[0, 0], [0, 0], [1, 1], [1, 0]])\n",
      "([[1, 1], [1, 0], [1, 0], [0, 1]], [[1, 0], [0, 1], [1, 0], [0, 1]])\n",
      "([[1, 1], [1, 0], [1, 0], [0, 1]], [[1, 1], [1, 0], [0, 1], [1, 1]])\n",
      "([[1, 1], [1, 0], [1, 0], [0, 1]], [[0, 1], [1, 1], [0, 0], [0, 0]])\n",
      "([[1, 1], [1, 0], [1, 1], [1, 0]], [[0, 0], [0, 0], [1, 1], [1, 0]])\n",
      "([[1, 1], [1, 0], [1, 1], [1, 0]], [[1, 0], [0, 1], [0, 1], [1, 1]])\n",
      "([[1, 1], [1, 0], [1, 1], [1, 0]], [[1, 1], [1, 0], [0, 0], [0, 0]])\n",
      "([[1, 1], [1, 0], [1, 1], [1, 0]], [[0, 1], [1, 1], [1, 0], [0, 1]])\n",
      "([[1, 1], [1, 0], [0, 1], [1, 1]], [[0, 0], [0, 0], [1, 1], [1, 0]])\n",
      "([[1, 1], [1, 0], [0, 1], [1, 1]], [[1, 0], [0, 1], [0, 0], [0, 0]])\n",
      "([[1, 1], [1, 0], [0, 1], [1, 1]], [[1, 1], [1, 0], [1, 0], [0, 1]])\n",
      "([[1, 1], [1, 0], [0, 1], [1, 1]], [[0, 1], [1, 1], [0, 1], [1, 1]])\n"
     ]
    }
   ],
   "source": [
    "for i,idx in enumerate(slm):\n",
    "    print(stabiliserFori(field,slm,i,stabsA))\n"
   ]
  }
 ],
 "metadata": {
  "kernelspec": {
   "display_name": "Python 3",
   "language": "python",
   "name": "python3"
  },
  "language_info": {
   "codemirror_mode": {
    "name": "ipython",
    "version": 3
   },
   "file_extension": ".py",
   "mimetype": "text/x-python",
   "name": "python",
   "nbconvert_exporter": "python",
   "pygments_lexer": "ipython3",
   "version": "3.6.3"
  }
 },
 "nbformat": 4,
 "nbformat_minor": 1
}
