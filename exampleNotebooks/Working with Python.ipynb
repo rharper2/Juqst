{
 "cells": [
  {
   "cell_type": "markdown",
   "metadata": {},
   "source": [
    "## The purpose of this sheet is just to show some of the ways Julia can interact with python\n",
    "\n",
    "It recaps how to get Julia talking to python, then goes through some of the syntax.\n",
    "\n",
    "Some of the syntax takes a bit of getting used to, for instance if you want to use qutip.\n",
    "\n",
    "There is no real rhyme or reason for the examples shown below, they are just illustrative of the syntax needed."
   ]
  },
  {
   "cell_type": "markdown",
   "metadata": {},
   "source": [
    "All these workbooks are designed to use Python 3, but if you have the \"Julia conda environment\" from miniconda then it defaults to Python 2 --- this is just a document of how I got it to move to three (I have eventually decided its time to move on).\n",
    "\n",
    "If you have already installed PyCall and Conda, then check your version\n",
    "`\n",
    "@pyimport sys\n",
    "print(sys.version)\n",
    "`\n",
    "\n",
    "If its 2.7 something then you might want to consider.\n",
    "\n",
    "(Possibly best to do this in the terminal REPL)\n",
    "\n",
    "## Remove PyCall and Conda\n",
    "`\n",
    "Pkg.rm(\"PyCall\")\n",
    "Pkg.rm(\"Conda\")\n",
    "`\n",
    "\n",
    "## Set your environment variables:\n",
    "\n",
    "\n",
    "### if you want to use the miniconda environment rather than one on your machine\n",
    "`ENV[\"PYTHON\"] = \"\" `\n",
    "### if you want python3\n",
    "`ENV[\"CONDA_JL_VERSION\"]=\"3\"`\n",
    "\n",
    "## Remove existing deps - I did this in the shell but the following 'should' work\n",
    "`\n",
    "rm(Pkg.dir(\"PyCall\",\"deps\",\"PYTHON\"))\n",
    "rm(Pkg.dir(\"Conda\",\"deps\",recursive=True))\n",
    "`\n",
    "## Reinstall\n",
    "`\n",
    "Pkg.add(\"Conda\")\n",
    "Pkg.add(\"PyCall\")\n",
    "`\n",
    "## Build\n",
    "`\n",
    "Pkg.build(\"Conda\")\n",
    "Pkg.build(\"PyCall\")\n",
    "`\n",
    "## Update\n",
    "`\n",
    "Pkg.update()\n",
    "`\n",
    "## Then see if IJulia still works!\n",
    "`\n",
    "using IJulia\n",
    "`"
   ]
  },
  {
   "cell_type": "code",
   "execution_count": 1,
   "metadata": {},
   "outputs": [
    {
     "data": {
      "text/markdown": [
       "Created:\n",
       "-  superCliffords\n",
       "-  operatorCliffords\n",
       "-  superPaulis\n",
       "-  operator Paulis\n",
       "-  pI,pX,pY,pZ\n",
       "- T gate as piBy8 and superPiBy8"
      ]
     },
     "metadata": {},
     "output_type": "display_data"
    },
    {
     "data": {
      "text/markdown": [
       "- **makeSuper(operator)**"
      ]
     },
     "metadata": {},
     "output_type": "display_data"
    },
    {
     "data": {
      "text/markdown": [
       "- **findClifford(x)** (super and operator"
      ]
     },
     "metadata": {},
     "output_type": "display_data"
    },
    {
     "data": {
      "text/markdown": [
       "- **checkFrame(x)** - operator"
      ]
     },
     "metadata": {},
     "output_type": "display_data"
    },
    {
     "data": {
      "text/markdown": [
       "- **findInThis(needle,haystack)**"
      ]
     },
     "metadata": {},
     "output_type": "display_data"
    },
    {
     "data": {
      "text/markdown": [
       "- minGens, min4Gens, allGens *twoGenSet, fourGen"
      ]
     },
     "metadata": {},
     "output_type": "display_data"
    },
    {
     "data": {
      "text/markdown": [
       "- **genA2RotateOperatorClifford(x)**"
      ]
     },
     "metadata": {},
     "output_type": "display_data"
    },
    {
     "data": {
      "text/markdown": [
       "- **genAFaulty2RotateClifford(x,noiseRotation-matrix)**"
      ]
     },
     "metadata": {},
     "output_type": "display_data"
    },
    {
     "data": {
      "text/markdown": [
       "- **genAFaulty2RotateOperatorClifford(x,noiseRotation-matrix)**"
      ]
     },
     "metadata": {},
     "output_type": "display_data"
    },
    {
     "data": {
      "text/markdown": [
       "- **genAFaulty4RotateClifford(x,noiseRotation-matrix)**"
      ]
     },
     "metadata": {},
     "output_type": "display_data"
    },
    {
     "data": {
      "text/markdown": [
       "- **genAFaulty4RotateOperatorClifford(x,noiseRotation-matrix)**"
      ]
     },
     "metadata": {},
     "output_type": "display_data"
    },
    {
     "data": {
      "text/markdown": [
       "- **genAFaultyClifford(x,noiseRotation-matrix)**"
      ]
     },
     "metadata": {},
     "output_type": "display_data"
    },
    {
     "data": {
      "text/markdown": [
       "- **getFidelity(gate,clifford)**\n",
       "-  **twirl(sequence,victim)**\n",
       "-  **extractFidelity(sc)**"
      ]
     },
     "metadata": {},
     "output_type": "display_data"
    },
    {
     "data": {
      "text/markdown": [
       "- **makeRuns(getNumbers,number,gateGenerator,noise,initialState,endState)**"
      ]
     },
     "metadata": {},
     "output_type": "display_data"
    },
    {
     "data": {
      "text/markdown": [
       "- **doRuns(theGeneratorFunction,)**"
      ]
     },
     "metadata": {},
     "output_type": "display_data"
    },
    {
     "data": {
      "text/plain": [
       "doRuns"
      ]
     },
     "execution_count": 1,
     "metadata": {},
     "output_type": "execute_result"
    }
   ],
   "source": [
    "# Assuming we are in a directory one off the root.\n",
    "include(\"../juliaCode/open-systems.jl\")\n",
    "include(\"../juliaCode/PTSM.jl\")\n",
    "include(\"../juliaCode/Initial.jl\")\n",
    "include(\"../juliaCode/Symplectic.jl\")\n",
    "include(\"../juliaCode/loadHelpers.jl\")"
   ]
  },
  {
   "cell_type": "code",
   "execution_count": 2,
   "metadata": {},
   "outputs": [],
   "source": [
    "# Julia can use your existing Python installation or can have its 'own' installation.\n",
    "#Here I am assuming you are using Julia's Conda - just to make sure everything we need is installed.\n",
    "\n",
    "#Recall: e.g. Pkg.add(\"Conda\") <- if you haven't already added the packages.\n",
    "\n",
    "using Conda\n",
    "using PyCall"
   ]
  },
  {
   "cell_type": "markdown",
   "metadata": {},
   "source": [
    "### You may need to add the channels\n",
    "\n",
    ">  Conda.add_channel(\"conda-forge\")\n",
    "\n",
    ">  Conda.add_channel(\"cvxgrp\")\n"
   ]
  },
  {
   "cell_type": "code",
   "execution_count": 4,
   "metadata": {},
   "outputs": [
    {
     "name": "stdout",
     "output_type": "stream",
     "text": [
      "Fetching package metadata ...............\n",
      "Solving package specifications: .\n",
      "\n",
      "# All requested packages already installed.\n",
      "# packages in environment at /Users/robin/.julia/v0.6/Conda/deps/usr:\n",
      "#\n",
      "conda                     4.3.33                   py27_0    conda-forge\n"
     ]
    }
   ],
   "source": [
    "# if you gate an update conda warning, the following will work\n",
    "Conda.runconda(`update -y conda`)"
   ]
  },
  {
   "cell_type": "code",
   "execution_count": 4,
   "metadata": {
    "scrolled": false
   },
   "outputs": [
    {
     "name": "stdout",
     "output_type": "stream",
     "text": [
      "==== SCIPY\n",
      "Solving environment: ...working... done\n"
     ]
    },
    {
     "name": "stderr",
     "output_type": "stream",
     "text": [
      "certifi 2017.11.5: ########## | 100% \n",
      "numpy 1.14.0: ########## | 100% \n",
      "openblas 0.2.20: ########## | 100% \n",
      "ca-certificates 2017.11.5: ########## | 100% \n",
      "conda 4.3.33: ########## | 100% \n",
      "openssl 1.0.2n: ########## | 100% \n",
      "scipy 1.0.0: ########## | 100% \n",
      "blas 1.1:            |   0% "
     ]
    },
    {
     "name": "stdout",
     "output_type": "stream",
     "text": [
      "\n",
      "## Package Plan ##\n",
      "\n",
      "  environment location: /Users/robin/.julia/v0.6/Conda/deps/usr\n",
      "\n",
      "  added / updated specs: \n",
      "    - scipy\n",
      "\n",
      "\n",
      "The following packages will be downloaded:\n",
      "\n",
      "    package                    |            build\n",
      "    ---------------------------|-----------------\n",
      "    certifi-2017.11.5          |           py36_0         195 KB  conda-forge\n",
      "    numpy-1.14.0               |py36_blas_openblas_200         3.9 MB  conda-forge\n",
      "    openblas-0.2.20            |                7        20.1 MB  conda-forge\n",
      "    ca-certificates-2017.11.5  |                0         145 KB  conda-forge\n",
      "    conda-4.3.33               |           py36_0         515 KB  conda-forge\n",
      "    openssl-1.0.2n             |                0         3.3 MB  conda-forge\n",
      "    scipy-1.0.0                |py36_blas_openblas_201        15.7 MB  conda-forge\n",
      "    blas-1.1                   |         openblas           1 KB  conda-forge\n",
      "    ------------------------------------------------------------\n",
      "                                           Total:        43.8 MB\n",
      "\n",
      "The following NEW packages will be INSTALLED:\n",
      "\n",
      "    blas:            1.1-openblas          conda-forge\n",
      "    openblas:        0.2.20-7              conda-forge\n",
      "\n",
      "The following packages will be UPDATED:\n",
      "\n",
      "    ca-certificates: 2017.08.26-ha1e5d58_0             --> 2017.11.5-0                   conda-forge\n",
      "    numpy:           1.14.0-py36h8a80b8c_1             --> 1.14.0-py36_blas_openblas_200 conda-forge [blas_openblas]\n",
      "    openssl:         1.0.2n-hdbc3d79_0                 --> 1.0.2n-0                      conda-forge\n",
      "    scipy:           1.0.0-py36h1de22e9_0              --> 1.0.0-py36_blas_openblas_201  conda-forge [blas_openblas]\n",
      "\n",
      "The following packages will be DOWNGRADED:\n",
      "\n",
      "    certifi:         2018.1.18-py36_0                  --> 2017.11.5-py36_0              conda-forge\n",
      "    conda:           4.4.9-py36_0                      --> 4.3.33-py36_0                 conda-forge\n",
      "\n",
      "\n",
      "Downloading and Extracting Packages\n",
      "Preparing transaction: ...working... "
     ]
    },
    {
     "name": "stderr",
     "output_type": "stream",
     "text": [
      "\r",
      "blas 1.1: #######5   |  75% \r",
      "blas 1.1: ########## | 100% "
     ]
    },
    {
     "name": "stdout",
     "output_type": "stream",
     "text": [
      "done\n",
      "Verifying transaction: ...working... done\n",
      "Executing transaction: ...working... done\n"
     ]
    },
    {
     "name": "stderr",
     "output_type": "stream",
     "text": [
      "\n"
     ]
    },
    {
     "name": "stdout",
     "output_type": "stream",
     "text": [
      "==== QUTIP\n",
      "Fetching package metadata ...............\n",
      "Solving package specifications: .\n",
      "\n",
      "Package plan for installation in environment /Users/robin/.julia/v0.6/Conda/deps/usr:\n",
      "\n",
      "The following NEW packages will be INSTALLED:\n",
      "\n",
      "    cython:    0.27.3-py36_0                 conda-forge\n",
      "    qutip:     4.2.0-np113py36_2             conda-forge\n",
      "\n",
      "The following packages will be SUPERSEDED by a higher-priority channel:\n",
      "\n",
      "    conda-env: 2.6.0-h36134e3_0                          --> 2.6.0-0                       conda-forge\n",
      "\n",
      "The following packages will be DOWNGRADED:\n",
      "\n",
      "    numpy:     1.14.0-py36_blas_openblas_200 conda-forge [blas_openblas] --> 1.13.3-py36_blas_openblas_201 conda-forge [blas_openblas]\n",
      "\n",
      "conda-env-2.6. 100% |###############################| Time: 0:00:00   1.60 MB/s\n",
      "cython-0.27.3- 100% |###############################| Time: 0:00:02   1.20 MB/s\n",
      "numpy-1.13.3-p 100% |###############################| Time: 0:00:01   3.77 MB/s\n",
      "qutip-4.2.0-np 100% |###############################| Time: 0:00:00   2.77 MB/s\n",
      "==== LIBGCC\n",
      "Fetching package metadata ...............\n",
      "Solving package specifications: .\n",
      "\n",
      "Package plan for installation in environment /Users/robin/.julia/v0.6/Conda/deps/usr:\n",
      "\n",
      "The following NEW packages will be INSTALLED:\n",
      "\n",
      "    libgcc: 4.8.5-hdbeacc1_10\n",
      "\n",
      "libgcc-4.8.5-h 100% |###############################| Time: 0:00:00  26.27 MB/s\n",
      "==== CVXPY\n",
      "Fetching package metadata ...............\n",
      "Solving package specifications: .\n",
      "\n",
      "Package plan for installation in environment /Users/robin/.julia/v0.6/Conda/deps/usr:\n",
      "\n",
      "The following NEW packages will be INSTALLED:\n",
      "\n",
      "    cvxcanon:     0.1.1-py36_0         cvxgrp     \n",
      "    cvxpy:        0.4.9-py36_0         cvxgrp     \n",
      "    dill:         0.2.7.1-py36_0       conda-forge\n",
      "    ecos:         2.0.5-py36hf9b3073_0 cvxgrp     \n",
      "    fastcache:    1.0.2-py36_0         conda-forge\n",
      "    multiprocess: 0.70.4-py36_0        cvxgrp     \n",
      "    scs:          1.2.6-py36_0         cvxgrp     \n",
      "    toolz:        0.8.2-py_2           conda-forge\n",
      "\n",
      "dill-0.2.7.1-p 100% |###############################| Time: 0:00:00 128.45 kB/s\n",
      "fastcache-1.0. 100% |###############################| Time: 0:00:00  21.93 MB/s\n",
      "toolz-0.8.2-py 100% |###############################| Time: 0:00:00 197.70 kB/s\n",
      "multiprocess-0 100% |###############################| Time: 0:00:00 172.15 kB/s\n",
      "cvxcanon-0.1.1 100% |###############################| Time: 0:00:00 313.61 kB/s\n",
      "ecos-2.0.5-py3 100% |###############################| Time: 0:00:00 283.51 kB/s\n",
      "scs-1.2.6-py36 100% |###############################| Time: 0:00:00 302.38 kB/s\n",
      "cvxpy-0.4.9-py 100% |###############################| Time: 0:00:01 290.06 kB/s\n"
     ]
    }
   ],
   "source": [
    "# Check if you need to add the following (this takes a bit of time)\n",
    "\n",
    "print(\"==== SCIPY\\n\")\n",
    "Conda.add(\"scipy\")\n",
    "print(\"==== QUTIP\\n\")\n",
    "Conda.add(\"qutip\")\n",
    "print(\"==== LIBGCC\\n\")\n",
    "Conda.add(\"libgcc\")\n",
    "print(\"==== CVXPY\\n\")\n",
    "Conda.add(\"cvxpy\")"
   ]
  },
  {
   "cell_type": "code",
   "execution_count": 5,
   "metadata": {},
   "outputs": [],
   "source": [
    "# Some trivial examples as per the docs.\n",
    "@pyimport math"
   ]
  },
  {
   "cell_type": "code",
   "execution_count": 6,
   "metadata": {},
   "outputs": [
    {
     "data": {
      "text/plain": [
       "0.0"
      ]
     },
     "execution_count": 6,
     "metadata": {},
     "output_type": "execute_result"
    }
   ],
   "source": [
    "math.sin(math.pi/4)-sin(pi/4)"
   ]
  },
  {
   "cell_type": "code",
   "execution_count": 7,
   "metadata": {},
   "outputs": [],
   "source": [
    "@pyimport numpy.random as nr"
   ]
  },
  {
   "cell_type": "code",
   "execution_count": 8,
   "metadata": {},
   "outputs": [
    {
     "data": {
      "text/latex": [
       "\\begin{equation*} \\left(\\begin{array}{*{11}c} 0.8714191594811268 & 0.11629178047776412 & 0.5847862567999043 & 0.44581025220942716 & \\\\ 0.7643495083091186 & 0.7433938243612365 & 0.5529253548213842 & 0.025891695824165617 & \\\\ 0.09418524232541747 & 0.2498734495705467 & 0.13186405507830934 & 0.005069526636803379 & \\\\ \\end{array}\\right)\\end{equation*}"
      ],
      "text/plain": [
       "3×4 Array{Float64,2}:\n",
       " 0.871419   0.116292  0.584786  0.44581   \n",
       " 0.76435    0.743394  0.552925  0.0258917 \n",
       " 0.0941852  0.249873  0.131864  0.00506953"
      ]
     },
     "execution_count": 8,
     "metadata": {},
     "output_type": "execute_result"
    }
   ],
   "source": [
    "a=nr.rand(3,4)"
   ]
  },
  {
   "cell_type": "code",
   "execution_count": 9,
   "metadata": {},
   "outputs": [
    {
     "data": {
      "text/latex": [
       "\\begin{equation*} \\left(\\begin{array}{*{11}c} 0.8714191594811268 & 0.11629178047776412 & 0.5847862567999043 & 0.44581025220942716 & \\\\ 0.7643495083091186 & 0.7433938243612365 & 0.5529253548213842 & 0.025891695824165617 & \\\\ 0.09418524232541747 & 0.2498734495705467 & 0.13186405507830934 & 0.005069526636803379 & \\\\ \\end{array}\\right)\\end{equation*}"
      ],
      "text/plain": [
       "3×4 Array{Float64,2}:\n",
       " 0.871419   0.116292  0.584786  0.44581   \n",
       " 0.76435    0.743394  0.552925  0.0258917 \n",
       " 0.0941852  0.249873  0.131864  0.00506953"
      ]
     },
     "execution_count": 9,
     "metadata": {},
     "output_type": "execute_result"
    }
   ],
   "source": [
    "a"
   ]
  },
  {
   "cell_type": "code",
   "execution_count": 10,
   "metadata": {},
   "outputs": [],
   "source": [
    "# WARNING OPENS UP WINDOW - you will need to close it to move on.\n",
    "\n",
    "@pyimport matplotlib.pyplot as plt\n",
    "x=linspace(0,2*pi,1000);\n",
    "y= sin.(3*x + 4*cos.(2*x));\n",
    "plt.plot(x,y,color=\"red\",linewidth=2.0,linestyle=\"--\")\n",
    "plt.show()"
   ]
  },
  {
   "cell_type": "code",
   "execution_count": 11,
   "metadata": {},
   "outputs": [],
   "source": [
    "@pyimport scipy.optimize as so"
   ]
  },
  {
   "cell_type": "code",
   "execution_count": 12,
   "metadata": {},
   "outputs": [
    {
     "data": {
      "text/plain": [
       "0.7390851332151607"
      ]
     },
     "execution_count": 12,
     "metadata": {},
     "output_type": "execute_result"
    }
   ],
   "source": [
    "so.newton(x->cos(x)-x,1)"
   ]
  },
  {
   "cell_type": "code",
   "execution_count": 13,
   "metadata": {},
   "outputs": [],
   "source": [
    "#@pyimport scipy.optimize as so\n",
    "@pyimport numpy as np\n",
    "@pyimport matplotlib.pyplot as plt\n",
    "@pyimport qutip as qt\n",
    "@pyimport numpy.linalg as la"
   ]
  },
  {
   "cell_type": "code",
   "execution_count": 14,
   "metadata": {},
   "outputs": [],
   "source": [
    "@pyimport numpy.linalg as la"
   ]
  },
  {
   "cell_type": "code",
   "execution_count": 15,
   "metadata": {},
   "outputs": [],
   "source": [
    "@pyimport matplotlib.pyplot as plt"
   ]
  },
  {
   "cell_type": "markdown",
   "metadata": {},
   "source": [
    "## So here we can use the python package qutip in python.\n",
    "\n",
    "The home page is <a href=\"http://qutip.org\">Qutip home page</a>. Various tutorials can be found <a href=\"http://qutip.org/tutorials.html\">here</a>.\n"
   ]
  },
  {
   "cell_type": "code",
   "execution_count": 16,
   "metadata": {},
   "outputs": [],
   "source": [
    "@pyimport qutip as qt"
   ]
  },
  {
   "cell_type": "code",
   "execution_count": 17,
   "metadata": {},
   "outputs": [
    {
     "data": {
      "text/latex": [
       "Quantum object: dims = [[2], [2]], shape = (2, 2), type = oper, isherm = True\\begin{equation*}\\left(\\begin{array}{*{11}c}1.0 & 0.0\\\\0.0 & 1.0\\\\\\end{array}\\right)\\end{equation*}"
      ],
      "text/plain": [
       "PyObject Quantum object: dims = [[2], [2]], shape = (2, 2), type = oper, isherm = True\n",
       "Qobj data =\n",
       "[[ 1.  0.]\n",
       " [ 0.  1.]]"
      ]
     },
     "execution_count": 17,
     "metadata": {},
     "output_type": "execute_result"
    }
   ],
   "source": [
    "qt.qeye(2)"
   ]
  },
  {
   "cell_type": "code",
   "execution_count": 18,
   "metadata": {},
   "outputs": [
    {
     "data": {
      "text/latex": [
       "Quantum object: dims = [[2], [2]], shape = (2, 2), type = oper, isherm = False\\begin{equation*}\\left(\\begin{array}{*{11}c}1.0 & 0.0\\\\0.0 & -1.0j\\\\\\end{array}\\right)\\end{equation*}"
      ],
      "text/plain": [
       "PyObject Quantum object: dims = [[2], [2]], shape = (2, 2), type = oper, isherm = False\n",
       "Qobj data =\n",
       "[[ 1.+0.j  0.+0.j]\n",
       " [ 0.+0.j  0.-1.j]]"
      ]
     },
     "execution_count": 18,
     "metadata": {},
     "output_type": "execute_result"
    }
   ],
   "source": [
    "x=qt.phasegate(pi/2)*qt.phasegate(pi/2)*qt.phasegate(pi/2)"
   ]
  },
  {
   "cell_type": "markdown",
   "metadata": {},
   "source": [
    "### note the format we have a q object, in python its x.dims, in julia x[:dims]"
   ]
  },
  {
   "cell_type": "code",
   "execution_count": 19,
   "metadata": {},
   "outputs": [
    {
     "data": {
      "text/latex": [
       "\\begin{equation*} \\left(\\begin{array}{*{11}c} 2 & \\\\ 2 & \\\\ \\end{array}\\right)\\end{equation*}"
      ],
      "text/plain": [
       "2×1 Array{Int64,2}:\n",
       " 2\n",
       " 2"
      ]
     },
     "execution_count": 19,
     "metadata": {},
     "output_type": "execute_result"
    }
   ],
   "source": [
    "x[:dims]"
   ]
  },
  {
   "cell_type": "code",
   "execution_count": 20,
   "metadata": {},
   "outputs": [
    {
     "data": {
      "text/plain": [
       "PyObject <function _pauli_basis at 0x1449ff0d0>"
      ]
     },
     "execution_count": 20,
     "metadata": {},
     "output_type": "execute_result"
    }
   ],
   "source": [
    "qt.superop_reps[:_pauli_basis]"
   ]
  },
  {
   "cell_type": "code",
   "execution_count": 21,
   "metadata": {},
   "outputs": [
    {
     "data": {
      "text/latex": [
       "Quantum object: dims = [[[2], [2]], [[2], [2]]], shape = (4, 4), type = super, isherm = True\\begin{equation*}\\left(\\begin{array}{*{11}c}1.000 & 0.0 & 0.0 & 0.0\\\\0.0 & -1.000 & 0.0 & 0.0\\\\0.0 & 0.0 & 1.000 & 0.0\\\\0.0 & 0.0 & 0.0 & -1.000\\\\\\end{array}\\right)\\end{equation*}"
      ],
      "text/plain": [
       "PyObject Quantum object: dims = [[[2], [2]], [[2], [2]]], shape = (4, 4), type = super, isherm = True\n",
       "Qobj data =\n",
       "[[ 1.  0.  0.  0.]\n",
       " [ 0. -1.  0.  0.]\n",
       " [ 0.  0.  1.  0.]\n",
       " [ 0.  0.  0. -1.]]"
      ]
     },
     "execution_count": 21,
     "metadata": {},
     "output_type": "execute_result"
    }
   ],
   "source": [
    "superTest=qt.superop_reps[:_super_to_superpauli](qt.to_super(qt.sigmay()))"
   ]
  },
  {
   "cell_type": "code",
   "execution_count": 22,
   "metadata": {},
   "outputs": [
    {
     "data": {
      "text/latex": [
       "Quantum object: dims = [[2], [2]], shape = (2, 2), type = oper, isherm = True\\begin{equation*}\\left(\\begin{array}{*{11}c}0.0 & 1.0\\\\1.0 & 0.0\\\\\\end{array}\\right)\\end{equation*}"
      ],
      "text/plain": [
       "PyObject Quantum object: dims = [[2], [2]], shape = (2, 2), type = oper, isherm = True\n",
       "Qobj data =\n",
       "[[ 0.  1.]\n",
       " [ 1.  0.]]"
      ]
     },
     "execution_count": 22,
     "metadata": {},
     "output_type": "execute_result"
    }
   ],
   "source": [
    "qt.sigmax()"
   ]
  },
  {
   "cell_type": "code",
   "execution_count": 23,
   "metadata": {},
   "outputs": [
    {
     "data": {
      "text/latex": [
       "Quantum object: dims = [[2], [2]], shape = (2, 2), type = oper, isherm = True\\begin{equation*}\\left(\\begin{array}{*{11}c}0.0 & -1.0j\\\\1.0j & 0.0\\\\\\end{array}\\right)\\end{equation*}"
      ],
      "text/plain": [
       "PyObject Quantum object: dims = [[2], [2]], shape = (2, 2), type = oper, isherm = True\n",
       "Qobj data =\n",
       "[[ 0.+0.j  0.-1.j]\n",
       " [ 0.+1.j  0.+0.j]]"
      ]
     },
     "execution_count": 23,
     "metadata": {},
     "output_type": "execute_result"
    }
   ],
   "source": [
    "test=qt.sigmay()"
   ]
  },
  {
   "cell_type": "code",
   "execution_count": 24,
   "metadata": {},
   "outputs": [
    {
     "data": {
      "text/plain": [
       "PyObject <map object at 0x1442b95f8>"
      ]
     },
     "execution_count": 24,
     "metadata": {},
     "output_type": "execute_result"
    }
   ],
   "source": [
    "(pycall(pybuiltin(\"map\"),PyAny,qt.to_super, [qt.qeye(2), qt.sigmax(), qt.sigmay()]))"
   ]
  },
  {
   "cell_type": "code",
   "execution_count": 25,
   "metadata": {},
   "outputs": [
    {
     "data": {
      "text/latex": [
       "Quantum object: dims = [[2], [2]], shape = (2, 2), type = oper, isherm = True\\begin{equation*}\\left(\\begin{array}{*{11}c}1.0 & 0.0\\\\0.0 & -1.0\\\\\\end{array}\\right)\\end{equation*}"
      ],
      "text/plain": [
       "PyObject Quantum object: dims = [[2], [2]], shape = (2, 2), type = oper, isherm = True\n",
       "Qobj data =\n",
       "[[ 1.  0.]\n",
       " [ 0. -1.]]"
      ]
     },
     "execution_count": 25,
     "metadata": {},
     "output_type": "execute_result"
    }
   ],
   "source": [
    "qt.sigmaz()"
   ]
  },
  {
   "cell_type": "code",
   "execution_count": 26,
   "metadata": {},
   "outputs": [
    {
     "data": {
      "text/plain": [
       "PyObject (Quantum object: dims = [[2], [2]], shape = (2, 2), type = oper, isherm = True\n",
       "Qobj data =\n",
       "[[ 1.  0.]\n",
       " [ 0.  1.]], Quantum object: dims = [[2], [2]], shape = (2, 2), type = oper, isherm = True\n",
       "Qobj data =\n",
       "[[ 0.  1.]\n",
       " [ 1.  0.]], Quantum object: dims = [[2], [2]], shape = (2, 2), type = oper, isherm = True\n",
       "Qobj data =\n",
       "[[ 0.+0.j  0.-1.j]\n",
       " [ 0.+1.j  0.+0.j]], Quantum object: dims = [[2], [2]], shape = (2, 2), type = oper, isherm = True\n",
       "Qobj data =\n",
       "[[ 1.  0.]\n",
       " [ 0. -1.]])"
      ]
     },
     "execution_count": 26,
     "metadata": {},
     "output_type": "execute_result"
    }
   ],
   "source": [
    "qt.superop_reps[\"_SINGLE_QUBIT_PAULI_BASIS\"]"
   ]
  },
  {
   "cell_type": "code",
   "execution_count": 27,
   "metadata": {},
   "outputs": [
    {
     "data": {
      "text/plain": [
       "to_superpauli (generic function with 1 method)"
      ]
     },
     "execution_count": 27,
     "metadata": {},
     "output_type": "execute_result"
    }
   ],
   "source": [
    "## This is the Julia version of Chris Granade code in python\n",
    "\n",
    "function to_superpauli(S):\n",
    "    \"\"\"\n",
    "    Converts a superoperator in the column-stacking basis to the Pauli basis. Note that\n",
    "    the argument is assumed to act on qubits.\n",
    "    \"\"\"\n",
    "    sqobj=qt.to_super(S)\n",
    "    nq=round.(Int64,np.log2(sqobj[:shape][1])/2)\n",
    "    # Using pycall \n",
    "    B=pycall(qt.superop_reps[\"_pauli_basis\"],PyAny,nq)\n",
    "    sq=np.sqrt(2^nq)\n",
    "    # or pyeval\n",
    "    B=py\"$B/$sq\"\n",
    "    sqobj = B[:dag]()[:__mul__](sqobj[:__mul__](B))\n",
    "    return sqobj\n",
    "end\n",
    "\n"
   ]
  },
  {
   "cell_type": "code",
   "execution_count": 28,
   "metadata": {},
   "outputs": [
    {
     "data": {
      "text/latex": [
       "Quantum object: dims = [[[2], [2]], [[2], [2]]], shape = (4, 4), type = super, isherm = False\\begin{equation*}\\left(\\begin{array}{*{11}c}1.0 & 0.0 & 0.0 & 0.0\\\\0.0 & 0.0 & 0.0 & 1.0\\\\0.0 & 0.0 & 1.0 & 0.0\\\\0.0 & -1.0 & 0.0 & 0.0\\\\\\end{array}\\right)\\end{equation*}"
      ],
      "text/plain": [
       "PyObject Quantum object: dims = [[[2], [2]], [[2], [2]]], shape = (4, 4), type = super, isherm = False\n",
       "Qobj data =\n",
       "[[ 1.  0.  0.  0.]\n",
       " [ 0.  0.  0.  1.]\n",
       " [ 0.  0.  1.  0.]\n",
       " [ 0. -1.  0.  0.]]"
      ]
     },
     "execution_count": 28,
     "metadata": {},
     "output_type": "execute_result"
    }
   ],
   "source": [
    "## We have all one qubits in julia in operatorCliffords\n",
    "# convert to a Qobj and then use superoperator\n",
    "\n",
    "to_superpauli(qt.Qobj(operatorCliffords[2]))"
   ]
  },
  {
   "cell_type": "code",
   "execution_count": 29,
   "metadata": {},
   "outputs": [
    {
     "data": {
      "text/latex": [
       "Quantum object: dims = [[[2], [2]], [[2], [2]]], shape = (4, 4), type = super, isherm = False\\begin{equation*}\\left(\\begin{array}{*{11}c}0.440 & (-0.094+0.377j) & (-0.094-0.377j) & 0.726\\\\(-0.086-0.371j) & (-0.263+0.023j) & (-0.080-0.048j) & (0.002+0.023j)\\\\(-0.086+0.371j) & (-0.080+0.048j) & (-0.263-0.023j) & (0.002-0.023j)\\\\0.560 & (0.094-0.377j) & (0.094+0.377j) & 0.274\\\\\\end{array}\\right)\\end{equation*}"
      ],
      "text/plain": [
       "PyObject Quantum object: dims = [[[2], [2]], [[2], [2]]], shape = (4, 4), type = super, isherm = False\n",
       "Qobj data =\n",
       "[[ 0.44018364+0.j         -0.09366099+0.37717307j -0.09366099-0.37717307j\n",
       "   0.72627049+0.j        ]\n",
       " [-0.08613917-0.37071206j -0.26296569+0.02272718j -0.07992730-0.04802067j\n",
       "   0.00218126+0.02332043j]\n",
       " [-0.08613917+0.37071206j -0.07992730+0.04802067j -0.26296569-0.02272718j\n",
       "   0.00218126-0.02332043j]\n",
       " [ 0.55981636+0.j          0.09366099-0.37717307j  0.09366099+0.37717307j\n",
       "   0.27372951+0.j        ]]"
      ]
     },
     "execution_count": 29,
     "metadata": {},
     "output_type": "execute_result"
    }
   ],
   "source": [
    "rs=qt.rand_super_bcsz(rank=2)"
   ]
  },
  {
   "cell_type": "code",
   "execution_count": 30,
   "metadata": {},
   "outputs": [
    {
     "data": {
      "text/plain": [
       "4-element Array{PyCall.PyObject,1}:\n",
       " PyObject Quantum object: dims = [[2], [2]], shape = (2, 2), type = oper, isherm = False\n",
       "Qobj data =\n",
       "[[ 0.65566304 -5.10961237e-18j -0.04710744 +5.41352784e-01j]\n",
       " [-0.08611269 -6.12298372e-01j -0.41988258 -9.78594035e-03j]]                    \n",
       " PyObject Quantum object: dims = [[2], [2]], shape = (2, 2), type = oper, isherm = False\n",
       "Qobj data =\n",
       "[[-0.09562018 -3.38585722e-02j  0.65649717 -1.58867042e-17j]\n",
       " [ 0.37697890 -1.88091938e-01j -0.01873685 -3.11418200e-01j]]                    \n",
       " PyObject Quantum object: dims = [[2], [2]], shape = (2, 2), type = oper, isherm = False\n",
       "Qobj data =\n",
       "[[  1.90559683e-09 +1.16232050e-09j   9.49882301e-10 -1.30068574e-09j]\n",
       " [  4.60239131e-09 -2.13125266e-09j   3.17066641e-09 +7.95873379e-09j]]\n",
       " PyObject Quantum object: dims = [[2], [2]], shape = (2, 2), type = oper, isherm = False\n",
       "Qobj data =\n",
       "[[  3.88787071e-10 -4.91556314e-09j  -1.93125721e-09 -1.45238856e-09j]\n",
       " [  7.15343166e-09 -6.66449679e-10j  -1.67233550e-09 +5.50633858e-09j]]"
      ]
     },
     "execution_count": 30,
     "metadata": {},
     "output_type": "execute_result"
    }
   ],
   "source": [
    "ks=qt.to_kraus(rs)"
   ]
  },
  {
   "cell_type": "code",
   "execution_count": 31,
   "metadata": {},
   "outputs": [
    {
     "data": {
      "text/latex": [
       "Quantum object: dims = [[[2], [2]], [[2], [2]]], shape = (4, 4), type = super, isherm = True, superrep = choi\\begin{equation*}\\left(\\begin{array}{*{11}c}0.440 & (-0.086+0.371j) & (-0.094-0.377j) & (-0.263-0.023j)\\\\(-0.086-0.371j) & 0.560 & (-0.080-0.048j) & (0.094+0.377j)\\\\(-0.094+0.377j) & (-0.080+0.048j) & 0.726 & (0.002-0.023j)\\\\(-0.263+0.023j) & (0.094-0.377j) & (0.002+0.023j) & 0.274\\\\\\end{array}\\right)\\end{equation*}"
      ],
      "text/plain": [
       "PyObject Quantum object: dims = [[[2], [2]], [[2], [2]]], shape = (4, 4), type = super, isherm = True, superrep = choi\n",
       "Qobj data =\n",
       "[[ 0.44018364+0.j         -0.08613917+0.37071206j -0.09366099-0.37717307j\n",
       "  -0.26296569-0.02272718j]\n",
       " [-0.08613917-0.37071206j  0.55981636+0.j         -0.07992730-0.04802067j\n",
       "   0.09366099+0.37717307j]\n",
       " [-0.09366099+0.37717307j -0.07992730+0.04802067j  0.72627049+0.j\n",
       "   0.00218126-0.02332043j]\n",
       " [-0.26296569+0.02272718j  0.09366099-0.37717307j  0.00218126+0.02332043j\n",
       "   0.27372951+0.j        ]]"
      ]
     },
     "execution_count": 31,
     "metadata": {},
     "output_type": "execute_result"
    }
   ],
   "source": [
    "qt.kraus_to_choi(ks)"
   ]
  },
  {
   "cell_type": "markdown",
   "metadata": {},
   "source": [
    "## Of course we have all these in julia courtesy of marcuscp"
   ]
  },
  {
   "cell_type": "code",
   "execution_count": 32,
   "metadata": {},
   "outputs": [
    {
     "data": {
      "text/plain": [
       "4-element Array{Array{Complex{Float64},2},1}:\n",
       " Complex{Float64}[0.655663-5.10961e-18im -0.0471074+0.541353im; -0.0861127-0.612298im -0.419883-0.00978594im]         \n",
       " Complex{Float64}[-0.0956202-0.0338586im 0.656497-1.58867e-17im; 0.376979-0.188092im -0.0187369-0.311418im]           \n",
       " Complex{Float64}[1.9056e-9+1.16232e-9im 9.49882e-10-1.30069e-9im; 4.60239e-9-2.13125e-9im 3.17067e-9+7.95873e-9im]   \n",
       " Complex{Float64}[3.88787e-10-4.91556e-9im -1.93126e-9-1.45239e-9im; 7.15343e-9-6.6645e-10im -1.67234e-9+5.50634e-9im]"
      ]
     },
     "execution_count": 32,
     "metadata": {},
     "output_type": "execute_result"
    }
   ],
   "source": [
    "jks=[i[:full]() for i in ks]"
   ]
  },
  {
   "cell_type": "code",
   "execution_count": 33,
   "metadata": {},
   "outputs": [
    {
     "data": {
      "text/latex": [
       "\\begin{equation*} \\left(\\begin{array}{*{11}c} 0.44 + 0.0im & -0.086 + 0.371im & -0.094 - 0.377im & -0.263 - 0.023im & \\\\ -0.086 - 0.371im & 0.56 + 0.0im & -0.08 - 0.048im & 0.094 + 0.377im & \\\\ -0.094 + 0.377im & -0.08 + 0.048im & 0.726 + 0.0im & 0.002 - 0.023im & \\\\ -0.263 + 0.023im & 0.094 - 0.377im & 0.002 + 0.023im & 0.274 + 0.0im & \\\\ \\end{array}\\right)\\end{equation*}"
      ],
      "text/plain": [
       "4×4 Array{Complex{Float64},2}:\n",
       "   0.44+0.0im    -0.086+0.371im  -0.094-0.377im  -0.263-0.023im\n",
       " -0.086-0.371im    0.56+0.0im     -0.08-0.048im   0.094+0.377im\n",
       " -0.094+0.377im   -0.08+0.048im   0.726+0.0im     0.002-0.023im\n",
       " -0.263+0.023im   0.094-0.377im   0.002+0.023im   0.274+0.0im  "
      ]
     },
     "execution_count": 33,
     "metadata": {},
     "output_type": "execute_result"
    }
   ],
   "source": [
    "round.(kraus2choi(jks),3)"
   ]
  },
  {
   "cell_type": "code",
   "execution_count": 34,
   "metadata": {},
   "outputs": [
    {
     "data": {
      "text/latex": [
       "Quantum object: dims = [[[2], [2]], [[2], [2]]], shape = (4, 4), type = super, isherm = True, superrep = choi\\begin{equation*}\\left(\\begin{array}{*{11}c}0.440 & (-0.086+0.371j) & (-0.094-0.377j) & (-0.263-0.023j)\\\\(-0.086-0.371j) & 0.560 & (-0.080-0.048j) & (0.094+0.377j)\\\\(-0.094+0.377j) & (-0.080+0.048j) & 0.726 & (0.002-0.023j)\\\\(-0.263+0.023j) & (0.094-0.377j) & (0.002+0.023j) & 0.274\\\\\\end{array}\\right)\\end{equation*}"
      ],
      "text/plain": [
       "PyObject Quantum object: dims = [[[2], [2]], [[2], [2]]], shape = (4, 4), type = super, isherm = True, superrep = choi\n",
       "Qobj data =\n",
       "[[ 0.44018364+0.j         -0.08613917+0.37071206j -0.09366099-0.37717307j\n",
       "  -0.26296569-0.02272718j]\n",
       " [-0.08613917-0.37071206j  0.55981636+0.j         -0.07992730-0.04802067j\n",
       "   0.09366099+0.37717307j]\n",
       " [-0.09366099+0.37717307j -0.07992730+0.04802067j  0.72627049+0.j\n",
       "   0.00218126-0.02332043j]\n",
       " [-0.26296569+0.02272718j  0.09366099-0.37717307j  0.00218126+0.02332043j\n",
       "   0.27372951+0.j        ]]"
      ]
     },
     "execution_count": 34,
     "metadata": {},
     "output_type": "execute_result"
    }
   ],
   "source": [
    "qt.kraus_to_choi(ks)"
   ]
  },
  {
   "cell_type": "markdown",
   "metadata": {},
   "source": [
    "### That should be enough to be getting on with..."
   ]
  }
 ],
 "metadata": {
  "kernelspec": {
   "display_name": "Julia 0.6.2",
   "language": "julia",
   "name": "julia-0.6"
  },
  "language_info": {
   "file_extension": ".jl",
   "mimetype": "application/julia",
   "name": "julia",
   "version": "0.6.2"
  }
 },
 "nbformat": 4,
 "nbformat_minor": 1
}
