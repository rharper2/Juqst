{
 "cells": [
  {
   "cell_type": "code",
   "execution_count": 2,
   "metadata": {
    "collapsed": false
   },
   "outputs": [],
   "source": [
    "require(\"PTSM.jl\")"
   ]
  },
  {
   "cell_type": "code",
   "execution_count": 7,
   "metadata": {
    "collapsed": false
   },
   "outputs": [
    {
     "data": {
      "text/plain": [
       "4x4 Array{Float64,2}:\n",
       " 24.0   0.0  0.0   0.0\n",
       "  0.0   0.0  0.0  -0.0\n",
       "  0.0  -0.0  0.0  -0.0\n",
       "  0.0  -0.0  0.0  -0.0"
      ]
     },
     "execution_count": 7,
     "metadata": {},
     "output_type": "execute_result"
    }
   ],
   "source": [
    "reload(\"PTSM.jl\")\n",
    "sum=zeros(4,4)\n",
    "for i=1:24\n",
    "    sum = sum+generateClifford(i,0,0,0)\n",
    "end\n",
    "round(sum)"
   ]
  },
  {
   "cell_type": "code",
   "execution_count": 18,
   "metadata": {
    "collapsed": false
   },
   "outputs": [
    {
     "data": {
      "text/plain": [
       "4x4 Array{Float64,2}:\n",
       " 5.0   0.0   0.0   0.0\n",
       " 0.0   0.0   0.0   1.0\n",
       " 0.0   0.0   1.0  -2.0\n",
       " 0.0  -1.0  -2.0   2.0"
      ]
     },
     "execution_count": 18,
     "metadata": {},
     "output_type": "execute_result"
    }
   ],
   "source": [
    "sum=zeros(4,4)\n",
    "for i in [1,15,20,9,11]\n",
    "    sum = sum+generateClifford(i,0,0,0)\n",
    "end\n",
    "round(sum)"
   ]
  },
  {
   "cell_type": "code",
   "execution_count": 21,
   "metadata": {
    "collapsed": false
   },
   "outputs": [
    {
     "data": {
      "text/plain": [
       "true"
      ]
     },
     "execution_count": 21,
     "metadata": {},
     "output_type": "execute_result"
    }
   ],
   "source": [
    "int(generateClifford(1,0,0,0))-[0 0 0 0;0 1 0 0;0 0 1 0;0 0 0 1]==[1 0 0 0;0 0 0 0;0 0 0 0;0 0 0 0]"
   ]
  },
  {
   "cell_type": "code",
   "execution_count": 53,
   "metadata": {
    "collapsed": false
   },
   "outputs": [
    {
     "name": "stdout",
     "output_type": "stream",
     "text": [
      "--->[1,2,3,19,20,21]\n",
      "--->[1,5,9,13,21,23]\n",
      "--->[1,6,11,18,19,23]\n",
      "--->[1,8,12,13,18,20]\n"
     ]
    }
   ],
   "source": [
    "sofar = Array{Int64,1}[]\n",
    "for i1=1:1\n",
    "    for i2=2:24\n",
    "        if (i2!=i1)\n",
    "            for i3=1:24\n",
    "                if (i3!=i2 && i3!=i1)\n",
    "                    for i4=1:24\n",
    "                        if(i4!=i3 && i4!=i2 && i4!=i1)\n",
    "                            for i5=1:24\n",
    "                                if (i5!=i4 && i5!=i3 && i5!=i2 && i5!=i1)\n",
    "                                    for i6=1:24\n",
    "                                        if (i6!=i4 && i6!=i3 && i6!=i2 && i6!=i1 && i6!=i1)\n",
    "                                            if (int(generateClifford(i1,0,0,0)+\n",
    "                                                    generateClifford(i2,0,0,0)+\n",
    "                                                    generateClifford(i3,0,0,0)+\n",
    "                                                    generateClifford(i4,0,0,0)+\n",
    "                                                    generateClifford(i5,0,0,0)+\n",
    "                                                    generateClifford(i6,0,0,0)) ==\n",
    "                                                    [6 0 0 0;0 0 0 0;0 0 0 0;0 0 0 0])\n",
    "                                                found = sort([i1,i2,i3,i4,i5,i6])\n",
    "                                                if (!(found in sofar)) \n",
    "                                                    print(\"--->\",found,\"\\n\")\n",
    "                                                    push!(sofar,found)\n",
    "                                                end\n",
    "                                            end\n",
    "                                        end\n",
    "                                    end\n",
    "                                end\n",
    "                            end\n",
    "                        end\n",
    "                    end\n",
    "                end\n",
    "            end\n",
    "        end\n",
    "    end\n",
    "end\n",
    "\n",
    "                                        \n",
    "                        "
   ]
  },
  {
   "cell_type": "code",
   "execution_count": 54,
   "metadata": {
    "collapsed": false
   },
   "outputs": [
    {
     "data": {
      "text/plain": [
       "4-element Array{Array{Int64,1},1}:\n",
       " [1,2,3,19,20,21] \n",
       " [1,5,9,13,21,23] \n",
       " [1,6,11,18,19,23]\n",
       " [1,8,12,13,18,20]"
      ]
     },
     "execution_count": 54,
     "metadata": {},
     "output_type": "execute_result"
    }
   ],
   "source": [
    "sofar\n"
   ]
  },
  {
   "cell_type": "code",
   "execution_count": 37,
   "metadata": {
    "collapsed": false
   },
   "outputs": [
    {
     "ename": "LoadError",
     "evalue": "type Array has no field add\nwhile loading In[37], in expression starting on line 2",
     "output_type": "error",
     "traceback": [
      "type Array has no field add\nwhile loading In[37], in expression starting on line 2",
      ""
     ]
    }
   ],
   "source": [
    "sofar =[]\n",
    "sofar.add(sort([2,1,5,6,9,10]))\n",
    "sofar += sort([2,3,5,6,9,10])\n"
   ]
  },
  {
   "cell_type": "code",
   "execution_count": 39,
   "metadata": {
    "collapsed": false
   },
   "outputs": [
    {
     "ename": "LoadError",
     "evalue": "dimensions must match\nwhile loading In[39], in expression starting on line 1",
     "output_type": "error",
     "traceback": [
      "dimensions must match\nwhile loading In[39], in expression starting on line 1",
      "",
      " in + at array.jl:719"
     ]
    }
   ],
   "source": [
    "sofar = sofar + [1]"
   ]
  },
  {
   "cell_type": "code",
   "execution_count": 45,
   "metadata": {
    "collapsed": false
   },
   "outputs": [
    {
     "data": {
      "text/plain": [
       "0-element Array{Array{Int64,1},1}"
      ]
     },
     "execution_count": 45,
     "metadata": {},
     "output_type": "execute_result"
    }
   ],
   "source": [
    "sofar = Array{Int64,1}[]"
   ]
  },
  {
   "cell_type": "code",
   "execution_count": 47,
   "metadata": {
    "collapsed": false
   },
   "outputs": [
    {
     "data": {
      "text/plain": [
       "2-element Array{Array{Int64,1},1}:\n",
       " [1,2,5,6,9,10] \n",
       " [1,2,5,6,10,11]"
      ]
     },
     "execution_count": 47,
     "metadata": {},
     "output_type": "execute_result"
    }
   ],
   "source": [
    "push!(sofar,sort([2,1,5,6,11,10]))"
   ]
  },
  {
   "cell_type": "code",
   "execution_count": 49,
   "metadata": {
    "collapsed": false
   },
   "outputs": [
    {
     "data": {
      "text/plain": [
       "true"
      ]
     },
     "execution_count": 49,
     "metadata": {},
     "output_type": "execute_result"
    }
   ],
   "source": [
    "sort([2,1,5,6,11,10]) in sofar"
   ]
  },
  {
   "cell_type": "code",
   "execution_count": null,
   "metadata": {
    "collapsed": true
   },
   "outputs": [],
   "source": []
  }
 ],
 "metadata": {
  "kernelspec": {
   "display_name": "Julia 0.3.5",
   "language": "julia",
   "name": "julia 0.3"
  },
  "language_info": {
   "name": "julia",
   "version": "0.3.5"
  }
 },
 "nbformat": 4,
 "nbformat_minor": 0
}
