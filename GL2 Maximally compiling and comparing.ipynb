{
 "cells": [
  {
   "cell_type": "markdown",
   "metadata": {},
   "source": [
    "##Some preliminaries, you will need \n",
    "- package Match (Pkg.add(\"Match\")) \n",
    "- PyCall\n",
    "- a working Python, with scipy, numpy and qutip installed."
   ]
  },
  {
   "cell_type": "code",
   "execution_count": 1,
   "metadata": {
    "collapsed": false
   },
   "outputs": [
    {
     "name": "stderr",
     "output_type": "stream",
     "text": [
      "Warning: could not import Base.Text into Tk\n",
      "Warning: using Images.phase in module Main conflicts with an existing identifier.\n"
     ]
    }
   ],
   "source": [
    "reload(\"PTSM.jl\")\n",
    "reload(\"Initial.jl\")\n",
    "reload(\"Symplectic.jl\")"
   ]
  },
  {
   "cell_type": "code",
   "execution_count": 2,
   "metadata": {
    "collapsed": false
   },
   "outputs": [],
   "source": [
    "using PyCall"
   ]
  },
  {
   "cell_type": "code",
   "execution_count": 3,
   "metadata": {
    "collapsed": false
   },
   "outputs": [],
   "source": [
    "@pyimport scipy.optimize as so\n",
    "@pyimport numpy as np\n",
    "@pyimport matplotlib.pyplot as plt\n",
    "@pyimport qutip as qt\n",
    "@pyimport numpy.linalg as la"
   ]
  },
  {
   "cell_type": "markdown",
   "metadata": {},
   "source": [
    "## We need to get the Python finite field package working"
   ]
  },
  {
   "cell_type": "code",
   "execution_count": 4,
   "metadata": {
    "collapsed": true
   },
   "outputs": [],
   "source": [
    "unshift!(PyVector(pyimport(\"sys\")[\"path\"]), \"./finite-fields/\")\n",
    "@pyimport finitefield as ff"
   ]
  },
  {
   "cell_type": "code",
   "execution_count": 5,
   "metadata": {
    "collapsed": false
   },
   "outputs": [
    {
     "name": "stdout",
     "output_type": "stream",
     "text": [
      "1 + 0 x^1 + 1 x^2\n",
      "1 + 1 x^1 + 1 x^2\n"
     ]
    },
    {
     "data": {
      "text/plain": [
       "fn (generic function with 1 method)"
      ]
     },
     "execution_count": 5,
     "metadata": {},
     "output_type": "execute_result"
    }
   ],
   "source": [
    "F22 = ff.FiniteField(2,2)"
   ]
  },
  {
   "cell_type": "code",
   "execution_count": 6,
   "metadata": {
    "collapsed": false
   },
   "outputs": [],
   "source": [
    "@pyimport SLFunctions as sl"
   ]
  },
  {
   "cell_type": "code",
   "execution_count": 7,
   "metadata": {
    "collapsed": false
   },
   "outputs": [
    {
     "data": {
      "text/plain": [
       "getStabilisers (generic function with 1 method)"
      ]
     },
     "execution_count": 7,
     "metadata": {},
     "output_type": "execute_result"
    }
   ],
   "source": [
    "function getStabilisers()\n",
    "    jstabs=Array{Int64,2}[]\n",
    "    stabs = sl.getF2Stabilisers()\n",
    "    for i in 1:60\n",
    "        push!(jstabs,reshape(stabs[i,:,:],4,4))\n",
    "    end\n",
    "    return jstabs\n",
    "end\n"
   ]
  },
  {
   "cell_type": "code",
   "execution_count": 8,
   "metadata": {
    "collapsed": false
   },
   "outputs": [],
   "source": [
    "stabs=getStabilisers();"
   ]
  },
  {
   "cell_type": "markdown",
   "metadata": {},
   "source": [
    "##So we have the F22 stabilisers (60 of them) loaded into stabs"
   ]
  },
  {
   "cell_type": "markdown",
   "metadata": {},
   "source": [
    "#Optimise the gates required for these 60\n",
    "##!WARNING\n",
    "these take a long time to run! - The data is now saved, just load it, next worksheet."
   ]
  },
  {
   "cell_type": "code",
   "execution_count": 9,
   "metadata": {
    "collapsed": false
   },
   "outputs": [],
   "source": [
    "#watch out currently fails for 29 (as its the identity)\n",
    "#gatesNeeded=Array{Int32,1}[]\n",
    "#for i=1:60\n",
    "#    state=setup(2)\n",
    "#    state[:,1:4]=stabs[i]\n",
    "#    back=bruteForceBreadthFirst(state)\n",
    "#    push!(gatesNeeded,back)\n",
    "#    writedlm(\"gateList$i.csv\",back)\n",
    "#end\n",
    "    "
   ]
  },
  {
   "cell_type": "code",
   "execution_count": 10,
   "metadata": {
    "collapsed": false
   },
   "outputs": [],
   "source": [
    "#since we saved them previously we can load them\n",
    "gates=Array{Float64}[]\n",
    "for i=1:60\n",
    "    push!(gates,readdlm(\"compiledGates/gateList$i.csv\"))\n",
    "end"
   ]
  },
  {
   "cell_type": "code",
   "execution_count": 11,
   "metadata": {
    "collapsed": false
   },
   "outputs": [
    {
     "data": {
      "text/plain": [
       "1-element Array{Float64,1}:\n",
       " 7.0"
      ]
     },
     "execution_count": 11,
     "metadata": {},
     "output_type": "execute_result"
    }
   ],
   "source": [
    "gates[29]=[7.0]"
   ]
  },
  {
   "cell_type": "markdown",
   "metadata": {},
   "source": [
    "##The saved gates are indexes to the following \"gate\" array"
   ]
  },
  {
   "cell_type": "code",
   "execution_count": 12,
   "metadata": {
    "collapsed": false
   },
   "outputs": [
    {
     "data": {
      "text/plain": [
       "7-element Array{Expr,1}:\n",
       " :(cnot(svec,1,2,false))  \n",
       " :(hadamard(svec,1,false))\n",
       " :(phase(svec,1,false))   \n",
       " :(cnot(svec,2,1,false))  \n",
       " :(hadamard(svec,2,false))\n",
       " :(phase(svec,2,false))   \n",
       " :(noop())                "
      ]
     },
     "execution_count": 12,
     "metadata": {},
     "output_type": "execute_result"
    }
   ],
   "source": [
    "gatesCommand = (Expr)[]\n",
    "\tsvec = []\n",
    "\tfor i = 1:2\n",
    "\t  for j = 1:2\n",
    "\t  \tif i!=j\n",
    "            push!(gatesCommand,Expr(:call,:cnot,:svec,i,j,false))\n",
    "\t  \tend\n",
    "\t  end\n",
    "    push!(gatesCommand,Expr(:call,:hadamard,:svec,i,false))\n",
    "    push!(gatesCommand,Expr(:call,:phase,:svec,i,false))\n",
    "\tend\n",
    "push!(gatesCommand,Expr(:call,:noop))"
   ]
  },
  {
   "cell_type": "markdown",
   "metadata": {
    "collapsed": true
   },
   "source": [
    "## Or if we just want to print it"
   ]
  },
  {
   "cell_type": "code",
   "execution_count": 13,
   "metadata": {
    "collapsed": false
   },
   "outputs": [
    {
     "data": {
      "text/plain": [
       "7-element Array{ASCIIString,1}:\n",
       " \"cnot(1,2)\"  \n",
       " \"hadamard(1)\"\n",
       " \"phase(1)\"   \n",
       " \"cnot(2,1)\"  \n",
       " \"hadamard(2)\"\n",
       " \"phase(2)\"   \n",
       " \"Identity\"   "
      ]
     },
     "execution_count": 13,
     "metadata": {},
     "output_type": "execute_result"
    }
   ],
   "source": [
    "gatestring = ASCIIString[]\n",
    "svec = []\n",
    "for i = 1:2\n",
    "  for j = 1:2\n",
    "  \tif i!=j\n",
    "            push!(gatestring,\"cnot($i,$j)\")\n",
    "  \tend\n",
    "  end\n",
    "  push!(gatestring,\"hadamard($i)\")\n",
    "  push!(gatestring,\"phase($i)\")\n",
    "end\n",
    "push!(gatestring,\"Identity\")"
   ]
  },
  {
   "cell_type": "code",
   "execution_count": 14,
   "metadata": {
    "collapsed": false
   },
   "outputs": [
    {
     "data": {
      "text/plain": [
       "makeFromCommand (generic function with 1 method)"
      ]
     },
     "execution_count": 14,
     "metadata": {},
     "output_type": "execute_result"
    }
   ],
   "source": [
    "function makeFromCommand(command)\n",
    "    currentState = [1 0 0 0;0 1 0 0;0 0 1 0;0 0 0 1]\n",
    "    si = [1 0;0 1]\n",
    "    sphase1=kron([1 0;0 im],si)\n",
    "    sphase2=kron(si,[1 0;0 im])\n",
    "    shadmard=1/sqrt(2)*[1 1;1 -1]\n",
    "    shad1 = kron(shadmard,si)\n",
    "    shad2 = kron(si,shadmard)\n",
    "    cnot12 = [1 0 0 0;0 1 0 0;0 0 0 1;0 0 1 0]\n",
    "    cnot21 = [1 0 0 0;0 0 0 1;0 0 1 0;0 1 0 0]\n",
    "    for t in command\n",
    "        m = match(r\"setup\\((.*)\\)\",t)\n",
    "        if (m!=nothing)\n",
    "           state=[1 0 0 0;0 1 0 0;0 0 1 0;0 0 0 1]\n",
    "        else \n",
    "           m=match(r\"phase\\((.*)\\)\",t)\n",
    "           if (m!=nothing)\n",
    "                bit = int(m.captures[1])\n",
    "                if bit == 1\n",
    "                   currentState=currentState*sphase1\n",
    "                else \n",
    "                   currentState=currentState*sphase2\n",
    "                end\n",
    "            else\n",
    "                m=match(r\"hadamard\\((.*)\\)\",t)\n",
    "                if (m!=nothing)\n",
    "                    bit = int(m.captures[1])\n",
    "                    if bit == 1\n",
    "                        currentState=currentState*shad1\n",
    "                    else \n",
    "                        currentState=currentState*shad2\n",
    "                    end\n",
    "                else\n",
    "                    m=match(r\"cnot\\((.*),(.*)\\)\",t)\n",
    "                    if (m!=nothing)\n",
    "                        cbit = int(m.captures[1])\n",
    "                        tbit = int(m.captures[2])\n",
    "                        if cbit ==1 \n",
    "                            currentState = currentState*cnot12\n",
    "                        else\n",
    "                            currentState = currentState*cnot21\n",
    "                        end\n",
    "                    end\n",
    "                end\n",
    "            end\n",
    "        end\n",
    "    end\n",
    "    return  currentState=currentState\n",
    "end\n"
   ]
  },
  {
   "cell_type": "code",
   "execution_count": null,
   "metadata": {
    "collapsed": false
   },
   "outputs": [],
   "source": [
    "# if you haven't already you may need to: Pkg.add(\"ProgressMeter\")\n",
    "# or just remove the ProgressMeter references, they aren't actually needed."
   ]
  },
  {
   "cell_type": "code",
   "execution_count": 16,
   "metadata": {
    "collapsed": true
   },
   "outputs": [],
   "source": [
    "using ProgressMeter"
   ]
  },
  {
   "cell_type": "markdown",
   "metadata": {},
   "source": [
    "###Looks good, so lets make them all"
   ]
  },
  {
   "cell_type": "code",
   "execution_count": 17,
   "metadata": {
    "collapsed": false
   },
   "outputs": [
    {
     "name": "stdout",
     "output_type": "stream",
     "text": [
      "Progress: 100% Time: 0:00:08\n"
     ]
    }
   ],
   "source": [
    "sl2Cliffords= Array{Complex{Float64},2}[]\n",
    "sl2CliffordCommands = Array{ASCIIString,1}[]\n",
    "n=60*4*4\n",
    "p=Progress(n,1)\n",
    "for i=1:60\n",
    "    for j=1:4\n",
    "        for z=1:4\n",
    "            state=setup(2)\n",
    "            state[:,1:4]=stabs[i]\n",
    "            decomposeState(state,true)\n",
    "            #Apply the PAULIS!\n",
    "            if (j==2)\n",
    "                push!(commands,\"hadamard(1)\")\n",
    "                push!(commands,\"phase(1)\")\n",
    "                push!(commands,\"phase(1)\")\n",
    "                push!(commands,\"hadamard(1)\")\n",
    "            elseif (j==3)\n",
    "                push!(commands,\"phase(1)\")\n",
    "                push!(commands,\"phase(1)\")\n",
    "            elseif (j==4)\n",
    "                push!(commands,\"phase(1)\")\n",
    "                push!(commands,\"phase(1)\")\n",
    "                push!(commands,\"hadamard(1)\")\n",
    "                push!(commands,\"phase(1)\")\n",
    "                push!(commands,\"phase(1)\")\n",
    "                push!(commands,\"hadamard(1)\")\n",
    "            end\n",
    "            if (z==2)\n",
    "                push!(commands,\"hadamard(2)\")\n",
    "                push!(commands,\"phase(2)\")\n",
    "                push!(commands,\"phase(2)\")\n",
    "                push!(commands,\"hadamard(2)\")\n",
    "            elseif (z==3)\n",
    "                push!(commands,\"phase(2)\")\n",
    "                push!(commands,\"phase(2)\")\n",
    "            elseif (z==4)\n",
    "                push!(commands,\"phase(2)\")\n",
    "                push!(commands,\"phase(2)\")\n",
    "                push!(commands,\"hadamard(2)\")\n",
    "                push!(commands,\"phase(2)\")\n",
    "                push!(commands,\"phase(2)\")\n",
    "                push!(commands,\"hadamard(2)\")\n",
    "            end\n",
    "            push!(sl2CliffordCommands,commands)\n",
    "            push!(sl2Cliffords,makeFromCommand(commands))\n",
    "            next!(p)\n",
    "        end\n",
    "    end\n",
    "end"
   ]
  },
  {
   "cell_type": "code",
   "execution_count": 18,
   "metadata": {
    "collapsed": false
   },
   "outputs": [
    {
     "data": {
      "text/plain": [
       "(960,)"
      ]
     },
     "execution_count": 18,
     "metadata": {},
     "output_type": "execute_result"
    }
   ],
   "source": [
    "size(sl2Cliffords)"
   ]
  },
  {
   "cell_type": "code",
   "execution_count": 21,
   "metadata": {
    "collapsed": false
   },
   "outputs": [
    {
     "data": {
      "text/plain": [
       "4-element Array{ASCIIString,1}:\n",
       " \"setup(2)\"    \n",
       " \"hadamard(2)\" \n",
       " \"hadamard(1)\" \n",
       " \"output(svec)\""
      ]
     },
     "execution_count": 21,
     "metadata": {},
     "output_type": "execute_result"
    }
   ],
   "source": [
    "sl2CliffordCommands[1]"
   ]
  },
  {
   "cell_type": "markdown",
   "metadata": {},
   "source": [
    "#so the number of gates is the length of the commands minus 2"
   ]
  },
  {
   "cell_type": "code",
   "execution_count": 23,
   "metadata": {
    "collapsed": false
   },
   "outputs": [
    {
     "name": "stdout",
     "output_type": "stream",
     "text": [
      "Size is 960 and mean is 17.2"
     ]
    }
   ],
   "source": [
    "sl2CliffordsLength = [size(sl2CliffordCommands[i],1)-2 for i=1:size(sl2CliffordCommands,1)]\n",
    "print(\"Size is $(size(sl2CliffordsLength,1)) and mean is $(mean(sl2CliffordsLength))\")"
   ]
  },
  {
   "cell_type": "markdown",
   "metadata": {},
   "source": [
    "##Check if it is unitary 2"
   ]
  },
  {
   "cell_type": "code",
   "execution_count": 25,
   "metadata": {
    "collapsed": false
   },
   "outputs": [
    {
     "name": "stdout",
     "output_type": "stream",
     "text": [
      "1.8431999999999998e6 -> 1.9999999999999998)\n"
     ]
    }
   ],
   "source": [
    "sum = 0\n",
    "numb = size(sl2Cliffords,1)\n",
    "for i=1:numb\n",
    "    for j=1:numb\n",
    "        sum += abs(trace(conj(sl2Cliffords[i])'*sl2Cliffords[j]))^4\n",
    "    end\n",
    "end\n",
    "print(\"$sum -> $(sum/numb^2))\\n\")"
   ]
  },
  {
   "cell_type": "markdown",
   "metadata": {},
   "source": [
    "##And the magic number is indeed 2"
   ]
  },
  {
   "cell_type": "markdown",
   "metadata": {
    "collapsed": false
   },
   "source": [
    "## Now lets compare with the actual full Clifford Group."
   ]
  },
  {
   "cell_type": "code",
   "execution_count": 27,
   "metadata": {
    "collapsed": false
   },
   "outputs": [
    {
     "data": {
      "text/plain": [
       "11520"
      ]
     },
     "execution_count": 27,
     "metadata": {},
     "output_type": "execute_result"
    }
   ],
   "source": [
    "getNumberOfCliffords(2)"
   ]
  },
  {
   "cell_type": "code",
   "execution_count": 29,
   "metadata": {
    "collapsed": false
   },
   "outputs": [
    {
     "data": {
      "text/plain": [
       "720"
      ]
     },
     "execution_count": 29,
     "metadata": {},
     "output_type": "execute_result"
    }
   ],
   "source": [
    "getNumberOfSymplecticCliffords(2) # this is the number mapped to integers"
   ]
  },
  {
   "cell_type": "code",
   "execution_count": 30,
   "metadata": {
    "collapsed": false
   },
   "outputs": [
    {
     "data": {
      "text/plain": [
       "16"
      ]
     },
     "execution_count": 30,
     "metadata": {},
     "output_type": "execute_result"
    }
   ],
   "source": [
    "getNumberOfBitStringsCliffords(2) # this is the number we multiply it by"
   ]
  },
  {
   "cell_type": "code",
   "execution_count": 42,
   "metadata": {
    "collapsed": false
   },
   "outputs": [
    {
     "name": "stdout",
     "output_type": "stream",
     "text": [
      "Progress: 100% Time: 0:00:06\n"
     ]
    }
   ],
   "source": [
    "FullCliffords= Array{Complex{Float64},2}[]\n",
    "FullCliffordCommands = Array{ASCIIString,1}[]\n",
    "n=11520\n",
    "p=Progress(n,1)\n",
    "for i=1:720 # number of symplectics\n",
    "    for j=1:16 # number of phase variations.\n",
    "        state=setup(2)\n",
    "        decompose(i,j,2,true,true) # symplectic i, bits j, 2 qubits, no output and rationalise\n",
    "        push!(FullCliffordCommands,commands)\n",
    "        push!(FullCliffords,makeFromCommand(commands))\n",
    "        next!(p)\n",
    "    end\n",
    "end"
   ]
  },
  {
   "cell_type": "code",
   "execution_count": 43,
   "metadata": {
    "collapsed": false
   },
   "outputs": [
    {
     "data": {
      "text/plain": [
       "(11520,)"
      ]
     },
     "execution_count": 43,
     "metadata": {},
     "output_type": "execute_result"
    }
   ],
   "source": [
    "size(FullCliffords)"
   ]
  },
  {
   "cell_type": "code",
   "execution_count": 44,
   "metadata": {
    "collapsed": false
   },
   "outputs": [
    {
     "data": {
      "text/plain": [
       "4x4 Array{Complex{Float64},2}:\n",
       "  0.707107+0.0im        0.0+0.0im  0.707107+0.0im       0.0+0.0im\n",
       "       0.0+0.0im   0.707107+0.0im       0.0+0.0im  0.707107+0.0im\n",
       " -0.707107+0.0im        0.0+0.0im  0.707107+0.0im       0.0+0.0im\n",
       "       0.0+0.0im  -0.707107+0.0im       0.0+0.0im  0.707107+0.0im"
      ]
     },
     "execution_count": 44,
     "metadata": {},
     "output_type": "execute_result"
    }
   ],
   "source": [
    "FullCliffords[1]"
   ]
  },
  {
   "cell_type": "markdown",
   "metadata": {},
   "source": [
    "## Check we have done it correct (unitary 2)"
   ]
  },
  {
   "cell_type": "code",
   "execution_count": 45,
   "metadata": {
    "collapsed": false
   },
   "outputs": [
    {
     "name": "stdout",
     "output_type": "stream",
     "text": [
      "2.7066367999999994e8 -> 2.0395061728395056)\n"
     ]
    }
   ],
   "source": [
    "sum = 0\n",
    "numb = size(FullCliffords,1)\n",
    "p=Progress(numb,1)\n",
    "for i=1:numb\n",
    "    for j=1:numb\n",
    "        sum += abs(trace(conj(FullCliffords[i])'*FullCliffords[j]))^4\n",
    "    end\n",
    "    next!(p)\n",
    "end\n",
    "print(\"$sum -> $(sum/numb^2))\\n\")"
   ]
  },
  {
   "cell_type": "markdown",
   "metadata": {},
   "source": [
    "##Hmm probably a rounding error."
   ]
  },
  {
   "cell_type": "code",
   "execution_count": 46,
   "metadata": {
    "collapsed": false
   },
   "outputs": [
    {
     "name": "stdout",
     "output_type": "stream",
     "text": [
      "Size is 11520 and mean is 12.430208333333333"
     ]
    }
   ],
   "source": [
    "FullCliffordsLength = [size(FullCliffordCommands[i],1)-2 for i=1:size(FullCliffordCommands,1)]\n",
    "print(\"Size is $(size(FullCliffordsLength,1)) and mean is $(mean(FullCliffordsLength))\")"
   ]
  },
  {
   "cell_type": "code",
   "execution_count": 135,
   "metadata": {
    "collapsed": false
   },
   "outputs": [],
   "source": [
    "gatesCommands = Array{ASCIIString,1}[]\n",
    "gatesExecuteCommands = Array{Expr,1}[]\n",
    "for j =1:size(gates,1)\n",
    "    maximisedCommands= ASCIIString[\"setup(2)\"]\n",
    "    maximisedExecuteCommands = Expr[:(setup(1))]\n",
    "    for i in gates[j]\n",
    "        push!(maximisedCommands,gatestring[i])\n",
    "        push!(maximisedExecuteCommands,gatesCommand[i])\n",
    "    end\n",
    "    push!(gatesCommands,maximisedCommands)\n",
    "    push!(gatesExecuteCommands,(maximisedExecuteCommands))\n",
    "end"
   ]
  },
  {
   "cell_type": "code",
   "execution_count": 136,
   "metadata": {
    "collapsed": false
   },
   "outputs": [
    {
     "data": {
      "text/plain": [
       "3-element Array{ASCIIString,1}:\n",
       " \"setup(2)\"   \n",
       " \"hadamard(1)\"\n",
       " \"hadamard(2)\""
      ]
     },
     "execution_count": 136,
     "metadata": {},
     "output_type": "execute_result"
    }
   ],
   "source": [
    "commands=gatesCommands[1]"
   ]
  },
  {
   "cell_type": "code",
   "execution_count": 155,
   "metadata": {
    "collapsed": false
   },
   "outputs": [],
   "source": [
    "compiledRedunantCliffordCommands = Array{ASCIIString,1}[]\n",
    "n=60*4*4\n",
    "p=Progress(n,1)\n",
    "for i=1:60\n",
    "    for j=1:4\n",
    "        for z=1:4\n",
    "            commands=copy(gatesCommands[i])\n",
    "            executeCommands=copy(gatesExecuteCommands[i])\n",
    "            #Apply the PAULIS!\n",
    "            if (j==2)\n",
    "                push!(commands,\"hadamard(1)\")\n",
    "                push!(commands,\"phase(1)\")\n",
    "                push!(commands,\"phase(1)\")\n",
    "                push!(commands,\"hadamard(1)\")\n",
    "                push!(executeCommands,:(hadamard(svec,1,false)))\n",
    "                push!(executeCommands,:(phase(svec,1,false))) \n",
    "                push!(executeCommands,:(phase(svec,1,false))) \n",
    "                push!(executeCommands,:(hadamard(svec,1,false)))\n",
    "            elseif (j==3)\n",
    "                push!(commands,\"phase(1)\")\n",
    "                push!(commands,\"phase(1)\")\n",
    "                push!(executeCommands,:(phase(svec,1,false))) \n",
    "                push!(executeCommands,:(phase(svec,1,false))) \n",
    "            elseif (j==4)\n",
    "                push!(commands,\"phase(1)\")\n",
    "                push!(commands,\"phase(1)\")\n",
    "                push!(commands,\"hadamard(1)\")\n",
    "                push!(commands,\"phase(1)\")\n",
    "                push!(commands,\"phase(1)\")\n",
    "                push!(commands,\"hadamard(1)\")\n",
    "                push!(executeCommands,:(phase(svec,1,false))) \n",
    "                push!(executeCommands,:(phase(svec,1,false))) \n",
    "                push!(executeCommands,:(hadamard(svec,1,false)))\n",
    "                push!(executeCommands,:(phase(svec,1,false))) \n",
    "                push!(executeCommands,:(phase(svec,1,false))) \n",
    "                push!(executeCommands,:(hadamard(svec,1,false)))\n",
    "            end\n",
    "            if (z==2)\n",
    "                push!(commands,\"hadamard(2)\")\n",
    "                push!(commands,\"phase(2)\")\n",
    "                push!(commands,\"phase(2)\")\n",
    "                push!(commands,\"hadamard(2)\")\n",
    "                push!(executeCommands,:(hadamard(svec,2,false)))\n",
    "                push!(executeCommands,:(phase(svec,2,false))) \n",
    "                push!(executeCommands,:(phase(svec,2,false))) \n",
    "                push!(executeCommands,:(hadamard(svec,2,false)))\n",
    "            elseif (z==3)\n",
    "                push!(commands,\"phase(2)\")\n",
    "                push!(commands,\"phase(2)\")\n",
    "                push!(executeCommands,:(phase(svec,2,false))) \n",
    "                push!(executeCommands,:(phase(svec,2,false))) \n",
    "            elseif (z==4)\n",
    "                push!(commands,\"phase(2)\")\n",
    "                push!(commands,\"phase(2)\")\n",
    "                push!(commands,\"hadamard(2)\")\n",
    "                push!(commands,\"phase(2)\")\n",
    "                push!(commands,\"phase(2)\")\n",
    "                push!(commands,\"hadamard(2)\")\n",
    "                push!(executeCommands,:(phase(svec,2,false))) \n",
    "                push!(executeCommands,:(phase(svec,2,false))) \n",
    "                push!(executeCommands,:(hadamard(svec,2,false)))\n",
    "                push!(executeCommands,:(phase(svec,2,false))) \n",
    "                push!(executeCommands,:(phase(svec,2,false))) \n",
    "                push!(executeCommands,:(hadamard(svec,2,false)))\n",
    "            end\n",
    "            originalLength=size(commands,1)\n",
    "            removeRedundancy(2)\n",
    "            newLength=size(commands,1)\n",
    "            #print(i,j,z,\":\",originalLength,\"--->\",newLength,\"\\n\")\n",
    "            push!(compiledRedunantCliffordCommands,commands)\n",
    "            next!(p)\n",
    "        end\n",
    "    end\n",
    "end"
   ]
  },
  {
   "cell_type": "code",
   "execution_count": 159,
   "metadata": {
    "collapsed": false
   },
   "outputs": [],
   "source": [
    "crCC=compiledRedunantCliffordCommands;"
   ]
  },
  {
   "cell_type": "code",
   "execution_count": 161,
   "metadata": {
    "collapsed": false
   },
   "outputs": [],
   "source": [
    "fullSL2CommandLength = [size(crCC[i],1)-1 for i=1:size(crCC,1)];"
   ]
  },
  {
   "cell_type": "code",
   "execution_count": 172,
   "metadata": {
    "collapsed": false
   },
   "outputs": [
    {
     "data": {
      "text/plain": [
       "11.383333333333333"
      ]
     },
     "execution_count": 172,
     "metadata": {},
     "output_type": "execute_result"
    }
   ],
   "source": [
    "(mean(fullSL2CommandLength)*960-16)/960"
   ]
  },
  {
   "cell_type": "code",
   "execution_count": 164,
   "metadata": {
    "collapsed": false
   },
   "outputs": [
    {
     "name": "stdout",
     "output_type": "stream",
     "text": [
      "[[2,3],[4,5]]\n",
      "[3]\n",
      "[[2,3],[4,5]]"
     ]
    }
   ],
   "source": [
    "a=[2,3]\n",
    "b=[4,5]\n",
    "testy = Array{Int64,1}[]\n",
    "push!(testy,a)\n",
    "push!(testy,b)\n",
    "print(testy,\"\\n\")\n",
    "a=[3]\n",
    "print(a,\"\\n\")\n",
    "print(testy)"
   ]
  },
  {
   "cell_type": "code",
   "execution_count": 169,
   "metadata": {
    "collapsed": false
   },
   "outputs": [
    {
     "data": {
      "text/plain": [
       "6-element Array{ASCIIString,1}:\n",
       " \"setup(2)\"   \n",
       " \"Identity\"   \n",
       " \"hadamard(2)\"\n",
       " \"phase(2)\"   \n",
       " \"phase(2)\"   \n",
       " \"hadamard(2)\""
      ]
     },
     "execution_count": 169,
     "metadata": {},
     "output_type": "execute_result"
    }
   ],
   "source": [
    "crCC[28*16+2]"
   ]
  },
  {
   "cell_type": "code",
   "execution_count": 178,
   "metadata": {
    "collapsed": false
   },
   "outputs": [
    {
     "data": {
      "text/plain": [
       "bruteForceBreadthFirst (generic function with 1 method)"
      ]
     },
     "execution_count": 178,
     "metadata": {},
     "output_type": "execute_result"
    }
   ],
   "source": [
    "function bruteForceBreadthFirst(clifford)\n",
    "\tglobal svec\n",
    "\tcount = 0\n",
    "\tn=div(size(clifford,1),2) # half the dimension of this 2n x (2n+1) matrix\n",
    "\tif (n > 4) \n",
    "\t\tprintln(\"This might take some time!, there are \",n*(n+1) + n + n, \" different gates , we might need \", n*n/log(n), \" of them so I *might* have to check \", n*n/log(n)^(n*(n+1) + n + n), \"combos !\")\n",
    "\t\tprintln(\"Ctrl-C could be your friend\")\n",
    "\tend\n",
    "\tgates = (Expr)[]\n",
    "\tsvec = []\n",
    "\t# If we have a n quibit system then there are a total of \n",
    "\t# n*(n+1) possible cnots, n phase gates and n hadamards we can apply\n",
    "\tfor i = 1:n\n",
    "\t  for j = 1:n\n",
    "\t  \tif i!=j\n",
    "\t  \t\tpush!(gates,Expr(:call,:cnot,:svec,i,j,false))\n",
    "\t  \tend\n",
    "\t  end\n",
    "\t  push!(gates,Expr(:call,:hadamard,:svec,i,false))\n",
    "\t  push!(gates,Expr(:call,:phase,:svec,i,false))\n",
    "\tend\n",
    "\t# so we now have an array of all possible gates we can apply to the system\n",
    "\t# we want to search through the gates, we \"should\" need at most n^2 of them.\n",
    "\t# The process will be to have a stack of gates to apply, check them out\n",
    "\t# if we match getState(11) i.e. they reverted the clifford to the initial state\n",
    "\t# we have found the gates needed\n",
    "\t# otherwise we increment our \"bottom\" gate, and if we have gone though them, recursively increment the \n",
    "\t# gate above it (incrementGate! does this for us)\n",
    "\tstate = 0\n",
    "\tmaxGates = size(gates,1);\n",
    "\tgatesToApply=(Int32)[]\n",
    "\tif getState(clifford) == 11\n",
    "\t\tprintln(\"Very funny you don't need to do anything\")\n",
    "\t\treturn [Expr(:noop)]\n",
    "\tend\n",
    "\tcurrentAt = 1\n",
    "\twhile (state!=11 && size(gatesToApply,1) < n*n*n*n*n*n*n*n*n*n)\n",
    "\t\tsvec = copy(clifford)\n",
    "\t\tincrementGate!(gatesToApply,maxGates)\n",
    "\t\tcount += 1\n",
    "\t\tif (size(gatesToApply,1) > currentAt)\n",
    "\t\t\t#print(\"Trying: \")\n",
    "\t\t\t#\tfor i=1:size(gatesToApply,1)\n",
    "\t\t\t#\tprint(gatesToApply[i],\" \")\n",
    "\t\t\t#end\n",
    "\t\t\t#println(\"\")\n",
    "\t\t\tcurrentAt+=1\n",
    "\t\tend\n",
    "\t\tfor index=1:size(gatesToApply,1)\n",
    "\t\t\t#println(\"Going to apply \",gates[gatesToApply[index]])\n",
    "\t\t\teval(gates[gatesToApply[index]])\n",
    "\t\tend\n",
    "\t\tstate = getState(svec)\n",
    "\tend\n",
    "\n",
    "\tif (state == 11)\n",
    "\t\t#println(\"Found it after (only) $count permuations\")\n",
    "\t\t#println(\"Gates applied\")\n",
    "\t\treverse!(gatesToApply)\n",
    "\t\t#for i = 1:size(gatesToApply,1)\n",
    "\t\t\t#println(gates[gatesToApply[i]])\n",
    "\t\t#end\n",
    "\telse\n",
    "\t\tprintln(\"Didn't find it!\")\n",
    "\tend\n",
    "\treturn gatesToApply\n",
    "end\n"
   ]
  },
  {
   "cell_type": "code",
   "execution_count": null,
   "metadata": {
    "collapsed": false
   },
   "outputs": [],
   "source": [
    "#watch out This is long! (cup of tea/movies/lazy weekend long)\n",
    "allGatesNeeded=Array{Int32,1}[]\n",
    "for i=1:60\n",
    "    for j=1:4\n",
    "        for z=1:4\n",
    "            state=setup(2)\n",
    "            state[:,1:4]=stabs[i]\n",
    "            #Apply the PAULIS!\n",
    "            if (j==2) #X\n",
    "                hadamard!(1,false)\n",
    "                phase!(1,false)\n",
    "                phase!(1,false)\n",
    "                hadamard!(1,false)\n",
    "            elseif (j==3)#Z\n",
    "                phase!(1,false)\n",
    "                phase!(1,false)\n",
    "            elseif (j==4)#Y\n",
    "                phase!(1,false)\n",
    "                phase!(1,false)\n",
    "                hadamard!(1,false)\n",
    "                phase!(1,false)\n",
    "                phase!(1,false)\n",
    "                hadamard!(1,false)\n",
    "            end\n",
    "            if (z==2)\n",
    "                hadamard!(2,false)\n",
    "                phase!(2,false)\n",
    "                phase!(2,false)\n",
    "                hadamard!(2,false)\n",
    "            elseif (z==3)\n",
    "                phase!(2,false)\n",
    "                phase!(2,false)\n",
    "            elseif (z==4)\n",
    "                phase!(2,false)\n",
    "                phase!(2,false)\n",
    "                hadamard!(2,false)\n",
    "                phase!(2,false)\n",
    "                phase!(2,false)\n",
    "                hadamard!(2,false)\n",
    "            end\n",
    "            back=bruteForceBreadthFirst(state)\n",
    "            push!(allGatesNeeded,back)\n",
    "            writedlm(\"fullGateList$((i-1)*16+(j-1)*4+z).csv\",back)\n",
    "           next!(p)\n",
    "        end\n",
    "    end\n",
    "end \n",
    "    "
   ]
  },
  {
   "cell_type": "code",
   "execution_count": 176,
   "metadata": {
    "collapsed": false
   },
   "outputs": [
    {
     "data": {
      "text/plain": [
       "2-element Array{Int32,1}:\n",
       " 2\n",
       " 5"
      ]
     },
     "execution_count": 176,
     "metadata": {},
     "output_type": "execute_result"
    }
   ],
   "source": [
    "allGatesNeeded[1]"
   ]
  },
  {
   "cell_type": "code",
   "execution_count": null,
   "metadata": {
    "collapsed": true
   },
   "outputs": [],
   "source": []
  }
 ],
 "metadata": {
  "kernelspec": {
   "display_name": "Julia 0.3.9",
   "language": "julia",
   "name": "julia-0.3"
  },
  "language_info": {
   "name": "julia",
   "version": "0.3.9"
  }
 },
 "nbformat": 4,
 "nbformat_minor": 0
}
