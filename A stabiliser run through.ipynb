{
 "cells": [
  {
   "cell_type": "markdown",
   "metadata": {
    "collapsed": false
   },
   "source": [
    "# Make sure you are in the correct directory, the load these two"
   ]
  },
  {
   "cell_type": "code",
   "execution_count": 46,
   "metadata": {
    "collapsed": false
   },
   "outputs": [],
   "source": [
    "reload(\"Initial.jl\")\n",
    "reload(\"Symplectic.jl\")"
   ]
  },
  {
   "cell_type": "markdown",
   "metadata": {},
   "source": [
    "The easiest way to get a stabilised state is to use the symplectic command\n",
    "This is a one-one mapping between the integers and the cliffords\n",
    "For each 'symplectic' there the X, and Z maps can be +1 or -1 which means\n",
    "There are an additional 2^d*2^d cliffords 'per' symplectic\n",
    "\n",
    "- So symplectic(62345,7) gives you the mapping for 7 qubit, symplectic 62345\n",
    "- then stabiliseSymp(X,28), gives you the stabilised version of X, with the bit pattern X\n",
    "- maybe easiest to see in the one qubit system.\n",
    "- here remember there are 24 cliffords, being 6 * (2*2)\n"
   ]
  },
  {
   "cell_type": "code",
   "execution_count": 47,
   "metadata": {
    "collapsed": false
   },
   "outputs": [
    {
     "data": {
      "text/plain": [
       "2x2 Array{Int64,2}:\n",
       " 0  1\n",
       " 1  0"
      ]
     },
     "execution_count": 47,
     "metadata": {},
     "output_type": "execute_result"
    }
   ],
   "source": [
    "symp=symplectic(1,1) # get the first symplectic of a 1 qubit system."
   ]
  },
  {
   "cell_type": "code",
   "execution_count": 48,
   "metadata": {
    "collapsed": false
   },
   "outputs": [
    {
     "name": "stdout",
     "output_type": "stream",
     "text": [
      "+Z\n",
      "--\n",
      "+X\n"
     ]
    }
   ],
   "source": [
    "output(stabiliseSymp(symp,0)) # stabilise it with the bit string 0 (i.e. +X, +Z)"
   ]
  },
  {
   "cell_type": "code",
   "execution_count": 49,
   "metadata": {
    "collapsed": false
   },
   "outputs": [
    {
     "name": "stdout",
     "output_type": "stream",
     "text": [
      "-Z\n",
      "--\n",
      "+X\n"
     ]
    }
   ],
   "source": [
    "output(stabiliseSymp(symp,1)) # stabilise it with the bit string 1"
   ]
  },
  {
   "cell_type": "code",
   "execution_count": 50,
   "metadata": {
    "collapsed": false
   },
   "outputs": [
    {
     "name": "stdout",
     "output_type": "stream",
     "text": [
      "+Z\n",
      "--\n",
      "-X\n",
      "==========\n",
      "-Z\n",
      "--\n",
      "-X\n"
     ]
    }
   ],
   "source": [
    "output(stabiliseSymp(symp,2)) # and so on\n",
    "print(\"==========\\n\")\n",
    "output(stabiliseSymp(symp,3)) "
   ]
  },
  {
   "cell_type": "markdown",
   "metadata": {},
   "source": [
    "Note that it wraps"
   ]
  },
  {
   "cell_type": "code",
   "execution_count": 51,
   "metadata": {
    "collapsed": false
   },
   "outputs": [
    {
     "name": "stdout",
     "output_type": "stream",
     "text": [
      "\n",
      "==========\n",
      "[0 1\n",
      " 1 0]\n",
      "==========\n",
      "[1 1\n",
      " 1 0]\n",
      "==========\n",
      "[1 0\n",
      " 1 1]\n",
      "==========\n",
      "[0 1\n",
      " 1 1]\n",
      "==========\n",
      "[1 1\n",
      " 0 1]\n",
      "==========\n",
      "[1 0\n",
      " 0 1]\n",
      "==========\n",
      "[0 1\n",
      " 1 0]"
     ]
    }
   ],
   "source": [
    "for i in 1:7\n",
    "    print(\"\\n==========\\n\")\n",
    "    print(symplectic(i,1))\n",
    "end"
   ]
  },
  {
   "cell_type": "markdown",
   "metadata": {},
   "source": [
    "##Lets do something more fun, move up to 7 qubits"
   ]
  },
  {
   "cell_type": "code",
   "execution_count": 52,
   "metadata": {
    "collapsed": false
   },
   "outputs": [
    {
     "data": {
      "text/plain": [
       "14x15 Array{Int32,2}:\n",
       " 1  1  0  0  1  0  1  0  1  0  1  1  0  1  1\n",
       " 1  0  0  0  1  0  1  0  0  0  1  1  0  1  1\n",
       " 0  0  1  0  0  0  0  0  0  0  0  0  0  0  1\n",
       " 0  1  0  1  1  0  1  1  1  0  1  1  0  1  0\n",
       " 0  1  0  0  0  0  1  1  1  0  1  1  0  1  0\n",
       " 0  0  0  0  0  1  0  0  0  0  0  0  0  0  1\n",
       " 0  1  0  0  1  0  0  1  1  0  1  1  0  1  1\n",
       " 0  1  0  0  1  0  1  0  0  0  1  1  0  1  1\n",
       " 0  1  0  0  1  0  1  1  0  0  1  1  0  1  1\n",
       " 0  0  0  0  0  0  0  0  0  1  0  0  0  0  0\n",
       " 0  0  0  0  0  0  0  0  0  0  1  0  0  0  0\n",
       " 0  1  0  0  1  0  1  1  1  0  1  0  0  1  1\n",
       " 0  0  0  0  0  0  0  0  0  0  0  0  1  0  1\n",
       " 0  1  0  0  1  0  1  1  1  0  1  1  0  0  1"
      ]
     },
     "execution_count": 52,
     "metadata": {},
     "output_type": "execute_result"
    }
   ],
   "source": [
    "state=stabiliseSymp(symplectic(62345,7),231) \n"
   ]
  },
  {
   "cell_type": "markdown",
   "metadata": {},
   "source": [
    "##The raw state isnt very readable , output splits it into stabilizers (bottom) and anti-stabilisers (top)"
   ]
  },
  {
   "cell_type": "code",
   "execution_count": 53,
   "metadata": {
    "collapsed": false
   },
   "outputs": [
    {
     "name": "stdout",
     "output_type": "stream",
     "text": [
      "-XYIZYIY\n",
      "-XIIZYIY\n",
      "-IIXIIII\n",
      "+ZYIYYIY\n",
      "+ZYIZZIY\n",
      "-IIIIIXI\n",
      "-ZYIZYIZ\n",
      "--------\n",
      "-IXIZYIY\n",
      "-ZXIZYIY\n",
      "+IIZIIII\n",
      "+IIIZIII\n",
      "-ZYIZXIY\n",
      "-IIIIIZI\n",
      "-ZYIZYIX\n"
     ]
    }
   ],
   "source": [
    "output(state)"
   ]
  },
  {
   "cell_type": "markdown",
   "metadata": {},
   "source": [
    "## We can decompose it into one/two qubit component gates"
   ]
  },
  {
   "cell_type": "code",
   "execution_count": 54,
   "metadata": {
    "collapsed": false
   },
   "outputs": [
    {
     "name": "stdout",
     "output_type": "stream",
     "text": [
      "Tableau for unitary: \n",
      "-XYIZYIY\n",
      "-XIIZYIY\n",
      "-IIXIIII\n",
      "+ZYIYYIY\n",
      "+ZYIZZIY\n",
      "-IIIIIXI\n",
      "-ZYIZYIZ\n",
      "--------\n",
      "-IXIZYIY\n",
      "-ZXIZYIY\n",
      "+IIZIIII\n",
      "+IIIZIII\n",
      "-ZYIZXIY\n",
      "-IIIIIZI\n",
      "-ZYIZYIX\n",
      "setup(7)\n",
      "cnot(7,5)\n",
      "cnot(7,4)\n",
      "cnot(7,2)\n",
      "cnot(2,1)\n",
      "phase(5)\n",
      "phase(5)\n",
      "phase(7)\n",
      "phase(6)\n",
      "phase(5)\n",
      "phase(4)\n",
      "phase(3)\n",
      "phase(2)\n",
      "phase(1)\n",
      "cnot(7,5)\n",
      "cnot(7,4)\n",
      "cnot(7,2)\n",
      "phase(2)\n",
      "cnot(7,1)\n",
      "cnot(2,1)\n",
      "phase(7)\n",
      "phase(6)\n",
      "phase(5)\n",
      "phase(4)\n",
      "phase(3)\n",
      "phase(2)\n",
      "hadamard(7)\n",
      "hadamard(6)\n",
      "hadamard(5)\n",
      "hadamard(4)\n",
      "hadamard(2)\n",
      "hadamard(1)\n",
      "cnot(7,5)\n",
      "cnot(7,2)\n",
      "cnot(7,1)\n",
      "phase(6)\n",
      "phase(5)\n",
      "phase(2)\n",
      "phase(1)\n",
      "cnot(7,5)\n",
      "cnot(7,2)\n",
      "cnot(7,1)\n",
      "phase(7)\n",
      "phase(6)\n",
      "phase(5)\n",
      "phase(2)\n",
      "phase(1)\n",
      "cnot(7,5)\n",
      "cnot(7,4)\n",
      "cnot(7,1)\n",
      "cnot(5,4)\n",
      "cnot(5,1)\n",
      "cnot(4,7)\n",
      "cnot(4,5)\n",
      "cnot(4,1)\n",
      "cnot(5,4)\n",
      "cnot(2,7)\n",
      "cnot(2,5)\n",
      "cnot(2,4)\n",
      "cnot(4,2)\n",
      "cnot(1,7)\n",
      "cnot(1,5)\n",
      "cnot(1,4)\n",
      "cnot(4,1)\n",
      "hadamard(6)\n",
      "hadamard(5)\n",
      "hadamard(4)\n",
      "hadamard(2)\n",
      "hadamard(1)\n",
      "output(svec)\n"
     ]
    }
   ],
   "source": [
    "decomposeState(state)"
   ]
  },
  {
   "cell_type": "code",
   "execution_count": 55,
   "metadata": {
    "collapsed": false
   },
   "outputs": [
    {
     "name": "stdout",
     "output_type": "stream",
     "text": [
      "Tableau for unitary: \n",
      "+XYIZYIY\n",
      "+XIIZYIY\n",
      "-IIXIIII\n",
      "+ZYIYYIY\n",
      "-ZYIZZIY\n",
      "+IIIIIXI\n",
      "-ZYIZYIZ\n",
      "--------\n",
      "+IXIZYIY\n",
      "-ZXIZYIY\n",
      "+IIZIIII\n",
      "-IIIZIII\n",
      "+ZYIZXIY\n",
      "-IIIIIZI\n",
      "-ZYIZYIX\n",
      "setup(7)\n",
      "cnot(7,5)\n",
      "cnot(7,4)\n",
      "cnot(7,2)\n",
      "cnot(2,1)\n",
      "phase(6)\n",
      "phase(6)\n",
      "phase(7)\n",
      "phase(6)\n",
      "phase(5)\n",
      "phase(4)\n",
      "phase(3)\n",
      "phase(2)\n",
      "phase(1)\n",
      "cnot(7,5)\n",
      "cnot(7,4)\n",
      "cnot(7,2)\n",
      "phase(2)\n",
      "cnot(7,1)\n",
      "cnot(2,1)\n",
      "phase(7)\n",
      "phase(6)\n",
      "phase(5)\n",
      "phase(4)\n",
      "phase(3)\n",
      "phase(2)\n",
      "hadamard(7)\n",
      "hadamard(6)\n",
      "hadamard(5)\n",
      "hadamard(4)\n",
      "hadamard(3)\n",
      "hadamard(2)\n",
      "hadamard(1)\n",
      "cnot(7,5)\n",
      "cnot(7,2)\n",
      "cnot(7,1)\n",
      "phase(7)\n",
      "phase(7)\n",
      "phase(5)\n",
      "phase(5)\n",
      "phase(3)\n",
      "phase(3)\n",
      "phase(1)\n",
      "phase(1)\n",
      "phase(7)\n",
      "phase(6)\n",
      "phase(5)\n",
      "phase(4)\n",
      "phase(3)\n",
      "phase(2)\n",
      "phase(1)\n",
      "phase(7)\n",
      "cnot(7,5)\n",
      "cnot(7,2)\n",
      "cnot(7,1)\n",
      "phase(7)\n",
      "phase(6)\n",
      "phase(5)\n",
      "phase(4)\n",
      "phase(3)\n",
      "phase(2)\n",
      "phase(1)\n",
      "cnot(7,5)\n",
      "cnot(7,4)\n",
      "cnot(7,1)\n",
      "cnot(5,4)\n",
      "cnot(5,1)\n",
      "cnot(4,7)\n",
      "cnot(4,5)\n",
      "cnot(4,1)\n",
      "cnot(5,4)\n",
      "cnot(2,7)\n",
      "cnot(2,5)\n",
      "cnot(2,4)\n",
      "cnot(4,2)\n",
      "cnot(1,7)\n",
      "cnot(1,5)\n",
      "cnot(1,4)\n",
      "cnot(4,1)\n",
      "hadamard(6)\n",
      "hadamard(5)\n",
      "hadamard(4)\n",
      "hadamard(3)\n",
      "hadamard(2)\n",
      "hadamard(1)\n",
      "output(svec)\n"
     ]
    }
   ],
   "source": [
    "decompose(62345,212,7,false,false) # This is the same thing, just all combined"
   ]
  },
  {
   "cell_type": "code",
   "execution_count": 56,
   "metadata": {
    "collapsed": false
   },
   "outputs": [
    {
     "name": "stderr",
     "output_type": "stream",
     "text": [
      "WARNING: OSX reader: indexed color images not implemented\n"
     ]
    },
    {
     "data": {
      "image/png": "[encoded data removed]",
      "text/plain": [
       "Gray Image with:\n",
       "  data: 3176x846 Array{Gray{UfixedBase{Uint8,8}},2}\n",
       "  properties:\n",
       "    IMcs: Gray\n",
       "    spatialorder:  x y\n",
       "    pixelspacing:  1 1"
      ]
     },
     "execution_count": 56,
     "metadata": {},
     "output_type": "execute_result"
    }
   ],
   "source": [
    "drawCircuit() # lets see what that looks like"
   ]
  },
  {
   "cell_type": "code",
   "execution_count": 57,
   "metadata": {
    "collapsed": false
   },
   "outputs": [
    {
     "data": {
      "text/plain": [
       "86-element Array{ASCIIString,1}:\n",
       " \"setup(7)\"    \n",
       " \"cnot(7,5)\"   \n",
       " \"cnot(7,4)\"   \n",
       " \"cnot(7,2)\"   \n",
       " \"cnot(2,1)\"   \n",
       " \"phase(6)\"    \n",
       " \"phase(6)\"    \n",
       " \"phase(7)\"    \n",
       " \"phase(6)\"    \n",
       " \"phase(5)\"    \n",
       " \"phase(4)\"    \n",
       " \"phase(3)\"    \n",
       " \"phase(2)\"    \n",
       " ⋮             \n",
       " \"cnot(4,2)\"   \n",
       " \"cnot(1,7)\"   \n",
       " \"cnot(1,5)\"   \n",
       " \"cnot(1,4)\"   \n",
       " \"cnot(4,1)\"   \n",
       " \"hadamard(6)\" \n",
       " \"hadamard(5)\" \n",
       " \"hadamard(4)\" \n",
       " \"hadamard(3)\" \n",
       " \"hadamard(2)\" \n",
       " \"hadamard(1)\" \n",
       " \"output(svec)\""
      ]
     },
     "execution_count": 57,
     "metadata": {},
     "output_type": "execute_result"
    }
   ],
   "source": [
    "commands # This is the global containing the gates that make it up\n"
   ]
  },
  {
   "cell_type": "markdown",
   "metadata": {
    "collapsed": false
   },
   "source": [
    "## Note the redundant gates (i.e. 4 phases on the same qubit in a row)"
   ]
  },
  {
   "cell_type": "code",
   "execution_count": 58,
   "metadata": {
    "collapsed": false
   },
   "outputs": [
    {
     "name": "stdout",
     "output_type": "stream",
     "text": [
      "Tableau for unitary: \n",
      "+XYIZYIY\n",
      "+XIIZYIY\n",
      "-IIXIIII\n",
      "+ZYIYYIY\n",
      "-ZYIZZIY\n",
      "+IIIIIXI\n",
      "-ZYIZYIZ\n",
      "--------\n",
      "+IXIZYIY\n",
      "-ZXIZYIY\n",
      "+IIZIIII\n",
      "-IIIZIII\n",
      "+ZYIZXIY\n",
      "-IIIIIZI\n",
      "-ZYIZYIX\n",
      "setup(7)\n",
      "cnot(7,5)\n",
      "cnot(7,4)\n",
      "cnot(7,2)\n",
      "cnot(2,1)\n",
      "phase(7)\n",
      "phase(5)\n",
      "phase(4)\n",
      "phase(3)\n",
      "phase(2)\n",
      "phase(1)\n",
      "cnot(7,5)\n",
      "cnot(7,4)\n",
      "cnot(7,2)\n",
      "phase(2)\n",
      "cnot(7,1)\n",
      "cnot(2,1)\n",
      "phase(7)\n",
      "phase(5)\n",
      "phase(4)\n",
      "phase(3)\n",
      "phase(2)\n",
      "hadamard(7)\n",
      "hadamard(6)\n",
      "hadamard(5)\n",
      "hadamard(4)\n",
      "hadamard(2)\n",
      "hadamard(1)\n",
      "cnot(7,5)\n",
      "cnot(7,2)\n",
      "cnot(7,1)\n",
      "phase(5)\n",
      "phase(5)\n",
      "phase(1)\n",
      "phase(1)\n",
      "phase(6)\n",
      "phase(5)\n",
      "phase(4)\n",
      "phase(2)\n",
      "phase(1)\n",
      "cnot(7,5)\n",
      "cnot(7,2)\n",
      "cnot(7,1)\n",
      "phase(7)\n",
      "phase(6)\n",
      "phase(5)\n",
      "phase(4)\n",
      "phase(2)\n",
      "phase(1)\n",
      "cnot(7,5)\n",
      "cnot(7,4)\n",
      "cnot(7,1)\n",
      "cnot(5,4)\n",
      "cnot(5,1)\n",
      "cnot(4,7)\n",
      "cnot(4,5)\n",
      "cnot(4,1)\n",
      "cnot(5,4)\n",
      "cnot(2,7)\n",
      "cnot(2,5)\n",
      "cnot(2,4)\n",
      "cnot(4,2)\n",
      "cnot(1,7)\n",
      "cnot(1,5)\n",
      "cnot(1,4)\n",
      "cnot(4,1)\n",
      "hadamard(6)\n",
      "hadamard(5)\n",
      "hadamard(4)\n",
      "hadamard(2)\n",
      "hadamard(1)\n",
      "output(svec)\n"
     ]
    }
   ],
   "source": [
    "decompose(62345,212,7) # Without the second false, we will try and rationalise a bit"
   ]
  },
  {
   "cell_type": "code",
   "execution_count": 59,
   "metadata": {
    "collapsed": false
   },
   "outputs": [
    {
     "name": "stderr",
     "output_type": "stream",
     "text": [
      "WARNING: OSX reader: indexed color images not implemented\n"
     ]
    },
    {
     "data": {
      "image/png": "[encoded data removed]",
      "text/plain": [
       "Gray Image with:\n",
       "  data: 3176x846 Array{Gray{UfixedBase{Uint8,8}},2}\n",
       "  properties:\n",
       "    IMcs: Gray\n",
       "    spatialorder:  x y\n",
       "    pixelspacing:  1 1"
      ]
     },
     "execution_count": 59,
     "metadata": {},
     "output_type": "execute_result"
    }
   ],
   "source": [
    "drawCircuit() # a little bit shorter"
   ]
  },
  {
   "cell_type": "code",
   "execution_count": null,
   "metadata": {
    "collapsed": false
   },
   "outputs": [],
   "source": []
  }
 ],
 "metadata": {
  "kernelspec": {
   "display_name": "Julia 0.3.5",
   "language": "julia",
   "name": "julia 0.3"
  },
  "language_info": {
   "name": "julia",
   "version": "0.3.5"
  }
 },
 "nbformat": 4,
 "nbformat_minor": 0
}
