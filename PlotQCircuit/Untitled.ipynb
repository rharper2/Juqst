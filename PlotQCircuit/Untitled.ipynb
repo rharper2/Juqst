{
 "cells": [
  {
   "cell_type": "code",
   "execution_count": 1,
   "metadata": {},
   "outputs": [],
   "source": [
    "using PyCall"
   ]
  },
  {
   "cell_type": "code",
   "execution_count": 2,
   "metadata": {},
   "outputs": [],
   "source": [
    "using PyPlot"
   ]
  },
  {
   "cell_type": "code",
   "execution_count": 3,
   "metadata": {},
   "outputs": [
    {
     "data": {
      "text/plain": [
       "\"/Users/robin/Dropbox (Sydney Uni)/Juqst/PlotQCircuit\""
      ]
     },
     "execution_count": 3,
     "metadata": {},
     "output_type": "execute_result"
    }
   ],
   "source": [
    "pwd()"
   ]
  },
  {
   "cell_type": "code",
   "execution_count": 4,
   "metadata": {},
   "outputs": [
    {
     "data": {
      "text/plain": [
       "PyObject ['./', '/Users/robin/.julia/v0.6/Conda/deps/usr/lib/python27.zip', '/Users/robin/.julia/v0.6/Conda/deps/usr/lib/python2.7', '/Users/robin/.julia/v0.6/Conda/deps/usr/lib/python2.7/plat-darwin', '/Users/robin/.julia/v0.6/Conda/deps/usr/lib/python2.7/plat-mac', '/Users/robin/.julia/v0.6/Conda/deps/usr/lib/python2.7/plat-mac/lib-scriptpackages', '/Users/robin/.julia/v0.6/Conda/deps/usr/lib/python2.7/lib-tk', '/Users/robin/.julia/v0.6/Conda/deps/usr/lib/python2.7/lib-old', '/Users/robin/.julia/v0.6/Conda/deps/usr/lib/python2.7/lib-dynload', '/Users/robin/.julia/v0.6/Conda/deps/usr/lib/python2.7/site-packages', '/Users/robin/.julia/v0.6/Conda/deps/usr/lib/python2.7/site-packages/setuptools-27.2.0-py2.7.egg']"
      ]
     },
     "execution_count": 4,
     "metadata": {},
     "output_type": "execute_result"
    }
   ],
   "source": [
    "unshift!(PyVector(pyimport(\"sys\")[\"path\"]), \"./\")"
   ]
  },
  {
   "cell_type": "code",
   "execution_count": 5,
   "metadata": {},
   "outputs": [],
   "source": [
    "unshift!(PyVector(pyimport(\"sys\")[\"path\"]), \"./\")\n",
    "@pyimport plot_quantum_circuit as pqc\n",
    "pqc.plot_quantum_circuit([(\"Z_π/2\",\"q0\"),(\"H\",\"q1\"),(\"H\",\"q1\"),(\"CNOT\",\"q1\",\"q0\")])\n",
    "#@pyimport matplotlib"
   ]
  },
  {
   "cell_type": "code",
   "execution_count": 8,
   "metadata": {},
   "outputs": [
    {
     "data": {
      "image/png": "[encoded data removed]",
      "text/plain": [
       "PyPlot.Figure(PyObject <matplotlib.figure.Figure object at 0x131676750>)"
      ]
     },
     "metadata": {},
     "output_type": "display_data"
    },
    {
     "data": {
      "text/plain": [
       "PyObject <matplotlib.axes._subplots.AxesSubplot object at 0x131673e10>"
      ]
     },
     "execution_count": 8,
     "metadata": {},
     "output_type": "execute_result"
    }
   ],
   "source": [
    "pqc.plot_quantum_circuit([(\"Z_π/2\",\"q0\"),(\"H\",\"q1\"),(\"H\",\"q1\"),(\"CNOT\",\"q1\",\"q0\")])"
   ]
  },
  {
   "cell_type": "code",
   "execution_count": null,
   "metadata": {},
   "outputs": [],
   "source": []
  }
 ],
 "metadata": {
  "kernelspec": {
   "display_name": "Julia 0.6.0",
   "language": "julia",
   "name": "julia-0.6"
  },
  "language_info": {
   "file_extension": ".jl",
   "mimetype": "application/julia",
   "name": "julia",
   "version": "0.6.0"
  }
 },
 "nbformat": 4,
 "nbformat_minor": 2
}
