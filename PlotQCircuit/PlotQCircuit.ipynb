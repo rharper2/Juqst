{
 "cells": [
  {
   "cell_type": "markdown",
   "metadata": {},
   "source": [
    "# Simplified Plotting Routines for Quantum Circuits\n",
    "Rick Muller\n",
    "\n",
    "This program takes some of the circuit tricks that Brian Granger, Aaron Meurer and Ondrej Certik first developed in Sympy and [I subsequently updated](http://nbviewer.jupyter.org/gist/rpmuller/5843312).\n",
    "\n",
    "I pulled out all of the code into a set of standalone python functions because I wanted to:\n",
    "* have fewer dependencies for people to install;\n",
    "* make a simpler code base to experiment with;\n",
    "* separate the quantum circuit from the plotter from the simulator;\n",
    "* experiment with scheduling quantum operations rather than plotting one gate in each time step.\n",
    "\n",
    "There are lots of other tools you can do for circuit plotting.\n",
    "* [Qasm2circ](https://www.media.mit.edu/quanta/qasm2circ/)\n",
    "* [Q-circuit](http://physics.unm.edu/CQuIC/Qcircuit/)\n",
    "* The aforementioned [Sympy circuit plotter](http://nbviewer.jupyter.org/gist/rpmuller/5843312)\n",
    "and probably many more that I haven't used."
   ]
  },
  {
   "cell_type": "code",
   "execution_count": 5,
   "metadata": {},
   "outputs": [],
   "source": [
    "%matplotlib inline\n",
    "import matplotlib\n",
    "import numpy as np"
   ]
  },
  {
   "cell_type": "code",
   "execution_count": null,
   "metadata": {},
   "outputs": [],
   "source": []
  },
  {
   "cell_type": "code",
   "execution_count": null,
   "metadata": {},
   "outputs": [],
   "source": []
  },
  {
   "cell_type": "code",
   "execution_count": null,
   "metadata": {},
   "outputs": [],
   "source": []
  },
  {
   "cell_type": "code",
   "execution_count": 6,
   "metadata": {},
   "outputs": [],
   "source": [
    "def plot_quantum_circuit(gates,inits={},labels=[],plot_labels=True,**kwargs):\n",
    "    \"\"\"Use Matplotlib to plot a quantum circuit.\n",
    "    gates     List of tuples for each gate in the quantum circuit.\n",
    "              (name,target,control1,control2...). Targets and controls initially\n",
    "              defined in terms of labels. \n",
    "    inits     Initialization list of gates, optional\n",
    "    \n",
    "    kwargs    Can override plot_parameters\n",
    "    \"\"\"\n",
    "    plot_params = dict(scale = 1.0,fontsize = 14.0, linewidth = 1.0, \n",
    "                         control_radius = 0.05, not_radius = 0.15, \n",
    "                         swap_delta = 0.08, label_buffer = 0.0)\n",
    "    plot_params.update(kwargs)\n",
    "    scale = plot_params['scale']\n",
    "    \n",
    "    # Create labels from gates. This will become slow if there are a lot \n",
    "    #  of gates, in which case move to an ordered dictionary\n",
    "    if not labels:\n",
    "        labels = []\n",
    "        for i,gate in enumerate_gates(gates):\n",
    "            for label in gate[1:]:\n",
    "                if label not in labels:\n",
    "                    labels.append(label)\n",
    "    \n",
    "    nq = len(labels)\n",
    "    ng = len(gates)\n",
    "    wire_grid = np.arange(0.0, nq*scale, scale, dtype=float)\n",
    "    gate_grid = np.arange(0.0, ng*scale, scale, dtype=float)\n",
    "    \n",
    "    fig,ax = setup_figure(nq,ng,gate_grid,wire_grid,plot_params)\n",
    "\n",
    "    measured = measured_wires(gates,labels)\n",
    "    draw_wires(ax,nq,gate_grid,wire_grid,plot_params,measured)\n",
    "    \n",
    "    if plot_labels: \n",
    "        draw_labels(ax,labels,inits,gate_grid,wire_grid,plot_params)\n",
    "\n",
    "    draw_gates(ax,gates,labels,gate_grid,wire_grid,plot_params,measured)\n",
    "    return ax\n",
    "\n",
    "def enumerate_gates(l,schedule=False):\n",
    "    \"Enumerate the gates in a way that can take l as either a list of gates or a schedule\"\n",
    "    if schedule:\n",
    "        for i,gates in enumerate(l):\n",
    "            for gate in gates:\n",
    "                yield i,gate\n",
    "    else:\n",
    "        for i,gate in enumerate(l):\n",
    "            yield i,gate\n",
    "    return\n",
    "\n",
    "def measured_wires(l,labels,schedule=False):\n",
    "    \"measured[i] = j means wire i is measured at step j\"\n",
    "    measured = {}\n",
    "    for i,gate in enumerate_gates(l,schedule=schedule):\n",
    "        name,target = gate[:2]\n",
    "        j = get_flipped_index(target,labels)\n",
    "        if name.startswith('M'):\n",
    "            measured[j] = i\n",
    "    return measured\n",
    "\n",
    "def draw_gates(ax,l,labels,gate_grid,wire_grid,plot_params,measured={},schedule=False):\n",
    "    for i,gate in enumerate_gates(l,schedule=schedule):\n",
    "        draw_target(ax,i,gate,labels,gate_grid,wire_grid,plot_params)\n",
    "        if len(gate) > 2: # Controlled\n",
    "            draw_controls(ax,i,gate,labels,gate_grid,wire_grid,plot_params,measured)\n",
    "    return\n",
    "\n",
    "def draw_controls(ax,i,gate,labels,gate_grid,wire_grid,plot_params,measured={}):\n",
    "    linewidth = plot_params['linewidth']\n",
    "    scale = plot_params['scale']\n",
    "    control_radius = plot_params['control_radius']\n",
    "    \n",
    "    name,target = gate[:2]\n",
    "    target_index = get_flipped_index(target,labels)\n",
    "    controls = gate[2:]\n",
    "    control_indices = get_flipped_indices(controls,labels)\n",
    "    gate_indices = control_indices + [target_index]\n",
    "    min_wire = min(gate_indices)\n",
    "    max_wire = max(gate_indices)\n",
    "    line(ax,gate_grid[i],gate_grid[i],wire_grid[min_wire],wire_grid[max_wire],plot_params)\n",
    "    ismeasured = False\n",
    "    for index in control_indices:\n",
    "        if measured.get(index,1000) < i: \n",
    "            ismeasured = True\n",
    "    if ismeasured:\n",
    "        dy = 0.04 # TODO: put in plot_params\n",
    "        line(ax,gate_grid[i]+dy,gate_grid[i]+dy,wire_grid[min_wire],wire_grid[max_wire],plot_params)\n",
    "        \n",
    "    for ci in control_indices:\n",
    "        x = gate_grid[i]\n",
    "        y = wire_grid[ci]\n",
    "        if name in ['SWAP']:\n",
    "            swapx(ax,x,y,plot_params)\n",
    "        else:\n",
    "            cdot(ax,x,y,plot_params)\n",
    "    return\n",
    "\n",
    "def draw_target(ax,i,gate,labels,gate_grid,wire_grid,plot_params):\n",
    "    target_symbols = dict(CNOT='X',CPHASE='Z',NOP='',CX='X',CZ='Z')\n",
    "    name,target = gate[:2]\n",
    "    symbol = target_symbols.get(name,name) # override name with target_symbols\n",
    "    x = gate_grid[i]\n",
    "    target_index = get_flipped_index(target,labels)\n",
    "    y = wire_grid[target_index]\n",
    "    if not symbol: return\n",
    "    if name in ['CNOT','TOFFOLI']:\n",
    "        oplus(ax,x,y,plot_params)\n",
    "    elif name in ['CPHASE']:\n",
    "        cdot(ax,x,y,plot_params)\n",
    "    elif name in ['SWAP']:\n",
    "        swapx(ax,x,y,plot_params)\n",
    "    else:\n",
    "        text(ax,x,y,symbol,plot_params,box=True)\n",
    "    return\n",
    "\n",
    "def line(ax,x1,x2,y1,y2,plot_params):\n",
    "    Line2D = matplotlib.lines.Line2D\n",
    "    line = Line2D((x1,x2), (y1,y2),\n",
    "        color='k',lw=plot_params['linewidth'])\n",
    "    ax.add_line(line)\n",
    "\n",
    "def text(ax,x,y,textstr,plot_params,box=False):\n",
    "    linewidth = plot_params['linewidth']\n",
    "    fontsize = plot_params['fontsize']\n",
    "    if box:\n",
    "        bbox = dict(ec='k',fc='w',fill=True,lw=linewidth)\n",
    "    else:\n",
    "        bbox=False\n",
    "    ax.text(x,y,textstr,color='k',ha='center',va='center',bbox=bbox,size=fontsize)\n",
    "    return\n",
    "\n",
    "def oplus(ax,x,y,plot_params):\n",
    "    Line2D = matplotlib.lines.Line2D\n",
    "    Circle = matplotlib.patches.Circle\n",
    "    not_radius = plot_params['not_radius']\n",
    "    linewidth = plot_params['linewidth']\n",
    "    c = Circle((x, y),not_radius,ec='k',\n",
    "               fc='w',fill=False,lw=linewidth)\n",
    "    ax.add_patch(c)\n",
    "    line(ax,x,x,y-not_radius,y+not_radius,plot_params)\n",
    "    return\n",
    "\n",
    "def cdot(ax,x,y,plot_params):\n",
    "    Circle = matplotlib.patches.Circle\n",
    "    control_radius = plot_params['control_radius']\n",
    "    scale = plot_params['scale']\n",
    "    linewidth = plot_params['linewidth']\n",
    "    c = Circle((x, y),control_radius*scale,\n",
    "        ec='k',fc='k',fill=True,lw=linewidth)\n",
    "    ax.add_patch(c)\n",
    "    return\n",
    "\n",
    "def swapx(ax,x,y,plot_params):\n",
    "    d = plot_params['swap_delta']\n",
    "    linewidth = plot_params['linewidth']\n",
    "    line(ax,x-d,x+d,y-d,y+d,plot_params)\n",
    "    line(ax,x-d,x+d,y+d,y-d,plot_params)\n",
    "    return\n",
    "\n",
    "def setup_figure(nq,ng,gate_grid,wire_grid,plot_params):\n",
    "    scale = plot_params['scale']\n",
    "    fig = matplotlib.pyplot.figure(\n",
    "        figsize=(ng*scale, nq*scale),\n",
    "        facecolor='w',\n",
    "        edgecolor='w'\n",
    "    )\n",
    "    ax = fig.add_subplot(1, 1, 1,frameon=True)\n",
    "    ax.set_axis_off()\n",
    "    offset = 0.5*scale\n",
    "    ax.set_xlim(gate_grid[0] - offset, gate_grid[-1] + offset)\n",
    "    ax.set_ylim(wire_grid[0] - offset, wire_grid[-1] + offset)\n",
    "    ax.set_aspect('equal')\n",
    "    return fig,ax\n",
    "\n",
    "def draw_wires(ax,nq,gate_grid,wire_grid,plot_params,measured={}):\n",
    "    scale = plot_params['scale']\n",
    "    linewidth = plot_params['linewidth']\n",
    "    xdata = (gate_grid[0] - scale, gate_grid[-1] + scale)\n",
    "    for i in range(nq):\n",
    "        line(ax,gate_grid[0]-scale,gate_grid[-1]+scale,wire_grid[i],wire_grid[i],plot_params)\n",
    "        \n",
    "    # Add the doubling for measured wires:\n",
    "    dy=0.04 # TODO: add to plot_params\n",
    "    for i in measured:\n",
    "        j = measured[i]\n",
    "        line(ax,gate_grid[j],gate_grid[-1]+scale,wire_grid[i]+dy,wire_grid[i]+dy,plot_params)\n",
    "    return\n",
    "\n",
    "def draw_labels(ax,labels,inits,gate_grid,wire_grid,plot_params):\n",
    "    scale = plot_params['scale']\n",
    "    label_buffer = plot_params['label_buffer']\n",
    "    fontsize = plot_params['fontsize']\n",
    "    nq = len(labels)\n",
    "    xdata = (gate_grid[0] - scale, gate_grid[-1] + scale)\n",
    "    for i in range(nq):\n",
    "        j = get_flipped_index(labels[i],labels)\n",
    "        text(ax,xdata[0]-label_buffer,wire_grid[j],render_label(labels[i],inits),plot_params)\n",
    "    return\n",
    "\n",
    "def get_flipped_index(target,labels):\n",
    "    \"\"\"Get qubit labels from the rest of the line,and return indices\n",
    "\n",
    "    >>> get_flipped_index('q0', ['q0', 'q1'])\n",
    "    1\n",
    "    >>> get_flipped_index('q1', ['q0', 'q1'])\n",
    "    0\n",
    "    \"\"\"\n",
    "    nq = len(labels)\n",
    "    i = labels.index(target)\n",
    "    return nq-i-1\n",
    "\n",
    "def get_flipped_indices(targets,labels): return [get_flipped_index(t,labels) for t in targets]\n",
    "\n",
    "def render_label(label, inits={}):\n",
    "    \"\"\"Slightly more flexible way to render labels.\n",
    "\n",
    "    >>> render_label('q0')\n",
    "    '$|q0\\\\\\\\rangle$'\n",
    "    >>> render_label('q0', {'q0':'0'})\n",
    "    '$|0\\\\\\\\rangle$'\n",
    "    \"\"\"\n",
    "    if label in inits:\n",
    "        s = inits[label]\n",
    "        if s is None:\n",
    "            return ''\n",
    "        else:\n",
    "            return r'$|%s\\rangle$' % inits[label]\n",
    "    return r'$|%s\\rangle$' % label\n",
    "\n",
    "# Define symbols to simplify writing\n",
    "H,X,Y,Z,S,T,M,P = 'HXYZSTMP'\n",
    "CNOT,CPHASE,CZ,CX,TOFFOLI,SWAP,NOP = 'CNOT','CPHASE','CZ','CX','TOFFOLI','SWAP','NOP'\n",
    "qa,qb,qc,qd,q0,q1,q2,q3 = 'q_a','q_b','q_c','q_d','q_0','q_1','q_2','q_3'"
   ]
  },
  {
   "cell_type": "markdown",
   "metadata": {},
   "source": [
    "## Basic tests"
   ]
  },
  {
   "cell_type": "code",
   "execution_count": 7,
   "metadata": {},
   "outputs": [
    {
     "data": {
      "text/plain": [
       "<matplotlib.axes._subplots.AxesSubplot at 0x10f4d8470>"
      ]
     },
     "execution_count": 7,
     "metadata": {},
     "output_type": "execute_result"
    },
    {
     "data": {
      "image/png": "[encoded data removed]",
      "text/plain": [
       "<matplotlib.figure.Figure at 0x10f5ad7f0>"
      ]
     },
     "metadata": {},
     "output_type": "display_data"
    }
   ],
   "source": [
    "plot_quantum_circuit([('Z_π/2','q0'),('P','q1'),('P','q1'),('P','q3')])"
   ]
  },
  {
   "cell_type": "code",
   "execution_count": 25,
   "metadata": {},
   "outputs": [
    {
     "data": {
      "text/plain": [
       "<matplotlib.axes._subplots.AxesSubplot at 0x106f625f8>"
      ]
     },
     "execution_count": 25,
     "metadata": {},
     "output_type": "execute_result"
    },
    {
     "data": {
      "image/png": "[encoded data removed]",
      "text/plain": [
       "<matplotlib.figure.Figure at 0x106f264e0>"
      ]
     },
     "metadata": {},
     "output_type": "display_data"
    }
   ],
   "source": [
    "plot_quantum_circuit([('Z_π/2','q0'),('P','q1'),('P','q1'),('P','q3')])"
   ]
  },
  {
   "cell_type": "code",
   "execution_count": null,
   "metadata": {},
   "outputs": [],
   "source": []
  },
  {
   "cell_type": "markdown",
   "metadata": {},
   "source": [
    "# Examples from [qasm2circ page](http://www.media.mit.edu/quanta/qasm2circ)\n",
    "## Example 1: EPR Creation\n",
    "\n",
    "Goal:\n",
    "\n",
    "<img src=\"http://www.media.mit.edu/quanta/qasm2circ/test1.png\" width=\"200\" />"
   ]
  },
  {
   "cell_type": "code",
   "execution_count": 10,
   "metadata": {},
   "outputs": [
    {
     "data": {
      "text/plain": [
       "<matplotlib.axes._subplots.AxesSubplot at 0x1102c3390>"
      ]
     },
     "execution_count": 10,
     "metadata": {},
     "output_type": "execute_result"
    },
    {
     "data": {
      "image/png": "[encoded data removed]",
      "text/plain": [
       "<matplotlib.figure.Figure at 0x110243a90>"
      ]
     },
     "metadata": {},
     "output_type": "display_data"
    }
   ],
   "source": [
    "plot_quantum_circuit([(H,q0),(CNOT,q1,q0)])"
   ]
  },
  {
   "cell_type": "markdown",
   "metadata": {},
   "source": [
    "Can also play with labeling, either turning them off, or selectively showing initializations:"
   ]
  },
  {
   "cell_type": "code",
   "execution_count": 11,
   "metadata": {},
   "outputs": [
    {
     "data": {
      "text/plain": [
       "<matplotlib.axes._subplots.AxesSubplot at 0x110346668>"
      ]
     },
     "execution_count": 11,
     "metadata": {},
     "output_type": "execute_result"
    },
    {
     "data": {
      "image/png": "[encoded data removed]",
      "text/plain": [
       "<matplotlib.figure.Figure at 0x11036c940>"
      ]
     },
     "metadata": {},
     "output_type": "display_data"
    }
   ],
   "source": [
    "plot_quantum_circuit([(H,q0),(CNOT,q1,q0)],plot_labels=False)"
   ]
  },
  {
   "cell_type": "code",
   "execution_count": 7,
   "metadata": {},
   "outputs": [
    {
     "data": {
      "text/plain": [
       "<matplotlib.axes._subplots.AxesSubplot at 0x1041e1550>"
      ]
     },
     "execution_count": 7,
     "metadata": {},
     "output_type": "execute_result"
    },
    {
     "data": {
      "image/png": "[encoded data removed]",
      "text/plain": [
       "<matplotlib.figure.Figure at 0x104263e48>"
      ]
     },
     "metadata": {},
     "output_type": "display_data"
    }
   ],
   "source": [
    "plot_quantum_circuit([(H,q0),(CNOT,q1,q0)],{q0:0,q1:None})"
   ]
  },
  {
   "cell_type": "markdown",
   "metadata": {},
   "source": [
    "## Example 2: Teleportation Gate\n",
    "\n",
    "Goal:\n",
    "\n",
    "<img src=\"http://www.media.mit.edu/quanta/qasm2circ/test2.png\" width=\"400\" />"
   ]
  },
  {
   "cell_type": "code",
   "execution_count": 12,
   "metadata": {},
   "outputs": [
    {
     "data": {
      "text/plain": [
       "<matplotlib.axes._subplots.AxesSubplot at 0x11041e518>"
      ]
     },
     "execution_count": 12,
     "metadata": {},
     "output_type": "execute_result"
    },
    {
     "data": {
      "image/png": "[encoded data removed]",
      "text/plain": [
       "<matplotlib.figure.Figure at 0x110412d30>"
      ]
     },
     "metadata": {},
     "output_type": "display_data"
    }
   ],
   "source": [
    "plot_quantum_circuit([(H,q1),(CNOT,q2,q1),(CNOT,q1,q0),(H,q0),\n",
    "                      (M,q0),(M,q1),(CX,q2,q1),(CZ,q2,q0)],\n",
    "                     labels=[q0,q1,q2])"
   ]
  },
  {
   "cell_type": "markdown",
   "metadata": {},
   "source": [
    "## Example 3: Swap Gate\n",
    "\n",
    "Goal:\n",
    "\n",
    "<img src=\"http://www.media.mit.edu/quanta/qasm2circ/test3.png\" width=\"200\" />"
   ]
  },
  {
   "cell_type": "code",
   "execution_count": 13,
   "metadata": {},
   "outputs": [
    {
     "data": {
      "text/plain": [
       "<matplotlib.axes._subplots.AxesSubplot at 0x1105910f0>"
      ]
     },
     "execution_count": 13,
     "metadata": {},
     "output_type": "execute_result"
    },
    {
     "data": {
      "image/png": "[encoded data removed]",
      "text/plain": [
       "<matplotlib.figure.Figure at 0x10fa28080>"
      ]
     },
     "metadata": {},
     "output_type": "display_data"
    }
   ],
   "source": [
    "plot_quantum_circuit([(CNOT,q1,q0),(CNOT,q0,q1),(CNOT,q1,q0)],labels=[q0,q1])"
   ]
  },
  {
   "cell_type": "markdown",
   "metadata": {},
   "source": [
    "## Example 4: QFT on 3 Qubits\n",
    "Goal:\n",
    "\n",
    "<img src=\"http://www.media.mit.edu/quanta/qasm2circ/test4.png\" width=\"300\"/>"
   ]
  },
  {
   "cell_type": "code",
   "execution_count": 14,
   "metadata": {},
   "outputs": [
    {
     "data": {
      "text/plain": [
       "<matplotlib.axes._subplots.AxesSubplot at 0x1106647f0>"
      ]
     },
     "execution_count": 14,
     "metadata": {},
     "output_type": "execute_result"
    },
    {
     "data": {
      "image/png": "[encoded data removed]",
      "text/plain": [
       "<matplotlib.figure.Figure at 0x110352278>"
      ]
     },
     "metadata": {},
     "output_type": "display_data"
    }
   ],
   "source": [
    "plot_quantum_circuit([(H,'j_0'),(S,'j_0','j_1'),(T,'j_0','j_2'),(H,'j_1'),\n",
    "                     (S,'j_1','j_2'),(H,'j_2'),(SWAP,'j_0','j_2')])"
   ]
  },
  {
   "cell_type": "markdown",
   "metadata": {},
   "source": [
    "## Example 6\n",
    "Goal:\n",
    "\n",
    "<img src=\"http://www.media.mit.edu/quanta/qasm2circ/test6.png\" width=\"200\" />"
   ]
  },
  {
   "cell_type": "code",
   "execution_count": 15,
   "metadata": {},
   "outputs": [
    {
     "data": {
      "text/plain": [
       "<matplotlib.axes._subplots.AxesSubplot at 0x1103d0c18>"
      ]
     },
     "execution_count": 15,
     "metadata": {},
     "output_type": "execute_result"
    },
    {
     "data": {
      "image/png": "[encoded data removed]",
      "text/plain": [
       "<matplotlib.figure.Figure at 0x1102efeb8>"
      ]
     },
     "metadata": {},
     "output_type": "display_data"
    }
   ],
   "source": [
    "plot_quantum_circuit([(TOFFOLI,'j_2','j_0','j_1'),(X,'j_0'),('U','j_1','j_0','j_2','j_3'),\n",
    "                     (H,'j_2'),(M,'j_3')],\n",
    "                     labels=['j_0','j_1','j_2','j_3'])"
   ]
  },
  {
   "cell_type": "markdown",
   "metadata": {},
   "source": [
    "## Example 7\n",
    "Goal:\n",
    "\n",
    "<img src=\"http://www.media.mit.edu/quanta/qasm2circ/test7.png\" width=\"400\" />"
   ]
  },
  {
   "cell_type": "code",
   "execution_count": 16,
   "metadata": {},
   "outputs": [
    {
     "data": {
      "text/plain": [
       "<matplotlib.axes._subplots.AxesSubplot at 0x1107dde80>"
      ]
     },
     "execution_count": 16,
     "metadata": {},
     "output_type": "execute_result"
    },
    {
     "data": {
      "image/png": "[encoded data removed]",
      "text/plain": [
       "<matplotlib.figure.Figure at 0x110650ef0>"
      ]
     },
     "metadata": {},
     "output_type": "display_data"
    }
   ],
   "source": [
    "plot_quantum_circuit([(H,'q0'),('U','q1','q0'),(H,'q0'),(M,'q0'),('V','q1','q0')])"
   ]
  },
  {
   "cell_type": "markdown",
   "metadata": {},
   "source": [
    "## Example 8\n",
    "Goal:\n",
    "\n",
    "<img src=\"http://www.media.mit.edu/quanta/qasm2circ/test8.png\" width=\"400\" />"
   ]
  },
  {
   "cell_type": "code",
   "execution_count": 13,
   "metadata": {},
   "outputs": [
    {
     "data": {
      "text/plain": [
       "<matplotlib.axes._subplots.AxesSubplot at 0x103e67f98>"
      ]
     },
     "execution_count": 13,
     "metadata": {},
     "output_type": "execute_result"
    },
    {
     "data": {
      "image/png": "[encoded data removed]",
      "text/plain": [
       "<matplotlib.figure.Figure at 0x10492afd0>"
      ]
     },
     "metadata": {},
     "output_type": "display_data"
    }
   ],
   "source": [
    "plot_quantum_circuit([(H,'b'),(CNOT,'b','a'),(CNOT,'c','b'),(CNOT,'b','a'),\n",
    "                     (CNOT,'c','b'),(H,'a'),(Z,'a','c'),(H,'a'),(H,'a')],\n",
    "                     labels='abc',inits=dict(a='\\psi',b='0',c='0'))"
   ]
  },
  {
   "cell_type": "markdown",
   "metadata": {},
   "source": [
    "## Example 9\n",
    "Goal:\n",
    "\n",
    "<img src=\"http://www.media.mit.edu/quanta/qasm2circ/test9.png\" width=\"300\" />\n"
   ]
  },
  {
   "cell_type": "code",
   "execution_count": 17,
   "metadata": {},
   "outputs": [
    {
     "data": {
      "text/plain": [
       "<matplotlib.axes._subplots.AxesSubplot at 0x11032e978>"
      ]
     },
     "execution_count": 17,
     "metadata": {},
     "output_type": "execute_result"
    },
    {
     "data": {
      "image/png": "[encoded data removed]",
      "text/plain": [
       "<matplotlib.figure.Figure at 0x1104867f0>"
      ]
     },
     "metadata": {},
     "output_type": "display_data"
    }
   ],
   "source": [
    "rt = r'$\\sqrt{X}$'\n",
    "rtd = r'$\\sqrt{X^\\dagger}$'\n",
    "plot_quantum_circuit([(rt,q2,q1),(CNOT,q1,q0),(rtd,q2,q1),(CNOT,q1,q0),(rt,q2,q0)],\n",
    "    labels=[q0,q1,q2]\n",
    ")"
   ]
  },
  {
   "cell_type": "markdown",
   "metadata": {},
   "source": [
    "## Example 13\n",
    "Goal:\n",
    "\n",
    "<img src=\"http://www.media.mit.edu/quanta/qasm2circ/test13.png\" width=\"300\" />\n",
    "Can't do multitarget gates yet."
   ]
  },
  {
   "cell_type": "code",
   "execution_count": 18,
   "metadata": {},
   "outputs": [
    {
     "data": {
      "text/plain": [
       "<matplotlib.axes._subplots.AxesSubplot at 0x110a553c8>"
      ]
     },
     "execution_count": 18,
     "metadata": {},
     "output_type": "execute_result"
    },
    {
     "data": {
      "image/png": "[encoded data removed]",
      "text/plain": [
       "<matplotlib.figure.Figure at 0x110b26ac8>"
      ]
     },
     "metadata": {},
     "output_type": "display_data"
    }
   ],
   "source": [
    "j0,j1,j2,s1,s2 = 'j_0','j_1','j_2','s_1','s_2'\n",
    "plot_quantum_circuit([(H,j0),(H,j1),(H,j2),(r'$U^4$',s1,j0),(r'$U^4$',s2,j0),\n",
    "                      (r'$U^2$',s1,j1),(r'$U^2$',s2,j1),(r'$U$',s1,j2),(r'$U$',s2,j2),\n",
    "                      (H,j0),(S,j1,j0),(H,j1),(T,j2,j0),(S,j2,j1),(H,j2),\n",
    "                      (M,j0),(M,j1),(M,j2)],\n",
    "    labels=(j0,j1,j2,s1,s2),inits={j0:0,j1:0,j2:0})"
   ]
  },
  {
   "cell_type": "markdown",
   "metadata": {},
   "source": [
    "## Experimenting with plotting scheduled gates:\n",
    "The above scheme, like what's in Scipy, prints one gate per time step. What if we define a *schedule* as a sequence of steps, each of which can have multple gates. At some point we could write a *scheduler* that would take a sequence of gates and compress it as much as possible. In the meantime, we could manually schedule gates.\n",
    "\n",
    "We don't have to rewrite very much of the code to do this. We just define a custom enumerator *enumerate_gates* that can work with either a schedule or a gate list, and everything works as before."
   ]
  },
  {
   "cell_type": "code",
   "execution_count": 19,
   "metadata": {},
   "outputs": [],
   "source": [
    "def plot_quantum_schedule(schedule,inits={},labels=[],plot_labels=True,**kwargs):\n",
    "    \"\"\"Use Matplotlib to plot a quantum circuit.\n",
    "    schedule  List of time steps, each containing a sequence of gates during that step.\n",
    "              Each gate is a tuple containing (name,target,control1,control2...). \n",
    "              Targets and controls initially defined in terms of labels. \n",
    "    inits     Initialization list of gates, optional\n",
    "    \n",
    "    kwargs    Can override plot_parameters\n",
    "    \"\"\"\n",
    "    plot_params = dict(scale = 1.0,fontsize = 14.0, linewidth = 1.0, \n",
    "                         control_radius = 0.05, not_radius = 0.15, \n",
    "                         swap_delta = 0.08, label_buffer = 0.0)\n",
    "    plot_params.update(kwargs)\n",
    "    scale = plot_params['scale']\n",
    "    \n",
    "    # Create labels from gates. This will become slow if there are a lot \n",
    "    #  of gates, in which case move to an ordered dictionary\n",
    "    if not labels:\n",
    "        labels = []\n",
    "        for i,gate in enumerate_gates(schedule,schedule=True):\n",
    "            for label in gate[1:]:\n",
    "                if label not in labels:\n",
    "                    labels.append(label)\n",
    "    \n",
    "    nq = len(labels)\n",
    "    nt = len(schedule)\n",
    "    wire_grid = np.arange(0.0, nq*scale, scale, dtype=float)\n",
    "    gate_grid = np.arange(0.0, nt*scale, scale, dtype=float)\n",
    "    \n",
    "    fig,ax = setup_figure(nq,nt,gate_grid,wire_grid,plot_params)\n",
    "\n",
    "    measured = measured_wires(schedule,labels,schedule=True)\n",
    "    draw_wires(ax,nq,gate_grid,wire_grid,plot_params,measured)\n",
    "    \n",
    "    if plot_labels: \n",
    "        draw_labels(ax,labels,inits,gate_grid,wire_grid,plot_params)\n",
    "\n",
    "    draw_gates(ax,schedule,labels,gate_grid,wire_grid,plot_params,measured,schedule=True)\n",
    "    return ax\n",
    "\n"
   ]
  },
  {
   "cell_type": "code",
   "execution_count": 20,
   "metadata": {},
   "outputs": [
    {
     "data": {
      "text/plain": [
       "<matplotlib.axes._subplots.AxesSubplot at 0x1112aaa90>"
      ]
     },
     "execution_count": 20,
     "metadata": {},
     "output_type": "execute_result"
    },
    {
     "data": {
      "image/png": "[encoded data removed]",
      "text/plain": [
       "<matplotlib.figure.Figure at 0x1112aa9b0>"
      ]
     },
     "metadata": {},
     "output_type": "display_data"
    }
   ],
   "source": [
    "plot_quantum_schedule([[(H,q0)]])"
   ]
  },
  {
   "cell_type": "code",
   "execution_count": 18,
   "metadata": {},
   "outputs": [
    {
     "data": {
      "text/plain": [
       "<matplotlib.axes._subplots.AxesSubplot at 0x104a1ee48>"
      ]
     },
     "execution_count": 18,
     "metadata": {},
     "output_type": "execute_result"
    },
    {
     "data": {
      "image/png": "[encoded data removed]",
      "text/plain": [
       "<matplotlib.figure.Figure at 0x104f646d8>"
      ]
     },
     "metadata": {},
     "output_type": "display_data"
    }
   ],
   "source": [
    "plot_quantum_schedule([[(H,q0)],[(CNOT,q1,q0)]])"
   ]
  },
  {
   "cell_type": "markdown",
   "metadata": {},
   "source": [
    "Now plot something that we can't do with the original code:\n",
    "\n",
    "## Example 13\n",
    "Goal:\n",
    "\n",
    "<img src=\"http://www.media.mit.edu/quanta/qasm2circ/test13.png\" width=\"300\" />\n"
   ]
  },
  {
   "cell_type": "code",
   "execution_count": 19,
   "metadata": {},
   "outputs": [
    {
     "data": {
      "text/plain": [
       "<matplotlib.axes._subplots.AxesSubplot at 0x10516de80>"
      ]
     },
     "execution_count": 19,
     "metadata": {},
     "output_type": "execute_result"
    },
    {
     "data": {
      "image/png": "[encoded data removed]",
      "text/plain": [
       "<matplotlib.figure.Figure at 0x10516dba8>"
      ]
     },
     "metadata": {},
     "output_type": "display_data"
    }
   ],
   "source": [
    "j0,j1,j2,s1,s2 = 'j_0','j_1','j_2','\\psi_1','\\psi_2' # labeler puts in the r$$ stuff\n",
    "plot_quantum_schedule([[(H,j0),(H,j1),(H,j2)],[(r'$U^4$',s1,j0),(r'$U^4$',s2,j0)],\n",
    "                      [(r'$U^2$',s1,j1),(r'$U^2$',s2,j1)],[(r'$U$',s1,j2),(r'$U$',s2,j2)],\n",
    "                      [(H,j0)],[(S,j1,j0)],[(H,j1)],[(T,j2,j0)],[(S,j2,j1)],[(H,j2)],\n",
    "                      [(M,j0),(M,j1),(M,j2)]],\n",
    "                      labels=(j0,j1,j2,s1,s2),inits={j0:0,j1:0,j2:0},scale=0.6)"
   ]
  },
  {
   "cell_type": "code",
   "execution_count": 20,
   "metadata": {
    "collapsed": true
   },
   "outputs": [],
   "source": [
    "def make_schedule(gates):\n",
    "    schedule = [[]]\n",
    "    current_tic = schedule[-1]\n",
    "    qubits_in_current_tic = set()\n",
    "    for gate in gates:\n",
    "        qubits = set(gate[1:])\n",
    "        if qubits_in_current_tic.intersection(qubits): \n",
    "            # Qubits already in tic, create new tic\n",
    "            current_tic = [gate]\n",
    "            qubits_in_current_tic = qubits\n",
    "            schedule.append(current_tic)\n",
    "        else:\n",
    "            # Add to current tic\n",
    "            current_tic.append(gate)\n",
    "            qubits_in_current_tic = qubits_in_current_tic.union(qubits)\n",
    "    return schedule"
   ]
  },
  {
   "cell_type": "code",
   "execution_count": 21,
   "metadata": {
    "collapsed": true
   },
   "outputs": [],
   "source": [
    "gates = [(H,j0),(H,j1),(H,j2),(r'$U^4$',s1,j0),(r'$U^4$',s2,j0),\n",
    "         (r'$U^2$',s1,j1),(r'$U^2$',s2,j1),(r'$U$',s1,j2),(r'$U$',s2,j2),\n",
    "         (H,j0),(S,j1,j0),(H,j1),(T,j2,j0),(S,j2,j1),(H,j2),\n",
    "         (M,j0),(M,j1),(M,j2)]"
   ]
  },
  {
   "cell_type": "code",
   "execution_count": 22,
   "metadata": {},
   "outputs": [
    {
     "data": {
      "text/plain": [
       "<matplotlib.axes._subplots.AxesSubplot at 0x104904908>"
      ]
     },
     "execution_count": 22,
     "metadata": {},
     "output_type": "execute_result"
    },
    {
     "data": {
      "image/png": "[encoded data removed]",
      "text/plain": [
       "<matplotlib.figure.Figure at 0x104bfdda0>"
      ]
     },
     "metadata": {},
     "output_type": "display_data"
    }
   ],
   "source": [
    "plot_quantum_circuit(gates)"
   ]
  },
  {
   "cell_type": "code",
   "execution_count": 23,
   "metadata": {},
   "outputs": [
    {
     "data": {
      "text/plain": [
       "<matplotlib.axes._subplots.AxesSubplot at 0x105696c18>"
      ]
     },
     "execution_count": 23,
     "metadata": {},
     "output_type": "execute_result"
    },
    {
     "data": {
      "image/png": "[encoded data removed]",
      "text/plain": [
       "<matplotlib.figure.Figure at 0x10566acf8>"
      ]
     },
     "metadata": {},
     "output_type": "display_data"
    }
   ],
   "source": [
    "plot_quantum_schedule(make_schedule(gates))"
   ]
  },
  {
   "cell_type": "markdown",
   "metadata": {},
   "source": [
    "Not bad! Several things could be improved. The H|j0> in the QFT could be moved up a step. Would be nice to combine the C-U's a little more intelligently."
   ]
  },
  {
   "cell_type": "markdown",
   "metadata": {
    "collapsed": true
   },
   "source": [
    "## Multiqubit Boxes\n",
    "Experimenting with rectangle code\n",
    "\n",
    "Todo:\n",
    "* Pass plot_params into rectangle.\n",
    "* Test multiqubit_box\n",
    "* get box to cover wires.\n",
    "* In order to wire these into circuits a little more intelligently, need a good way to put multitarget gates into circuits."
   ]
  },
  {
   "cell_type": "code",
   "execution_count": 98,
   "metadata": {
    "collapsed": true
   },
   "outputs": [],
   "source": [
    "def multiqubit_box(ax,istep,minq,maxq,labels,gate_grid,wire_grid,plot_params,label=''):\n",
    "    dx = 0.25\n",
    "    dy = 0.25\n",
    "    minwire = get_flipped_index(minq,labels)\n",
    "    maxwire = get_flipped_index(maxq,labels)\n",
    "    \n",
    "    rectangle(ax,gate_grid[istep]-dx,gate_grid[istep]+dx,\n",
    "              wire_grid[minwire]-dy,wire_grid[maxwire]+dy,label=label)\n",
    "    return\n",
    "\n",
    "\n",
    "def rectangle(ax,x1,x2,y1,y2,label=''):\n",
    "    Rectangle = matplotlib.patches.Rectangle\n",
    "    x = min(x1,x2)\n",
    "    y = min(y1,y2)\n",
    "    w = abs(x2-x1)\n",
    "    h = abs(y2-y1)\n",
    "    xm = x+w/2.\n",
    "    ym = y+h/2.\n",
    "    print (x,y,w,h,xm,ym)\n",
    "    rect = Rectangle((x,y),w,h,ec='k',fc='w',fill=True,lw=1,label=label)\n",
    "    ax.add_patch(rect)\n",
    "    if label:\n",
    "        ax.text(xm,ym,label,ha='center',color='k')\n",
    "    return\n",
    "    \n"
   ]
  },
  {
   "cell_type": "code",
   "execution_count": 99,
   "metadata": {},
   "outputs": [
    {
     "name": "stdout",
     "output_type": "stream",
     "text": [
      "-0.25 -0.25 0.5 1.5 0.0 0.5\n"
     ]
    },
    {
     "data": {
      "image/png": "[encoded data removed]",
      "text/plain": [
       "<matplotlib.figure.Figure at 0x106a4b780>"
      ]
     },
     "metadata": {},
     "output_type": "display_data"
    }
   ],
   "source": [
    "plot_params = dict(scale = 1.0,fontsize = 14.0, linewidth = 1.0, \n",
    "                   control_radius = 0.05, not_radius = 0.15, \n",
    "                   swap_delta = 0.08, label_buffer = 0.0)\n",
    "\n",
    "ax = plot_quantum_circuit([(H,q1),(CNOT,q1,q0)],labels=[q0,q1])\n",
    "#r = matplotlib.patches.Rectangle((-0.25,-0.25),0.5,1.5,ec='k',fc='w',fill=True,lw=1.0)\n",
    "#ax.add_patch(r)\n",
    "#ax.text(0,0.5,\"Hi\",ha=\"center\")\n",
    "\n",
    "#color='k',ha='center',va='center',bbox=bbox,size=fontsize\n",
    "rectangle(ax,-0.25,0.25,-0.25,1.25,'hi')\n",
    "#   ax.text(x,y,textstr,color='k',ha='center',va='center',bbox=bbox,size=fontsize)\n",
    " "
   ]
  },
  {
   "cell_type": "code",
   "execution_count": null,
   "metadata": {
    "collapsed": true
   },
   "outputs": [],
   "source": []
  }
 ],
 "metadata": {
  "kernelspec": {
   "display_name": "Python 3",
   "language": "python",
   "name": "python3"
  },
  "language_info": {
   "codemirror_mode": {
    "name": "ipython",
    "version": 3
   },
   "file_extension": ".py",
   "mimetype": "text/x-python",
   "name": "python",
   "nbconvert_exporter": "python",
   "pygments_lexer": "ipython3",
   "version": "3.6.3"
  }
 },
 "nbformat": 4,
 "nbformat_minor": 2
}
