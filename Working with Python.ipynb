{
 "cells": [
  {
   "cell_type": "code",
   "execution_count": 2,
   "metadata": {
    "collapsed": false
   },
   "outputs": [
    {
     "name": "stderr",
     "output_type": "stream",
     "text": [
      "INFO: Updating METADATA...\n",
      "INFO: Computing changes...\n",
      "INFO: No packages to install, update or remove\n"
     ]
    }
   ],
   "source": [
    "Pkg.update()"
   ]
  },
  {
   "cell_type": "code",
   "execution_count": 1,
   "metadata": {
    "collapsed": false
   },
   "outputs": [],
   "source": [
    "using PyCall"
   ]
  },
  {
   "cell_type": "code",
   "execution_count": 2,
   "metadata": {
    "collapsed": false
   },
   "outputs": [],
   "source": [
    "@pyimport math"
   ]
  },
  {
   "cell_type": "code",
   "execution_count": 3,
   "metadata": {
    "collapsed": false
   },
   "outputs": [
    {
     "data": {
      "text/plain": [
       "0.0"
      ]
     },
     "execution_count": 3,
     "metadata": {},
     "output_type": "execute_result"
    }
   ],
   "source": [
    "math.sin(math.pi/4)-sin(pi/4)"
   ]
  },
  {
   "cell_type": "code",
   "execution_count": 4,
   "metadata": {
    "collapsed": false
   },
   "outputs": [
    {
     "ename": "LoadError",
     "evalue": "plt not defined\nwhile loading In[4], in expression starting on line 2",
     "output_type": "error",
     "traceback": [
      "plt not defined\nwhile loading In[4], in expression starting on line 2",
      ""
     ]
    }
   ],
   "source": [
    "x=linspace(0,2*pi,1000);y= sin(3*x + 4*cos(2*x));\n",
    "plt.plot(x,y,color=\"red\",linewidth=2.0,linestyle=\"--\")\n",
    "plt.show()"
   ]
  },
  {
   "cell_type": "code",
   "execution_count": 5,
   "metadata": {
    "collapsed": false
   },
   "outputs": [],
   "source": [
    "@pyimport numpy.random as nr"
   ]
  },
  {
   "cell_type": "code",
   "execution_count": 7,
   "metadata": {
    "collapsed": false
   },
   "outputs": [
    {
     "data": {
      "text/plain": [
       "3x4 Array{Float64,2}:\n",
       " 0.665401   0.73202    0.936739  0.568906\n",
       " 0.961513   0.0830748  0.747571  0.756435\n",
       " 0.0206842  0.60583    0.177855  0.23708 "
      ]
     },
     "execution_count": 7,
     "metadata": {},
     "output_type": "execute_result"
    }
   ],
   "source": [
    "a=nr.rand(3,4)"
   ]
  },
  {
   "cell_type": "code",
   "execution_count": 8,
   "metadata": {
    "collapsed": false
   },
   "outputs": [
    {
     "data": {
      "text/plain": [
       "3x4 Array{Float64,2}:\n",
       " 0.665401   0.73202    0.936739  0.568906\n",
       " 0.961513   0.0830748  0.747571  0.756435\n",
       " 0.0206842  0.60583    0.177855  0.23708 "
      ]
     },
     "execution_count": 8,
     "metadata": {},
     "output_type": "execute_result"
    }
   ],
   "source": [
    "a"
   ]
  },
  {
   "cell_type": "code",
   "execution_count": 5,
   "metadata": {
    "collapsed": false
   },
   "outputs": [
    {
     "ename": "LoadError",
     "evalue": "interrupt\nwhile loading In[5], in expression starting on line 4",
     "output_type": "error",
     "traceback": [
      "interrupt\nwhile loading In[5], in expression starting on line 4",
      ""
     ]
    }
   ],
   "source": [
    "@pyimport matplotlib.pyplot as plt\n",
    "x=linspace(0,2*pi,1000);y= sin(3*x + 4*cos(2*x));\n",
    "plt.plot(x,y,color=\"red\",linewidth=2.0,linestyle=\"--\")\n",
    "plt.show()"
   ]
  },
  {
   "cell_type": "code",
   "execution_count": 6,
   "metadata": {
    "collapsed": false
   },
   "outputs": [],
   "source": [
    "@pyimport scipy.optimize as so"
   ]
  },
  {
   "cell_type": "code",
   "execution_count": 7,
   "metadata": {
    "collapsed": false
   },
   "outputs": [
    {
     "data": {
      "text/plain": [
       "0.7390851332151607"
      ]
     },
     "execution_count": 7,
     "metadata": {},
     "output_type": "execute_result"
    }
   ],
   "source": [
    "so.newton(x->cos(x)-x,1)"
   ]
  },
  {
   "cell_type": "code",
   "execution_count": 8,
   "metadata": {
    "collapsed": false
   },
   "outputs": [],
   "source": [
    "@pyimport scipy.optimize as so\n",
    "@pyimport numpy as np\n",
    "@pyimport matplotlib.pyplot as plt\n",
    "@pyimport qutip as qt\n",
    "@pyimport numpy.linalg as la"
   ]
  },
  {
   "cell_type": "code",
   "execution_count": 9,
   "metadata": {
    "collapsed": false
   },
   "outputs": [],
   "source": [
    "@pyimport numpy.linalg as la"
   ]
  },
  {
   "cell_type": "code",
   "execution_count": 10,
   "metadata": {
    "collapsed": false
   },
   "outputs": [],
   "source": [
    "@pyimport matplotlib.pyplot as plt"
   ]
  },
  {
   "cell_type": "code",
   "execution_count": 11,
   "metadata": {
    "collapsed": false
   },
   "outputs": [],
   "source": [
    "@pyimport qutip as qt"
   ]
  },
  {
   "cell_type": "code",
   "execution_count": 17,
   "metadata": {
    "collapsed": false
   },
   "outputs": [
    {
     "data": {
      "text/latex": [
       "Quantum object: dims = [[2], [2]], shape = [2, 2], type = oper, isherm = True\\begin{equation*}\\left(\\begin{array}{*{11}c}1.0 & 0.0\\\\0.0 & 1.0\\\\\\end{array}\\right)\\end{equation*}"
      ],
      "text/plain": [
       "PyObject Quantum object: dims = [[2], [2]], shape = [2, 2], type = oper, isherm = True\n",
       "Qobj data =\n",
       "[[ 1.  0.]\n",
       " [ 0.  1.]]"
      ]
     },
     "execution_count": 17,
     "metadata": {},
     "output_type": "execute_result"
    }
   ],
   "source": [
    "qt.qeye(2)"
   ]
  },
  {
   "cell_type": "code",
   "execution_count": 26,
   "metadata": {
    "collapsed": false
   },
   "outputs": [
    {
     "ename": "LoadError",
     "evalue": "`*` has no method matching *(::PyObject, ::PyObject)\nwhile loading In[26], in expression starting on line 1",
     "output_type": "error",
     "traceback": [
      "`*` has no method matching *(::PyObject, ::PyObject)\nwhile loading In[26], in expression starting on line 1",
      "",
      " in * at operators.jl:82"
     ]
    }
   ],
   "source": [
    "x=pycall(qt.phasegate(pi/2)*qt.phasegate(pi/2)*qt.phasegate(pi/2))"
   ]
  },
  {
   "cell_type": "code",
   "execution_count": 24,
   "metadata": {
    "collapsed": false
   },
   "outputs": [
    {
     "ename": "LoadError",
     "evalue": "type PyObject has no field dims\nwhile loading In[24], in expression starting on line 1",
     "output_type": "error",
     "traceback": [
      "type PyObject has no field dims\nwhile loading In[24], in expression starting on line 1",
      ""
     ]
    }
   ],
   "source": [
    "x.dims"
   ]
  },
  {
   "cell_type": "code",
   "execution_count": null,
   "metadata": {
    "collapsed": true
   },
   "outputs": [],
   "source": []
  },
  {
   "cell_type": "code",
   "execution_count": 12,
   "metadata": {
    "collapsed": false
   },
   "outputs": [
    {
     "data": {
      "text/plain": [
       "fn (generic function with 1 method)"
      ]
     },
     "execution_count": 12,
     "metadata": {},
     "output_type": "execute_result"
    }
   ],
   "source": [
    "qt.superop_reps[:_pauli_basis]"
   ]
  },
  {
   "cell_type": "code",
   "execution_count": 13,
   "metadata": {
    "collapsed": false
   },
   "outputs": [
    {
     "data": {
      "text/latex": [
       "Quantum object: dims = [[[2], [2]], [[2], [2]]], shape = [4, 4], type = super, isherm = True\\begin{equation*}\\left(\\begin{array}{*{11}c}1.0 & 0.0 & 0.0 & 0.0\\\\0.0 & 1.0 & 0.0 & 0.0\\\\0.0 & 0.0 & 1.0 & 0.0\\\\0.0 & 0.0 & 0.0 & 1.0\\\\\\end{array}\\right)\\end{equation*}"
      ],
      "text/plain": [
       "PyObject Quantum object: dims = [[[2], [2]], [[2], [2]]], shape = [4, 4], type = super, isherm = True\n",
       "Qobj data =\n",
       "[[ 1.  0.  0.  0.]\n",
       " [ 0.  1.  0.  0.]\n",
       " [ 0.  0.  1.  0.]\n",
       " [ 0.  0.  0.  1.]]"
      ]
     },
     "execution_count": 13,
     "metadata": {},
     "output_type": "execute_result"
    }
   ],
   "source": [
    "superTest=qt.to_super(qt.qeye(2))"
   ]
  },
  {
   "cell_type": "code",
   "execution_count": 20,
   "metadata": {
    "collapsed": false
   },
   "outputs": [
    {
     "data": {
      "text/latex": [
       "Quantum object: dims = [[2], [2]], shape = [2, 2], type = oper, isherm = True\\begin{equation*}\\left(\\begin{array}{*{11}c}0.0 & 1.0\\\\1.0 & 0.0\\\\\\end{array}\\right)\\end{equation*}"
      ],
      "text/plain": [
       "PyObject Quantum object: dims = [[2], [2]], shape = [2, 2], type = oper, isherm = True\n",
       "Qobj data =\n",
       "[[ 0.  1.]\n",
       " [ 1.  0.]]"
      ]
     },
     "execution_count": 20,
     "metadata": {},
     "output_type": "execute_result"
    }
   ],
   "source": [
    "qt.sigmax()"
   ]
  },
  {
   "cell_type": "code",
   "execution_count": 28,
   "metadata": {
    "collapsed": false
   },
   "outputs": [
    {
     "data": {
      "text/latex": [
       "Quantum object: dims = [[2], [2]], shape = [2, 2], type = oper, isherm = True\\begin{equation*}\\left(\\begin{array}{*{11}c}0.0 & -1.0j\\\\1.0j & 0.0\\\\\\end{array}\\right)\\end{equation*}"
      ],
      "text/plain": [
       "PyObject Quantum object: dims = [[2], [2]], shape = [2, 2], type = oper, isherm = True\n",
       "Qobj data =\n",
       "[[ 0.+0.j  0.-1.j]\n",
       " [ 0.+1.j  0.+0.j]]"
      ]
     },
     "execution_count": 28,
     "metadata": {},
     "output_type": "execute_result"
    }
   ],
   "source": [
    "test=qt.sigmay()"
   ]
  },
  {
   "cell_type": "code",
   "execution_count": 209,
   "metadata": {
    "collapsed": false
   },
   "outputs": [
    {
     "data": {
      "text/plain": [
       "3-element Array{Any,1}:\n",
       " PyObject Quantum object: dims = [[[2], [2]], [[2], [2]]], shape = [4, 4], type = super, isherm = True\n",
       "Qobj data =\n",
       "[[ 1.  0.  0.  0.]\n",
       " [ 0.  1.  0.  0.]\n",
       " [ 0.  0.  1.  0.]\n",
       " [ 0.  0.  0.  1.]]\n",
       " PyObject Quantum object: dims = [[[2], [2]], [[2], [2]]], shape = [4, 4], type = super, isherm = True\n",
       "Qobj data =\n",
       "[[ 0.  0.  0.  1.]\n",
       " [ 0.  0.  1.  0.]\n",
       " [ 0.  1.  0.  0.]\n",
       " [ 1.  0.  0.  0.]]\n",
       " PyObject Quantum object: dims = [[[2], [2]], [[2], [2]]], shape = [4, 4], type = super, isherm = True\n",
       "Qobj data =\n",
       "[[ 0.  0.  0.  1.]\n",
       " [ 0.  0. -1.  0.]\n",
       " [ 0. -1.  0.  0.]\n",
       " [ 1.  0.  0.  0.]]"
      ]
     },
     "execution_count": 209,
     "metadata": {},
     "output_type": "execute_result"
    }
   ],
   "source": [
    "(pycall(pybuiltin(\"map\"),PyAny,qt.to_super, [qt.qeye(2), qt.sigmax(), qt.sigmay()]))"
   ]
  },
  {
   "cell_type": "code",
   "execution_count": 230,
   "metadata": {
    "collapsed": false
   },
   "outputs": [
    {
     "data": {
      "text/plain": [
       "4x4 Array{Complex{Float64},2}:\n",
       " 0.333333+0.0im       0.0+0.0im       0.0+0.0im  0.666667+0.0im\n",
       "      0.0+0.0im  0.333333+0.0im       0.0+0.0im       0.0+0.0im\n",
       "      0.0+0.0im       0.0+0.0im  0.333333+0.0im       0.0+0.0im\n",
       " 0.666667+0.0im       0.0+0.0im       0.0+0.0im  0.333333+0.0im"
      ]
     },
     "execution_count": 230,
     "metadata": {},
     "output_type": "execute_result"
    }
   ],
   "source": [
    "sum(map(x-> qt.to_super(x)[:full](),[qt.qeye(2), qt.sigmax(), qt.sigmay()]))/3"
   ]
  },
  {
   "cell_type": "code",
   "execution_count": 46,
   "metadata": {
    "collapsed": false
   },
   "outputs": [
    {
     "data": {
      "text/plain": [
       "2x2 Array{Complex{Float64},2}:\n",
       " 0.0+0.0im  0.0-1.0im\n",
       " 0.0+1.0im  0.0+0.0im"
      ]
     },
     "execution_count": 46,
     "metadata": {},
     "output_type": "execute_result"
    }
   ],
   "source": [
    "get(test,[0,1])"
   ]
  },
  {
   "cell_type": "code",
   "execution_count": 49,
   "metadata": {
    "collapsed": false
   },
   "outputs": [
    {
     "name": "stdout",
     "output_type": "stream",
     "text": [
      "PyObject Quantum object: dims = [[[2], [2]], [[2], [2]]], shape = [4, 4], type = super, isherm = True\n",
      "Qobj data =\n",
      "[[ 1.  0.  0.  0.]\n",
      " [ 0.  1.  0.  0.]\n",
      " [ 0.  0.  1.  0.]\n",
      " [ 0.  0.  0.  1.]]"
     ]
    }
   ],
   "source": [
    "print(superTest)"
   ]
  },
  {
   "cell_type": "code",
   "execution_count": 50,
   "metadata": {
    "collapsed": false
   },
   "outputs": [
    {
     "data": {
      "text/plain": [
       "4x4 Array{Complex{Float64},2}:\n",
       " 1.0+0.0im  0.0+0.0im  0.0+0.0im  0.0+0.0im\n",
       " 0.0+0.0im  1.0+0.0im  0.0+0.0im  0.0+0.0im\n",
       " 0.0+0.0im  0.0+0.0im  1.0+0.0im  0.0+0.0im\n",
       " 0.0+0.0im  0.0+0.0im  0.0+0.0im  1.0+0.0im"
      ]
     },
     "execution_count": 50,
     "metadata": {},
     "output_type": "execute_result"
    }
   ],
   "source": [
    "get(superTest,[0,1,2,3])"
   ]
  },
  {
   "cell_type": "code",
   "execution_count": 54,
   "metadata": {
    "collapsed": false
   },
   "outputs": [
    {
     "data": {
      "text/plain": [
       "4x4 Array{Complex{Float64},2}:\n",
       " 1.0+0.0im  0.0+0.0im  0.0+0.0im  0.0+0.0im\n",
       " 0.0+0.0im  1.0+0.0im  0.0+0.0im  0.0+0.0im\n",
       " 0.0+0.0im  0.0+0.0im  1.0+0.0im  0.0+0.0im\n",
       " 0.0+0.0im  0.0+0.0im  0.0+0.0im  1.0+0.0im"
      ]
     },
     "execution_count": 54,
     "metadata": {},
     "output_type": "execute_result"
    }
   ],
   "source": [
    "get(superTest,[0:3])"
   ]
  },
  {
   "cell_type": "code",
   "execution_count": 56,
   "metadata": {
    "collapsed": false
   },
   "outputs": [
    {
     "data": {
      "text/plain": [
       "true"
      ]
     },
     "execution_count": 56,
     "metadata": {},
     "output_type": "execute_result"
    }
   ],
   "source": [
    "superTest[:issuper]"
   ]
  },
  {
   "cell_type": "code",
   "execution_count": 53,
   "metadata": {
    "collapsed": false
   },
   "outputs": [
    {
     "data": {
      "text/plain": [
       "0:3"
      ]
     },
     "execution_count": 53,
     "metadata": {},
     "output_type": "execute_result"
    }
   ],
   "source": [
    "0:3"
   ]
  },
  {
   "cell_type": "code",
   "execution_count": 356,
   "metadata": {
    "collapsed": false
   },
   "outputs": [
    {
     "data": {
      "text/plain": [
       "to_superpauli (generic function with 1 method)"
      ]
     },
     "execution_count": 356,
     "metadata": {},
     "output_type": "execute_result"
    }
   ],
   "source": [
    "function to_superpauli(S):\n",
    "    \"\"\"\n",
    "    Converts a superoperator in the column-stacking basis to the Pauli basis. Note that\n",
    "    the argument is assumed to act on qubits.\n",
    "    \"\"\"\n",
    "    sqobj=qt.to_super(S)\n",
    "    nq=int(np.log2(sqobj[:shape][1])/2)\n",
    "    B=pycall(qt.superop_reps[\"_pauli_basis\"],PyAny,nq)\n",
    "    sq=np.sqrt(2^nq)\n",
    "    B=pyeval(\"B/sq\",PyAny,B=B,nq=nq,sq=sq)\n",
    "    B[:dims] = sqobj[:dims]\n",
    "    sqobj = pycall(B[:dag]()[\"__mul__\"],PyAny,pycall(sqobj[\"__mul__\"],PyAny,B))\n",
    "    return sqobj\n",
    "end"
   ]
  },
  {
   "cell_type": "code",
   "execution_count": 344,
   "metadata": {
    "collapsed": false
   },
   "outputs": [
    {
     "data": {
      "text/plain": [
       "2"
      ]
     },
     "execution_count": 344,
     "metadata": {},
     "output_type": "execute_result"
    }
   ],
   "source": [
    "nq=int(np.log2(sqobj[:shape][1])/2)"
   ]
  },
  {
   "cell_type": "code",
   "execution_count": 332,
   "metadata": {
    "collapsed": false
   },
   "outputs": [
    {
     "data": {
      "text/latex": [
       "Quantum object: dims = [[[4], [4]], [[4], [4]]], shape = [16, 16], type = super, isherm = True\\begin{equation*}\\left(\\begin{array}{*{11}c}1.0 & 0.0 & 0.0 & 0.0 & 0.0 & \\cdots & 0.0 & 0.0 & 0.0 & 0.0 & 0.0\\\\0.0 & 1.0 & 0.0 & 0.0 & 0.0 & \\cdots & 0.0 & 0.0 & 0.0 & 0.0 & 0.0\\\\0.0 & 0.0 & 1.0 & 0.0 & 0.0 & \\cdots & 0.0 & 0.0 & 0.0 & 0.0 & 0.0\\\\0.0 & 0.0 & 0.0 & 1.0 & 0.0 & \\cdots & 0.0 & 0.0 & 0.0 & 0.0 & 0.0\\\\0.0 & 0.0 & 0.0 & 0.0 & 1.0 & \\cdots & 0.0 & 0.0 & 0.0 & 0.0 & 0.0\\\\\\vdots & \\vdots & \\vdots & \\vdots & \\vdots & \\ddots & \\vdots & \\vdots & \\vdots & \\vdots & \\vdots\\\\0.0 & 0.0 & 0.0 & 0.0 & 0.0 & \\cdots & 1.0 & 0.0 & 0.0 & 0.0 & 0.0\\\\0.0 & 0.0 & 0.0 & 0.0 & 0.0 & \\cdots & 0.0 & 1.0 & 0.0 & 0.0 & 0.0\\\\0.0 & 0.0 & 0.0 & 0.0 & 0.0 & \\cdots & 0.0 & 0.0 & 1.0 & 0.0 & 0.0\\\\0.0 & 0.0 & 0.0 & 0.0 & 0.0 & \\cdots & 0.0 & 0.0 & 0.0 & 1.0 & 0.0\\\\0.0 & 0.0 & 0.0 & 0.0 & 0.0 & \\cdots & 0.0 & 0.0 & 0.0 & 0.0 & 1.0\\\\\\end{array}\\right)\\end{equation*}"
      ],
      "text/plain": [
       "PyObject Quantum object: dims = [[[4], [4]], [[4], [4]]], shape = [16, 16], type = super, isherm = True\n",
       "Qobj data =\n",
       "[[ 1.  0.  0.  0.  0.  0.  0.  0.  0.  0.  0.  0.  0.  0.  0.  0.]\n",
       " [ 0.  1.  0.  0.  0.  0.  0.  0.  0.  0.  0.  0.  0.  0.  0.  0.]\n",
       " [ 0.  0.  1.  0.  0.  0.  0.  0.  0.  0.  0.  0.  0.  0.  0.  0.]\n",
       " [ 0.  0.  0.  1.  0.  0.  0.  0.  0.  0.  0.  0.  0.  0.  0.  0.]\n",
       " [ 0.  0.  0.  0.  1.  0.  0.  0.  0.  0.  0.  0.  0.  0.  0.  0.]\n",
       " [ 0.  0.  0.  0.  0.  1.  0.  0.  0.  0.  0.  0.  0.  0.  0.  0.]\n",
       " [ 0.  0.  0.  0.  0.  0.  1.  0.  0.  0.  0.  0.  0.  0.  0.  0.]\n",
       " [ 0.  0.  0.  0.  0.  0.  0.  1.  0.  0.  0.  0.  0.  0.  0.  0.]\n",
       " [ 0.  0.  0.  0.  0.  0.  0.  0.  1.  0.  0.  0.  0.  0.  0.  0.]\n",
       " [ 0.  0.  0.  0.  0.  0.  0.  0.  0.  1.  0.  0.  0.  0.  0.  0.]\n",
       " [ 0.  0.  0.  0.  0.  0.  0.  0.  0.  0.  1.  0.  0.  0.  0.  0.]\n",
       " [ 0.  0.  0.  0.  0.  0.  0.  0.  0.  0.  0.  1.  0.  0.  0.  0.]\n",
       " [ 0.  0.  0.  0.  0.  0.  0.  0.  0.  0.  0.  0.  1.  0.  0.  0.]\n",
       " [ 0.  0.  0.  0.  0.  0.  0.  0.  0.  0.  0.  0.  0.  1.  0.  0.]\n",
       " [ 0.  0.  0.  0.  0.  0.  0.  0.  0.  0.  0.  0.  0.  0.  1.  0.]\n",
       " [ 0.  0.  0.  0.  0.  0.  0.  0.  0.  0.  0.  0.  0.  0.  0.  1.]]"
      ]
     },
     "execution_count": 332,
     "metadata": {},
     "output_type": "execute_result"
    }
   ],
   "source": [
    "ts=qt.qeye(4)\n",
    "sqobj=qt.to_super(ts)\n"
   ]
  },
  {
   "cell_type": "code",
   "execution_count": 355,
   "metadata": {
    "collapsed": false
   },
   "outputs": [
    {
     "name": "stdout",
     "output_type": "stream",
     "text": [
      "B dimensions \n",
      "Any[2 2\n",
      "    2 2]\n",
      "\n",
      "Any[2 2\n",
      "    2 2]\n",
      "SQ dimensions \n",
      "Any[4 4\n",
      "    4 4]\n"
     ]
    },
    {
     "data": {
      "text/latex": [
       "Quantum object: dims = [[[4], [4]], [[4], [4]]], shape = [16, 16], type = super, isherm = True, superrep = None\\begin{equation*}\\left(\\begin{array}{*{11}c}1.0 & 0.0 & 0.0 & 0.0 & 0.0 & \\cdots & 0.0 & 0.0 & 0.0 & 0.0 & 0.0\\\\0.0 & 1.0 & 0.0 & 0.0 & 0.0 & \\cdots & 0.0 & 0.0 & 0.0 & 0.0 & 0.0\\\\0.0 & 0.0 & 1.0 & 0.0 & 0.0 & \\cdots & 0.0 & 0.0 & 0.0 & 0.0 & 0.0\\\\0.0 & 0.0 & 0.0 & 1.0 & 0.0 & \\cdots & 0.0 & 0.0 & 0.0 & 0.0 & 0.0\\\\0.0 & 0.0 & 0.0 & 0.0 & 1.0 & \\cdots & 0.0 & 0.0 & 0.0 & 0.0 & 0.0\\\\\\vdots & \\vdots & \\vdots & \\vdots & \\vdots & \\ddots & \\vdots & \\vdots & \\vdots & \\vdots & \\vdots\\\\0.0 & 0.0 & 0.0 & 0.0 & 0.0 & \\cdots & 1.0 & 0.0 & 0.0 & 0.0 & 0.0\\\\0.0 & 0.0 & 0.0 & 0.0 & 0.0 & \\cdots & 0.0 & 1.0 & 0.0 & 0.0 & 0.0\\\\0.0 & 0.0 & 0.0 & 0.0 & 0.0 & \\cdots & 0.0 & 0.0 & 1.0 & 0.0 & 0.0\\\\0.0 & 0.0 & 0.0 & 0.0 & 0.0 & \\cdots & 0.0 & 0.0 & 0.0 & 1.0 & 0.0\\\\0.0 & 0.0 & 0.0 & 0.0 & 0.0 & \\cdots & 0.0 & 0.0 & 0.0 & 0.0 & 1.0\\\\\\end{array}\\right)\\end{equation*}"
      ],
      "text/plain": [
       "PyObject Quantum object: dims = [[[4], [4]], [[4], [4]]], shape = [16, 16], type = super, isherm = True, superrep = None\n",
       "Qobj data =\n",
       "[[ 1.  0.  0.  0.  0.  0.  0.  0.  0.  0.  0.  0.  0.  0.  0.  0.]\n",
       " [ 0.  1.  0.  0.  0.  0.  0.  0.  0.  0.  0.  0.  0.  0.  0.  0.]\n",
       " [ 0.  0.  1.  0.  0.  0.  0.  0.  0.  0.  0.  0.  0.  0.  0.  0.]\n",
       " [ 0.  0.  0.  1.  0.  0.  0.  0.  0.  0.  0.  0.  0.  0.  0.  0.]\n",
       " [ 0.  0.  0.  0.  1.  0.  0.  0.  0.  0.  0.  0.  0.  0.  0.  0.]\n",
       " [ 0.  0.  0.  0.  0.  1.  0.  0.  0.  0.  0.  0.  0.  0.  0.  0.]\n",
       " [ 0.  0.  0.  0.  0.  0.  1.  0.  0.  0.  0.  0.  0.  0.  0.  0.]\n",
       " [ 0.  0.  0.  0.  0.  0.  0.  1.  0.  0.  0.  0.  0.  0.  0.  0.]\n",
       " [ 0.  0.  0.  0.  0.  0.  0.  0.  1.  0.  0.  0.  0.  0.  0.  0.]\n",
       " [ 0.  0.  0.  0.  0.  0.  0.  0.  0.  1.  0.  0.  0.  0.  0.  0.]\n",
       " [ 0.  0.  0.  0.  0.  0.  0.  0.  0.  0.  1.  0.  0.  0.  0.  0.]\n",
       " [ 0.  0.  0.  0.  0.  0.  0.  0.  0.  0.  0.  1.  0.  0.  0.  0.]\n",
       " [ 0.  0.  0.  0.  0.  0.  0.  0.  0.  0.  0.  0.  1.  0.  0.  0.]\n",
       " [ 0.  0.  0.  0.  0.  0.  0.  0.  0.  0.  0.  0.  0.  1.  0.  0.]\n",
       " [ 0.  0.  0.  0.  0.  0.  0.  0.  0.  0.  0.  0.  0.  0.  1.  0.]\n",
       " [ 0.  0.  0.  0.  0.  0.  0.  0.  0.  0.  0.  0.  0.  0.  0.  1.]]"
      ]
     },
     "execution_count": 355,
     "metadata": {},
     "output_type": "execute_result"
    }
   ],
   "source": [
    "to_superpauli(ts)"
   ]
  },
  {
   "cell_type": "code",
   "execution_count": 325,
   "metadata": {
    "collapsed": false
   },
   "outputs": [
    {
     "data": {
      "text/latex": [
       "Quantum object: dims = [[[2, 2, 2], [2, 2, 2]], [[2, 2, 2], [2, 2, 2]]], shape = [64, 64], type = super, isherm = False\\begin{equation*}\\left(\\begin{array}{*{11}c}0.354 & 0.0 & 0.0 & 0.354 & 0.0 & \\cdots & 0.0 & 0.354 & 0.0 & 0.0 & 0.354\\\\0.0 & 0.354 & -0.354j & 0.0 & 0.0 & \\cdots & 0.0 & 0.0 & 0.354 & -0.354j & 0.0\\\\0.0 & 0.0 & 0.0 & 0.0 & 0.354 & \\cdots & -0.354j & 0.0 & 0.0 & 0.0 & 0.0\\\\0.0 & 0.0 & 0.0 & 0.0 & 0.0 & \\cdots & 0.0 & 0.0 & 0.0 & 0.0 & 0.0\\\\0.0 & 0.0 & 0.0 & 0.0 & 0.0 & \\cdots & 0.0 & 0.0 & 0.0 & 0.0 & 0.0\\\\\\vdots & \\vdots & \\vdots & \\vdots & \\vdots & \\ddots & \\vdots & \\vdots & \\vdots & \\vdots & \\vdots\\\\0.0 & 0.0 & 0.0 & 0.0 & 0.0 & \\cdots & 0.0 & 0.0 & 0.0 & 0.0 & 0.0\\\\0.0 & 0.0 & 0.0 & 0.0 & 0.0 & \\cdots & 0.0 & 0.0 & 0.0 & 0.0 & 0.0\\\\0.0 & 0.0 & 0.0 & 0.0 & 0.354 & \\cdots & 0.354j & 0.0 & 0.0 & 0.0 & 0.0\\\\0.0 & 0.354 & 0.354j & 0.0 & 0.0 & \\cdots & 0.0 & 0.0 & 0.354 & 0.354j & 0.0\\\\0.354 & 0.0 & 0.0 & -0.354 & 0.0 & \\cdots & 0.0 & 0.354 & 0.0 & 0.0 & -0.354\\\\\\end{array}\\right)\\end{equation*}"
      ],
      "text/plain": [
       "PyObject Quantum object: dims = [[[2, 2, 2], [2, 2, 2]], [[2, 2, 2], [2, 2, 2]]], shape = [64, 64], type = super, isherm = False\n",
       "Qobj data =\n",
       "[[ 0.35355339+0.j          0.00000000+0.j          0.00000000+0.j         ...,\n",
       "   0.00000000+0.j          0.00000000+0.j          0.35355339+0.j        ]\n",
       " [ 0.00000000+0.j          0.35355339+0.j          0.00000000-0.35355339j\n",
       "  ...,  0.35355339+0.j          0.00000000-0.35355339j  0.00000000+0.j        ]\n",
       " [ 0.00000000+0.j          0.00000000+0.j          0.00000000+0.j         ...,\n",
       "   0.00000000+0.j          0.00000000+0.j          0.00000000+0.j        ]\n",
       " ..., \n",
       " [ 0.00000000+0.j          0.00000000+0.j          0.00000000+0.j         ...,\n",
       "   0.00000000+0.j          0.00000000+0.j          0.00000000+0.j        ]\n",
       " [ 0.00000000+0.j          0.35355339+0.j          0.00000000+0.35355339j\n",
       "  ...,  0.35355339+0.j          0.00000000+0.35355339j  0.00000000+0.j        ]\n",
       " [ 0.35355339+0.j          0.00000000+0.j          0.00000000+0.j         ...,\n",
       "   0.00000000+0.j          0.00000000+0.j         -0.35355339+0.j        ]]"
      ]
     },
     "execution_count": 325,
     "metadata": {},
     "output_type": "execute_result"
    }
   ],
   "source": [
    "ts=qt.qeye(4)\n",
    "sqobj=qt.to_super(ts)\n",
    "nq=int(np.log2((sqobj[:shape])[1]/2))\n",
    "B=pycall(qt.superop_reps[\"_pauli_basis\"],PyAny,nq)\n",
    "sq=np.sqrt(2^nq)\n",
    "B=pyeval(\"B/sq\",PyAny,B=B,nq=nq,sq=sq)\n",
    "       "
   ]
  },
  {
   "cell_type": "code",
   "execution_count": 326,
   "metadata": {
    "collapsed": false
   },
   "outputs": [
    {
     "data": {
      "text/plain": [
       "2x2x3 Array{Any,3}:\n",
       "[:, :, 1] =\n",
       " 2  2\n",
       " 2  2\n",
       "\n",
       "[:, :, 2] =\n",
       " 2  2\n",
       " 2  2\n",
       "\n",
       "[:, :, 3] =\n",
       " 2  2\n",
       " 2  2"
      ]
     },
     "execution_count": 326,
     "metadata": {},
     "output_type": "execute_result"
    }
   ],
   "source": [
    "B[:dims]"
   ]
  },
  {
   "cell_type": "code",
   "execution_count": 327,
   "metadata": {
    "collapsed": false
   },
   "outputs": [
    {
     "data": {
      "text/latex": [
       "Quantum object: dims = [[[4], [4]], [[4], [4]]], shape = [16, 16], type = super, isherm = True\\begin{equation*}\\left(\\begin{array}{*{11}c}1.0 & 0.0 & 0.0 & 0.0 & 0.0 & \\cdots & 0.0 & 0.0 & 0.0 & 0.0 & 0.0\\\\0.0 & 1.0 & 0.0 & 0.0 & 0.0 & \\cdots & 0.0 & 0.0 & 0.0 & 0.0 & 0.0\\\\0.0 & 0.0 & 1.0 & 0.0 & 0.0 & \\cdots & 0.0 & 0.0 & 0.0 & 0.0 & 0.0\\\\0.0 & 0.0 & 0.0 & 1.0 & 0.0 & \\cdots & 0.0 & 0.0 & 0.0 & 0.0 & 0.0\\\\0.0 & 0.0 & 0.0 & 0.0 & 1.0 & \\cdots & 0.0 & 0.0 & 0.0 & 0.0 & 0.0\\\\\\vdots & \\vdots & \\vdots & \\vdots & \\vdots & \\ddots & \\vdots & \\vdots & \\vdots & \\vdots & \\vdots\\\\0.0 & 0.0 & 0.0 & 0.0 & 0.0 & \\cdots & 1.0 & 0.0 & 0.0 & 0.0 & 0.0\\\\0.0 & 0.0 & 0.0 & 0.0 & 0.0 & \\cdots & 0.0 & 1.0 & 0.0 & 0.0 & 0.0\\\\0.0 & 0.0 & 0.0 & 0.0 & 0.0 & \\cdots & 0.0 & 0.0 & 1.0 & 0.0 & 0.0\\\\0.0 & 0.0 & 0.0 & 0.0 & 0.0 & \\cdots & 0.0 & 0.0 & 0.0 & 1.0 & 0.0\\\\0.0 & 0.0 & 0.0 & 0.0 & 0.0 & \\cdots & 0.0 & 0.0 & 0.0 & 0.0 & 1.0\\\\\\end{array}\\right)\\end{equation*}"
      ],
      "text/plain": [
       "PyObject Quantum object: dims = [[[4], [4]], [[4], [4]]], shape = [16, 16], type = super, isherm = True\n",
       "Qobj data =\n",
       "[[ 1.  0.  0.  0.  0.  0.  0.  0.  0.  0.  0.  0.  0.  0.  0.  0.]\n",
       " [ 0.  1.  0.  0.  0.  0.  0.  0.  0.  0.  0.  0.  0.  0.  0.  0.]\n",
       " [ 0.  0.  1.  0.  0.  0.  0.  0.  0.  0.  0.  0.  0.  0.  0.  0.]\n",
       " [ 0.  0.  0.  1.  0.  0.  0.  0.  0.  0.  0.  0.  0.  0.  0.  0.]\n",
       " [ 0.  0.  0.  0.  1.  0.  0.  0.  0.  0.  0.  0.  0.  0.  0.  0.]\n",
       " [ 0.  0.  0.  0.  0.  1.  0.  0.  0.  0.  0.  0.  0.  0.  0.  0.]\n",
       " [ 0.  0.  0.  0.  0.  0.  1.  0.  0.  0.  0.  0.  0.  0.  0.  0.]\n",
       " [ 0.  0.  0.  0.  0.  0.  0.  1.  0.  0.  0.  0.  0.  0.  0.  0.]\n",
       " [ 0.  0.  0.  0.  0.  0.  0.  0.  1.  0.  0.  0.  0.  0.  0.  0.]\n",
       " [ 0.  0.  0.  0.  0.  0.  0.  0.  0.  1.  0.  0.  0.  0.  0.  0.]\n",
       " [ 0.  0.  0.  0.  0.  0.  0.  0.  0.  0.  1.  0.  0.  0.  0.  0.]\n",
       " [ 0.  0.  0.  0.  0.  0.  0.  0.  0.  0.  0.  1.  0.  0.  0.  0.]\n",
       " [ 0.  0.  0.  0.  0.  0.  0.  0.  0.  0.  0.  0.  1.  0.  0.  0.]\n",
       " [ 0.  0.  0.  0.  0.  0.  0.  0.  0.  0.  0.  0.  0.  1.  0.  0.]\n",
       " [ 0.  0.  0.  0.  0.  0.  0.  0.  0.  0.  0.  0.  0.  0.  1.  0.]\n",
       " [ 0.  0.  0.  0.  0.  0.  0.  0.  0.  0.  0.  0.  0.  0.  0.  1.]]"
      ]
     },
     "execution_count": 327,
     "metadata": {},
     "output_type": "execute_result"
    }
   ],
   "source": [
    "sqobj=qt.to_super(ts)\n",
    "sqobj[:dims]\n",
    "sqobj"
   ]
  },
  {
   "cell_type": "code",
   "execution_count": 300,
   "metadata": {
    "collapsed": false
   },
   "outputs": [
    {
     "data": {
      "text/plain": [
       "unitarity (generic function with 1 method)"
      ]
     },
     "execution_count": 300,
     "metadata": {},
     "output_type": "execute_result"
    }
   ],
   "source": [
    "function unitarity(S)\n",
    "    toD=S[:dims][1]-1\n",
    "    sp=to_superpauli(S)[:full]()[2:end,2:end]^2\n",
    "    norm(sp/toD,2)\n",
    "end"
   ]
  },
  {
   "cell_type": "code",
   "execution_count": 305,
   "metadata": {
    "collapsed": false
   },
   "outputs": [
    {
     "data": {
      "text/latex": [
       "Quantum object: dims = [[4], [4]], shape = [4, 4], type = oper, isherm = True\\begin{equation*}\\left(\\begin{array}{*{11}c}1.0 & 0.0 & 0.0 & 0.0\\\\0.0 & 1.0 & 0.0 & 0.0\\\\0.0 & 0.0 & 1.0 & 0.0\\\\0.0 & 0.0 & 0.0 & 1.0\\\\\\end{array}\\right)\\end{equation*}"
      ],
      "text/plain": [
       "PyObject Quantum object: dims = [[4], [4]], shape = [4, 4], type = oper, isherm = True\n",
       "Qobj data =\n",
       "[[ 1.  0.  0.  0.]\n",
       " [ 0.  1.  0.  0.]\n",
       " [ 0.  0.  1.  0.]\n",
       " [ 0.  0.  0.  1.]]"
      ]
     },
     "execution_count": 305,
     "metadata": {},
     "output_type": "execute_result"
    }
   ],
   "source": [
    "S=(qt.qeye(4))"
   ]
  },
  {
   "cell_type": "code",
   "execution_count": 306,
   "metadata": {
    "collapsed": false
   },
   "outputs": [
    {
     "data": {
      "text/plain": [
       "3"
      ]
     },
     "execution_count": 306,
     "metadata": {},
     "output_type": "execute_result"
    }
   ],
   "source": [
    "toD=S[:dims][1]-1"
   ]
  },
  {
   "cell_type": "code",
   "execution_count": 309,
   "metadata": {
    "collapsed": false
   },
   "outputs": [
    {
     "ename": "LoadError",
     "evalue": "PyError (:PyObject_Call) <type 'exceptions.ValueError'>\nValueError('dimension mismatch',)\n  File \"/Library/Python/2.7/site-packages/qutip/qobj.py\", line 403, in __mul__\n    out.data = self.data * other.data\n  File \"/System/Library/Frameworks/Python.framework/Versions/2.7/Extras/lib/python/scipy/sparse/base.py\", line 255, in __mul__\n    raise ValueError('dimension mismatch')\n\nwhile loading In[309], in expression starting on line 1",
     "output_type": "error",
     "traceback": [
      "PyError (:PyObject_Call) <type 'exceptions.ValueError'>\nValueError('dimension mismatch',)\n  File \"/Library/Python/2.7/site-packages/qutip/qobj.py\", line 403, in __mul__\n    out.data = self.data * other.data\n  File \"/System/Library/Frameworks/Python.framework/Versions/2.7/Extras/lib/python/scipy/sparse/base.py\", line 255, in __mul__\n    raise ValueError('dimension mismatch')\n\nwhile loading In[309], in expression starting on line 1",
      "",
      " in pyerr_check at /Users/rharper/.julia/v0.3/PyCall/src/exception.jl:58",
      " in pycall at /Users/rharper/.julia/v0.3/PyCall/src/PyCall.jl:91",
      " in to_superpauli at In[303]:12"
     ]
    }
   ],
   "source": [
    "sp=to_superpauli(S)"
   ]
  },
  {
   "cell_type": "code",
   "execution_count": null,
   "metadata": {
    "collapsed": false
   },
   "outputs": [],
   "source": []
  },
  {
   "cell_type": "code",
   "execution_count": null,
   "metadata": {
    "collapsed": false
   },
   "outputs": [],
   "source": []
  },
  {
   "cell_type": "code",
   "execution_count": 296,
   "metadata": {
    "collapsed": false
   },
   "outputs": [
    {
     "data": {
      "text/plain": [
       "2"
      ]
     },
     "execution_count": 296,
     "metadata": {},
     "output_type": "execute_result"
    }
   ],
   "source": [
    "S[:dims][1]"
   ]
  },
  {
   "cell_type": "code",
   "execution_count": 248,
   "metadata": {
    "collapsed": false
   },
   "outputs": [
    {
     "data": {
      "text/latex": [
       "Quantum object: dims = [[[2], [2]], [[2], [2]]], shape = [4, 4], type = super, isherm = True, superrep = None\\begin{equation*}\\left(\\begin{array}{*{11}c}1.000 & 0.0 & 0.0 & 0.0\\\\0.0 & 1.000 & 0.0 & 0.0\\\\0.0 & 0.0 & 1.000 & 0.0\\\\0.0 & 0.0 & 0.0 & 1.000\\\\\\end{array}\\right)\\end{equation*}"
      ],
      "text/plain": [
       "PyObject Quantum object: dims = [[[2], [2]], [[2], [2]]], shape = [4, 4], type = super, isherm = True, superrep = None\n",
       "Qobj data =\n",
       "[[ 1.  0.  0.  0.]\n",
       " [ 0.  1.  0.  0.]\n",
       " [ 0.  0.  1.  0.]\n",
       " [ 0.  0.  0.  1.]]"
      ]
     },
     "execution_count": 248,
     "metadata": {},
     "output_type": "execute_result"
    }
   ],
   "source": [
    "sqobj = pycall(B[:dag]()[\"__mul__\"],PyAny,pycall(sqobj[\"__mul__\"],PyAny,B))\n",
    "    "
   ]
  },
  {
   "cell_type": "code",
   "execution_count": 80,
   "metadata": {
    "collapsed": false
   },
   "outputs": [
    {
     "data": {
      "text/latex": [
       "Quantum object: dims = [[[2], [2]], [[2], [2]]], shape = [4, 4], type = super, isherm = False\\begin{equation*}\\left(\\begin{array}{*{11}c}1.0 & 0.0 & 0.0 & 1.0\\\\0.0 & 1.0 & -1.0j & 0.0\\\\0.0 & 1.0 & 1.0j & 0.0\\\\1.0 & 0.0 & 0.0 & -1.0\\\\\\end{array}\\right)\\end{equation*}"
      ],
      "text/plain": [
       "PyObject Quantum object: dims = [[[2], [2]], [[2], [2]]], shape = [4, 4], type = super, isherm = False\n",
       "Qobj data =\n",
       "[[ 1.+0.j  0.+0.j  0.+0.j  1.+0.j]\n",
       " [ 0.+0.j  1.+0.j  0.-1.j  0.+0.j]\n",
       " [ 0.+0.j  1.+0.j  0.+1.j  0.+0.j]\n",
       " [ 1.+0.j  0.+0.j  0.+0.j -1.+0.j]]"
      ]
     },
     "execution_count": 80,
     "metadata": {},
     "output_type": "execute_result"
    }
   ],
   "source": [
    "qt.superop_reps[:_pauli_basis](1)"
   ]
  },
  {
   "cell_type": "code",
   "execution_count": 81,
   "metadata": {
    "collapsed": false
   },
   "outputs": [
    {
     "data": {
      "text/plain": [
       "1-element Array{Int64,1}:\n",
       " 4"
      ]
     },
     "execution_count": 81,
     "metadata": {},
     "output_type": "execute_result"
    }
   ],
   "source": [
    "[2]*2"
   ]
  },
  {
   "cell_type": "code",
   "execution_count": 89,
   "metadata": {
    "collapsed": false
   },
   "outputs": [
    {
     "data": {
      "text/plain": [
       "0-dimensional Array{Int64,0}:\n",
       "2"
      ]
     },
     "execution_count": 89,
     "metadata": {},
     "output_type": "execute_result"
    }
   ],
   "source": [
    "np.array(2)"
   ]
  },
  {
   "cell_type": "code",
   "execution_count": 94,
   "metadata": {
    "collapsed": false
   },
   "outputs": [
    {
     "data": {
      "text/plain": [
       "2x2x2 Array{Int64,3}:\n",
       "[:, :, 1] =\n",
       " 140587557787872  140587441405952\n",
       " 140587441405952  140587441405952\n",
       "\n",
       "[:, :, 2] =\n",
       "                   0  0\n",
       " 4683743616760283136  0"
      ]
     },
     "execution_count": 94,
     "metadata": {},
     "output_type": "execute_result"
    }
   ],
   "source": [
    "reshape(Array(Int64,4,2),2,2,2)"
   ]
  },
  {
   "cell_type": "code",
   "execution_count": 95,
   "metadata": {
    "collapsed": false
   },
   "outputs": [],
   "source": [
    " a = rand(2,1); A = rand(2,3);"
   ]
  },
  {
   "cell_type": "code",
   "execution_count": 96,
   "metadata": {
    "collapsed": false
   },
   "outputs": [
    {
     "data": {
      "text/plain": [
       "2x1 Array{Float64,2}:\n",
       " 0.42535\n",
       " 0.38997"
      ]
     },
     "execution_count": 96,
     "metadata": {},
     "output_type": "execute_result"
    }
   ],
   "source": [
    "a"
   ]
  },
  {
   "cell_type": "code",
   "execution_count": 97,
   "metadata": {
    "collapsed": false
   },
   "outputs": [
    {
     "data": {
      "text/plain": [
       "2x3 Array{Float64,2}:\n",
       " 0.631872  0.373573  0.326729\n",
       " 0.68276   0.414178  0.674332"
      ]
     },
     "execution_count": 97,
     "metadata": {},
     "output_type": "execute_result"
    }
   ],
   "source": [
    "A\n"
   ]
  },
  {
   "cell_type": "code",
   "execution_count": 98,
   "metadata": {
    "collapsed": false
   },
   "outputs": [
    {
     "data": {
      "text/plain": [
       "2x3 Array{Float64,2}:\n",
       " 0.42535  0.42535  0.42535\n",
       " 0.38997  0.38997  0.38997"
      ]
     },
     "execution_count": 98,
     "metadata": {},
     "output_type": "execute_result"
    }
   ],
   "source": [
    "repmat(a,1,3)"
   ]
  },
  {
   "cell_type": "code",
   "execution_count": 99,
   "metadata": {
    "collapsed": false
   },
   "outputs": [
    {
     "data": {
      "text/plain": [
       "1x2 Array{Float64,2}:\n",
       " 0.728517  0.221581"
      ]
     },
     "execution_count": 99,
     "metadata": {},
     "output_type": "execute_result"
    }
   ],
   "source": [
    "b=rand(1,2)"
   ]
  },
  {
   "cell_type": "code",
   "execution_count": 100,
   "metadata": {
    "collapsed": false
   },
   "outputs": [
    {
     "data": {
      "text/plain": [
       "2x2 Array{Float64,2}:\n",
       " 1.15387  0.646931\n",
       " 1.11849  0.611551"
      ]
     },
     "execution_count": 100,
     "metadata": {},
     "output_type": "execute_result"
    }
   ],
   "source": [
    "broadcast(+,a,b)"
   ]
  },
  {
   "cell_type": "code",
   "execution_count": 101,
   "metadata": {
    "collapsed": false
   },
   "outputs": [
    {
     "ename": "LoadError",
     "evalue": "arrays could not be broadcast to a common size\nwhile loading In[101], in expression starting on line 1",
     "output_type": "error",
     "traceback": [
      "arrays could not be broadcast to a common size\nwhile loading In[101], in expression starting on line 1",
      "",
      " in broadcast_shape at broadcast.jl:40",
      " in broadcast at broadcast.jl:234"
     ]
    }
   ],
   "source": [
    "broadcast(+,b,A)"
   ]
  },
  {
   "cell_type": "code",
   "execution_count": 109,
   "metadata": {
    "collapsed": false
   },
   "outputs": [],
   "source": [
    "require(\"densePauliFunctions.jl\")"
   ]
  },
  {
   "cell_type": "code",
   "execution_count": 111,
   "metadata": {
    "collapsed": false
   },
   "outputs": [
    {
     "data": {
      "text/plain": [
       "8x2 Array{Complex{Int64},2}:\n",
       " 1+0im   0+0im\n",
       " 0+0im   1+0im\n",
       " 0+0im   1+0im\n",
       " 1+0im   0+0im\n",
       " 0+0im   0-1im\n",
       " 0+1im   0+0im\n",
       " 1+0im   0+0im\n",
       " 0+0im  -1+0im"
      ]
     },
     "execution_count": 111,
     "metadata": {},
     "output_type": "execute_result"
    }
   ],
   "source": [
    "generateFullBasePaulis()"
   ]
  },
  {
   "cell_type": "code",
   "execution_count": 112,
   "metadata": {
    "collapsed": false
   },
   "outputs": [
    {
     "name": "stdout",
     "output_type": "stream",
     "text": [
      "Get All Paulis 7\n",
      "Get All Paulis 6\n",
      "Get All Paulis 5\n",
      "Get All Paulis 4\n",
      "Get All Paulis 3\n",
      "Get All Paulis 2\n",
      "Get All Paulis 1\n",
      "Get All Paulis completed for 2\n",
      "Get All Paulis completed for 3\n",
      "Get All Paulis completed for 4\n",
      "Get All Paulis completed for 5\n",
      "Get All Paulis completed for 6\n",
      "Get All Paulis completed for 7\n"
     ]
    },
    {
     "data": {
      "text/plain": [
       "(\n",
       "16384x16384 Array{Complex{Int64},2}:\n",
       " 1+0im  0+0im  0+0im   1+0im  0+0im  …  0+0im  1+0im  0+0im  0+0im   1+0im\n",
       " 0+0im  0+0im  0+0im   0+0im  0+0im     0+0im  0+0im  0+0im  0+0im   0+0im\n",
       " 0+0im  0+0im  0+0im   0+0im  0+0im     0+0im  0+0im  0+0im  0+0im   0+0im\n",
       " 0+0im  0+0im  0+0im   0+0im  0+0im     0+0im  0+0im  0+0im  0+0im   0+0im\n",
       " 0+0im  0+0im  0+0im   0+0im  0+0im     0+0im  0+0im  0+0im  0+0im   0+0im\n",
       " 0+0im  0+0im  0+0im   0+0im  0+0im  …  0+0im  0+0im  0+0im  0+0im   0+0im\n",
       " 0+0im  0+0im  0+0im   0+0im  0+0im     0+0im  0+0im  0+0im  0+0im   0+0im\n",
       " 0+0im  0+0im  0+0im   0+0im  0+0im     0+0im  0+0im  0+0im  0+0im   0+0im\n",
       " 0+0im  0+0im  0+0im   0+0im  0+0im     0+0im  0+0im  0+0im  0+0im   0+0im\n",
       " 0+0im  0+0im  0+0im   0+0im  0+0im     0+0im  0+0im  0+0im  0+0im   0+0im\n",
       " 0+0im  0+0im  0+0im   0+0im  0+0im  …  0+0im  0+0im  0+0im  0+0im   0+0im\n",
       " 0+0im  0+0im  0+0im   0+0im  0+0im     0+0im  0+0im  0+0im  0+0im   0+0im\n",
       " 0+0im  0+0im  0+0im   0+0im  0+0im     0+0im  0+0im  0+0im  0+0im   0+0im\n",
       "  ⋮                                  ⋱          ⋮                         \n",
       " 0+0im  0+0im  0+0im   0+0im  0+0im     0+0im  0+0im  0+0im  0+0im   0+0im\n",
       " 0+0im  0+0im  0+0im   0+0im  0+0im     0+0im  0+0im  0+0im  0+0im   0+0im\n",
       " 0+0im  0+0im  0+0im   0+0im  0+0im     0+0im  0+0im  0+0im  0+0im   0+0im\n",
       " 0+0im  0+0im  0+0im   0+0im  0+0im  …  0+0im  0+0im  0+0im  0+0im   0+0im\n",
       " 0+0im  0+0im  0+0im   0+0im  0+0im     0+0im  0+0im  0+0im  0+0im   0+0im\n",
       " 0+0im  0+0im  0+0im   0+0im  0+0im     0+0im  0+0im  0+0im  0+0im   0+0im\n",
       " 0+0im  0+0im  0+0im   0+0im  0+0im     0+0im  0+0im  0+0im  0+0im   0+0im\n",
       " 0+0im  0+0im  0+0im   0+0im  0+0im     0+0im  0+0im  0+0im  0+0im   0+0im\n",
       " 0+0im  0+0im  0+0im   0+0im  0+0im  …  0+0im  0+0im  0+0im  0+0im   0+0im\n",
       " 0+0im  0+0im  0+0im   0+0im  0+0im     0+0im  0+0im  0+0im  0+0im   0+0im\n",
       " 0+0im  0+0im  0+0im   0+0im  0+0im     0+0im  0+0im  0+0im  0+0im   0+0im\n",
       " 1+0im  0+0im  0+0im  -1+0im  0+0im     0+0im  1+0im  0+0im  0+0im  -1+0im,\n",
       "\n",
       "ASCIIString[\"IIIIIII\",\"XIIIIII\",\"YIIIIII\",\"ZIIIIII\",\"IXIIIII\",\"XXIIIII\",\"YXIIIII\",\"ZXIIIII\",\"IYIIIII\",\"XYIIIII\"  …  \"YXZZZZZ\",\"ZXZZZZZ\",\"IYZZZZZ\",\"XYZZZZZ\",\"YYZZZZZ\",\"ZYZZZZZ\",\"IZZZZZZ\",\"XZZZZZZ\",\"YZZZZZZ\",\"ZZZZZZZ\"])"
      ]
     },
     "execution_count": 112,
     "metadata": {},
     "output_type": "execute_result"
    }
   ],
   "source": [
    "getAllPaulis(7)"
   ]
  },
  {
   "cell_type": "code",
   "execution_count": 114,
   "metadata": {
    "collapsed": false
   },
   "outputs": [
    {
     "data": {
      "text/plain": [
       "(\n",
       "16384x16384 Array{Complex{Int64},2}:\n",
       " 1+0im  0+0im  0+0im   1+0im  0+0im  …  0+0im  1+0im  0+0im  0+0im   1+0im\n",
       " 0+0im  0+0im  0+0im   0+0im  0+0im     0+0im  0+0im  0+0im  0+0im   0+0im\n",
       " 0+0im  0+0im  0+0im   0+0im  0+0im     0+0im  0+0im  0+0im  0+0im   0+0im\n",
       " 0+0im  0+0im  0+0im   0+0im  0+0im     0+0im  0+0im  0+0im  0+0im   0+0im\n",
       " 0+0im  0+0im  0+0im   0+0im  0+0im     0+0im  0+0im  0+0im  0+0im   0+0im\n",
       " 0+0im  0+0im  0+0im   0+0im  0+0im  …  0+0im  0+0im  0+0im  0+0im   0+0im\n",
       " 0+0im  0+0im  0+0im   0+0im  0+0im     0+0im  0+0im  0+0im  0+0im   0+0im\n",
       " 0+0im  0+0im  0+0im   0+0im  0+0im     0+0im  0+0im  0+0im  0+0im   0+0im\n",
       " 0+0im  0+0im  0+0im   0+0im  0+0im     0+0im  0+0im  0+0im  0+0im   0+0im\n",
       " 0+0im  0+0im  0+0im   0+0im  0+0im     0+0im  0+0im  0+0im  0+0im   0+0im\n",
       " 0+0im  0+0im  0+0im   0+0im  0+0im  …  0+0im  0+0im  0+0im  0+0im   0+0im\n",
       " 0+0im  0+0im  0+0im   0+0im  0+0im     0+0im  0+0im  0+0im  0+0im   0+0im\n",
       " 0+0im  0+0im  0+0im   0+0im  0+0im     0+0im  0+0im  0+0im  0+0im   0+0im\n",
       "  ⋮                                  ⋱          ⋮                         \n",
       " 0+0im  0+0im  0+0im   0+0im  0+0im     0+0im  0+0im  0+0im  0+0im   0+0im\n",
       " 0+0im  0+0im  0+0im   0+0im  0+0im     0+0im  0+0im  0+0im  0+0im   0+0im\n",
       " 0+0im  0+0im  0+0im   0+0im  0+0im     0+0im  0+0im  0+0im  0+0im   0+0im\n",
       " 0+0im  0+0im  0+0im   0+0im  0+0im  …  0+0im  0+0im  0+0im  0+0im   0+0im\n",
       " 0+0im  0+0im  0+0im   0+0im  0+0im     0+0im  0+0im  0+0im  0+0im   0+0im\n",
       " 0+0im  0+0im  0+0im   0+0im  0+0im     0+0im  0+0im  0+0im  0+0im   0+0im\n",
       " 0+0im  0+0im  0+0im   0+0im  0+0im     0+0im  0+0im  0+0im  0+0im   0+0im\n",
       " 0+0im  0+0im  0+0im   0+0im  0+0im     0+0im  0+0im  0+0im  0+0im   0+0im\n",
       " 0+0im  0+0im  0+0im   0+0im  0+0im  …  0+0im  0+0im  0+0im  0+0im   0+0im\n",
       " 0+0im  0+0im  0+0im   0+0im  0+0im     0+0im  0+0im  0+0im  0+0im   0+0im\n",
       " 0+0im  0+0im  0+0im   0+0im  0+0im     0+0im  0+0im  0+0im  0+0im   0+0im\n",
       " 1+0im  0+0im  0+0im  -1+0im  0+0im     0+0im  1+0im  0+0im  0+0im  -1+0im,\n",
       "\n",
       "ASCIIString[\"IIIIIII\",\"XIIIIII\",\"YIIIIII\",\"ZIIIIII\",\"IXIIIII\",\"XXIIIII\",\"YXIIIII\",\"ZXIIIII\",\"IYIIIII\",\"XYIIIII\"  …  \"YXZZZZZ\",\"ZXZZZZZ\",\"IYZZZZZ\",\"XYZZZZZ\",\"YYZZZZZ\",\"ZYZZZZZ\",\"IZZZZZZ\",\"XZZZZZZ\",\"YZZZZZZ\",\"ZZZZZZZ\"])"
      ]
     },
     "execution_count": 114,
     "metadata": {},
     "output_type": "execute_result"
    }
   ],
   "source": [
    "sevenBitP = ans"
   ]
  },
  {
   "cell_type": "code",
   "execution_count": 126,
   "metadata": {
    "collapsed": false
   },
   "outputs": [
    {
     "data": {
      "text/plain": [
       "(16384,16384)"
      ]
     },
     "execution_count": 126,
     "metadata": {},
     "output_type": "execute_result"
    }
   ],
   "source": [
    "size(sevenBitP[1])"
   ]
  },
  {
   "cell_type": "code",
   "execution_count": 127,
   "metadata": {
    "collapsed": false
   },
   "outputs": [
    {
     "data": {
      "text/plain": [
       "1x16384 Array{Complex{Int64},2}:\n",
       " 1+0im  0+0im  0+0im  -1+0im  0+0im  …  0+0im  1+0im  0+0im  0+0im  -1+0im"
      ]
     },
     "execution_count": 127,
     "metadata": {},
     "output_type": "execute_result"
    }
   ],
   "source": [
    "sevenBitP[1][16384,:]"
   ]
  },
  {
   "cell_type": "code",
   "execution_count": 128,
   "metadata": {
    "collapsed": false
   },
   "outputs": [
    {
     "ename": "LoadError",
     "evalue": "pz not defined\nwhile loading In[128], in expression starting on line 1",
     "output_type": "error",
     "traceback": [
      "pz not defined\nwhile loading In[128], in expression starting on line 1",
      ""
     ]
    }
   ],
   "source": [
    "pz"
   ]
  },
  {
   "cell_type": "code",
   "execution_count": 130,
   "metadata": {
    "collapsed": false
   },
   "outputs": [
    {
     "ename": "LoadError",
     "evalue": "z not defined\nwhile loading In[130], in expression starting on line 1",
     "output_type": "error",
     "traceback": [
      "z not defined\nwhile loading In[130], in expression starting on line 1",
      ""
     ]
    }
   ],
   "source": [
    "z"
   ]
  },
  {
   "cell_type": "code",
   "execution_count": 131,
   "metadata": {
    "collapsed": false
   },
   "outputs": [
    {
     "data": {
      "text/plain": [
       "2x2 Array{Int64,2}:\n",
       " 1   0\n",
       " 0  -1"
      ]
     },
     "execution_count": 131,
     "metadata": {},
     "output_type": "execute_result"
    }
   ],
   "source": [
    "pz=[1 0;0 -1]"
   ]
  },
  {
   "cell_type": "code",
   "execution_count": 132,
   "metadata": {
    "collapsed": false
   },
   "outputs": [
    {
     "data": {
      "text/plain": [
       "8x8 Array{Int64,2}:\n",
       " 1   0   0  0   0  0  0   0\n",
       " 0  -1   0  0   0  0  0   0\n",
       " 0   0  -1  0   0  0  0   0\n",
       " 0   0   0  1   0  0  0   0\n",
       " 0   0   0  0  -1  0  0   0\n",
       " 0   0   0  0   0  1  0   0\n",
       " 0   0   0  0   0  0  1   0\n",
       " 0   0   0  0   0  0  0  -1"
      ]
     },
     "execution_count": 132,
     "metadata": {},
     "output_type": "execute_result"
    }
   ],
   "source": [
    "kron(pz,kron(pz,pz))"
   ]
  },
  {
   "cell_type": "code",
   "execution_count": 143,
   "metadata": {
    "collapsed": false
   },
   "outputs": [
    {
     "data": {
      "text/latex": [
       "Quantum object: dims = [[[2], [2]], [[2], [2]]], shape = [4, 4], type = super, isherm = False\\begin{equation*}\\left(\\begin{array}{*{11}c}1.0 & 0.0 & 0.0 & 1.0\\\\0.0 & 1.0 & -1.0j & 0.0\\\\0.0 & 1.0 & 1.0j & 0.0\\\\1.0 & 0.0 & 0.0 & -1.0\\\\\\end{array}\\right)\\end{equation*}"
      ],
      "text/plain": [
       "PyObject Quantum object: dims = [[[2], [2]], [[2], [2]]], shape = [4, 4], type = super, isherm = False\n",
       "Qobj data =\n",
       "[[ 1.+0.j  0.+0.j  0.+0.j  1.+0.j]\n",
       " [ 0.+0.j  1.+0.j  0.-1.j  0.+0.j]\n",
       " [ 0.+0.j  1.+0.j  0.+1.j  0.+0.j]\n",
       " [ 1.+0.j  0.+0.j  0.+0.j -1.+0.j]]"
      ]
     },
     "execution_count": 143,
     "metadata": {},
     "output_type": "execute_result"
    }
   ],
   "source": [
    "pycall(qt.superop_reps[\"_pauli_basis\"],PyAny,1)"
   ]
  },
  {
   "cell_type": "code",
   "execution_count": 144,
   "metadata": {
    "collapsed": false
   },
   "outputs": [
    {
     "data": {
      "text/latex": [
       "Quantum object: dims = [[[2], [2]], [[2], [2]]], shape = [4, 4], type = super, isherm = False\\begin{equation*}\\left(\\begin{array}{*{11}c}1.0 & 0.0 & 0.0 & 1.0\\\\0.0 & 1.0 & -1.0j & 0.0\\\\0.0 & 1.0 & 1.0j & 0.0\\\\1.0 & 0.0 & 0.0 & -1.0\\\\\\end{array}\\right)\\end{equation*}"
      ],
      "text/plain": [
       "PyObject Quantum object: dims = [[[2], [2]], [[2], [2]]], shape = [4, 4], type = super, isherm = False\n",
       "Qobj data =\n",
       "[[ 1.+0.j  0.+0.j  0.+0.j  1.+0.j]\n",
       " [ 0.+0.j  1.+0.j  0.-1.j  0.+0.j]\n",
       " [ 0.+0.j  1.+0.j  0.+1.j  0.+0.j]\n",
       " [ 1.+0.j  0.+0.j  0.+0.j -1.+0.j]]"
      ]
     },
     "execution_count": 144,
     "metadata": {},
     "output_type": "execute_result"
    }
   ],
   "source": [
    "qt.superop_reps[:_pauli_basis](1)"
   ]
  },
  {
   "cell_type": "code",
   "execution_count": 145,
   "metadata": {
    "collapsed": false
   },
   "outputs": [
    {
     "data": {
      "text/latex": [
       "Quantum object: dims = [[2], [2]], shape = [2, 2], type = oper, isherm = True\\begin{equation*}\\left(\\begin{array}{*{11}c}0.0 & 1.0\\\\1.0 & 0.0\\\\\\end{array}\\right)\\end{equation*}"
      ],
      "text/plain": [
       "PyObject Quantum object: dims = [[2], [2]], shape = [2, 2], type = oper, isherm = True\n",
       "Qobj data =\n",
       "[[ 0.  1.]\n",
       " [ 1.  0.]]"
      ]
     },
     "execution_count": 145,
     "metadata": {},
     "output_type": "execute_result"
    }
   ],
   "source": [
    "qt.sigmax()"
   ]
  },
  {
   "cell_type": "code",
   "execution_count": 151,
   "metadata": {
    "collapsed": false
   },
   "outputs": [
    {
     "data": {
      "text/latex": [
       "Quantum object: dims = [[[2], [2]], [[2], [2]]], shape = [4, 4], type = super, isherm = True\\begin{equation*}\\left(\\begin{array}{*{11}c}0.0 & 0.0 & 0.0 & 1.0\\\\0.0 & 0.0 & 1.0 & 0.0\\\\0.0 & 1.0 & 0.0 & 0.0\\\\1.0 & 0.0 & 0.0 & 0.0\\\\\\end{array}\\right)\\end{equation*}"
      ],
      "text/plain": [
       "PyObject Quantum object: dims = [[[2], [2]], [[2], [2]]], shape = [4, 4], type = super, isherm = True\n",
       "Qobj data =\n",
       "[[ 0.  0.  0.  1.]\n",
       " [ 0.  0.  1.  0.]\n",
       " [ 0.  1.  0.  0.]\n",
       " [ 1.  0.  0.  0.]]"
      ]
     },
     "execution_count": 151,
     "metadata": {},
     "output_type": "execute_result"
    }
   ],
   "source": [
    "SX=qt.to_super(qt.sigmax())"
   ]
  },
  {
   "cell_type": "code",
   "execution_count": 148,
   "metadata": {
    "collapsed": false
   },
   "outputs": [
    {
     "data": {
      "text/latex": [
       "Quantum object: dims = [[[2], [2]], [[2], [2]]], shape = [4, 4], type = super, isherm = False\\begin{equation*}\\left(\\begin{array}{*{11}c}1.0 & 0.0 & 0.0 & 1.0\\\\0.0 & 1.0 & -1.0j & 0.0\\\\0.0 & 1.0 & 1.0j & 0.0\\\\1.0 & 0.0 & 0.0 & -1.0\\\\\\end{array}\\right)\\end{equation*}"
      ],
      "text/plain": [
       "PyObject Quantum object: dims = [[[2], [2]], [[2], [2]]], shape = [4, 4], type = super, isherm = False\n",
       "Qobj data =\n",
       "[[ 1.+0.j  0.+0.j  0.+0.j  1.+0.j]\n",
       " [ 0.+0.j  1.+0.j  0.-1.j  0.+0.j]\n",
       " [ 0.+0.j  1.+0.j  0.+1.j  0.+0.j]\n",
       " [ 1.+0.j  0.+0.j  0.+0.j -1.+0.j]]"
      ]
     },
     "execution_count": 148,
     "metadata": {},
     "output_type": "execute_result"
    }
   ],
   "source": [
    "B=pycall(qt.superop_reps[\"_pauli_basis\"],PyObject,1)"
   ]
  },
  {
   "cell_type": "code",
   "execution_count": 169,
   "metadata": {
    "collapsed": false
   },
   "outputs": [
    {
     "data": {
      "text/plain": [
       "4x4 Array{Complex{Float64},2}:\n",
       " 1.0+0.0im  0.0+0.0im   0.0+0.0im   0.0+0.0im\n",
       " 0.0+0.0im  1.0+0.0im   0.0+0.0im   0.0+0.0im\n",
       " 0.0+0.0im  0.0+0.0im  -1.0+0.0im   0.0+0.0im\n",
       " 0.0+0.0im  0.0+0.0im   0.0+0.0im  -1.0+0.0im"
      ]
     },
     "execution_count": 169,
     "metadata": {},
     "output_type": "execute_result"
    }
   ],
   "source": [
    "get(pyeval(\"A*B*C\",PyAny,A=B[:dag](),B=(SX),C=B),[0,1,2,3])/2"
   ]
  },
  {
   "cell_type": "code",
   "execution_count": 173,
   "metadata": {
    "collapsed": false
   },
   "outputs": [
    {
     "ename": "LoadError",
     "evalue": "operator not defined\nwhile loading In[173], in expression starting on line 1",
     "output_type": "error",
     "traceback": [
      "operator not defined\nwhile loading In[173], in expression starting on line 1",
      ""
     ]
    }
   ],
   "source": [
    "pycall(operator.mul,PyAny,qt.to_super(qt.sigmax()),qt.to_super(qt.sigmax()))"
   ]
  },
  {
   "cell_type": "code",
   "execution_count": 176,
   "metadata": {
    "collapsed": false
   },
   "outputs": [
    {
     "ename": "LoadError",
     "evalue": "key not found: \"operator.mul\"\nwhile loading In[176], in expression starting on line 1",
     "output_type": "error",
     "traceback": [
      "key not found: \"operator.mul\"\nwhile loading In[176], in expression starting on line 1",
      "",
      " in getindex at /Users/rharper/.julia/v0.3/PyCall/src/PyCall.jl:246",
      " in pybuiltin at /Users/rharper/.julia/v0.3/PyCall/src/PyCall.jl:376"
     ]
    }
   ],
   "source": [
    "pybuiltin(\"operator.mul\")"
   ]
  },
  {
   "cell_type": "code",
   "execution_count": 177,
   "metadata": {
    "collapsed": false
   },
   "outputs": [
    {
     "data": {
      "text/latex": [
       "Quantum object: dims = [[[2], [2]], [[2], [2]]], shape = [4, 4], type = super, isherm = False\\begin{equation*}\\left(\\begin{array}{*{11}c}1.0 & 0.0 & 0.0 & 1.0\\\\0.0 & 1.0 & -1.0j & 0.0\\\\0.0 & 1.0 & 1.0j & 0.0\\\\1.0 & 0.0 & 0.0 & -1.0\\\\\\end{array}\\right)\\end{equation*}"
      ],
      "text/plain": [
       "PyObject Quantum object: dims = [[[2], [2]], [[2], [2]]], shape = [4, 4], type = super, isherm = False\n",
       "Qobj data =\n",
       "[[ 1.+0.j  0.+0.j  0.+0.j  1.+0.j]\n",
       " [ 0.+0.j  1.+0.j  0.-1.j  0.+0.j]\n",
       " [ 0.+0.j  1.+0.j  0.+1.j  0.+0.j]\n",
       " [ 1.+0.j  0.+0.j  0.+0.j -1.+0.j]]"
      ]
     },
     "execution_count": 177,
     "metadata": {},
     "output_type": "execute_result"
    }
   ],
   "source": [
    "B"
   ]
  },
  {
   "cell_type": "code",
   "execution_count": 188,
   "metadata": {
    "collapsed": false
   },
   "outputs": [
    {
     "ename": "LoadError",
     "evalue": "key not found: \"__array_interface__\"\nwhile loading In[188], in expression starting on line 1",
     "output_type": "error",
     "traceback": [
      "key not found: \"__array_interface__\"\nwhile loading In[188], in expression starting on line 1",
      "",
      " in getindex at /Users/rharper/.julia/v0.3/PyCall/src/PyCall.jl:246",
      " in PyArray_Info at /Users/rharper/.julia/v0.3/PyCall/src/numpy.jl:215",
      " in pycall at /Users/rharper/.julia/v0.3/PyCall/src/PyCall.jl:403"
     ]
    }
   ],
   "source": [
    "pycall((B[:dag]()[:__mul__](qt.to_super(qt.sigmax()))[\"__mul__\"]),PyArray,B)"
   ]
  },
  {
   "cell_type": "code",
   "execution_count": 229,
   "metadata": {
    "collapsed": false
   },
   "outputs": [
    {
     "data": {
      "text/plain": [
       "4x4 Array{Complex{Float64},2}:\n",
       "  1.0+0.0im  0.0+0.0im  0.0+0.0im  1.0+0.0im\n",
       "  0.0+0.0im  0.0-1.0im  1.0+0.0im  0.0+0.0im\n",
       "  0.0+0.0im  0.0+1.0im  1.0+0.0im  0.0+0.0im\n",
       " -1.0+0.0im  0.0+0.0im  0.0+0.0im  1.0+0.0im"
      ]
     },
     "execution_count": 229,
     "metadata": {},
     "output_type": "execute_result"
    }
   ],
   "source": [
    "pycall(B[\"__mul__\"],PyAny,(qt.to_super(qt.sigmax())))[:full]()"
   ]
  },
  {
   "cell_type": "code",
   "execution_count": 219,
   "metadata": {
    "collapsed": false
   },
   "outputs": [
    {
     "ename": "LoadError",
     "evalue": "dimensions must match\nwhile loading In[219], in expression starting on line 1",
     "output_type": "error",
     "traceback": [
      "dimensions must match\nwhile loading In[219], in expression starting on line 1",
      "",
      " in map at abstractarray.jl:1352"
     ]
    }
   ],
   "source": [
    "map((x,y)->x^2+3*y,[2,2,2],[3,4])"
   ]
  },
  {
   "cell_type": "code",
   "execution_count": 357,
   "metadata": {
    "collapsed": false
   },
   "outputs": [
    {
     "data": {
      "text/plain": [
       "(anonymous function)"
      ]
     },
     "execution_count": 357,
     "metadata": {},
     "output_type": "execute_result"
    }
   ],
   "source": [
    "make_count = function()\n",
    "    count = 0\n",
    "    function()\n",
    "        so_far=count\n",
    "        count +=1\n",
    "        so_far\n",
    "    end\n",
    "end\n"
   ]
  },
  {
   "cell_type": "code",
   "execution_count": 359,
   "metadata": {
    "collapsed": false
   },
   "outputs": [
    {
     "data": {
      "text/plain": [
       "(anonymous function)"
      ]
     },
     "execution_count": 359,
     "metadata": {},
     "output_type": "execute_result"
    }
   ],
   "source": [
    "a=make_count()"
   ]
  },
  {
   "cell_type": "code",
   "execution_count": 367,
   "metadata": {
    "collapsed": false
   },
   "outputs": [
    {
     "data": {
      "text/plain": [
       "5"
      ]
     },
     "execution_count": 367,
     "metadata": {},
     "output_type": "execute_result"
    }
   ],
   "source": [
    "a()"
   ]
  },
  {
   "cell_type": "code",
   "execution_count": 365,
   "metadata": {
    "collapsed": false
   },
   "outputs": [
    {
     "data": {
      "text/plain": [
       "(anonymous function)"
      ]
     },
     "execution_count": 365,
     "metadata": {},
     "output_type": "execute_result"
    }
   ],
   "source": [
    "b=make_count()"
   ]
  },
  {
   "cell_type": "code",
   "execution_count": 368,
   "metadata": {
    "collapsed": false
   },
   "outputs": [
    {
     "data": {
      "text/plain": [
       "1"
      ]
     },
     "execution_count": 368,
     "metadata": {},
     "output_type": "execute_result"
    }
   ],
   "source": [
    "b()"
   ]
  },
  {
   "cell_type": "code",
   "execution_count": null,
   "metadata": {
    "collapsed": false
   },
   "outputs": [],
   "source": []
  }
 ],
 "metadata": {
  "kernelspec": {
   "display_name": "Julia 0.3.9",
   "language": "julia",
   "name": "julia-0.3"
  },
  "language_info": {
   "name": "julia",
   "version": "0.3.9"
  }
 },
 "nbformat": 4,
 "nbformat_minor": 0
}
