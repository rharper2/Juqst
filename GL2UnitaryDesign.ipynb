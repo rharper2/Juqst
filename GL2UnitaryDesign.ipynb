{
 "cells": [
  {
   "cell_type": "markdown",
   "metadata": {},
   "source": [
    "##Some preliminaries, you will need \n",
    "- package Match (Pkg.add(\"Match\")) \n",
    "- PyCall\n",
    "- a working Python, with scipy, numpy and qutip installed."
   ]
  },
  {
   "cell_type": "code",
   "execution_count": 166,
   "metadata": {
    "collapsed": false
   },
   "outputs": [],
   "source": [
    "reload(\"PTSM.jl\")\n",
    "reload(\"Initial.jl\")\n",
    "reload(\"Symplectic.jl\")"
   ]
  },
  {
   "cell_type": "code",
   "execution_count": 2,
   "metadata": {
    "collapsed": false
   },
   "outputs": [],
   "source": [
    "using PyCall"
   ]
  },
  {
   "cell_type": "markdown",
   "metadata": {},
   "source": [
    "### Going to use python qutip to convert into superoperators"
   ]
  },
  {
   "cell_type": "code",
   "execution_count": 3,
   "metadata": {
    "collapsed": false
   },
   "outputs": [],
   "source": [
    "@pyimport scipy.optimize as so\n",
    "@pyimport numpy as np\n",
    "@pyimport matplotlib.pyplot as plt\n",
    "@pyimport qutip as qt\n",
    "@pyimport numpy.linalg as la"
   ]
  },
  {
   "cell_type": "markdown",
   "metadata": {},
   "source": [
    "## We need to get the Python finite field package working"
   ]
  },
  {
   "cell_type": "code",
   "execution_count": 4,
   "metadata": {
    "collapsed": true
   },
   "outputs": [],
   "source": [
    "unshift!(PyVector(pyimport(\"sys\")[\"path\"]), \"./finite-fields/\")\n",
    "@pyimport finitefield as ff"
   ]
  },
  {
   "cell_type": "code",
   "execution_count": 5,
   "metadata": {
    "collapsed": false
   },
   "outputs": [
    {
     "name": "stdout",
     "output_type": "stream",
     "text": [
      "1 + 0 x^1 + 1 x^2\n",
      "0 + 0 x^1 + 1 x^2\n",
      "0 + 0 x^1 + 1 x^2\n",
      "0 + 1 x^1 + 1 x^2\n",
      "0 + 0 x^1 + 1 x^2\n",
      "1 + 0 x^1 + 1 x^2\n",
      "0 + 1 x^1 + 1 x^2\n",
      "1 + 0 x^1 + 1 x^2\n",
      "0 + 0 x^1 + 1 x^2\n",
      "1 + 1 x^1 + 1 x^2\n"
     ]
    },
    {
     "data": {
      "text/plain": [
       "fn (generic function with 1 method)"
      ]
     },
     "execution_count": 5,
     "metadata": {},
     "output_type": "execute_result"
    }
   ],
   "source": [
    "F22 = ff.FiniteField(2,2)"
   ]
  },
  {
   "cell_type": "code",
   "execution_count": 7,
   "metadata": {
    "collapsed": false
   },
   "outputs": [],
   "source": [
    "@pyimport SLFunctions as sl\n"
   ]
  },
  {
   "cell_type": "code",
   "execution_count": 107,
   "metadata": {
    "collapsed": false
   },
   "outputs": [
    {
     "data": {
      "text/plain": [
       "getStabilisers (generic function with 1 method)"
      ]
     },
     "execution_count": 107,
     "metadata": {},
     "output_type": "execute_result"
    }
   ],
   "source": [
    "function getStabilisers()\n",
    "    jstabs=Array{Int64,2}[]\n",
    "    stabs = sl.getF2Stabilisers()\n",
    "    for i in 1:60\n",
    "        push!(jstabs,reshape(stabs[i,:,:],4,4))\n",
    "    end\n",
    "    return jstabs\n",
    "end\n"
   ]
  },
  {
   "cell_type": "code",
   "execution_count": 108,
   "metadata": {
    "collapsed": false
   },
   "outputs": [
    {
     "data": {
      "text/plain": [
       "60-element Array{Array{Int64,2},1}:\n",
       " 4x4 Array{Int64,2}:\n",
       " 0  0  1  0\n",
       " 0  0  0  1\n",
       " 1  0  0  0\n",
       " 0  1  0  0\n",
       " 4x4 Array{Int64,2}:\n",
       " 0  0  1  0\n",
       " 0  0  0  1\n",
       " 1  0  0  1\n",
       " 0  1  1  1\n",
       " 4x4 Array{Int64,2}:\n",
       " 0  0  1  0\n",
       " 0  0  0  1\n",
       " 1  0  1  0\n",
       " 0  1  0  1\n",
       " 4x4 Array{Int64,2}:\n",
       " 0  0  1  0\n",
       " 0  0  0  1\n",
       " 1  0  1  1\n",
       " 0  1  1  0\n",
       " 4x4 Array{Int64,2}:\n",
       " 0  0  0  1\n",
       " 0  0  1  1\n",
       " 1  1  0  0\n",
       " 1  0  0  0\n",
       " 4x4 Array{Int64,2}:\n",
       " 0  0  0  1\n",
       " 0  0  1  1\n",
       " 1  1  0  1\n",
       " 1  0  1  1\n",
       " 4x4 Array{Int64,2}:\n",
       " 0  0  0  1\n",
       " 0  0  1  1\n",
       " 1  1  1  0\n",
       " 1  0  0  1\n",
       " 4x4 Array{Int64,2}:\n",
       " 0  0  0  1\n",
       " 0  0  1  1\n",
       " 1  1  1  1\n",
       " 1  0  1  0\n",
       " 4x4 Array{Int64,2}:\n",
       " 0  0  1  1\n",
       " 0  0  1  0\n",
       " 0  1  0  0\n",
       " 1  1  0  0\n",
       " 4x4 Array{Int64,2}:\n",
       " 0  0  1  1\n",
       " 0  0  1  0\n",
       " 0  1  0  1\n",
       " 1  1  1  1\n",
       " 4x4 Array{Int64,2}:\n",
       " 0  0  1  1\n",
       " 0  0  1  0\n",
       " 0  1  1  0\n",
       " 1  1  0  1\n",
       " 4x4 Array{Int64,2}:\n",
       " 0  0  1  1\n",
       " 0  0  1  0\n",
       " 0  1  1  1\n",
       " 1  1  1  0\n",
       " 4x4 Array{Int64,2}:\n",
       " 0  1  0  0\n",
       " 1  1  0  0\n",
       " 0  0  1  1\n",
       " 0  0  1  0\n",
       " ⋮                                                                  \n",
       " 4x4 Array{Int64,2}:\n",
       " 1  1  0  0\n",
       " 1  0  0  0\n",
       " 1  0  0  1\n",
       " 0  1  1  1\n",
       " 4x4 Array{Int64,2}:\n",
       " 1  1  1  1\n",
       " 1  0  1  0\n",
       " 1  0  1  1\n",
       " 0  1  1  0\n",
       " 4x4 Array{Int64,2}:\n",
       " 1  1  0  1\n",
       " 1  0  1  1\n",
       " 1  0  1  0\n",
       " 0  1  0  1\n",
       " 4x4 Array{Int64,2}:\n",
       " 1  1  1  0\n",
       " 1  0  0  1\n",
       " 1  0  0  0\n",
       " 0  1  0  0\n",
       " 4x4 Array{Int64,2}:\n",
       " 1  1  0  0\n",
       " 1  0  0  0\n",
       " 1  1  0  1\n",
       " 1  0  1  1\n",
       " 4x4 Array{Int64,2}:\n",
       " 1  1  1  1\n",
       " 1  0  1  0\n",
       " 1  1  1  0\n",
       " 1  0  0  1\n",
       " 4x4 Array{Int64,2}:\n",
       " 1  1  0  1\n",
       " 1  0  1  1\n",
       " 1  1  0  0\n",
       " 1  0  0  0\n",
       " 4x4 Array{Int64,2}:\n",
       " 1  1  1  0\n",
       " 1  0  0  1\n",
       " 1  1  1  1\n",
       " 1  0  1  0\n",
       " 4x4 Array{Int64,2}:\n",
       " 1  1  0  0\n",
       " 1  0  0  0\n",
       " 0  1  0  1\n",
       " 1  1  1  1\n",
       " 4x4 Array{Int64,2}:\n",
       " 1  1  1  1\n",
       " 1  0  1  0\n",
       " 0  1  0  0\n",
       " 1  1  0  0\n",
       " 4x4 Array{Int64,2}:\n",
       " 1  1  0  1\n",
       " 1  0  1  1\n",
       " 0  1  1  1\n",
       " 1  1  1  0\n",
       " 4x4 Array{Int64,2}:\n",
       " 1  1  1  0\n",
       " 1  0  0  1\n",
       " 0  1  1  0\n",
       " 1  1  0  1"
      ]
     },
     "execution_count": 108,
     "metadata": {},
     "output_type": "execute_result"
    }
   ],
   "source": [
    "stabs=getStabilisers()"
   ]
  },
  {
   "cell_type": "markdown",
   "metadata": {},
   "source": [
    "##So we have the F22 stabilisers (60 of them) loaded into stabs"
   ]
  },
  {
   "cell_type": "code",
   "execution_count": 111,
   "metadata": {
    "collapsed": false
   },
   "outputs": [
    {
     "data": {
      "text/plain": [
       "4x4 Array{Int64,2}:\n",
       " 0  1  0  0\n",
       " 1  1  0  0\n",
       " 0  1  1  1\n",
       " 1  1  1  0"
      ]
     },
     "execution_count": 111,
     "metadata": {},
     "output_type": "execute_result"
    }
   ],
   "source": [
    "stabs[25]"
   ]
  },
  {
   "cell_type": "markdown",
   "metadata": {},
   "source": [
    "###Lets try one, use setup to set up the stabiliser state, then decompose it."
   ]
  },
  {
   "cell_type": "code",
   "execution_count": 112,
   "metadata": {
    "collapsed": false
   },
   "outputs": [
    {
     "data": {
      "text/plain": [
       "4x5 Array{Int32,2}:\n",
       " 1  0  0  0  0\n",
       " 0  1  0  0  0\n",
       " 0  0  1  0  0\n",
       " 0  0  0  1  0"
      ]
     },
     "execution_count": 112,
     "metadata": {},
     "output_type": "execute_result"
    }
   ],
   "source": [
    "state=setup(2)"
   ]
  },
  {
   "cell_type": "code",
   "execution_count": 113,
   "metadata": {
    "collapsed": false
   },
   "outputs": [
    {
     "data": {
      "text/plain": [
       "4x4 Array{Int64,2}:\n",
       " 0  1  0  0\n",
       " 1  1  0  0\n",
       " 0  1  1  1\n",
       " 1  1  1  0"
      ]
     },
     "execution_count": 113,
     "metadata": {},
     "output_type": "execute_result"
    }
   ],
   "source": [
    "state[:,1:4]=stabs[25]"
   ]
  },
  {
   "cell_type": "code",
   "execution_count": 114,
   "metadata": {
    "collapsed": false
   },
   "outputs": [
    {
     "data": {
      "text/plain": [
       "4x5 Array{Int32,2}:\n",
       " 0  1  0  0  0\n",
       " 1  1  0  0  0\n",
       " 0  1  1  1  0\n",
       " 1  1  1  0  0"
      ]
     },
     "execution_count": 114,
     "metadata": {},
     "output_type": "execute_result"
    }
   ],
   "source": [
    "state"
   ]
  },
  {
   "cell_type": "code",
   "execution_count": 115,
   "metadata": {
    "collapsed": false
   },
   "outputs": [
    {
     "name": "stdout",
     "output_type": "stream",
     "text": [
      "Tableau for unitary: \n",
      "+IX\n",
      "+XX\n",
      "---\n",
      "+ZY\n",
      "+YX\n",
      "setup(2)\n",
      "phase(2)\n",
      "phase(2)\n",
      "phase(1)\n",
      "phase(1)\n",
      "phase(2)\n",
      "phase(1)\n",
      "hadamard(2)\n",
      "hadamard(1)\n",
      "phase(2)\n",
      "phase(2)\n",
      "phase(1)\n",
      "phase(1)\n",
      "phase(2)\n",
      "phase(1)\n",
      "cnot(1,2)\n",
      "cnot(2,1)\n",
      "output(svec)\n"
     ]
    }
   ],
   "source": [
    "decomposeState(state)"
   ]
  },
  {
   "cell_type": "code",
   "execution_count": 116,
   "metadata": {
    "collapsed": false
   },
   "outputs": [
    {
     "data": {
      "image/png": "[encoded data removed]",
      "text/plain": [
       "Gray Image with:\n",
       "  data: 1229x218 Array{Gray{UfixedBase{Uint8,8}},2}\n",
       "  properties:\n",
       "    imagedescription: <suppressed>\n",
       "    spatialorder:  x y\n",
       "    pixelspacing:  1 1"
      ]
     },
     "execution_count": 116,
     "metadata": {},
     "output_type": "execute_result"
    }
   ],
   "source": [
    "drawCircuit()"
   ]
  },
  {
   "cell_type": "code",
   "execution_count": 137,
   "metadata": {
    "collapsed": false
   },
   "outputs": [
    {
     "data": {
      "text/plain": [
       "makeFromCommand (generic function with 1 method)"
      ]
     },
     "execution_count": 137,
     "metadata": {},
     "output_type": "execute_result"
    }
   ],
   "source": [
    "function makeFromCommand(command)\n",
    "    currentState = [1 0 0 0;0 1 0 0;0 0 1 0;0 0 0 1]\n",
    "    si = [1 0;0 1]\n",
    "    sphase1=kron([1 0;0 im],si)\n",
    "    sphase2=kron(si,[1 0;0 im])\n",
    "    shadmard=1/sqrt(2)*[1 1;1 -1]\n",
    "    shad1 = kron(shadmard,si)\n",
    "    shad2 = kron(si,shadmard)\n",
    "    cnot12 = [1 0 0 0;0 1 0 0;0 0 0 1;0 0 1 0]\n",
    "    cnot21 = [1 0 0 0;0 0 0 1;0 0 1 0;0 1 0 0]\n",
    "    for t in command\n",
    "        m = match(r\"setup\\((.*)\\)\",t)\n",
    "        if (m!=nothing)\n",
    "           state=[1 0 0 0;0 1 0 0;0 0 1 0;0 0 0 1]\n",
    "        else \n",
    "           m=match(r\"phase\\((.*)\\)\",t)\n",
    "           if (m!=nothing)\n",
    "                bit = int(m.captures[1])\n",
    "                if bit == 1\n",
    "                   currentState=currentState*sphase1\n",
    "                else \n",
    "                   currentState=currentState*sphase2\n",
    "                end\n",
    "            else\n",
    "                m=match(r\"hadamard\\((.*)\\)\",t)\n",
    "                if (m!=nothing)\n",
    "                    bit = int(m.captures[1])\n",
    "                    if bit == 1\n",
    "                        currentState=currentState*shad1\n",
    "                    else \n",
    "                        currentState=currentState*shad2\n",
    "                    end\n",
    "                else\n",
    "                    m=match(r\"cnot\\((.*),(.*)\\)\",t)\n",
    "                    if (m!=nothing)\n",
    "                        cbit = int(m.captures[1])\n",
    "                        tbit = int(m.captures[2])\n",
    "                        if cbit ==1 \n",
    "                            currentState = currentState*cnot12\n",
    "                        else\n",
    "                            currentState = currentState*cnot21\n",
    "                        end\n",
    "                    end\n",
    "                end\n",
    "            end\n",
    "        end\n",
    "    end\n",
    "    return  currentState=currentState\n",
    "end\n"
   ]
  },
  {
   "cell_type": "code",
   "execution_count": 120,
   "metadata": {
    "collapsed": false
   },
   "outputs": [
    {
     "data": {
      "text/plain": [
       "Array{ASCIIString,1}"
      ]
     },
     "execution_count": 120,
     "metadata": {},
     "output_type": "execute_result"
    }
   ],
   "source": [
    "typeof(commands)"
   ]
  },
  {
   "cell_type": "markdown",
   "metadata": {},
   "source": [
    "###Looks good, so lets make them all"
   ]
  },
  {
   "cell_type": "code",
   "execution_count": 138,
   "metadata": {
    "collapsed": false
   },
   "outputs": [],
   "source": [
    "sl2Cliffords= Array{Complex{Float64},2}[]\n",
    "sl2CliffordCommands = Array{ASCIIString,1}[]\n",
    "for i=1:60\n",
    "    state=setup(2)\n",
    "    state[:,1:4]=stabs[i]\n",
    "    decomposeState(state,true)\n",
    "    push!(sl2CliffordCommands,commands)\n",
    "    push!(sl2Cliffords,makeFromCommand(commands))\n",
    "end\n",
    "    \n",
    "    \n",
    "    \n"
   ]
  },
  {
   "cell_type": "code",
   "execution_count": 124,
   "metadata": {
    "collapsed": false
   },
   "outputs": [
    {
     "data": {
      "text/plain": [
       "10-element Array{ASCIIString,1}:\n",
       " \"setup(2)\"    \n",
       " \"cnot(2,1)\"   \n",
       " \"phase(1)\"    \n",
       " \"cnot(2,1)\"   \n",
       " \"phase(2)\"    \n",
       " \"hadamard(2)\" \n",
       " \"hadamard(1)\" \n",
       " \"cnot(2,1)\"   \n",
       " \"cnot(1,2)\"   \n",
       " \"output(svec)\""
      ]
     },
     "execution_count": 124,
     "metadata": {},
     "output_type": "execute_result"
    }
   ],
   "source": [
    "f[23]"
   ]
  },
  {
   "cell_type": "code",
   "execution_count": 139,
   "metadata": {
    "collapsed": false
   },
   "outputs": [
    {
     "data": {
      "text/plain": [
       "4x4 Array{Complex{Float64},2}:\n",
       "  0.5+0.0im  0.5+0.0im  0.5+0.0im   0.5+0.0im\n",
       " -0.5+0.0im  0.5+0.0im  0.5+0.0im  -0.5+0.0im\n",
       "  0.0+0.5im  0.0-0.5im  0.0+0.5im   0.0-0.5im\n",
       "  0.0+0.5im  0.0+0.5im  0.0-0.5im   0.0-0.5im"
      ]
     },
     "execution_count": 139,
     "metadata": {},
     "output_type": "execute_result"
    }
   ],
   "source": [
    "sl2Cliffords[23]"
   ]
  },
  {
   "cell_type": "markdown",
   "metadata": {},
   "source": [
    "##Looking good again\n",
    "\n",
    "### Time to use the Granade inspired/qutip superpauli"
   ]
  },
  {
   "cell_type": "code",
   "execution_count": 126,
   "metadata": {
    "collapsed": false
   },
   "outputs": [
    {
     "data": {
      "text/plain": [
       "to_superpauli (generic function with 1 method)"
      ]
     },
     "execution_count": 126,
     "metadata": {},
     "output_type": "execute_result"
    }
   ],
   "source": [
    "function to_superpauli(S):\n",
    "    \"\"\"\n",
    "    Converts a superoperator in the column-stacking basis to the Pauli basis. Note that\n",
    "    the argument is assumed to act on qubits.\n",
    "    \"\"\"\n",
    "    sqobj=qt.to_super(S)\n",
    "    nq=int(np.log2(sqobj[:shape][1])/2)\n",
    "    B=pycall(qt.superop_reps[\"_pauli_basis\"],PyAny,nq)\n",
    "    sq=np.sqrt(2^nq)\n",
    "    B=pyeval(\"B/sq\",PyAny,B=B,nq=nq,sq=sq)\n",
    "    B[:dims] = sqobj[:dims]\n",
    "    sqobj = pycall(B[:dag]()[\"__mul__\"],PyAny,pycall(sqobj[\"__mul__\"],PyAny,B))\n",
    "    return sqobj\n",
    "end"
   ]
  },
  {
   "cell_type": "code",
   "execution_count": 127,
   "metadata": {
    "collapsed": false
   },
   "outputs": [
    {
     "data": {
      "text/latex": [
       "Quantum object: dims = [[[4], [4]], [[4], [4]]], shape = [16, 16], type = super, isherm = False, superrep = None\\begin{equation*}\\left(\\begin{array}{*{11}c}1.000 & 0.0 & 0.0 & 0.0 & 0.0 & \\cdots & 0.0 & 0.0 & 0.0 & 0.0 & 0.0\\\\0.0 & 1.000 & 0.0 & 0.0 & 0.0 & \\cdots & 0.0 & 0.0 & 0.0 & 0.0 & 0.0\\\\0.0 & 0.0 & 0.0 & -1.000 & 0.0 & \\cdots & 0.0 & 0.0 & 0.0 & 0.0 & 0.0\\\\0.0 & 0.0 & 1.000 & 0.0 & 0.0 & \\cdots & 0.0 & 0.0 & 0.0 & 0.0 & 0.0\\\\0.0 & 0.0 & 0.0 & 0.0 & 1.000 & \\cdots & 0.0 & 0.0 & 0.0 & 0.0 & 0.0\\\\\\vdots & \\vdots & \\vdots & \\vdots & \\vdots & \\ddots & \\vdots & \\vdots & \\vdots & \\vdots & \\vdots\\\\0.0 & 0.0 & 0.0 & 0.0 & 0.0 & \\cdots & 0.0 & 0.0 & 0.0 & 1.000 & 0.0\\\\0.0 & 0.0 & 0.0 & 0.0 & 0.0 & \\cdots & 0.0 & 0.0 & 0.0 & 0.0 & 0.0\\\\0.0 & 0.0 & 0.0 & 0.0 & 0.0 & \\cdots & 0.0 & 0.0 & 0.0 & 0.0 & 0.0\\\\0.0 & 0.0 & 0.0 & 0.0 & 0.0 & \\cdots & 1.000 & 0.0 & 0.0 & 0.0 & 0.0\\\\0.0 & 0.0 & 0.0 & 0.0 & 0.0 & \\cdots & 0.0 & 0.0 & 0.0 & 0.0 & 0.0\\\\\\end{array}\\right)\\end{equation*}"
      ],
      "text/plain": [
       "PyObject Quantum object: dims = [[[4], [4]], [[4], [4]]], shape = [16, 16], type = super, isherm = False, superrep = None\n",
       "Qobj data =\n",
       "[[ 1.  0.  0.  0.  0.  0.  0.  0.  0.  0.  0.  0.  0.  0.  0.  0.]\n",
       " [ 0.  1.  0.  0.  0.  0.  0.  0.  0.  0.  0.  0.  0.  0.  0.  0.]\n",
       " [ 0.  0.  0. -1.  0.  0.  0.  0.  0.  0.  0.  0.  0.  0.  0.  0.]\n",
       " [ 0.  0.  1.  0.  0.  0.  0.  0.  0.  0.  0.  0.  0.  0.  0.  0.]\n",
       " [ 0.  0.  0.  0.  1.  0.  0.  0.  0.  0.  0.  0.  0.  0.  0.  0.]\n",
       " [ 0.  0.  0.  0.  0.  1.  0.  0.  0.  0.  0.  0.  0.  0.  0.  0.]\n",
       " [ 0.  0.  0.  0.  0.  0.  0. -1.  0.  0.  0.  0.  0.  0.  0.  0.]\n",
       " [ 0.  0.  0.  0.  0.  0.  1.  0.  0.  0.  0.  0.  0.  0.  0.  0.]\n",
       " [ 0.  0.  0.  0.  0.  0.  0.  0.  0.  0.  0.  0.  1.  0.  0.  0.]\n",
       " [ 0.  0.  0.  0.  0.  0.  0.  0.  0.  0.  0.  0.  0.  1.  0.  0.]\n",
       " [ 0.  0.  0.  0.  0.  0.  0.  0.  0.  0.  0.  0.  0.  0.  0. -1.]\n",
       " [ 0.  0.  0.  0.  0.  0.  0.  0.  0.  0.  0.  0.  0.  0.  1.  0.]\n",
       " [ 0.  0.  0.  0.  0.  0.  0.  0. -1.  0.  0.  0.  0.  0.  0.  0.]\n",
       " [ 0.  0.  0.  0.  0.  0.  0.  0.  0. -1.  0.  0.  0.  0.  0.  0.]\n",
       " [ 0.  0.  0.  0.  0.  0.  0.  0.  0.  0.  0.  1.  0.  0.  0.  0.]\n",
       " [ 0.  0.  0.  0.  0.  0.  0.  0.  0.  0. -1.  0.  0.  0.  0.  0.]]"
      ]
     },
     "execution_count": 127,
     "metadata": {},
     "output_type": "execute_result"
    }
   ],
   "source": [
    "to_superpauli(qt.Qobj(sl2Cliffords[25]))"
   ]
  },
  {
   "cell_type": "markdown",
   "metadata": {},
   "source": [
    "###Not sure where I am going with that one.\n",
    "\n",
    "##Let us just check if we do indeed have a unitary-2 design\n",
    "\n",
    "- We should recall that these 60 cliffords implement Pauli twirling, that means we need to get the Paulis to twirl!\n"
   ]
  },
  {
   "cell_type": "code",
   "execution_count": 140,
   "metadata": {
    "collapsed": false
   },
   "outputs": [],
   "source": [
    "sigma=Array{Complex{Float64},2}[]\n",
    "sigma2=Array{Complex{Float64},2}[]\n",
    "# There is nothing clever about this, if we are to do for > 2 then\n",
    "# we already have functions we should actually utilise.\n",
    "push!(sigma,[1 0;0 1])\n",
    "push!(sigma,[0 1;1 0])\n",
    "push!(sigma,[0 -im;im 0])\n",
    "push!(sigma,[1 0;0 -1])\n",
    "for i in sigma\n",
    "    for j in sigma\n",
    "        push!(sigma2,kron(i,j))\n",
    "    end\n",
    "end\n",
    "QE=Array{Complex{Float64},2}[]\n",
    "for i=1:60\n",
    "    for j=1:16\n",
    "        push!(QE,sl2Cliffords[i]*sigma2[j])\n",
    "    end\n",
    "end\n",
    "    "
   ]
  },
  {
   "cell_type": "code",
   "execution_count": 141,
   "metadata": {
    "collapsed": false
   },
   "outputs": [
    {
     "data": {
      "text/plain": [
       "960"
      ]
     },
     "execution_count": 141,
     "metadata": {},
     "output_type": "execute_result"
    }
   ],
   "source": [
    "length(QE)"
   ]
  },
  {
   "cell_type": "code",
   "execution_count": 142,
   "metadata": {
    "collapsed": false
   },
   "outputs": [
    {
     "name": "stdout",
     "output_type": "stream",
     "text": [
      "1.8431999999999998e6 -> 1.9999999999999998\n"
     ]
    }
   ],
   "source": [
    "sum = 0\n",
    "for i=1:960\n",
    "    for j=1:960\n",
    "        sum += abs(trace(conj(QE[i])'*QE[j]))^4\n",
    "    end\n",
    "end\n",
    "print(\"$sum -> $(sum/(960^2))\\n\")"
   ]
  },
  {
   "cell_type": "markdown",
   "metadata": {},
   "source": [
    "#Yay!"
   ]
  },
  {
   "cell_type": "code",
   "execution_count": 145,
   "metadata": {
    "collapsed": false
   },
   "outputs": [
    {
     "name": "stdout",
     "output_type": "stream",
     "text": [
      "4,10,10,10,6,12,12,14,6,12,12,12,4,14,10,14,18,16,16,12,22,18,10,18,18,8,14,18,2,8,8,8,16,14,14,6,20,20,14,18,18,12,18,18,4,12,14,14,16,16,16,10,18,14,8,20,18,10,18,20,"
     ]
    }
   ],
   "source": [
    "for i in sl2CliffordCommands\n",
    "    print(length(i),\",\")\n",
    "end"
   ]
  },
  {
   "cell_type": "code",
   "execution_count": 147,
   "metadata": {
    "collapsed": false
   },
   "outputs": [
    {
     "name": "stdout",
     "output_type": "stream",
     "text": [
      "ASCIIString[\"setup(2)\",\"cnot(2,1)\",\"phase(1)\",\"phase(1)\",\"phase(2)\",\"phase(1)\",\"phase(2)\",\"cnot(2,1)\",\"phase(1)\",\"hadamard(2)\",\"hadamard(1)\",\"cnot(2,1)\",\"phase(1)\",\"phase(1)\",\"phase(1)\",\"cnot(2,1)\",\"phase(1)\",\"cnot(1,2)\",\"cnot(2,1)\",\"output(svec)\"]"
     ]
    }
   ],
   "source": [
    "print(sl2CliffordCommands[60])"
   ]
  },
  {
   "cell_type": "code",
   "execution_count": 148,
   "metadata": {
    "collapsed": false
   },
   "outputs": [
    {
     "data": {
      "text/plain": [
       "20-element Array{ASCIIString,1}:\n",
       " \"setup(2)\"    \n",
       " \"cnot(2,1)\"   \n",
       " \"phase(1)\"    \n",
       " \"phase(1)\"    \n",
       " \"phase(2)\"    \n",
       " \"phase(1)\"    \n",
       " \"phase(2)\"    \n",
       " \"cnot(2,1)\"   \n",
       " \"phase(1)\"    \n",
       " \"hadamard(2)\" \n",
       " \"hadamard(1)\" \n",
       " \"cnot(2,1)\"   \n",
       " \"phase(1)\"    \n",
       " \"phase(1)\"    \n",
       " \"phase(1)\"    \n",
       " \"cnot(2,1)\"   \n",
       " \"phase(1)\"    \n",
       " \"cnot(1,2)\"   \n",
       " \"cnot(2,1)\"   \n",
       " \"output(svec)\""
      ]
     },
     "execution_count": 148,
     "metadata": {},
     "output_type": "execute_result"
    }
   ],
   "source": [
    "commands = sl2CliffordCommands[60]"
   ]
  },
  {
   "cell_type": "code",
   "execution_count": 149,
   "metadata": {
    "collapsed": false
   },
   "outputs": [
    {
     "data": {
      "image/png": "[encoded data removed]",
      "text/plain": [
       "Gray Image with:\n",
       "  data: 1730x218 Array{Gray{UfixedBase{Uint8,8}},2}\n",
       "  properties:\n",
       "    imagedescription: <suppressed>\n",
       "    spatialorder:  x y\n",
       "    pixelspacing:  1 1"
      ]
     },
     "execution_count": 149,
     "metadata": {},
     "output_type": "execute_result"
    }
   ],
   "source": [
    "drawCircuit()"
   ]
  },
  {
   "cell_type": "code",
   "execution_count": 164,
   "metadata": {
    "collapsed": false
   },
   "outputs": [
    {
     "data": {
      "text/plain": [
       "4x4 Array{Int64,2}:\n",
       " 1  1  1  0\n",
       " 1  0  0  1\n",
       " 0  1  1  0\n",
       " 1  1  0  1"
      ]
     },
     "execution_count": 164,
     "metadata": {},
     "output_type": "execute_result"
    }
   ],
   "source": [
    "state=setup(2)\n",
    "state[:,1:4]=stabs[60]\n",
    "   "
   ]
  },
  {
   "cell_type": "code",
   "execution_count": 163,
   "metadata": {
    "collapsed": false
   },
   "outputs": [
    {
     "name": "stdout",
     "output_type": "stream",
     "text": [
      "Tableau for unitary: \n",
      "+YX\n",
      "+XZ\n",
      "---\n",
      "+ZX\n",
      "+XY\n",
      "setup(2)\n",
      "cnot(2,1)\n",
      "phase(1)\n",
      "phase(1)\n",
      "phase(2)\n",
      "phase(1)\n",
      "phase(2)\n",
      "cnot(2,1)\n",
      "phase(1)\n",
      "hadamard(2)\n",
      "hadamard(1)\n",
      "cnot(2,1)\n",
      "phase(1)\n",
      "phase(1)\n",
      "phase(1)\n",
      "cnot(2,1)\n",
      "phase(1)\n",
      "cnot(1,2)\n",
      "cnot(2,1)\n",
      "output(svec)\n"
     ]
    }
   ],
   "source": [
    "decomposeState(state)"
   ]
  },
  {
   "cell_type": "code",
   "execution_count": 167,
   "metadata": {
    "collapsed": false
   },
   "outputs": [
    {
     "name": "stdout",
     "output_type": "stream",
     "text": [
      "Trying: 1 1 \n",
      "Trying: 1 1 1 \n",
      "Trying: 1 1 1 1 \n",
      "Trying: 1 1 1 1 1 \n",
      "Trying: 1 1 1 1 1 1 \n",
      "Trying: 1 1 1 1 1 1 1 \n",
      "Trying: 1 1 1 1 1 1 1 1 \n",
      "Found it after (only) 738546 permuations\n",
      "Gates applied\n",
      "hadamard(svec,1,false)\n",
      "phase(svec,1,false)\n",
      "cnot(svec,2,1,false)\n",
      "hadamard(svec,2,false)\n",
      "cnot(svec,2,1,false)\n",
      "phase(svec,2,false)\n",
      "phase(svec,2,false)\n",
      "phase(svec,2,false)\n"
     ]
    }
   ],
   "source": [
    "bruteForceBreadthFirst(state)"
   ]
  },
  {
   "cell_type": "code",
   "execution_count": null,
   "metadata": {
    "collapsed": true
   },
   "outputs": [],
   "source": []
  },
  {
   "cell_type": "code",
   "execution_count": null,
   "metadata": {
    "collapsed": true
   },
   "outputs": [],
   "source": []
  },
  {
   "cell_type": "code",
   "execution_count": 10,
   "metadata": {
    "collapsed": false
   },
   "outputs": [
    {
     "data": {
      "text/plain": [
       "4x4 Array{Float64,2}:\n",
       " 1.0   0.0  0.0  0.0\n",
       " 0.0   0.0  0.0  1.0\n",
       " 0.0   0.0  1.0  0.0\n",
       " 0.0  -1.0  0.0  0.0"
      ]
     },
     "execution_count": 10,
     "metadata": {},
     "output_type": "execute_result"
    }
   ],
   "source": [
    "#Quick example\n",
    "SO=to_superpauli(qt.Qobj(Clifford[2]))\n",
    "test = real(SO[:full]())"
   ]
  },
  {
   "cell_type": "code",
   "execution_count": 11,
   "metadata": {
    "collapsed": false
   },
   "outputs": [],
   "source": [
    "# Make the PTSM.jl superoperators in a suitable form for equality testing\n",
    "SuperClifford = Array{Float64}[]\n",
    "for i=1:24\n",
    "    push!(SuperClifford,round(generateClifford(i,0,0,0)))\n",
    "end"
   ]
  },
  {
   "cell_type": "code",
   "execution_count": 43,
   "metadata": {
    "collapsed": false
   },
   "outputs": [
    {
     "name": "stdout",
     "output_type": "stream",
     "text": [
      "1=16\n",
      "2=22\n",
      "3=19\n",
      "4=13\n",
      "5=3\n",
      "6=12\n",
      "7=9\n",
      "8=6\n",
      "9=20\n",
      "10=17\n",
      "11=23\n",
      "12=14\n",
      "13=5\n",
      "14=2\n",
      "15=8\n",
      "16=11\n",
      "17=24\n",
      "18=21\n",
      "19=18\n",
      "20=15\n",
      "21=10\n",
      "22=4\n",
      "23=7\n",
      "24=1\n"
     ]
    }
   ],
   "source": [
    "#And generate the map\n",
    "for j=1:24\n",
    "    test = round(real(to_superpauli(qt.Qobj(Clifford[j]))[:full]()))\n",
    "    for i=1:24\n",
    "        if round(SuperClifford[i])== test\n",
    "            print(\"$j=$i\\n\")\n",
    "        end\n",
    "    end\n",
    "end"
   ]
  },
  {
   "cell_type": "markdown",
   "metadata": {},
   "source": [
    "##Lets play a bit more and check what happens if we sum all of the qt superoperators."
   ]
  },
  {
   "cell_type": "code",
   "execution_count": 13,
   "metadata": {
    "collapsed": false
   },
   "outputs": [
    {
     "data": {
      "text/latex": [
       "Quantum object: dims = [[[2], [2]], [[2], [2]]], shape = [4, 4], type = super, isherm = False, superrep = None\\begin{equation*}\\left(\\begin{array}{*{11}c}1.000 & 0.0 & 0.0 & 0.0\\\\0.0 & 0.0 & 0.0 & 1.000\\\\0.0 & 0.0 & 1.000 & 0.0\\\\0.0 & -1.000 & 0.0 & 0.0\\\\\\end{array}\\right)\\end{equation*}"
      ],
      "text/plain": [
       "PyObject Quantum object: dims = [[[2], [2]], [[2], [2]]], shape = [4, 4], type = super, isherm = False, superrep = None\n",
       "Qobj data =\n",
       "[[ 1.  0.  0.  0.]\n",
       " [ 0.  0.  0.  1.]\n",
       " [ 0.  0.  1.  0.]\n",
       " [ 0. -1.  0.  0.]]"
      ]
     },
     "execution_count": 13,
     "metadata": {},
     "output_type": "execute_result"
    }
   ],
   "source": [
    "So1 = to_superpauli(qt.Qobj(Clifford[2]))\n",
    "So2 = to_superpauli(qt.Qobj(Clifford[2]))"
   ]
  },
  {
   "cell_type": "code",
   "execution_count": 14,
   "metadata": {
    "collapsed": false
   },
   "outputs": [
    {
     "ename": "LoadError",
     "evalue": "`+` has no method matching +(::PyObject, ::PyObject)\nwhile loading In[14], in expression starting on line 1",
     "output_type": "error",
     "traceback": [
      "`+` has no method matching +(::PyObject, ::PyObject)\nwhile loading In[14], in expression starting on line 1",
      ""
     ]
    }
   ],
   "source": [
    "So1+So2"
   ]
  },
  {
   "cell_type": "markdown",
   "metadata": {},
   "source": [
    "##Oops! (this is the way you do it)"
   ]
  },
  {
   "cell_type": "code",
   "execution_count": 15,
   "metadata": {
    "collapsed": false
   },
   "outputs": [
    {
     "data": {
      "text/latex": [
       "Quantum object: dims = [[[2], [2]], [[2], [2]]], shape = [4, 4], type = super, isherm = False, superrep = None\\begin{equation*}\\left(\\begin{array}{*{11}c}2.000 & 0.0 & 0.0 & 0.0\\\\0.0 & 0.0 & 0.0 & 2.000\\\\0.0 & 0.0 & 2.000 & 0.0\\\\0.0 & -2.000 & 0.0 & 0.0\\\\\\end{array}\\right)\\end{equation*}"
      ],
      "text/plain": [
       "PyObject Quantum object: dims = [[[2], [2]], [[2], [2]]], shape = [4, 4], type = super, isherm = False, superrep = None\n",
       "Qobj data =\n",
       "[[ 2.  0.  0.  0.]\n",
       " [ 0.  0.  0.  2.]\n",
       " [ 0.  0.  2.  0.]\n",
       " [ 0. -2.  0.  0.]]"
      ]
     },
     "execution_count": 15,
     "metadata": {},
     "output_type": "execute_result"
    }
   ],
   "source": [
    "pycall(So1[\"__add__\"],PyAny,So2)"
   ]
  },
  {
   "cell_type": "code",
   "execution_count": 16,
   "metadata": {
    "collapsed": false
   },
   "outputs": [
    {
     "data": {
      "text/plain": [
       "PyObject (constructor with 34 methods)"
      ]
     },
     "execution_count": 16,
     "metadata": {},
     "output_type": "execute_result"
    }
   ],
   "source": [
    "typeof(So1)"
   ]
  },
  {
   "cell_type": "code",
   "execution_count": 17,
   "metadata": {
    "collapsed": false
   },
   "outputs": [],
   "source": [
    "QtSuperOperators = PyObject[]\n",
    "for i=1:24\n",
    "    push!(QtSuperOperators,to_superpauli(qt.Qobj(Clifford[i])))\n",
    "end\n"
   ]
  },
  {
   "cell_type": "code",
   "execution_count": 18,
   "metadata": {
    "collapsed": false
   },
   "outputs": [
    {
     "data": {
      "text/latex": [
       "Quantum object: dims = [[[2], [2]], [[2], [2]]], shape = [4, 4], type = super, isherm = True, superrep = None\\begin{equation*}\\left(\\begin{array}{*{11}c}24.000 & 0.0 & 0.0 & 0.0\\\\0.0 & 0.0 & 0.0 & 0.0\\\\0.0 & 0.0 & 0.0 & 0.0\\\\0.0 & 0.0 & 0.0 & 0.0\\\\\\end{array}\\right)\\end{equation*}"
      ],
      "text/plain": [
       "PyObject Quantum object: dims = [[[2], [2]], [[2], [2]]], shape = [4, 4], type = super, isherm = True, superrep = None\n",
       "Qobj data =\n",
       "[[ 24.   0.   0.   0.]\n",
       " [  0.   0.   0.   0.]\n",
       " [  0.   0.   0.   0.]\n",
       " [  0.   0.   0.   0.]]"
      ]
     },
     "execution_count": 18,
     "metadata": {},
     "output_type": "execute_result"
    }
   ],
   "source": [
    "Start = QtSuperOperators[1]\n",
    "for i=2:24\n",
    "    Start = pycall(Start[\"__add__\"],PyAny,QtSuperOperators[i])\n",
    "end\n",
    "Start"
   ]
  },
  {
   "cell_type": "markdown",
   "metadata": {},
   "source": [
    "## Yay!"
   ]
  },
  {
   "cell_type": "markdown",
   "metadata": {},
   "source": [
    "##Let us find, all sequences of 6 cliffords that are a unitary-1 desgin, we can then check if any are a 2-design."
   ]
  },
  {
   "cell_type": "code",
   "execution_count": 19,
   "metadata": {
    "collapsed": false
   },
   "outputs": [
    {
     "name": "stdout",
     "output_type": "stream",
     "text": [
      "Matched ===> 1,2,3,19,20,21\n",
      "Matched ===> 1,5,9,13,21,23\n",
      "Matched ===> 1,6,11,18,19,23\n",
      "Matched ===> 1,8,12,13,18,20\n",
      "Matched ===> 2,4,12,16,20,24\n",
      "Matched ===> 2,6,7,14,19,24\n",
      "Matched ===> 2,9,10,14,16,21\n",
      "Matched ===> 3,4,8,15,20,22\n",
      "Matched ===> 3,5,10,17,21,22\n",
      "Matched ===> 3,7,11,15,17,19\n",
      "Matched ===> 4,5,6,22,23,24\n",
      "Matched ===> 4,9,11,15,16,23\n",
      "Matched ===> 5,7,12,13,17,24\n",
      "Matched ===> 6,8,10,14,18,22\n",
      "Matched ===> 7,8,9,13,14,15\n",
      "Matched ===> 10,11,12,16,17,18\n"
     ]
    }
   ],
   "source": [
    "toMatch = int([6 0 0 0;0 0 0 0;0 0 0 0;0 0 0 0])\n",
    "matched = Array{Int64,1}[]\n",
    "for i1=1:19\n",
    "    for i2=i1+1:20\n",
    "        for i3=i2+1:21\n",
    "            for i4=i3+1:22\n",
    "                for i5=i4+1:23\n",
    "                    for i6=i5+1:24\n",
    "                        if   int(SuperClifford[i1]+\n",
    "                                 SuperClifford[i2]+\n",
    "                                 SuperClifford[i3]+\n",
    "                                 SuperClifford[i4]+\n",
    "                                 SuperClifford[i5]+\n",
    "                            SuperClifford[i6]) == toMatch\n",
    "                            print(\"Matched ===> $i1,$i2,$i3,$i4,$i5,$i6\\n\")\n",
    "                            push!(matched,[i1,i2,i3,i4,i5,i6])\n",
    "                        end\n",
    "                    end\n",
    "                end\n",
    "            end\n",
    "        end\n",
    "    end\n",
    "end\n"
   ]
  },
  {
   "cell_type": "code",
   "execution_count": 83,
   "metadata": {
    "collapsed": false
   },
   "outputs": [
    {
     "data": {
      "text/plain": [
       "addTwo (generic function with 1 method)"
      ]
     },
     "execution_count": 83,
     "metadata": {},
     "output_type": "execute_result"
    }
   ],
   "source": [
    "function addTwo(s1,s2)\n",
    "    pycall(s1[\"__add__\"],PyAny,s2)\n",
    "end"
   ]
  },
  {
   "cell_type": "code",
   "execution_count": 21,
   "metadata": {
    "collapsed": false
   },
   "outputs": [
    {
     "data": {
      "text/plain": [
       "4x4 Array{Float64,2}:\n",
       " 1.0  0.0  0.0  0.0\n",
       " 0.0  1.0  0.0  0.0\n",
       " 0.0  0.0  1.0  0.0\n",
       " 0.0  0.0  0.0  1.0"
      ]
     },
     "execution_count": 21,
     "metadata": {},
     "output_type": "execute_result"
    }
   ],
   "source": [
    "SuperClifford[1]"
   ]
  },
  {
   "cell_type": "code",
   "execution_count": 23,
   "metadata": {
    "collapsed": false
   },
   "outputs": [
    {
     "data": {
      "text/latex": [
       "Quantum object: dims = [[[2], [2]], [[2], [2]]], shape = [4, 4], type = super, isherm = True, superrep = None\\begin{equation*}\\left(\\begin{array}{*{11}c}1.000 & 0.0 & 0.0 & 0.0\\\\0.0 & 1.000 & 0.0 & 0.0\\\\0.0 & 0.0 & 1.000 & 0.0\\\\0.0 & 0.0 & 0.0 & 1.000\\\\\\end{array}\\right)\\end{equation*}"
      ],
      "text/plain": [
       "PyObject Quantum object: dims = [[[2], [2]], [[2], [2]]], shape = [4, 4], type = super, isherm = True, superrep = None\n",
       "Qobj data =\n",
       "[[ 1.  0.  0.  0.]\n",
       " [ 0.  1.  0.  0.]\n",
       " [ 0.  0.  1.  0.]\n",
       " [ 0.  0.  0.  1.]]"
      ]
     },
     "execution_count": 23,
     "metadata": {},
     "output_type": "execute_result"
    }
   ],
   "source": [
    "QtSuperOperators[24]"
   ]
  },
  {
   "cell_type": "code",
   "execution_count": 26,
   "metadata": {
    "collapsed": false
   },
   "outputs": [
    {
     "data": {
      "text/plain": [
       "4x4 Array{Int64,2}:\n",
       " 1  0   0   0\n",
       " 0  0  -1   0\n",
       " 0  0   0  -1\n",
       " 0  1   0   0"
      ]
     },
     "execution_count": 26,
     "metadata": {},
     "output_type": "execute_result"
    }
   ],
   "source": [
    "int(SuperClifford[6])"
   ]
  },
  {
   "cell_type": "code",
   "execution_count": 25,
   "metadata": {
    "collapsed": false
   },
   "outputs": [
    {
     "data": {
      "text/latex": [
       "Quantum object: dims = [[[2], [2]], [[2], [2]]], shape = [4, 4], type = super, isherm = False, superrep = None\\begin{equation*}\\left(\\begin{array}{*{11}c}1.000 & 0.0 & 0.0 & 0.0\\\\0.0 & 0.0 & -1.000 & 0.0\\\\0.0 & 0.0 & 0.0 & -1.000\\\\0.0 & 1.000 & 0.0 & 0.0\\\\\\end{array}\\right)\\end{equation*}"
      ],
      "text/plain": [
       "PyObject Quantum object: dims = [[[2], [2]], [[2], [2]]], shape = [4, 4], type = super, isherm = False, superrep = None\n",
       "Qobj data =\n",
       "[[ 1.  0.  0.  0.]\n",
       " [ 0.  0. -1.  0.]\n",
       " [ 0.  0.  0. -1.]\n",
       " [ 0.  1.  0.  0.]]"
      ]
     },
     "execution_count": 25,
     "metadata": {},
     "output_type": "execute_result"
    }
   ],
   "source": [
    "QtSuperOperators[8]"
   ]
  },
  {
   "cell_type": "code",
   "execution_count": 46,
   "metadata": {
    "collapsed": false
   },
   "outputs": [
    {
     "data": {
      "text/plain": [
       "4x4 Array{Int64,2}:\n",
       " 1   0   0  0\n",
       " 0   0   0  1\n",
       " 0  -1   0  0\n",
       " 0   0  -1  0"
      ]
     },
     "execution_count": 46,
     "metadata": {},
     "output_type": "execute_result"
    }
   ],
   "source": [
    "int(SuperClifford[11])"
   ]
  },
  {
   "cell_type": "code",
   "execution_count": 48,
   "metadata": {
    "collapsed": false
   },
   "outputs": [
    {
     "data": {
      "text/latex": [
       "Quantum object: dims = [[[2], [2]], [[2], [2]]], shape = [4, 4], type = super, isherm = False, superrep = None\\begin{equation*}\\left(\\begin{array}{*{11}c}1.000 & 0.0 & 0.0 & 0.0\\\\0.0 & 0.0 & 0.0 & 1.000\\\\0.0 & -1.000 & 0.0 & 0.0\\\\0.0 & 0.0 & -1.000 & 0.0\\\\\\end{array}\\right)\\end{equation*}"
      ],
      "text/plain": [
       "PyObject Quantum object: dims = [[[2], [2]], [[2], [2]]], shape = [4, 4], type = super, isherm = False, superrep = None\n",
       "Qobj data =\n",
       "[[ 1.  0.  0.  0.]\n",
       " [ 0.  0.  0.  1.]\n",
       " [ 0. -1.  0.  0.]\n",
       " [ 0.  0. -1.  0.]]"
      ]
     },
     "execution_count": 48,
     "metadata": {},
     "output_type": "execute_result"
    }
   ],
   "source": [
    "QtSuperOperators[16]"
   ]
  },
  {
   "cell_type": "code",
   "execution_count": 34,
   "metadata": {
    "collapsed": false
   },
   "outputs": [
    {
     "data": {
      "text/plain": [
       "4x4 Array{Int64,2}:\n",
       " 1  0  0   0\n",
       " 0  0  1   0\n",
       " 0  1  0   0\n",
       " 0  0  0  -1"
      ]
     },
     "execution_count": 34,
     "metadata": {},
     "output_type": "execute_result"
    }
   ],
   "source": [
    "int(SuperClifford[18])"
   ]
  },
  {
   "cell_type": "code",
   "execution_count": 35,
   "metadata": {
    "collapsed": false
   },
   "outputs": [
    {
     "data": {
      "text/latex": [
       "Quantum object: dims = [[[2], [2]], [[2], [2]]], shape = [4, 4], type = super, isherm = True, superrep = None\\begin{equation*}\\left(\\begin{array}{*{11}c}1.000 & 0.0 & 0.0 & 0.0\\\\0.0 & 0.0 & 1.000 & 0.0\\\\0.0 & 1.000 & 0.0 & 0.0\\\\0.0 & 0.0 & 0.0 & -1.000\\\\\\end{array}\\right)\\end{equation*}"
      ],
      "text/plain": [
       "PyObject Quantum object: dims = [[[2], [2]], [[2], [2]]], shape = [4, 4], type = super, isherm = True, superrep = None\n",
       "Qobj data =\n",
       "[[ 1.  0.  0.  0.]\n",
       " [ 0.  0.  1.  0.]\n",
       " [ 0.  1.  0.  0.]\n",
       " [ 0.  0.  0. -1.]]"
      ]
     },
     "execution_count": 35,
     "metadata": {},
     "output_type": "execute_result"
    }
   ],
   "source": [
    "QtSuperOperators[19]"
   ]
  },
  {
   "cell_type": "code",
   "execution_count": 37,
   "metadata": {
    "collapsed": false
   },
   "outputs": [
    {
     "data": {
      "text/plain": [
       "4x4 Array{Int64,2}:\n",
       " 1   0   0   0\n",
       " 0   0   0  -1\n",
       " 0   0  -1   0\n",
       " 0  -1   0   0"
      ]
     },
     "execution_count": 37,
     "metadata": {},
     "output_type": "execute_result"
    }
   ],
   "source": [
    "int(SuperClifford[19])"
   ]
  },
  {
   "cell_type": "code",
   "execution_count": 40,
   "metadata": {
    "collapsed": false
   },
   "outputs": [
    {
     "data": {
      "text/latex": [
       "Quantum object: dims = [[[2], [2]], [[2], [2]]], shape = [4, 4], type = super, isherm = True, superrep = None\\begin{equation*}\\left(\\begin{array}{*{11}c}1.000 & 0.0 & 0.0 & 0.0\\\\0.0 & 0.0 & 0.0 & -1.000\\\\0.0 & 0.0 & -1.000 & 0.0\\\\0.0 & -1.000 & 0.0 & 0.0\\\\\\end{array}\\right)\\end{equation*}"
      ],
      "text/plain": [
       "PyObject Quantum object: dims = [[[2], [2]], [[2], [2]]], shape = [4, 4], type = super, isherm = True, superrep = None\n",
       "Qobj data =\n",
       "[[ 1.  0.  0.  0.]\n",
       " [ 0.  0.  0. -1.]\n",
       " [ 0.  0. -1.  0.]\n",
       " [ 0. -1.  0.  0.]]"
      ]
     },
     "execution_count": 40,
     "metadata": {},
     "output_type": "execute_result"
    }
   ],
   "source": [
    "QtSuperOperators[3]"
   ]
  },
  {
   "cell_type": "code",
   "execution_count": 41,
   "metadata": {
    "collapsed": false
   },
   "outputs": [
    {
     "data": {
      "text/plain": [
       "4x4 Array{Int64,2}:\n",
       " 1   0  0  0\n",
       " 0  -1  0  0\n",
       " 0   0  0  1\n",
       " 0   0  1  0"
      ]
     },
     "execution_count": 41,
     "metadata": {},
     "output_type": "execute_result"
    }
   ],
   "source": [
    "int(SuperClifford[23])"
   ]
  },
  {
   "cell_type": "code",
   "execution_count": 42,
   "metadata": {
    "collapsed": false
   },
   "outputs": [
    {
     "data": {
      "text/latex": [
       "Quantum object: dims = [[[2], [2]], [[2], [2]]], shape = [4, 4], type = super, isherm = True, superrep = None\\begin{equation*}\\left(\\begin{array}{*{11}c}1.000 & 0.0 & 0.0 & 0.0\\\\0.0 & -1.000 & 0.0 & 0.0\\\\0.0 & 0.0 & 0.0 & 1.000\\\\0.0 & 0.0 & 1.000 & 0.0\\\\\\end{array}\\right)\\end{equation*}"
      ],
      "text/plain": [
       "PyObject Quantum object: dims = [[[2], [2]], [[2], [2]]], shape = [4, 4], type = super, isherm = True, superrep = None\n",
       "Qobj data =\n",
       "[[ 1.  0.  0.  0.]\n",
       " [ 0. -1.  0.  0.]\n",
       " [ 0.  0.  0.  1.]\n",
       " [ 0.  0.  1.  0.]]"
      ]
     },
     "execution_count": 42,
     "metadata": {},
     "output_type": "execute_result"
    }
   ],
   "source": [
    "QtSuperOperators[11]"
   ]
  },
  {
   "cell_type": "code",
   "execution_count": 50,
   "metadata": {
    "collapsed": false
   },
   "outputs": [
    {
     "data": {
      "text/plain": [
       "true"
      ]
     },
     "execution_count": 50,
     "metadata": {},
     "output_type": "execute_result"
    }
   ],
   "source": [
    "toMatch = int([6 0 0 0;0 0 0 0;0 0 0 0;0 0 0 0])\n",
    "int(addTwo(QtSuperOperators[24],\n",
    "         addTwo(QtSuperOperators[8],\n",
    "         addTwo(QtSuperOperators[16],\n",
    "         addTwo(QtSuperOperators[19],\n",
    "addTwo(QtSuperOperators[3],QtSuperOperators[11])))))[:full]())==toMatch"
   ]
  },
  {
   "cell_type": "code",
   "execution_count": 51,
   "metadata": {
    "collapsed": false
   },
   "outputs": [
    {
     "name": "stdout",
     "output_type": "stream",
     "text": [
      "Matched ===> 1,6,9,14,17,22\n",
      "Matched ===> 1,6,10,16,19,21\n",
      "Matched ===> 1,7,11,16,20,22\n",
      "Matched ===> 1,7,12,14,18,21\n",
      "Matched ===> 2,5,9,15,20,22\n",
      "Matched ===> 2,5,10,13,18,21\n",
      "Matched ===> 2,8,11,13,17,22\n",
      "Matched ===> 2,8,12,15,19,21\n",
      "Matched ===> 3,5,9,14,18,24\n",
      "Matched ===> 3,5,10,16,20,23\n",
      "Matched ===> 3,8,11,16,19,24\n",
      "Matched ===> 3,8,12,14,17,23\n",
      "Matched ===> 4,6,9,15,19,24\n",
      "Matched ===> 4,6,10,13,17,23\n",
      "Matched ===> 4,7,11,13,18,24\n",
      "Matched ===> 4,7,12,15,20,23\n"
     ]
    }
   ],
   "source": [
    "#WARNING HORRIBLY SLOW\n",
    "\n",
    "toMatch = int([6 0 0 0;0 0 0 0;0 0 0 0;0 0 0 0])\n",
    "matchedQt = Array{Int64,1}[]\n",
    "for i1=1:19\n",
    "    for i2=i1+1:20\n",
    "        for i3=i2+1:21\n",
    "            for i4=i3+1:22\n",
    "                for i5=i4+1:23\n",
    "                    for i6=i5+1:24\n",
    "                       if   int(addTwo(QtSuperOperators[i1],\n",
    "                                addTwo(QtSuperOperators[i2],\n",
    "                                addTwo(QtSuperOperators[i3],\n",
    "                                addTwo(QtSuperOperators[i4],\n",
    "                            addTwo(QtSuperOperators[i5],QtSuperOperators[i6])))))[:full]()) == toMatch\n",
    "                            \n",
    "                            print(\"Matched ===> $i1,$i2,$i3,$i4,$i5,$i6\\n\")\n",
    "                            push!(matchedQt,[i1,i2,i3,i4,i5,i6])\n",
    "                        end\n",
    "                    end\n",
    "                end\n",
    "            end\n",
    "        end\n",
    "    end\n",
    "end"
   ]
  },
  {
   "cell_type": "code",
   "execution_count": 379,
   "metadata": {
    "collapsed": false
   },
   "outputs": [
    {
     "data": {
      "text/plain": [
       "4x4 Array{Int64,2}:\n",
       " 6   0  0   0\n",
       " 0  -1  0  -1\n",
       " 0   0  2   0\n",
       " 0  -1  0  -3"
      ]
     },
     "execution_count": 379,
     "metadata": {},
     "output_type": "execute_result"
    }
   ],
   "source": [
    "int(addTwo(QtSuperOperators[1],\n",
    "         addTwo(QtSuperOperators[6],\n",
    "         addTwo(QtSuperOperators[7],\n",
    "         addTwo(QtSuperOperators[18],\n",
    "         addTwo(QtSuperOperators[19],QtSuperOperators[23])))))[:full]())"
   ]
  },
  {
   "cell_type": "code",
   "execution_count": 371,
   "metadata": {
    "collapsed": false
   },
   "outputs": [
    {
     "data": {
      "text/plain": [
       "4x4 Array{Int64,2}:\n",
       " 3   0  0   0\n",
       " 0   0  0  -1\n",
       " 0   0  1   0\n",
       " 0  -1  0   0"
      ]
     },
     "execution_count": 371,
     "metadata": {},
     "output_type": "execute_result"
    }
   ],
   "source": [
    "int(addTwo(QtSuperOperators[1],addTwo(QtSuperOperators[2],QtSuperOperators[3]))[:full]())"
   ]
  },
  {
   "cell_type": "code",
   "execution_count": null,
   "metadata": {
    "collapsed": true
   },
   "outputs": [],
   "source": []
  },
  {
   "cell_type": "markdown",
   "metadata": {},
   "source": [
    "##Actually lets play with finite fields a bit\n",
    "\n",
    "- I am not sure if it all works with one qubit, but lets see"
   ]
  },
  {
   "cell_type": "markdown",
   "metadata": {},
   "source": [
    "## Just get the Python finite field package working\n",
    "- I will generate the SL for GF($2^2$)\n",
    "- Once thats done, I will go back and have a look at GF(2)"
   ]
  },
  {
   "cell_type": "code",
   "execution_count": 115,
   "metadata": {
    "collapsed": false
   },
   "outputs": [],
   "source": [
    "unshift!(PyVector(pyimport(\"sys\")[\"path\"]), \"./finite-fields/\")\n",
    "@pyimport finitefield as ff\n"
   ]
  },
  {
   "cell_type": "code",
   "execution_count": 133,
   "metadata": {
    "collapsed": false
   },
   "outputs": [
    {
     "name": "stdout",
     "output_type": "stream",
     "text": [
      "0 + 0 x^1 + 1 x^2\n",
      "0 + 1 x^1 + 1 x^2\n",
      "1 + 1 x^1 + 1 x^2\n"
     ]
    },
    {
     "data": {
      "text/plain": [
       "fn (generic function with 1 method)"
      ]
     },
     "execution_count": 133,
     "metadata": {},
     "output_type": "execute_result"
    }
   ],
   "source": [
    "F22 = ff.FiniteField(2,2)"
   ]
  },
  {
   "cell_type": "code",
   "execution_count": 175,
   "metadata": {
    "collapsed": false
   },
   "outputs": [],
   "source": [
    "count = 0 \n",
    "eles = Array{Int64,1}[]\n",
    "for i =1:2\n",
    "    for j=1:2\n",
    "        push!(eles,[i,j]) \n",
    "    end\n",
    "end\n",
    "fieldElements= PyObject[]\n",
    "for i=1:4\n",
    "    push!(fieldElements,F22(eles[i]))\n",
    "end\n",
    "reverse!(fieldElements)\n",
    "SL2Members = Array{Int64,1}[]\n",
    "for i =1:length(eles)\n",
    "    for j=1:length(eles)\n",
    "        for k=1:length(eles)\n",
    "            for l=1:length(eles)\n",
    "                if pycall(pycall(fieldElements[i][\"__mul__\"],PyAny,fieldElements[l])[\"__add__\"],\n",
    "                          PyAny,\n",
    "                          pycall(fieldElements[j][\"__mul__\"],PyAny,fieldElements[k])) == F22([1])\n",
    "                    push!(SL2Members,[i,j,k,l])\n",
    "                end\n",
    "            end\n",
    "        end\n",
    "    end\n",
    "end\n"
   ]
  },
  {
   "cell_type": "code",
   "execution_count": 170,
   "metadata": {
    "collapsed": false
   },
   "outputs": [
    {
     "data": {
      "text/plain": [
       "4-element Array{PyObject,1}:\n",
       " PyObject 0 \\u2208 F_{2^2}        \n",
       " PyObject 0 + 1 x^1 \\u2208 F_{2^2}\n",
       " PyObject 1 \\u2208 F_{2^2}        \n",
       " PyObject 1 + 1 x^1 \\u2208 F_{2^2}"
      ]
     },
     "execution_count": 170,
     "metadata": {},
     "output_type": "execute_result"
    }
   ],
   "source": [
    "fieldElements"
   ]
  },
  {
   "cell_type": "code",
   "execution_count": 176,
   "metadata": {
    "collapsed": false
   },
   "outputs": [
    {
     "data": {
      "text/plain": [
       "60"
      ]
     },
     "execution_count": 176,
     "metadata": {},
     "output_type": "execute_result"
    }
   ],
   "source": [
    "length(SL2Members)"
   ]
  },
  {
   "cell_type": "markdown",
   "metadata": {},
   "source": [
    "##So lets focus back on just the 1 bit version, this is really just 1 and 0\n",
    "- Our finite field package doesn't work with just GF(2), but it should be easy enough to do manually!\n",
    "- The dual basis eg $\\hat a$ comes from multiplying by W, which here is just T(F21(1).F2(1)), = 1\n",
    "- This is still going to map 1->1 and 0->0, which is self dual.\n",
    "- So the SL Group, must be the following 6 arrays:\n",
    "$\\left(\\array{1 0\\\\0 1}\\right)$$\\left(\\array{1 1\\\\0 1}\\right)$$\\left(\\array{1 0\\\\1 1}\\right)$$\\left(\\array{0 1\\\\1 1}\\right)$$\\left(\\array{1 1\\\\1 0}\\right)$$\\left(\\array{0 1\\\\1 0}\\right)$\n",
    "(remembering -1 = 1)\n",
    "- These represent the following six mappings:\n",
    "   1. $\\left(\\array{1 0\\\\0 1}\\right)$ X $\\rightarrow$ X, Z $\\rightarrow$ Z\n",
    "   2. $\\left(\\array{1 1\\\\0 1}\\right)$ X $\\rightarrow$ X, Z $\\rightarrow$ Y\n",
    "   3. $\\left(\\array{1 0\\\\1 1}\\right)$ X $\\rightarrow$ Y, Z $\\rightarrow$ Z\n",
    "   4. $\\left(\\array{0 1\\\\1 1}\\right)$ X $\\rightarrow$ Z, Z $\\rightarrow$ Y\n",
    "   5. $\\left(\\array{1 1\\\\1 0}\\right)$ X $\\rightarrow$ Y, Z $\\rightarrow$ X\n",
    "   6. $\\left(\\array{0 1\\\\1 0}\\right)$ X $\\rightarrow$ Z, Z $\\rightarrow$ X"
   ]
  },
  {
   "cell_type": "code",
   "execution_count": 72,
   "metadata": {
    "collapsed": false
   },
   "outputs": [
    {
     "data": {
      "text/plain": [
       "makeFromCommand (generic function with 1 method)"
      ]
     },
     "execution_count": 72,
     "metadata": {},
     "output_type": "execute_result"
    }
   ],
   "source": [
    "function makeFromCommand(command)\n",
    "    currentState = [1 0;0 1]\n",
    "    sphase=[1 0;0 im]\n",
    "    shadmard=1/sqrt(2)*[1 1;1 -1]\n",
    "    for t in command\n",
    "            m = match(r\"setup\\((.*)\\)\",t)\n",
    "            if (m!=nothing)\n",
    "                state=[1 0;0 1]\n",
    "            else \n",
    "                m=match(r\"phase\\((.*)\\)\",t)\n",
    "                if (m!=nothing)\n",
    "                    currentState=currentState*sphase\n",
    "                else\n",
    "                    m=match(r\"hadamard\\((.*)\\)\",t)\n",
    "                    if (m!=nothing)\n",
    "                         currentState=currentState*shadmard\n",
    "                    end\n",
    "                end\n",
    "            end\n",
    "    end\n",
    "    return  currentState=currentState\n",
    "end\n",
    "\n"
   ]
  },
  {
   "cell_type": "code",
   "execution_count": 234,
   "metadata": {
    "collapsed": false
   },
   "outputs": [
    {
     "data": {
      "text/plain": [
       "matchIt (generic function with 1 method)"
      ]
     },
     "execution_count": 234,
     "metadata": {},
     "output_type": "execute_result"
    }
   ],
   "source": [
    "function matchIt(ss1)\n",
    "    decomposeState(ss1,true)\n",
    "    sp=to_superpauli(qt.Qobj(makeFromCommand(commands)))\n",
    "    spd = round(real(sp[:full]()))\n",
    "    for i=1:length(SuperClifford) #Note loops are fast in Julia\n",
    "        if SuperClifford[i]==spd\n",
    "            print(\"Matched $i\\n\")\n",
    "            return i\n",
    "        end\n",
    "    end\n",
    "end"
   ]
  },
  {
   "cell_type": "code",
   "execution_count": 240,
   "metadata": {
    "collapsed": false
   },
   "outputs": [
    {
     "name": "stdout",
     "output_type": "stream",
     "text": [
      "Matched 1\n",
      "Matched 14\n",
      "Matched 15\n",
      "Matched 11\n",
      "Matched 6\n",
      "Matched 13\n"
     ]
    },
    {
     "data": {
      "text/plain": [
       "6-element Array{Int64,1}:\n",
       "  1\n",
       " 14\n",
       " 15\n",
       " 11\n",
       "  6\n",
       " 13"
      ]
     },
     "execution_count": 240,
     "metadata": {},
     "output_type": "execute_result"
    }
   ],
   "source": [
    "GFCliffords=[\n",
    "    matchIt([1 0 0;0 1 0]), # X->X Z->Z\n",
    "    matchIt([1 0 0;1 1 0]), # X->X Z->Y\n",
    "    matchIt([1 1 0;0 1 0]), # X->Y Z->Z\n",
    "    matchIt([0 1 0;1 1 0]), # X->Z Z->Y\n",
    "    matchIt([1 1 0;1 0 0]), # X->Y Z->X\n",
    "    matchIt([0 1 0;1 0 0])] # X->Z Z->X\n"
   ]
  },
  {
   "cell_type": "code",
   "execution_count": 242,
   "metadata": {
    "collapsed": false
   },
   "outputs": [
    {
     "data": {
      "text/plain": [
       "4x4 Array{Float64,2}:\n",
       " 6.0  0.0   0.0  0.0\n",
       " 0.0  2.0  -2.0  2.0\n",
       " 0.0  0.0   0.0  0.0\n",
       " 0.0  2.0  -2.0  2.0"
      ]
     },
     "execution_count": 242,
     "metadata": {},
     "output_type": "execute_result"
    }
   ],
   "source": [
    "sum=SuperClifford[GFCliffords[1]]\n",
    "for i=2:length(GFCliffords)\n",
    "    sum = sum + SuperClifford[GFCliffords[i]]\n",
    "end\n",
    "sum"
   ]
  },
  {
   "cell_type": "markdown",
   "metadata": {},
   "source": [
    "## So thats not correct \n",
    "\n",
    "However, it looks like I might need to actually multiply each of the Paulis by these things."
   ]
  },
  {
   "cell_type": "code",
   "execution_count": 74,
   "metadata": {
    "collapsed": false
   },
   "outputs": [
    {
     "data": {
      "text/plain": [
       "matchQIt (generic function with 1 method)"
      ]
     },
     "execution_count": 74,
     "metadata": {},
     "output_type": "execute_result"
    }
   ],
   "source": [
    "function matchQIt(ss1)\n",
    "    decomposeState(ss1,true)\n",
    "    sp=to_superpauli(qt.Qobj(makeFromCommand(commands)))\n",
    "    for i=1:length(QtSuperOperators) #Note loops are fast in Julia\n",
    "        if QtSuperOperators[i]==sp\n",
    "            print(\"Matched $i\\n\")\n",
    "            return i\n",
    "        end\n",
    "    end\n",
    "end"
   ]
  },
  {
   "cell_type": "code",
   "execution_count": 77,
   "metadata": {
    "collapsed": false
   },
   "outputs": [
    {
     "name": "stdout",
     "output_type": "stream",
     "text": [
      "Matched 24\n",
      "Matched 12\n",
      "Matched 20\n",
      "Matched 16\n",
      "Matched 8\n",
      "Matched 4\n"
     ]
    },
    {
     "data": {
      "text/plain": [
       "6-element Array{Int64,1}:\n",
       " 24\n",
       " 12\n",
       " 20\n",
       " 16\n",
       "  8\n",
       "  4"
      ]
     },
     "execution_count": 77,
     "metadata": {},
     "output_type": "execute_result"
    }
   ],
   "source": [
    "GLQCliffords =[matchQIt([1 0 0;0 1 0]), # X->X Z->Z\n",
    "       matchQIt([1 0 0;1 1 0]), # X->X Z->Y\n",
    "    matchQIt([1 1 0;0 1 0]), # X->Y Z->Z\n",
    "    matchQIt([0 1 0;1 1 0]), # X->Z Z->Y\n",
    "    matchQIt([1 1 0;1 0 0]), # X->Y Z->X\n",
    "    matchQIt([0 1 0;1 0 0])] # X->Z Z->X\n"
   ]
  },
  {
   "cell_type": "markdown",
   "metadata": {},
   "source": [
    "##So what I have here are the GL cliffords identified from our stabilised cliffords\n",
    "- Cliffords[X] gives you the actual Clifford i.e. 2x2\n",
    "- QtSuperopertors[X] gives you the same clifford but in a Python Qt.Superoperator object.\n",
    "\n"
   ]
  },
  {
   "cell_type": "markdown",
   "metadata": {},
   "source": [
    "###We should check that the superoperators sum to the same thing."
   ]
  },
  {
   "cell_type": "code",
   "execution_count": 86,
   "metadata": {
    "collapsed": false
   },
   "outputs": [
    {
     "data": {
      "text/latex": [
       "Quantum object: dims = [[[2], [2]], [[2], [2]]], shape = [4, 4], type = super, isherm = False, superrep = None\\begin{equation*}\\left(\\begin{array}{*{11}c}6.000 & 0.0 & 0.0 & 0.0\\\\0.0 & 2.000 & -2.000 & 2.000\\\\0.0 & 0.0 & 0.0 & 0.0\\\\0.0 & 2.000 & -2.000 & 2.000\\\\\\end{array}\\right)\\end{equation*}"
      ],
      "text/plain": [
       "PyObject Quantum object: dims = [[[2], [2]], [[2], [2]]], shape = [4, 4], type = super, isherm = False, superrep = None\n",
       "Qobj data =\n",
       "[[ 6.  0.  0.  0.]\n",
       " [ 0.  2. -2.  2.]\n",
       " [ 0.  0.  0.  0.]\n",
       " [ 0.  2. -2.  2.]]"
      ]
     },
     "execution_count": 86,
     "metadata": {},
     "output_type": "execute_result"
    }
   ],
   "source": [
    "testy = QtSuperOperators[GLQCliffords[1]]\n",
    "for i=2:6\n",
    "    testy=addTwo(testy,QtSuperOperators[GLQCliffords[i]])\n",
    "end\n",
    "testy"
   ]
  },
  {
   "cell_type": "markdown",
   "metadata": {},
   "source": [
    "##So thats the same, i.e. we have a correct mapping in GLQCliffords.\n",
    "\n",
    "- Now I am going to take these six cliffords and create 24 Unitaries $U_iP_j$, where $i$ ranges 1..6 and $j$ 1..4 "
   ]
  },
  {
   "cell_type": "code",
   "execution_count": 104,
   "metadata": {
    "collapsed": false
   },
   "outputs": [],
   "source": [
    "sigma=Array{Complex{Float64},2}[]\n",
    "push!(sigma,[1 0;0 1])\n",
    "push!(sigma,[0 1;1 0])\n",
    "push!(sigma,[0 -im;im 0])\n",
    "push!(sigma,[1 0;0 -1])\n",
    "QE=Array{Complex{Float64},2}[]\n",
    "for i=1:6\n",
    "    for j=1:4\n",
    "        push!(QE,Clifford[GLQCliffords[i]]*sigma[j])\n",
    "    end\n",
    "end\n",
    "    "
   ]
  },
  {
   "cell_type": "code",
   "execution_count": 105,
   "metadata": {
    "collapsed": false
   },
   "outputs": [
    {
     "data": {
      "text/plain": [
       "24"
      ]
     },
     "execution_count": 105,
     "metadata": {},
     "output_type": "execute_result"
    }
   ],
   "source": [
    "length(QE)"
   ]
  },
  {
   "cell_type": "code",
   "execution_count": 106,
   "metadata": {
    "collapsed": false
   },
   "outputs": [
    {
     "name": "stdout",
     "output_type": "stream",
     "text": [
      "1152.0 -> 2.0\n"
     ]
    }
   ],
   "source": [
    "sum = 0\n",
    "for i=1:24\n",
    "    for j=1:24\n",
    "        sum += abs(trace(conj(QE[i])'*QE[j]))^4\n",
    "    end\n",
    "end\n",
    "print(\"$sum -> $(sum/(24^2))\\n\")"
   ]
  },
  {
   "cell_type": "markdown",
   "metadata": {},
   "source": [
    "#PERFECT ITS A UNITARY 2 DESIGN"
   ]
  },
  {
   "cell_type": "markdown",
   "metadata": {},
   "source": [
    "## So it actually took a bit of trial and error to get the above result, whilst I was trying to work out what went wrong (I had forgotten to multiply by the Paulis), I investigated the six cliffords we were given and noticed that they weren't even a unitary-one design but apart from some \"signs\" they were - this lead to a body of investigation below, which isn't required but is interesting to keep.\n",
    "\n",
    "Inspection from stuff done above (where we found all possible 6 candidate lists) shows us that there are two similar groups that do work, looking at the one 1,6,11,18,19,23 - we can see from inspection that  we can map \n",
    "- 13$\\rightarrow$19, \n",
    "- 14$\\rightarrow$23 and \n",
    "- 15$\\rightarrow$18 \n",
    "\n",
    "by changing the sign, in each case, in the second and third row."
   ]
  },
  {
   "cell_type": "code",
   "execution_count": 261,
   "metadata": {
    "collapsed": false
   },
   "outputs": [
    {
     "data": {
      "text/plain": [
       "4x4 Array{Float64,2}:\n",
       " 1.0  0.0   0.0   0.0\n",
       " 0.0  0.0  -1.0  -0.0\n",
       " 0.0  1.0   0.0  -0.0\n",
       " 0.0  0.0  -0.0   1.0"
      ]
     },
     "execution_count": 261,
     "metadata": {},
     "output_type": "execute_result"
    }
   ],
   "source": [
    "SuperClifford[15]\n",
    "   "
   ]
  },
  {
   "cell_type": "code",
   "execution_count": 257,
   "metadata": {
    "collapsed": false
   },
   "outputs": [
    {
     "data": {
      "text/plain": [
       "4x4 Array{Float64,2}:\n",
       " 1.0   0.0   0.0   0.0\n",
       " 0.0   0.0   1.0   0.0\n",
       " 0.0   1.0  -0.0  -0.0\n",
       " 0.0  -0.0   0.0  -1.0"
      ]
     },
     "execution_count": 257,
     "metadata": {},
     "output_type": "execute_result"
    }
   ],
   "source": [
    "SuperClifford[18]"
   ]
  },
  {
   "cell_type": "code",
   "execution_count": 258,
   "metadata": {
    "collapsed": false
   },
   "outputs": [
    {
     "data": {
      "text/plain": [
       "4x4 Array{Float64,2}:\n",
       " 1.0   0.0   0.0   0.0\n",
       " 0.0   0.0   0.0  -1.0\n",
       " 0.0  -0.0  -1.0  -0.0\n",
       " 0.0  -1.0   0.0  -0.0"
      ]
     },
     "execution_count": 258,
     "metadata": {},
     "output_type": "execute_result"
    }
   ],
   "source": [
    "SuperClifford[19]"
   ]
  },
  {
   "cell_type": "code",
   "execution_count": 256,
   "metadata": {
    "collapsed": false
   },
   "outputs": [
    {
     "data": {
      "text/plain": [
       "4x4 Array{Float64,2}:\n",
       " 1.0   0.0   0.0   0.0\n",
       " 0.0  -1.0  -0.0   0.0\n",
       " 0.0   0.0   0.0   1.0\n",
       " 0.0  -0.0   1.0  -0.0"
      ]
     },
     "execution_count": 256,
     "metadata": {},
     "output_type": "execute_result"
    }
   ],
   "source": [
    "SuperClifford[23]"
   ]
  },
  {
   "cell_type": "markdown",
   "metadata": {},
   "source": [
    "## So a question is what stabilised states produce these cliffords.\n",
    "\n",
    "Earlier we did a mapping from symplecic basis to the PTSM super operators we are using here, in particular \n",
    "- 19 = (5,3) maps to 18\n",
    "- 3 (1,3) maps to 19\n",
    "- 11 (3, 3) maps to 23"
   ]
  },
  {
   "cell_type": "code",
   "execution_count": 265,
   "metadata": {
    "collapsed": false
   },
   "outputs": [
    {
     "name": "stdout",
     "output_type": "stream",
     "text": [
      "Tableau for unitary: \n",
      "-Y\n",
      "--\n",
      "-Z\n",
      "setup(1)\n",
      "phase(1)\n",
      "phase(1)\n",
      "phase(1)\n",
      "hadamard(1)\n",
      "phase(1)\n",
      "phase(1)\n",
      "hadamard(1)\n",
      "output(svec)\n"
     ]
    }
   ],
   "source": [
    "decompose(5,3,1)"
   ]
  },
  {
   "cell_type": "code",
   "execution_count": 267,
   "metadata": {
    "collapsed": false
   },
   "outputs": [
    {
     "data": {
      "text/latex": [
       "Quantum object: dims = [[[2], [2]], [[2], [2]]], shape = [4, 4], type = super, isherm = True, superrep = None\\begin{equation*}\\left(\\begin{array}{*{11}c}1.000 & 0.0 & 0.0 & 0.0\\\\0.0 & 0.0 & 1.000 & 0.0\\\\0.0 & 1.000 & 0.0 & 0.0\\\\0.0 & 0.0 & 0.0 & -1.000\\\\\\end{array}\\right)\\end{equation*}"
      ],
      "text/plain": [
       "PyObject Quantum object: dims = [[[2], [2]], [[2], [2]]], shape = [4, 4], type = super, isherm = True, superrep = None\n",
       "Qobj data =\n",
       "[[ 1.  0.  0.  0.]\n",
       " [ 0.  0.  1.  0.]\n",
       " [ 0.  1.  0.  0.]\n",
       " [ 0.  0.  0. -1.]]"
      ]
     },
     "execution_count": 267,
     "metadata": {},
     "output_type": "execute_result"
    }
   ],
   "source": [
    "to_superpauli(qt.Qobj(makeFromCommand(commands)))"
   ]
  },
  {
   "cell_type": "code",
   "execution_count": 268,
   "metadata": {
    "collapsed": false
   },
   "outputs": [
    {
     "data": {
      "text/plain": [
       "4x4 Array{Float64,2}:\n",
       " 1.0   0.0   0.0   0.0\n",
       " 0.0   0.0   1.0   0.0\n",
       " 0.0   1.0  -0.0  -0.0\n",
       " 0.0  -0.0   0.0  -1.0"
      ]
     },
     "execution_count": 268,
     "metadata": {},
     "output_type": "execute_result"
    }
   ],
   "source": [
    "SuperClifford[18]"
   ]
  },
  {
   "cell_type": "markdown",
   "metadata": {},
   "source": [
    "## So the plot thickens, 15 (formed from YZ) should maybe be 18, which is formed from -Y-Z"
   ]
  },
  {
   "cell_type": "code",
   "execution_count": 270,
   "metadata": {
    "collapsed": false
   },
   "outputs": [
    {
     "name": "stdout",
     "output_type": "stream",
     "text": [
      "Tableau for unitary: \n",
      "-Z\n",
      "--\n",
      "-X\n",
      "setup(1)\n",
      "phase(1)\n",
      "phase(1)\n",
      "hadamard(1)\n",
      "phase(1)\n",
      "phase(1)\n",
      "output(svec)\n"
     ]
    }
   ],
   "source": [
    "decompose(1,3,1)"
   ]
  },
  {
   "cell_type": "code",
   "execution_count": 271,
   "metadata": {
    "collapsed": false
   },
   "outputs": [
    {
     "data": {
      "text/latex": [
       "Quantum object: dims = [[[2], [2]], [[2], [2]]], shape = [4, 4], type = super, isherm = True, superrep = None\\begin{equation*}\\left(\\begin{array}{*{11}c}1.000 & 0.0 & 0.0 & 0.0\\\\0.0 & 0.0 & 0.0 & -1.000\\\\0.0 & 0.0 & -1.000 & 0.0\\\\0.0 & -1.000 & 0.0 & 0.0\\\\\\end{array}\\right)\\end{equation*}"
      ],
      "text/plain": [
       "PyObject Quantum object: dims = [[[2], [2]], [[2], [2]]], shape = [4, 4], type = super, isherm = True, superrep = None\n",
       "Qobj data =\n",
       "[[ 1.  0.  0.  0.]\n",
       " [ 0.  0.  0. -1.]\n",
       " [ 0.  0. -1.  0.]\n",
       " [ 0. -1.  0.  0.]]"
      ]
     },
     "execution_count": 271,
     "metadata": {},
     "output_type": "execute_result"
    }
   ],
   "source": [
    "to_superpauli(qt.Qobj(makeFromCommand(commands)))"
   ]
  },
  {
   "cell_type": "code",
   "execution_count": 272,
   "metadata": {
    "collapsed": false
   },
   "outputs": [
    {
     "data": {
      "text/plain": [
       "4x4 Array{Float64,2}:\n",
       " 1.0   0.0   0.0   0.0\n",
       " 0.0   0.0   0.0  -1.0\n",
       " 0.0  -0.0  -1.0  -0.0\n",
       " 0.0  -1.0   0.0  -0.0"
      ]
     },
     "execution_count": 272,
     "metadata": {},
     "output_type": "execute_result"
    }
   ],
   "source": [
    "SuperClifford[19]"
   ]
  },
  {
   "cell_type": "markdown",
   "metadata": {},
   "source": [
    "##And 13 ZX maps to 19 -Z-X"
   ]
  },
  {
   "cell_type": "code",
   "execution_count": 273,
   "metadata": {
    "collapsed": false
   },
   "outputs": [
    {
     "name": "stdout",
     "output_type": "stream",
     "text": [
      "Tableau for unitary: \n",
      "-X\n",
      "--\n",
      "-Y\n",
      "setup(1)\n",
      "phase(1)\n",
      "phase(1)\n",
      "phase(1)\n",
      "hadamard(1)\n",
      "phase(1)\n",
      "output(svec)\n"
     ]
    }
   ],
   "source": [
    "decompose(3,3,1)"
   ]
  },
  {
   "cell_type": "code",
   "execution_count": 274,
   "metadata": {
    "collapsed": false
   },
   "outputs": [
    {
     "data": {
      "text/latex": [
       "Quantum object: dims = [[[2], [2]], [[2], [2]]], shape = [4, 4], type = super, isherm = True, superrep = None\\begin{equation*}\\left(\\begin{array}{*{11}c}1.000 & 0.0 & 0.0 & 0.0\\\\0.0 & -1.000 & 0.0 & 0.0\\\\0.0 & 0.0 & 0.0 & 1.000\\\\0.0 & 0.0 & 1.000 & 0.0\\\\\\end{array}\\right)\\end{equation*}"
      ],
      "text/plain": [
       "PyObject Quantum object: dims = [[[2], [2]], [[2], [2]]], shape = [4, 4], type = super, isherm = True, superrep = None\n",
       "Qobj data =\n",
       "[[ 1.  0.  0.  0.]\n",
       " [ 0. -1.  0.  0.]\n",
       " [ 0.  0.  0.  1.]\n",
       " [ 0.  0.  1.  0.]]"
      ]
     },
     "execution_count": 274,
     "metadata": {},
     "output_type": "execute_result"
    }
   ],
   "source": [
    "to_superpauli(qt.Qobj(makeFromCommand(commands)))"
   ]
  },
  {
   "cell_type": "code",
   "execution_count": 275,
   "metadata": {
    "collapsed": false
   },
   "outputs": [
    {
     "data": {
      "text/plain": [
       "4x4 Array{Float64,2}:\n",
       " 1.0   0.0   0.0   0.0\n",
       " 0.0  -1.0  -0.0   0.0\n",
       " 0.0   0.0   0.0   1.0\n",
       " 0.0  -0.0   1.0  -0.0"
      ]
     },
     "execution_count": 275,
     "metadata": {},
     "output_type": "execute_result"
    }
   ],
   "source": [
    "SuperClifford[23]"
   ]
  },
  {
   "cell_type": "markdown",
   "metadata": {},
   "source": [
    "##And the last one, 14 which goes to 23, was stabilized by XY and maybe should have been stabilised by -X-Y"
   ]
  },
  {
   "cell_type": "markdown",
   "metadata": {},
   "source": [
    "###I didn't do an XZ mapping let see $\\left(\\array{1 ,1\\\\0, 1}\\right)\\left(\\array{1 \\\\1}\\right)=\\left(\\array{0\\\\ 1}\\right)$"
   ]
  },
  {
   "cell_type": "code",
   "execution_count": 278,
   "metadata": {
    "collapsed": false
   },
   "outputs": [
    {
     "data": {
      "text/plain": [
       "4x4 Array{Float64,2}:\n",
       " 1.0  0.0   0.0  0.0\n",
       " 0.0  1.0   0.0  0.0\n",
       " 0.0  0.0   0.0  1.0\n",
       " 0.0  0.0  -1.0  0.0"
      ]
     },
     "execution_count": 278,
     "metadata": {},
     "output_type": "execute_result"
    }
   ],
   "source": [
    "SuperClifford[14]"
   ]
  },
  {
   "cell_type": "code",
   "execution_count": 281,
   "metadata": {
    "collapsed": false
   },
   "outputs": [
    {
     "data": {
      "text/latex": [
       "Quantum object: dims = [[[2], [2]], [[2], [2]]], shape = [4, 4], type = super, isherm = False, superrep = None\\begin{equation*}\\left(\\begin{array}{*{11}c}1.000 & 0.0 & 0.0 & 0.0\\\\0.0 & 1.000 & 0.0 & 0.0\\\\0.0 & 0.0 & 0.0 & 1.000\\\\0.0 & 0.0 & -1.000 & 0.0\\\\\\end{array}\\right)\\end{equation*}"
      ],
      "text/plain": [
       "PyObject Quantum object: dims = [[[2], [2]], [[2], [2]]], shape = [4, 4], type = super, isherm = False, superrep = None\n",
       "Qobj data =\n",
       "[[ 1.  0.  0.  0.]\n",
       " [ 0.  1.  0.  0.]\n",
       " [ 0.  0.  0.  1.]\n",
       " [ 0.  0. -1.  0.]]"
      ]
     },
     "execution_count": 281,
     "metadata": {},
     "output_type": "execute_result"
    }
   ],
   "source": [
    "to_superpauli(qt.Qobj(Clifford[12]))"
   ]
  },
  {
   "cell_type": "code",
   "execution_count": 309,
   "metadata": {
    "collapsed": false
   },
   "outputs": [
    {
     "data": {
      "text/latex": [
       "Quantum object: dims = [[2], [2]], shape = [2, 2], type = oper, isherm = False\\begin{equation*}\\left(\\begin{array}{*{11}c}0.0 & -1.0\\\\1.0 & 0.0\\\\\\end{array}\\right)\\end{equation*}"
      ],
      "text/plain": [
       "PyObject Quantum object: dims = [[2], [2]], shape = [2, 2], type = oper, isherm = False\n",
       "Qobj data =\n",
       "[[ 0. -1.]\n",
       " [ 1.  0.]]"
      ]
     },
     "execution_count": 309,
     "metadata": {},
     "output_type": "execute_result"
    }
   ],
   "source": [
    "cl12 = qt.Qobj(Clifford[12])\n",
    "clDag12= qt.Qobj(Clifford[12])[:dag]()\n",
    "sxz=pycall(qt.sigmax()[\"__mul__\"],PyAny,qt.sigmaz())"
   ]
  },
  {
   "cell_type": "code",
   "execution_count": 310,
   "metadata": {
    "collapsed": false
   },
   "outputs": [
    {
     "data": {
      "text/latex": [
       "Quantum object: dims = [[2], [2]], shape = [2, 2], type = oper, isherm = True\\begin{equation*}\\left(\\begin{array}{*{11}c}0.0 & 1.000\\\\1.000 & 0.0\\\\\\end{array}\\right)\\end{equation*}"
      ],
      "text/plain": [
       "PyObject Quantum object: dims = [[2], [2]], shape = [2, 2], type = oper, isherm = True\n",
       "Qobj data =\n",
       "[[ 0.  1.]\n",
       " [ 1.  0.]]"
      ]
     },
     "execution_count": 310,
     "metadata": {},
     "output_type": "execute_result"
    }
   ],
   "source": [
    "(pycall(cl12[\"__mul__\"],PyAny,pycall(qt.sigmax()[\"__mul__\"],PyAny,clDag12)))\n"
   ]
  },
  {
   "cell_type": "code",
   "execution_count": 311,
   "metadata": {
    "collapsed": false
   },
   "outputs": [
    {
     "data": {
      "text/latex": [
       "Quantum object: dims = [[2], [2]], shape = [2, 2], type = oper, isherm = True\\begin{equation*}\\left(\\begin{array}{*{11}c}0.0 & 1.000j\\\\-1.000j & 0.0\\\\\\end{array}\\right)\\end{equation*}"
      ],
      "text/plain": [
       "PyObject Quantum object: dims = [[2], [2]], shape = [2, 2], type = oper, isherm = True\n",
       "Qobj data =\n",
       "[[ 0.+0.j  0.+1.j]\n",
       " [ 0.-1.j  0.+0.j]]"
      ]
     },
     "execution_count": 311,
     "metadata": {},
     "output_type": "execute_result"
    }
   ],
   "source": [
    "pycall(cl12[\"__mul__\"],PyAny,pycall(qt.sigmaz()[\"__mul__\"],PyAny,clDag12))"
   ]
  },
  {
   "cell_type": "code",
   "execution_count": 312,
   "metadata": {
    "collapsed": false
   },
   "outputs": [
    {
     "data": {
      "text/latex": [
       "Quantum object: dims = [[2], [2]], shape = [2, 2], type = oper, isherm = False\\begin{equation*}\\left(\\begin{array}{*{11}c}-1.000j & 0.0\\\\0.0 & 1.000j\\\\\\end{array}\\right)\\end{equation*}"
      ],
      "text/plain": [
       "PyObject Quantum object: dims = [[2], [2]], shape = [2, 2], type = oper, isherm = False\n",
       "Qobj data =\n",
       "[[ 0.-1.j  0.+0.j]\n",
       " [ 0.+0.j  0.+1.j]]"
      ]
     },
     "execution_count": 312,
     "metadata": {},
     "output_type": "execute_result"
    }
   ],
   "source": [
    "(pycall(cl12[\"__mul__\"],PyAny,pycall(sxz[\"__mul__\"],PyAny,clDag12)))"
   ]
  },
  {
   "cell_type": "markdown",
   "metadata": {},
   "source": [
    "##And checking out the other one"
   ]
  },
  {
   "cell_type": "code",
   "execution_count": 290,
   "metadata": {
    "collapsed": false
   },
   "outputs": [
    {
     "data": {
      "text/latex": [
       "Quantum object: dims = [[[2], [2]], [[2], [2]]], shape = [4, 4], type = super, isherm = True, superrep = None\\begin{equation*}\\left(\\begin{array}{*{11}c}1.000 & 0.0 & 0.0 & 0.0\\\\0.0 & -1.000 & 0.0 & 0.0\\\\0.0 & 0.0 & 0.0 & 1.000\\\\0.0 & 0.0 & 1.000 & 0.0\\\\\\end{array}\\right)\\end{equation*}"
      ],
      "text/plain": [
       "PyObject Quantum object: dims = [[[2], [2]], [[2], [2]]], shape = [4, 4], type = super, isherm = True, superrep = None\n",
       "Qobj data =\n",
       "[[ 1.  0.  0.  0.]\n",
       " [ 0. -1.  0.  0.]\n",
       " [ 0.  0.  0.  1.]\n",
       " [ 0.  0.  1.  0.]]"
      ]
     },
     "execution_count": 290,
     "metadata": {},
     "output_type": "execute_result"
    }
   ],
   "source": [
    "to_superpauli(qt.Qobj(Clifford[11]))"
   ]
  },
  {
   "cell_type": "code",
   "execution_count": 291,
   "metadata": {
    "collapsed": false
   },
   "outputs": [
    {
     "data": {
      "text/plain": [
       "4x4 Array{Float64,2}:\n",
       " 1.0   0.0   0.0   0.0\n",
       " 0.0  -1.0  -0.0   0.0\n",
       " 0.0   0.0   0.0   1.0\n",
       " 0.0  -0.0   1.0  -0.0"
      ]
     },
     "execution_count": 291,
     "metadata": {},
     "output_type": "execute_result"
    }
   ],
   "source": [
    "SuperClifford[23]"
   ]
  },
  {
   "cell_type": "code",
   "execution_count": 318,
   "metadata": {
    "collapsed": false
   },
   "outputs": [
    {
     "data": {
      "text/latex": [
       "Quantum object: dims = [[2], [2]], shape = [2, 2], type = oper, isherm = True\\begin{equation*}\\left(\\begin{array}{*{11}c}0.0 & -1.000\\\\-1.000 & 0.0\\\\\\end{array}\\right)\\end{equation*}"
      ],
      "text/plain": [
       "PyObject Quantum object: dims = [[2], [2]], shape = [2, 2], type = oper, isherm = True\n",
       "Qobj data =\n",
       "[[ 0. -1.]\n",
       " [-1.  0.]]"
      ]
     },
     "execution_count": 318,
     "metadata": {},
     "output_type": "execute_result"
    }
   ],
   "source": [
    "cl11 = qt.Qobj(Clifford[11])\n",
    "clDag11= qt.Qobj(Clifford[11])[:dag]()\n",
    "(pycall(cl11[\"__mul__\"],PyAny,pycall(qt.sigmax()[\"__mul__\"],PyAny,clDag11)))"
   ]
  },
  {
   "cell_type": "code",
   "execution_count": 319,
   "metadata": {
    "collapsed": false
   },
   "outputs": [
    {
     "data": {
      "text/latex": [
       "Quantum object: dims = [[2], [2]], shape = [2, 2], type = oper, isherm = True\\begin{equation*}\\left(\\begin{array}{*{11}c}0.0 & 1.000j\\\\-1.000j & 0.0\\\\\\end{array}\\right)\\end{equation*}"
      ],
      "text/plain": [
       "PyObject Quantum object: dims = [[2], [2]], shape = [2, 2], type = oper, isherm = True\n",
       "Qobj data =\n",
       "[[ 0.+0.j  0.+1.j]\n",
       " [ 0.-1.j  0.+0.j]]"
      ]
     },
     "execution_count": 319,
     "metadata": {},
     "output_type": "execute_result"
    }
   ],
   "source": [
    "pycall(cl11[\"__mul__\"],PyAny,pycall(qt.sigmaz()[\"__mul__\"],PyAny,clDag11))"
   ]
  },
  {
   "cell_type": "code",
   "execution_count": 320,
   "metadata": {
    "collapsed": false
   },
   "outputs": [
    {
     "data": {
      "text/latex": [
       "Quantum object: dims = [[2], [2]], shape = [2, 2], type = oper, isherm = False\\begin{equation*}\\left(\\begin{array}{*{11}c}1.000j & 0.0\\\\0.0 & -1.000j\\\\\\end{array}\\right)\\end{equation*}"
      ],
      "text/plain": [
       "PyObject Quantum object: dims = [[2], [2]], shape = [2, 2], type = oper, isherm = False\n",
       "Qobj data =\n",
       "[[ 0.+1.j  0.+0.j]\n",
       " [ 0.+0.j  0.-1.j]]"
      ]
     },
     "execution_count": 320,
     "metadata": {},
     "output_type": "execute_result"
    }
   ],
   "source": [
    "(pycall(cl11[\"__mul__\"],PyAny,pycall(sxz[\"__mul__\"],PyAny,clDag11)))"
   ]
  },
  {
   "cell_type": "code",
   "execution_count": 307,
   "metadata": {
    "collapsed": false
   },
   "outputs": [
    {
     "data": {
      "text/plain": [
       "2x2 Array{Complex{Float64},2}:\n",
       " 0.707107+0.0im            0.0-0.707107im\n",
       "      0.0-0.707107im  0.707107+0.0im     "
      ]
     },
     "execution_count": 307,
     "metadata": {},
     "output_type": "execute_result"
    }
   ],
   "source": [
    "Clifford[12]"
   ]
  },
  {
   "cell_type": "code",
   "execution_count": 308,
   "metadata": {
    "collapsed": false
   },
   "outputs": [
    {
     "data": {
      "text/plain": [
       "2x2 Array{Complex{Float64},2}:\n",
       " 0.707107+0.0im             0.0+0.707107im\n",
       "      0.0-0.707107im  -0.707107+0.0im     "
      ]
     },
     "execution_count": 308,
     "metadata": {},
     "output_type": "execute_result"
    }
   ],
   "source": [
    "Clifford[11]"
   ]
  },
  {
   "cell_type": "markdown",
   "metadata": {},
   "source": [
    "##Not really helping me, the one we found 14 does the correct maps, the one we want (23) changes the sign for X and Y"
   ]
  },
  {
   "cell_type": "markdown",
   "metadata": {},
   "source": [
    "###So, for a unitary two design, Gross tells us $\\sum_\\limits{U_k,U_k'} |tr(U_k^\\dagger U_{k'})|^4/K^2$ should =2, lets check for the cliffords"
   ]
  },
  {
   "cell_type": "code",
   "execution_count": 357,
   "metadata": {
    "collapsed": false
   },
   "outputs": [
    {
     "name": "stdout",
     "output_type": "stream",
     "text": [
      "1151.9999999999998 -> 1.9999999999999996\n"
     ]
    }
   ],
   "source": [
    "sum = 0\n",
    "for i=1:24\n",
    "    for j=1:24\n",
    "        sum += abs(trace(conj(Clifford[i])'*Clifford[j]))^4\n",
    "    end\n",
    "end\n",
    "print(\"$sum -> $(sum/(24^2))\\n\")"
   ]
  },
  {
   "cell_type": "markdown",
   "metadata": {},
   "source": [
    "###Well its certainly true for the cliffords"
   ]
  },
  {
   "cell_type": "markdown",
   "metadata": {},
   "source": [
    "###So lets check if its true for any of the \"6 clifford unitary-1's\" I found earlier"
   ]
  },
  {
   "cell_type": "code",
   "execution_count": 102,
   "metadata": {
    "collapsed": false
   },
   "outputs": [
    {
     "name": "stdout",
     "output_type": "stream",
     "text": [
      "[1,6,9,14,17,22]1 = 1.9999999999999996\n",
      "[1,6,10,16,19,21]2 = 1.9999999999999996\n",
      "[1,7,11,16,20,22]3 = 1.9999999999999996\n",
      "[1,7,12,14,18,21]4 = 1.9999999999999996\n",
      "[2,5,9,15,20,22]5 = 1.9999999999999996\n",
      "[2,5,10,13,18,21]6 = 1.9999999999999996\n",
      "[2,8,11,13,17,22]7 = 1.9999999999999996\n",
      "[2,8,12,15,19,21]8 = 1.9999999999999996\n",
      "[3,5,9,14,18,24]9 = 1.9999999999999996\n",
      "[3,5,10,16,20,23]10 = 1.9999999999999996\n",
      "[3,8,11,16,19,24]11 = 1.9999999999999996\n",
      "[3,8,12,14,17,23]12 = 1.9999999999999996\n",
      "[4,6,9,15,19,24]13 = 1.9999999999999996\n",
      "[4,6,10,13,17,23]14 = 1.9999999999999996\n",
      "[4,7,11,13,18,24]15 = 1.9999999999999996\n",
      "[4,7,12,15,20,23]16 = 1.9999999999999996\n"
     ]
    }
   ],
   "source": [
    "for iter=1:length(matchedQt)\n",
    "    sum = 0\n",
    "    elements=matchedQt[iter]\n",
    "    print(elements)\n",
    "    QE=Array{Complex{Float64},2}[]\n",
    "    for i=1:6\n",
    "        for j=1:4\n",
    "            push!(QE,Clifford[elements[i]]*sigma[j])\n",
    "        end\n",
    "    end\n",
    "for i=1:24\n",
    "    for j=1:24\n",
    "            sum+=abs((trace(conj(QE[i])'*QE[j])))^4\n",
    "    end\n",
    "end\n",
    "    print(\"$iter = $(sum/(24^2))\\n\")\n",
    "end"
   ]
  },
  {
   "cell_type": "markdown",
   "metadata": {},
   "source": [
    "###And there we have it, each of them is a Unitary -2 design when conjugated with the Paulis. So it appears that any six-clifford unitary-1 design conjugated with each Pauli is a Unitary-2 design. Is this obvious?"
   ]
  },
  {
   "cell_type": "markdown",
   "metadata": {},
   "source": [
    "###And also interesting they are \"close\" to a unitary-2 on their own (whatever that means)"
   ]
  },
  {
   "cell_type": "code",
   "execution_count": 103,
   "metadata": {
    "collapsed": false
   },
   "outputs": [
    {
     "name": "stdout",
     "output_type": "stream",
     "text": [
      "[1,6,9,14,17,22]1 = 2.1111111111111094\n",
      "[1,6,10,16,19,21]2 = 2.1111111111111094\n",
      "[1,7,11,16,20,22]3 = 2.1111111111111094\n",
      "[1,7,12,14,18,21]4 = 2.1111111111111094\n",
      "[2,5,9,15,20,22]5 = 2.1111111111111094\n",
      "[2,5,10,13,18,21]6 = 2.1111111111111094\n",
      "[2,8,11,13,17,22]7 = 2.1111111111111094\n",
      "[2,8,12,15,19,21]8 = 2.1111111111111094\n",
      "[3,5,9,14,18,24]9 = 2.1111111111111094\n",
      "[3,5,10,16,20,23]10 = 2.1111111111111094\n",
      "[3,8,11,16,19,24]11 = 2.1111111111111094\n",
      "[3,8,12,14,17,23]12 = 2.1111111111111094\n",
      "[4,6,9,15,19,24]13 = 2.1111111111111094\n",
      "[4,6,10,13,17,23]14 = 2.1111111111111094\n",
      "[4,7,11,13,18,24]15 = 2.1111111111111094\n",
      "[4,7,12,15,20,23]16 = 2.1111111111111094\n"
     ]
    }
   ],
   "source": [
    "for iter=1:length(matchedQt)\n",
    "    sum = 0\n",
    "    elements=matchedQt[iter]\n",
    "    print(elements)\n",
    "for i=1:6\n",
    "    for j=1:6\n",
    "            sum+=abs((trace(conj(Clifford[elements[i]])'*Clifford[elements[j]])))^4\n",
    "    end\n",
    "end\n",
    "    print(\"$iter = $(sum/36)\\n\")\n",
    "end\n"
   ]
  },
  {
   "cell_type": "markdown",
   "metadata": {
    "collapsed": true
   },
   "source": [
    "##So we have 24 Unitaries that are the 2-design from the GL Field, are they just cliffords (probably here)"
   ]
  },
  {
   "cell_type": "code",
   "execution_count": 140,
   "metadata": {
    "collapsed": false
   },
   "outputs": [
    {
     "name": "stdout",
     "output_type": "stream",
     "text": [
      "1 matches 24\n",
      "2 matches 22\n",
      "3 matches 23\n",
      "4 matches 21\n",
      "5 matches 12\n",
      "6 matches 10\n",
      "7 matches 9\n",
      "8 matches 11\n",
      "9 matches 20\n",
      "10 matches 19\n",
      "11 matches 18\n",
      "12 matches 17\n",
      "13 matches 16\n",
      "14 matches 15\n",
      "15 matches 13\n",
      "16 matches 14\n",
      "17 matches 8\n",
      "18 matches 5\n",
      "19 matches 6\n",
      "20 matches 7\n",
      "21 matches 4\n",
      "22 matches 1\n",
      "23 matches 3\n",
      "24 matches 2\n"
     ]
    }
   ],
   "source": [
    "##We are checking on the superpauli basis as its better for equality\n",
    "for i=1:24\n",
    "    for j=1:24\n",
    "        test=int(to_superpauli(qt.Qobj(QE[i]))[:full]())\n",
    "        if test==int(QtSuperOperators[j][:full]())\n",
    "            print(\"$i matches $j\\n\")\n",
    "        end\n",
    "    end\n",
    "end"
   ]
  },
  {
   "cell_type": "code",
   "execution_count": 141,
   "metadata": {
    "collapsed": false
   },
   "outputs": [
    {
     "name": "stdout",
     "output_type": "stream",
     "text": [
      "Complex{Float64}[0.0 - 0.7071067811865475im 0.7071067811865475 + 0.0im\n",
      "                 0.7071067811865475 + 0.0im 0.0 - 0.7071067811865475im]\n"
     ]
    },
    {
     "data": {
      "text/plain": [
       "2x2 Array{Complex{Float64},2}:\n",
       " 0.707107+0.0im            0.0+0.707107im\n",
       "      0.0+0.707107im  0.707107+0.0im     "
      ]
     },
     "execution_count": 141,
     "metadata": {},
     "output_type": "execute_result"
    }
   ],
   "source": [
    "#Just a quick check\n",
    "print(QE[6],\"\\n\")\n",
    "Clifford[10]"
   ]
  },
  {
   "cell_type": "code",
   "execution_count": 142,
   "metadata": {
    "collapsed": false
   },
   "outputs": [
    {
     "data": {
      "text/latex": [
       "Quantum object: dims = [[[2], [2]], [[2], [2]]], shape = [4, 4], type = super, isherm = False, superrep = None\\begin{equation*}\\left(\\begin{array}{*{11}c}1.000 & 0.0 & 0.0 & 0.0\\\\0.0 & 1.000 & 0.0 & 0.0\\\\0.0 & 0.0 & 0.0 & -1.000\\\\0.0 & 0.0 & 1.000 & 0.0\\\\\\end{array}\\right)\\end{equation*}"
      ],
      "text/plain": [
       "PyObject Quantum object: dims = [[[2], [2]], [[2], [2]]], shape = [4, 4], type = super, isherm = False, superrep = None\n",
       "Qobj data =\n",
       "[[ 1.  0.  0.  0.]\n",
       " [ 0.  1.  0.  0.]\n",
       " [ 0.  0.  0. -1.]\n",
       " [ 0.  0.  1.  0.]]"
      ]
     },
     "execution_count": 142,
     "metadata": {},
     "output_type": "execute_result"
    }
   ],
   "source": [
    "to_superpauli(qt.Qobj(QE[6]))"
   ]
  },
  {
   "cell_type": "code",
   "execution_count": 144,
   "metadata": {
    "collapsed": false
   },
   "outputs": [
    {
     "data": {
      "text/latex": [
       "Quantum object: dims = [[[2], [2]], [[2], [2]]], shape = [4, 4], type = super, isherm = False, superrep = None\\begin{equation*}\\left(\\begin{array}{*{11}c}1.000 & 0.0 & 0.0 & 0.0\\\\0.0 & 1.000 & 0.0 & 0.0\\\\0.0 & 0.0 & 0.0 & -1.000\\\\0.0 & 0.0 & 1.000 & 0.0\\\\\\end{array}\\right)\\end{equation*}"
      ],
      "text/plain": [
       "PyObject Quantum object: dims = [[[2], [2]], [[2], [2]]], shape = [4, 4], type = super, isherm = False, superrep = None\n",
       "Qobj data =\n",
       "[[ 1.  0.  0.  0.]\n",
       " [ 0.  1.  0.  0.]\n",
       " [ 0.  0.  0. -1.]\n",
       " [ 0.  0.  1.  0.]]"
      ]
     },
     "execution_count": 144,
     "metadata": {},
     "output_type": "execute_result"
    }
   ],
   "source": [
    "QtSuperOperators[10]"
   ]
  },
  {
   "cell_type": "code",
   "execution_count": 145,
   "metadata": {
    "collapsed": false
   },
   "outputs": [
    {
     "data": {
      "text/plain": [
       "2x2 Array{Complex{Float64},2}:\n",
       " 0.707107+0.0im            0.0+0.707107im\n",
       "      0.0+0.707107im  0.707107+0.0im     "
      ]
     },
     "execution_count": 145,
     "metadata": {},
     "output_type": "execute_result"
    }
   ],
   "source": [
    "im*QE[6]"
   ]
  },
  {
   "cell_type": "markdown",
   "metadata": {},
   "source": [
    "##So the same, other than a phase"
   ]
  },
  {
   "cell_type": "code",
   "execution_count": null,
   "metadata": {
    "collapsed": true
   },
   "outputs": [],
   "source": []
  }
 ],
 "metadata": {
  "kernelspec": {
   "display_name": "Julia 0.3.9",
   "language": "julia",
   "name": "julia-0.3"
  },
  "language_info": {
   "name": "julia",
   "version": "0.3.9"
  }
 },
 "nbformat": 4,
 "nbformat_minor": 0
}
