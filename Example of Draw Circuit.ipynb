{
 "metadata": {
  "language": "Julia",
  "name": "",
  "signature": "sha256:4715e3cabadd287ea6e32a43d9109909ec9e4b239a9dcda3d3b5c904f6e386b5"
 },
 "nbformat": 3,
 "nbformat_minor": 0,
 "worksheets": [
  {
   "cells": [
    {
     "cell_type": "code",
     "collapsed": false,
     "input": [
      "Pkg.build(\"ImageView\") # we need ImageView  - this is a once only thing"
     ],
     "language": "python",
     "metadata": {},
     "outputs": [
      {
       "output_type": "stream",
       "stream": "stderr",
       "text": [
        "INFO: Building Homebrew\n"
       ]
      },
      {
       "output_type": "stream",
       "stream": "stderr",
       "text": [
        "From https://github.com/Homebrew/homebrew\n",
        "   8f3e0ff..9a2df07  master     -> origin/master\n"
       ]
      },
      {
       "output_type": "stream",
       "stream": "stdout",
       "text": [
        "HEAD is now at 9a2df07 mecab-ko: fix dicdir path\n"
       ]
      },
      {
       "output_type": "stream",
       "stream": "stdout",
       "text": [
        "HEAD is now at 4c5030e Add bottles for newly versioned glpk formulae\n"
       ]
      },
      {
       "output_type": "stream",
       "stream": "stderr",
       "text": [
        "INFO: Building Images\n"
       ]
      },
      {
       "output_type": "stream",
       "stream": "stderr",
       "text": [
        "INFO: Building Cairo\n"
       ]
      },
      {
       "output_type": "stream",
       "stream": "stdout",
       "text": [
        "==> Installing dependencies for pango: staticfloat/juliadeps/icu4c, staticfloat/juliadeps/harfbuzz, staticfloat/juliadeps/fontconfig, staticfloat/juliadeps/gobject-introspection\n",
        "==> Installing pango dependency: staticfloat/juliadeps/icu4c\n",
        "==> Downloading https://juliabottles.s3.amazonaws.com/icu4c-52.1.mavericks.bottle.2.tar.gz\n",
        "Already downloaded: /Users/rharper/Library/Caches/Homebrew.jl//icu4c-52.1.mavericks.bottle.2.tar.gz\n",
        "==> Pouring icu4c-52.1.mavericks.bottle.2.tar.gz\n"
       ]
      },
      {
       "output_type": "stream",
       "stream": "stdout",
       "text": [
        "==> Caveats\n",
        "This formula is keg-only, which means it was not symlinked into /Users/rharper/.julia/v0.3/Homebrew/deps/usr.\n",
        "\n",
        "Conflicts; see: https://github.com/Homebrew/homebrew/issues/issue/167\n",
        "\n",
        "Generally there are no consequences of this for you. If you build your\n",
        "own software and it requires this formula, you'll need to add to your\n",
        "build variables:\n",
        "\n",
        "    LDFLAGS:  -L/Users/rharper/.julia/v0.3/Homebrew/deps/usr/opt/icu4c/lib\n",
        "    CPPFLAGS: -I/Users/rharper/.julia/v0.3/Homebrew/deps/usr/opt/icu4c/include\n",
        "\n"
       ]
      },
      {
       "output_type": "stream",
       "stream": "stdout",
       "text": [
        "==> Summary\n"
       ]
      },
      {
       "output_type": "stream",
       "stream": "stdout",
       "text": [
        "\ud83c\udf7a  /Users/rharper/.julia/v0.3/Homebrew/deps/usr/Cellar/icu4c/52.1: 239 files, 60M\n",
        "==> Installing pango dependency: staticfloat/juliadeps/harfbuzz\n",
        "==> Downloading https://downloads.sf.net/project/machomebrew/Bottles/harfbuzz-0.9.33.mavericks.bottle.tar.gz\n"
       ]
      },
      {
       "output_type": "stream",
       "stream": "stdout",
       "text": [
        "==> Pouring harfbuzz-0.9.33.mavericks.bottle.tar.gz\n"
       ]
      },
      {
       "output_type": "stream",
       "stream": "stdout",
       "text": [
        "\ud83c\udf7a  /Users/rharper/.julia/v0.3/Homebrew/deps/usr/Cellar/harfbuzz/0.9.33: 72 files, 2.9M\n",
        "==> Installing pango dependency: staticfloat/juliadeps/fontconfig\n",
        "==> Downloading https://juliabottles.s3.amazonaws.com/fontconfig-2.11.1.mavericks.bottle.tar.gz\n"
       ]
      },
      {
       "output_type": "stream",
       "stream": "stdout",
       "text": [
        "==> Pouring fontconfig-2.11.1.mavericks.bottle.tar.gz\n"
       ]
      },
      {
       "output_type": "stream",
       "stream": "stdout",
       "text": [
        "==> /Users/rharper/.julia/v0.3/Homebrew/deps/usr/Cellar/fontconfig/2.11.1/bin/fc-cache -frv\n"
       ]
      },
      {
       "output_type": "stream",
       "stream": "stdout",
       "text": [
        "\ud83c\udf7a  /Users/rharper/.julia/v0.3/Homebrew/deps/usr/Cellar/fontconfig/2.11.1: 448 files, 3.6M\n",
        "==> Installing pango dependency: staticfloat/juliadeps/gobject-introspection\n",
        "==> Downloading https://juliabottles.s3.amazonaws.com/gobject-introspection-1.40.0.mavericks.bottle.1.tar.gz\n"
       ]
      },
      {
       "output_type": "stream",
       "stream": "stdout",
       "text": [
        "==> Pouring gobject-introspection-1.40.0.mavericks.bottle.1.tar.gz\n"
       ]
      },
      {
       "output_type": "stream",
       "stream": "stdout",
       "text": [
        "\ud83c\udf7a  /Users/rharper/.julia/v0.3/Homebrew/deps/usr/Cellar/gobject-introspection/1.40.0: 192 files, 9.9M\n",
        "==> Installing pango\n",
        "==> Downloading https://juliabottles.s3.amazonaws.com/pango-1.36.5.mavericks.bottle.1.tar.gz\n"
       ]
      },
      {
       "output_type": "stream",
       "stream": "stdout",
       "text": [
        "==> Pouring pango-1.36.5.mavericks.bottle.1.tar.gz\n"
       ]
      },
      {
       "output_type": "stream",
       "stream": "stdout",
       "text": [
        "\ud83c\udf7a  /Users/rharper/.julia/v0.3/Homebrew/deps/usr/Cellar/pango/1.36.5: 126 files, 4.6M\n"
       ]
      },
      {
       "output_type": "stream",
       "stream": "stdout",
       "text": [
        "To relink: brew unlink pango && brew link pango\n"
       ]
      },
      {
       "output_type": "stream",
       "stream": "stderr",
       "text": [
        "INFO: Building Tk\n"
       ]
      }
     ],
     "prompt_number": 1
    },
    {
     "cell_type": "code",
     "collapsed": false,
     "input": [
      "using ImageView,Images\n",
      "img = imread(\"test1.png\") # just test its working"
     ],
     "language": "python",
     "metadata": {},
     "outputs": [
      {
       "output_type": "stream",
       "stream": "stderr",
       "text": [
        "WARNING: OSX reader: indexed color images not implemented\n"
       ]
      },
      {
       "metadata": {},
       "output_type": "pyout",
       "png": "[encoded data removed]",
       "prompt_number": 109,
       "text": [
        "Gray Image with:\n",
        "  data: 358x204 Array{Uint8,2}\n",
        "  properties:\n",
        "    colorspace: Gray\n",
        "    spatialorder:  x y\n",
        "    limits: (0x00,0xff)"
       ]
      }
     ],
     "prompt_number": 109
    },
    {
     "cell_type": "code",
     "collapsed": false,
     "input": [
      "require(\"Initial.jl\")\n",
      "require(\"Symplectic.jl\")\n",
      "decompose(23)"
     ],
     "language": "python",
     "metadata": {},
     "outputs": [
      {
       "output_type": "stream",
       "stream": "stdout",
       "text": [
        "Tableau for unitary: \n"
       ]
      },
      {
       "output_type": "stream",
       "stream": "stdout",
       "text": [
        "+IZXI\n",
        "+ZZXI\n",
        "+IIXI\n",
        "+IIIX\n",
        "-----\n",
        "+XXII\n",
        "+XIXI\n",
        "+ZYYI\n",
        "+IIIZ\n",
        "setup(4)"
       ]
      },
      {
       "output_type": "stream",
       "stream": "stdout",
       "text": [
        "\n",
        "hadamard(4)\n",
        "hadamard(3)\n",
        "hadamard(2)\n",
        "hadamard(1)\n",
        "cnot(3,2)\n",
        "cnot(3,1)\n",
        "hadamard(3)\n",
        "cnot(2,3)\n",
        "cnot(2,1)\n",
        "cnot(1,2)\n",
        "hadamard(4)\n",
        "output(svec)\n"
       ]
      }
     ],
     "prompt_number": 4
    },
    {
     "cell_type": "code",
     "collapsed": false,
     "input": [
      "commands # this is the list of commands generated by decompose\n",
      "# it will be used to draw the circuit\n"
     ],
     "language": "python",
     "metadata": {},
     "outputs": [
      {
       "metadata": {},
       "output_type": "pyout",
       "prompt_number": 5,
       "text": [
        "13-element Array{ASCIIString,1}:\n",
        " \"setup(4)\"    \n",
        " \"hadamard(4)\" \n",
        " \"hadamard(3)\" \n",
        " \"hadamard(2)\" \n",
        " \"hadamard(1)\" \n",
        " \"cnot(3,2)\"   \n",
        " \"cnot(3,1)\"   \n",
        " \"hadamard(3)\" \n",
        " \"cnot(2,3)\"   \n",
        " \"cnot(2,1)\"   \n",
        " \"cnot(1,2)\"   \n",
        " \"hadamard(4)\" \n",
        " \"output(svec)\""
       ]
      }
     ],
     "prompt_number": 5
    },
    {
     "cell_type": "code",
     "collapsed": false,
     "input": [
      "drawCircuit()"
     ],
     "language": "python",
     "metadata": {},
     "outputs": [
      {
       "output_type": "stream",
       "stream": "stderr",
       "text": [
        "This is dvips(k) 5.994 Copyright 2014 Radical Eye Software (www.radicaleye.com)\n"
       ]
      },
      {
       "output_type": "stream",
       "stream": "stderr",
       "text": [
        "' TeX output 2014.09.02:1716' -> temp.eps\n",
        "</usr/local/texlive/2014/texmf-dist/dvips/base/tex.pro>\n",
        "</usr/local/texlive/2014/texmf-dist/dvips/base/texps.pro>. \n",
        "</usr/local/texlive/2014/texmf-dist/fonts/type1/public/amsfonts/cm/cmr8.pfb>\n",
        "</usr/local/texlive/2014/texmf-dist/fonts/type1/public/amsfonts/cm/cmmi10.pfb>\n",
        "</usr/local/texlive/2014/texmf-dist/fonts/type1/public/amsfonts/cm/cmsy10.pfb>\n",
        "[1] \n"
       ]
      },
      {
       "output_type": "stream",
       "stream": "stderr",
       "text": [
        "WARNING: OSX reader: indexed color images not implemented\n"
       ]
      },
      {
       "metadata": {},
       "output_type": "pyout",
       "png": "[encoded data removed]",
       "prompt_number": 105,
       "text": [
        "Gray Image with:\n",
        "  data: 812x469 Array{Uint8,2}\n",
        "  properties:\n",
        "    colorspace: Gray\n",
        "    spatialorder:  x y\n",
        "    limits: (0x00,0xff)"
       ]
      }
     ],
     "prompt_number": 105
    },
    {
     "cell_type": "code",
     "collapsed": false,
     "input": [
      "decompose(48)\n",
      "drawCircuit()"
     ],
     "language": "python",
     "metadata": {},
     "outputs": [
      {
       "output_type": "stream",
       "stream": "stdout",
       "text": [
        "Tableau for unitary: \n"
       ]
      },
      {
       "output_type": "stream",
       "stream": "stdout",
       "text": [
        "+XIYI\n",
        "+IXII\n",
        "+ZIZI\n",
        "+IIIX\n",
        "-----\n",
        "+ZIII\n",
        "+IZII\n",
        "+ZIXI\n",
        "+IIIZ\n",
        "setup(4)"
       ]
      },
      {
       "output_type": "stream",
       "stream": "stdout",
       "text": [
        "\n",
        "cnot(3,1)\n",
        "phase(4)\n",
        "phase(4)\n",
        "phase(2)\n",
        "phase(2)\n",
        "phase(4)\n",
        "phase(3)\n",
        "phase(2)\n",
        "phase(1)\n",
        "phase(3)\n",
        "cnot(3,1)\n",
        "phase(4)\n",
        "phase(3)\n",
        "phase(2)\n",
        "hadamard(4)\n",
        "hadamard(3)\n",
        "hadamard(2)\n",
        "hadamard(1)\n",
        "cnot(3,1)\n",
        "hadamard(4)\n",
        "hadamard(2)\n",
        "hadamard(1)\n",
        "output(svec)\n"
       ]
      },
      {
       "output_type": "stream",
       "stream": "stderr",
       "text": [
        "This is dvips(k) 5.994 Copyright 2014 Radical Eye Software (www.radicaleye.com)\n"
       ]
      },
      {
       "output_type": "stream",
       "stream": "stderr",
       "text": [
        "' TeX output 2014.09.02:1717' -> temp.eps\n",
        "</usr/local/texlive/2014/texmf-dist/dvips/base/tex.pro>\n",
        "</usr/local/texlive/2014/texmf-dist/dvips/base/texps.pro>. \n",
        "</usr/local/texlive/2014/texmf-dist/fonts/type1/public/amsfonts/cm/cmr8.pfb>\n",
        "</usr/local/texlive/2014/texmf-dist/fonts/type1/public/amsfonts/cm/cmmi10.pfb>\n",
        "</usr/local/texlive/2014/texmf-dist/fonts/type1/public/amsfonts/cm/cmsy10.pfb>\n",
        "[1] \n"
       ]
      },
      {
       "output_type": "stream",
       "stream": "stderr",
       "text": [
        "WARNING: OSX reader: indexed color images not implemented\n"
       ]
      },
      {
       "metadata": {},
       "output_type": "pyout",
       "png": "[encoded data removed]",
       "prompt_number": 106,
       "text": [
        "Gray Image with:\n",
        "  data: 1190x469 Array{Uint8,2}\n",
        "  properties:\n",
        "    colorspace: Gray\n",
        "    spatialorder:  x y\n",
        "    limits: (0x00,0xff)"
       ]
      }
     ],
     "prompt_number": 106
    },
    {
     "cell_type": "code",
     "collapsed": false,
     "input": [
      "decompose(48,8) # create Clifford 48 of a 8 qubit system\n",
      "drawCircuit() # show us what we have"
     ],
     "language": "python",
     "metadata": {},
     "outputs": [
      {
       "output_type": "stream",
       "stream": "stdout",
       "text": [
        "Tableau for unitary: \n"
       ]
      },
      {
       "output_type": "stream",
       "stream": "stdout",
       "text": [
        "+XIYIIIII\n",
        "+IXIIIIII\n",
        "+ZIZIIIII\n",
        "+IIIXIIII\n",
        "+IIIIXIII\n",
        "+IIIIIXII\n",
        "+IIIIIIXI\n",
        "+IIIIIIIX\n",
        "---------\n",
        "+ZIIIIIII\n",
        "+IZIIIIII\n",
        "+ZIXIIIII\n",
        "+IIIZIIII\n",
        "+IIIIZIII\n",
        "+IIIIIZII\n",
        "+IIIIIIZI\n",
        "+IIIIIIIZ\n",
        "setup(8)\n",
        "cnot(3,1)\n",
        "phase(8)\n",
        "phase(8)\n",
        "phase(7)\n",
        "phase(7)\n",
        "phase(6)\n",
        "phase(6)\n",
        "phase(5)\n",
        "phase(5)\n",
        "phase(4)\n",
        "phase(4)\n",
        "phase(2)\n",
        "phase(2)\n",
        "phase(8)\n",
        "phase(7)\n",
        "phase(6)\n",
        "phase(5)\n",
        "phase(4)\n",
        "phase(3)\n",
        "phase(2)\n",
        "phase(1)\n",
        "phase(3)\n",
        "cnot(3,1)\n",
        "phase(8)\n",
        "phase(7)\n",
        "phase(6)\n",
        "phase(5)\n",
        "phase(4)\n",
        "phase(3)\n",
        "phase(2)\n",
        "hadamard(8)\n",
        "hadamard(7)\n",
        "hadamard(6)\n",
        "hadamard(5)\n",
        "hadamard(4)\n",
        "hadamard(3)\n",
        "hadamard(2)\n",
        "hadamard(1)\n",
        "cnot(3,1)\n",
        "hadamard(8)\n",
        "hadamard(7)\n",
        "hadamard(6)\n",
        "hadamard(5)\n",
        "hadamard(4)\n",
        "hadamard(2)\n",
        "hadamard(1)\n",
        "output(svec)\n"
       ]
      },
      {
       "output_type": "stream",
       "stream": "stderr",
       "text": [
        "This is dvips(k) 5.994 Copyright 2014 Radical Eye Software (www.radicaleye.com)\n"
       ]
      },
      {
       "output_type": "stream",
       "stream": "stderr",
       "text": [
        "' TeX output 2014.09.02:1718' -> temp.eps\n",
        "</usr/local/texlive/2014/texmf-dist/dvips/base/tex.pro>\n",
        "</usr/local/texlive/2014/texmf-dist/dvips/base/texps.pro>. \n",
        "</usr/local/texlive/2014/texmf-dist/fonts/type1/public/amsfonts/cm/cmr8.pfb>\n",
        "</usr/local/texlive/2014/texmf-dist/fonts/type1/public/amsfonts/cm/cmmi10.pfb>\n",
        "</usr/local/texlive/2014/texmf-dist/fonts/type1/public/amsfonts/cm/cmsy10.pfb>\n",
        "[1] \n"
       ]
      },
      {
       "output_type": "stream",
       "stream": "stderr",
       "text": [
        "WARNING: OSX reader: indexed color images not implemented\n"
       ]
      },
      {
       "metadata": {},
       "output_type": "pyout",
       "png": "[encoded data removed]",
       "prompt_number": 107,
       "text": [
        "Gray Image with:\n",
        "  data: 1190x972 Array{Uint8,2}\n",
        "  properties:\n",
        "    colorspace: Gray\n",
        "    spatialorder:  x y\n",
        "    limits: (0x00,0xff)"
       ]
      }
     ],
     "prompt_number": 107
    },
    {
     "cell_type": "code",
     "collapsed": false,
     "input": [
      "decompose(42128,18) # create Clifford 42128 of an 18 qubit system\n",
      "drawCircuit() # show us what we have"
     ],
     "language": "python",
     "metadata": {},
     "outputs": [
      {
       "output_type": "stream",
       "stream": "stdout",
       "text": [
        "Tableau for unitary: \n"
       ]
      },
      {
       "output_type": "stream",
       "stream": "stdout",
       "text": [
        "+XIXZIXZZIIIIIIIIII\n",
        "+IXIIIIIIIIIIIIIIII\n",
        "+IIXIIIIIIIIIIIIIII\n",
        "+ZIXYIXZZIIIIIIIIII\n",
        "+IIIIXIIIIIIIIIIIII\n",
        "+IIIIIXIIIIIIIIIIII\n",
        "+ZIXZIXYZIIIIIIIIII\n",
        "+ZIXZIXZYIIIIIIIIII\n",
        "+IIIIIIIIXIIIIIIIII\n",
        "+IIIIIIIIIXIIIIIIII\n",
        "+IIIIIIIIIIXIIIIIII\n",
        "+IIIIIIIIIIIXIIIIII\n",
        "+IIIIIIIIIIIIXIIIII\n",
        "+IIIIIIIIIIIIIXIIII\n",
        "+IIIIIIIIIIIIIIXIII\n",
        "+IIIIIIIIIIIIIIIXII\n",
        "+IIIIIIIIIIIIIIIIXI\n",
        "+IIIIIIIIIIIIIIIIIX\n",
        "-------------------\n",
        "+ZIIIIIIIIIIIIIIIII\n",
        "+IZIIIIIIIIIIIIIIII\n",
        "+ZIYZIXZZIIIIIIIIII\n",
        "+IIIZIIIIIIIIIIIIII\n",
        "+IIIIZIIIIIIIIIIIII\n",
        "+ZIXZIYZZIIIIIIIIII\n",
        "+IIIIIIZIIIIIIIIIII\n",
        "+IIIIIIIZIIIIIIIIII\n",
        "+IIIIIIIIZIIIIIIIII\n",
        "+IIIIIIIIIZIIIIIIII\n",
        "+IIIIIIIIIIZIIIIIII\n",
        "+IIIIIIIIIIIZIIIIII\n",
        "+IIIIIIIIIIIIZIIIII\n",
        "+IIIIIIIIIIIIIZIIII\n",
        "+IIIIIIIIIIIIIIZIII\n",
        "+IIIIIIIIIIIIIIIZII\n",
        "+IIIIIIIIIIIIIIIIZI\n",
        "+IIIIIIIIIIIIIIIIIZ\n",
        "setup(18)\n",
        "cnot(8,7)\n",
        "cnot(7,6)\n",
        "cnot(7,4)\n",
        "cnot(7,1)\n",
        "cnot(6,4)\n",
        "cnot(6,1)\n",
        "phase(18)\n",
        "phase(18)\n",
        "phase(17)\n",
        "phase(17)\n",
        "phase(16)\n",
        "phase(16)\n",
        "phase(15)\n",
        "phase(15)\n",
        "phase(14)\n",
        "phase(14)\n",
        "phase(13)\n",
        "phase(13)\n",
        "phase(12)\n",
        "phase(12)\n",
        "phase(11)\n",
        "phase(11)\n",
        "phase(10)\n",
        "phase(10)\n",
        "phase(9)\n",
        "phase(9)\n",
        "phase(6)\n",
        "phase(6)\n",
        "phase(5)\n",
        "phase(5)\n",
        "phase(3)\n",
        "phase(3)\n",
        "phase(2)\n",
        "phase(2)\n",
        "phase(1)\n",
        "phase(1)\n",
        "phase(18)\n",
        "phase(17)\n",
        "phase(16)\n",
        "phase(15)\n",
        "phase(14)\n",
        "phase(13)\n",
        "phase(12)\n",
        "phase(11)\n",
        "phase(10)\n",
        "phase(9)\n",
        "phase(8)\n",
        "phase(7)\n",
        "phase(6)\n",
        "phase(5)\n",
        "phase(4)\n",
        "phase(3)\n",
        "phase(2)\n",
        "phase(1)\n",
        "cnot(8,7)\n",
        "phase(7)\n",
        "cnot(8,6)\n",
        "cnot(7,6)\n",
        "cnot(6,4)\n",
        "cnot(6,1)\n",
        "phase(18)\n",
        "phase(17)\n",
        "phase(16)\n",
        "phase(15)\n",
        "phase(14)\n",
        "phase(13)\n",
        "phase(12)\n",
        "phase(11)\n",
        "phase(10)\n",
        "phase(9)\n",
        "phase(8)\n",
        "phase(7)\n",
        "phase(5)\n",
        "phase(4)\n",
        "phase(3)\n",
        "phase(2)\n",
        "hadamard(18)\n",
        "hadamard(17)\n",
        "hadamard(16)\n",
        "hadamard(15)\n",
        "hadamard(14)\n",
        "hadamard(13)\n",
        "hadamard(12)\n",
        "hadamard(11)\n",
        "hadamard(10)\n",
        "hadamard(9)\n",
        "hadamard(8)\n",
        "hadamard(7)\n",
        "hadamard(6)\n",
        "hadamard(5)\n",
        "hadamard(4)\n",
        "hadamard(3)\n",
        "hadamard(2)\n",
        "hadamard(1)\n",
        "phase(18)\n",
        "phase(18)\n",
        "phase(17)\n",
        "phase(17)\n",
        "phase(16)\n",
        "phase(16)\n",
        "phase(15)\n",
        "phase(15)\n",
        "phase(14)\n",
        "phase(14)\n",
        "phase(13)\n",
        "phase(13)\n",
        "phase(12)\n",
        "phase(12)\n",
        "phase(11)\n",
        "phase(11)\n",
        "phase(10)\n",
        "phase(10)\n",
        "phase(9)\n",
        "phase(9)\n",
        "phase(8)\n",
        "phase(8)\n",
        "phase(7)\n",
        "phase(7)\n",
        "phase(6)\n",
        "phase(6)\n",
        "phase(5)\n",
        "phase(5)\n",
        "phase(4)\n",
        "phase(4)\n",
        "phase(2)\n",
        "phase(2)\n",
        "phase(1)\n",
        "phase(1)\n",
        "phase(18)\n",
        "phase(17)\n",
        "phase(16)\n",
        "phase(15)\n",
        "phase(14)\n",
        "phase(13)\n",
        "phase(12)\n",
        "phase(11)\n",
        "phase(10)\n",
        "phase(9)\n",
        "phase(8)\n",
        "phase(7)\n",
        "phase(6)\n",
        "phase(5)\n",
        "phase(4)\n",
        "phase(3)\n",
        "phase(2)\n",
        "phase(1)\n",
        "phase(18)\n",
        "phase(17)\n",
        "phase(16)\n",
        "phase(15)\n",
        "phase(14)\n",
        "phase(13)\n",
        "phase(12)\n",
        "phase(11)\n",
        "phase(10)\n",
        "phase(9)\n",
        "phase(8)\n",
        "phase(7)\n",
        "phase(5)\n",
        "phase(4)\n",
        "phase(2)\n",
        "phase(1)\n",
        "cnot(6,8)\n",
        "cnot(6,7)\n",
        "cnot(6,4)\n",
        "cnot(6,1)\n",
        "cnot(3,8)\n",
        "cnot(3,7)\n",
        "cnot(3,6)\n",
        "cnot(3,4)\n",
        "cnot(3,1)\n",
        "hadamard(18)\n",
        "hadamard(17)\n",
        "hadamard(16)\n",
        "hadamard(15)\n",
        "hadamard(14)\n",
        "hadamard(13)\n",
        "hadamard(12)\n",
        "hadamard(11)\n",
        "hadamard(10)\n",
        "hadamard(9)\n",
        "hadamard(8)\n",
        "hadamard(7)\n",
        "hadamard(5)\n",
        "hadamard(4)\n",
        "hadamard(3)\n",
        "hadamard(2)\n",
        "hadamard(1)\n",
        "output(svec)\n"
       ]
      },
      {
       "output_type": "stream",
       "stream": "stderr",
       "text": [
        "This is dvips(k) 5.994 Copyright 2014 Radical Eye Software (www.radicaleye.com)\n"
       ]
      },
      {
       "output_type": "stream",
       "stream": "stderr",
       "text": [
        "' TeX output 2014.09.02:1719' -> temp.eps\n",
        "</usr/local/texlive/2014/texmf-dist/dvips/base/tex.pro>\n",
        "</usr/local/texlive/2014/texmf-dist/dvips/base/texps.pro>. \n",
        "</usr/local/texlive/2014/texmf-dist/fonts/type1/public/amsfonts/cm/cmr8.pfb>\n",
        "</usr/local/texlive/2014/texmf-dist/fonts/type1/public/amsfonts/cm/cmmi10.pfb>\n",
        "</usr/local/texlive/2014/texmf-dist/fonts/type1/public/amsfonts/cm/cmsy10.pfb>\n",
        "[1] \n"
       ]
      },
      {
       "output_type": "stream",
       "stream": "stderr",
       "text": [
        "WARNING: OSX reader: indexed color images not implemented\n"
       ]
      },
      {
       "metadata": {},
       "output_type": "pyout",
       "png": "[encoded data removed]",
       "prompt_number": 108,
       "text": [
        "Gray Image with:\n",
        "  data: 3176x2228 Array{Uint8,2}\n",
        "  properties:\n",
        "    colorspace: Gray\n",
        "    spatialorder:  x y\n",
        "    limits: (0x00,0xff)"
       ]
      }
     ],
     "prompt_number": 108
    },
    {
     "cell_type": "code",
     "collapsed": false,
     "input": [],
     "language": "python",
     "metadata": {},
     "outputs": []
    }
   ],
   "metadata": {}
  }
 ]
}