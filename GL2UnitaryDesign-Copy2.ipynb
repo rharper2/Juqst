{
 "cells": [
  {
   "cell_type": "markdown",
   "metadata": {},
   "source": [
    "##Some preliminaries, you will need \n",
    "- package Match (Pkg.add(\"Match\")) \n",
    "- PyCall\n",
    "- a working Python, with scipy, numpy and qutip installed."
   ]
  },
  {
   "cell_type": "code",
   "execution_count": 1,
   "metadata": {
    "collapsed": false
   },
   "outputs": [
    {
     "name": "stderr",
     "output_type": "stream",
     "text": [
      "Warning: could not import Base.Text into Tk\n",
      "Warning: using Images.phase in module Main conflicts with an existing identifier.\n"
     ]
    }
   ],
   "source": [
    "reload(\"PTSM.jl\")\n",
    "reload(\"Initial.jl\")\n",
    "reload(\"Symplectic.jl\")"
   ]
  },
  {
   "cell_type": "code",
   "execution_count": 2,
   "metadata": {
    "collapsed": false
   },
   "outputs": [],
   "source": [
    "using PyCall"
   ]
  },
  {
   "cell_type": "code",
   "execution_count": 3,
   "metadata": {
    "collapsed": false
   },
   "outputs": [],
   "source": [
    "@pyimport scipy.optimize as so\n",
    "@pyimport numpy as np\n",
    "@pyimport matplotlib.pyplot as plt\n",
    "@pyimport qutip as qt\n",
    "@pyimport numpy.linalg as la"
   ]
  },
  {
   "cell_type": "markdown",
   "metadata": {},
   "source": [
    "## We need to get the Python finite field package working"
   ]
  },
  {
   "cell_type": "code",
   "execution_count": 4,
   "metadata": {
    "collapsed": true
   },
   "outputs": [],
   "source": [
    "unshift!(PyVector(pyimport(\"sys\")[\"path\"]), \"./finite-fields/\")\n",
    "@pyimport finitefield as ff"
   ]
  },
  {
   "cell_type": "code",
   "execution_count": 5,
   "metadata": {
    "collapsed": false
   },
   "outputs": [
    {
     "name": "stdout",
     "output_type": "stream",
     "text": [
      "1 + 1 x^1 + 1 x^2\n"
     ]
    },
    {
     "data": {
      "text/plain": [
       "fn (generic function with 1 method)"
      ]
     },
     "execution_count": 5,
     "metadata": {},
     "output_type": "execute_result"
    }
   ],
   "source": [
    "F22 = ff.FiniteField(2,2)"
   ]
  },
  {
   "cell_type": "code",
   "execution_count": 6,
   "metadata": {
    "collapsed": false
   },
   "outputs": [],
   "source": [
    "@pyimport SLFunctions as sl"
   ]
  },
  {
   "cell_type": "code",
   "execution_count": 7,
   "metadata": {
    "collapsed": false
   },
   "outputs": [
    {
     "data": {
      "text/plain": [
       "getStabilisers (generic function with 1 method)"
      ]
     },
     "execution_count": 7,
     "metadata": {},
     "output_type": "execute_result"
    }
   ],
   "source": [
    "function getStabilisers()\n",
    "    jstabs=Array{Int64,2}[]\n",
    "    stabs = sl.getF2Stabilisers()\n",
    "    for i in 1:60\n",
    "        push!(jstabs,reshape(stabs[i,:,:],4,4))\n",
    "    end\n",
    "    return jstabs\n",
    "end\n"
   ]
  },
  {
   "cell_type": "code",
   "execution_count": 8,
   "metadata": {
    "collapsed": false
   },
   "outputs": [],
   "source": [
    "stabs=getStabilisers();"
   ]
  },
  {
   "cell_type": "markdown",
   "metadata": {},
   "source": [
    "##So we have the F22 stabilisers (60 of them) loaded into stabs"
   ]
  },
  {
   "cell_type": "code",
   "execution_count": 9,
   "metadata": {
    "collapsed": false
   },
   "outputs": [
    {
     "data": {
      "text/plain": [
       "4x4 Array{Int64,2}:\n",
       " 0  1  0  0\n",
       " 1  1  0  0\n",
       " 0  1  1  1\n",
       " 1  1  1  0"
      ]
     },
     "execution_count": 9,
     "metadata": {},
     "output_type": "execute_result"
    }
   ],
   "source": [
    "#e.g\n",
    "stabs[25]"
   ]
  },
  {
   "cell_type": "markdown",
   "metadata": {},
   "source": [
    "###Lets try one, use setup to set up the stabiliser state, then decompose it."
   ]
  },
  {
   "cell_type": "code",
   "execution_count": 10,
   "metadata": {
    "collapsed": false
   },
   "outputs": [
    {
     "data": {
      "text/plain": [
       "4x5 Array{Int32,2}:\n",
       " 1  0  0  0  0\n",
       " 0  1  0  0  0\n",
       " 0  0  1  0  0\n",
       " 0  0  0  1  0"
      ]
     },
     "execution_count": 10,
     "metadata": {},
     "output_type": "execute_result"
    }
   ],
   "source": [
    "state=setup(2)"
   ]
  },
  {
   "cell_type": "code",
   "execution_count": 25,
   "metadata": {
    "collapsed": false
   },
   "outputs": [
    {
     "data": {
      "text/plain": [
       "4x4 Array{Int64,2}:\n",
       " 0  0  1  0\n",
       " 0  0  0  1\n",
       " 1  0  0  0\n",
       " 0  1  0  0"
      ]
     },
     "execution_count": 25,
     "metadata": {},
     "output_type": "execute_result"
    }
   ],
   "source": [
    "state[:,1:4]=stabs[21]"
   ]
  },
  {
   "cell_type": "code",
   "execution_count": 26,
   "metadata": {
    "collapsed": false
   },
   "outputs": [
    {
     "data": {
      "text/plain": [
       "4x5 Array{Int32,2}:\n",
       " 0  0  1  0  0\n",
       " 0  0  0  1  0\n",
       " 1  0  0  0  0\n",
       " 0  1  0  0  0"
      ]
     },
     "execution_count": 26,
     "metadata": {},
     "output_type": "execute_result"
    }
   ],
   "source": [
    "state"
   ]
  },
  {
   "cell_type": "code",
   "execution_count": 27,
   "metadata": {
    "collapsed": false
   },
   "outputs": [
    {
     "name": "stdout",
     "output_type": "stream",
     "text": [
      "Tableau for unitary: \n",
      "+ZI\n",
      "+IZ\n",
      "---\n",
      "+XI\n",
      "+IX\n",
      "setup(2)\n",
      "hadamard(2)\n",
      "hadamard(1)\n",
      "output(svec)\n"
     ]
    }
   ],
   "source": [
    "decomposeState(state)"
   ]
  },
  {
   "cell_type": "code",
   "execution_count": 87,
   "metadata": {
    "collapsed": false
   },
   "outputs": [
    {
     "data": {
      "image/png": "[encoded data removed]",
      "text/plain": [
       "Gray Image with:\n",
       "  data: 303x218 Array{Gray{UfixedBase{Uint8,8}},2}\n",
       "  properties:\n",
       "    imagedescription: <suppressed>\n",
       "    spatialorder:  x y\n",
       "    pixelspacing:  1 1"
      ]
     },
     "execution_count": 87,
     "metadata": {},
     "output_type": "execute_result"
    }
   ],
   "source": [
    "drawCircuit()"
   ]
  },
  {
   "cell_type": "code",
   "execution_count": 15,
   "metadata": {
    "collapsed": false
   },
   "outputs": [
    {
     "data": {
      "text/plain": [
       "(18,)"
      ]
     },
     "execution_count": 15,
     "metadata": {},
     "output_type": "execute_result"
    }
   ],
   "source": [
    "size(commands)"
   ]
  },
  {
   "cell_type": "markdown",
   "metadata": {},
   "source": [
    "#Optimise the gates required for these 60\n",
    "##!WARNING\n",
    "these take a long time to run!"
   ]
  },
  {
   "cell_type": "code",
   "execution_count": 12,
   "metadata": {
    "collapsed": false
   },
   "outputs": [
    {
     "name": "stdout",
     "output_type": "stream",
     "text": [
      "Trying: 1 1 \n",
      "Trying: 1 1 1 \n",
      "Trying: 1 1 1 1 \n",
      "Trying: 1 1 1 1 1 \n",
      "Trying: 1 1 1 1 1 1 \n",
      "Trying: 1 1 1 1 1 1 1 \n",
      "Trying: 1 1 1 1 1 1 1 1 \n",
      "Found it after (only) 626658 permuations\n",
      "Gates applied\n",
      "hadamard(svec,1,false)\n",
      "cnot(svec,1,2,false)\n",
      "hadamard(svec,1,false)\n",
      "phase(svec,1,false)\n",
      "hadamard(svec,1,false)\n",
      "phase(svec,2,false)\n",
      "phase(svec,2,false)\n",
      "phase(svec,2,false)\n",
      "Trying: 1 1 \n",
      "Trying: 1 1 1 \n",
      "Trying: 1 1 1 1 \n",
      "Found it after (only) 1265 permuations\n",
      "Gates applied\n",
      "hadamard(svec,2,false)\n",
      "cnot(svec,2,1,false)\n",
      "phase(svec,2,false)\n",
      "hadamard(svec,2,false)\n",
      "Trying: 1 1 \n",
      "Trying: 1 1 1 \n",
      "Trying: 1 1 1 1 \n",
      "Trying: 1 1 1 1 1 \n",
      "Trying: 1 1 1 1 1 1 \n",
      "Found it after (only) 26293 permuations\n",
      "Gates applied\n",
      "phase(svec,1,false)\n",
      "hadamard(svec,1,false)\n",
      "cnot(svec,1,2,false)\n",
      "cnot(svec,2,1,false)\n",
      "hadamard(svec,1,false)\n",
      "cnot(svec,1,2,false)\n",
      "Trying: 1 1 \n",
      "Trying: 1 1 1 \n",
      "Trying: 1 1 1 1 \n",
      "Trying: 1 1 1 1 1 \n",
      "Trying: 1 1 1 1 1 1 \n",
      "Found it after (only) 17507 permuations\n",
      "Gates applied\n",
      "hadamard(svec,1,false)\n",
      "cnot(svec,1,2,false)\n",
      "hadamard(svec,1,false)\n",
      "phase(svec,2,false)\n",
      "cnot(svec,1,2,false)\n",
      "hadamard(svec,2,false)\n",
      "Trying: 1 1 \n",
      "Trying: 1 1 1 \n",
      "Trying: 1 1 1 1 \n",
      "Trying: 1 1 1 1 1 \n",
      "Trying: 1 1 1 1 1 1 \n",
      "Trying: 1 1 1 1 1 1 1 \n",
      "Trying: 1 1 1 1 1 1 1 1 \n",
      "Found it after (only) 626765 permuations\n",
      "Gates applied\n",
      "hadamard(svec,1,false)\n",
      "cnot(svec,1,2,false)\n",
      "hadamard(svec,1,false)\n",
      "phase(svec,1,false)\n",
      "phase(svec,1,false)\n",
      "phase(svec,1,false)\n",
      "phase(svec,2,false)\n",
      "hadamard(svec,2,false)\n",
      "Trying: 1 1 \n",
      "Found it after (only) 25 permuations\n",
      "Gates applied\n",
      "cnot(svec,2,1,false)\n",
      "cnot(svec,1,2,false)\n",
      "Trying: 1 1 \n",
      "Trying: 1 1 1 \n",
      "Trying: 1 1 1 1 \n",
      "Trying: 1 1 1 1 1 \n",
      "Trying: 1 1 1 1 1 1 \n",
      "Found it after (only) 29413 permuations\n",
      "Gates applied\n",
      "phase(svec,1,false)\n",
      "cnot(svec,2,1,false)\n",
      "phase(svec,1,false)\n",
      "phase(svec,2,false)\n",
      "phase(svec,2,false)\n",
      "cnot(svec,1,2,false)\n",
      "Trying: 1 1 \n",
      "Trying: 1 1 1 \n",
      "Trying: 1 1 1 1 \n",
      "Trying: 1 1 1 1 1 \n",
      "Trying: 1 1 1 1 1 1 \n",
      "Found it after (only) 29305 permuations\n",
      "Gates applied\n",
      "phase(svec,1,false)\n",
      "cnot(svec,2,1,false)\n",
      "phase(svec,1,false)\n",
      "phase(svec,1,false)\n",
      "phase(svec,2,false)\n",
      "cnot(svec,1,2,false)\n",
      "Trying: 1 1 \n",
      "Trying: 1 1 1 \n",
      "Trying: 1 1 1 1 \n",
      "Trying: 1 1 1 1 1 \n",
      "Trying: 1 1 1 1 1 1 \n",
      "Found it after (only) 10764 permuations\n",
      "Gates applied\n",
      "cnot(svec,1,2,false)\n",
      "hadamard(svec,1,false)\n",
      "cnot(svec,1,2,false)\n",
      "cnot(svec,2,1,false)\n",
      "hadamard(svec,2,false)\n",
      "phase(svec,2,false)\n",
      "Trying: 1 1 \n",
      "Trying: 1 1 1 \n",
      "Trying: 1 1 1 1 \n",
      "Trying: 1 1 1 1 1 \n",
      "Trying: 1 1 1 1 1 1 \n",
      "Found it after (only) 41164 permuations\n",
      "Gates applied\n",
      "hadamard(svec,2,false)\n",
      "cnot(svec,1,2,false)\n",
      "cnot(svec,2,1,false)\n",
      "phase(svec,1,false)\n",
      "hadamard(svec,1,false)\n",
      "cnot(svec,2,1,false)\n",
      "Trying: 1 1 \n",
      "Trying: 1 1 1 \n",
      "Trying: 1 1 1 1 \n",
      "Trying: 1 1 1 1 1 \n",
      "Trying: 1 1 1 1 1 1 \n",
      "Found it after (only) 21467 permuations\n",
      "Gates applied\n",
      "hadamard(svec,1,false)\n",
      "cnot(svec,2,1,false)\n",
      "phase(svec,1,false)\n",
      "hadamard(svec,1,false)\n",
      "cnot(svec,1,2,false)\n",
      "hadamard(svec,2,false)\n",
      "Trying: 1 1 \n",
      "Trying: 1 1 1 \n",
      "Trying: 1 1 1 1 \n",
      "Trying: 1 1 1 1 1 \n",
      "Trying: 1 1 1 1 1 1 \n",
      "Trying: 1 1 1 1 1 1 1 \n",
      "Trying: 1 1 1 1 1 1 1 1 \n",
      "Found it after (only) 734621 permuations\n",
      "Gates applied\n",
      "hadamard(svec,1,false)\n",
      "phase(svec,1,false)\n",
      "cnot(svec,2,1,false)\n",
      "hadamard(svec,1,false)\n",
      "cnot(svec,2,1,false)\n",
      "hadamard(svec,2,false)\n",
      "phase(svec,2,false)\n",
      "hadamard(svec,2,false)\n",
      "Trying: 1 1 \n",
      "Trying: 1 1 1 \n",
      "Trying: 1 1 1 1 \n",
      "Found it after (only) 749 permuations\n",
      "Gates applied\n",
      "phase(svec,1,false)\n",
      "hadamard(svec,1,false)\n",
      "cnot(svec,2,1,false)\n",
      "hadamard(svec,2,false)\n",
      "Trying: 1 1 \n",
      "Trying: 1 1 1 \n",
      "Trying: 1 1 1 1 \n",
      "Trying: 1 1 1 1 1 \n",
      "Trying: 1 1 1 1 1 1 \n",
      "Trying: 1 1 1 1 1 1 1 \n",
      "Trying: 1 1 1 1 1 1 1 1 \n",
      "Found it after (only) 627701 permuations\n",
      "Gates applied\n",
      "hadamard(svec,1,false)\n",
      "cnot(svec,1,2,false)\n",
      "hadamard(svec,1,false)\n",
      "cnot(svec,2,1,false)\n",
      "cnot(svec,1,2,false)\n",
      "hadamard(svec,2,false)\n",
      "phase(svec,2,false)\n",
      "hadamard(svec,2,false)\n",
      "Trying: 1 1 \n",
      "Trying: 1 1 1 \n",
      "Trying: 1 1 1 1 \n",
      "Trying: 1 1 1 1 1 \n",
      "Trying: 1 1 1 1 1 1 \n",
      "Found it after (only) 26840 permuations\n",
      "Gates applied\n",
      "phase(svec,1,false)\n",
      "hadamard(svec,1,false)\n",
      "cnot(svec,2,1,false)\n",
      "cnot(svec,1,2,false)\n",
      "phase(svec,1,false)\n",
      "hadamard(svec,1,false)\n",
      "Trying: 1 1 \n",
      "Trying: 1 1 1 \n",
      "Trying: 1 1 1 1 \n",
      "Trying: 1 1 1 1 1 \n",
      "Trying: 1 1 1 1 1 1 \n",
      "Found it after (only) 12653 permuations\n",
      "Gates applied\n",
      "cnot(svec,1,2,false)\n",
      "phase(svec,1,false)\n",
      "cnot(svec,2,1,false)\n",
      "phase(svec,1,false)\n",
      "hadamard(svec,1,false)\n",
      "hadamard(svec,2,false)\n",
      "Trying: 1 1 \n",
      "Trying: 1 1 1 \n",
      "Trying: 1 1 1 1 \n",
      "Trying: 1 1 1 1 1 \n",
      "Trying: 1 1 1 1 1 1 \n",
      "Trying: 1 1 1 1 1 1 1 \n",
      "Trying: 1 1 1 1 1 1 1 1 \n",
      "Found it after (only) 626753 permuations\n",
      "Gates applied\n",
      "hadamard(svec,1,false)\n",
      "cnot(svec,1,2,false)\n",
      "hadamard(svec,1,false)\n",
      "phase(svec,1,false)\n",
      "phase(svec,1,false)\n",
      "phase(svec,1,false)\n",
      "cnot(svec,2,1,false)\n",
      "hadamard(svec,2,false)\n",
      "Trying: 1 1 \n",
      "Trying: 1 1 1 \n",
      "Trying: 1 1 1 1 \n",
      "Trying: 1 1 1 1 1 \n",
      "Trying: 1 1 1 1 1 1 \n",
      "Trying: 1 1 1 1 1 1 1 \n",
      "Trying: 1 1 1 1 1 1 1 1 \n",
      "Found it after (only) 717275 permuations\n",
      "Gates applied\n",
      "hadamard(svec,1,false)\n",
      "phase(svec,1,false)\n",
      "hadamard(svec,1,false)\n",
      "cnot(svec,1,2,false)\n",
      "hadamard(svec,1,false)\n",
      "cnot(svec,2,1,false)\n",
      "cnot(svec,1,2,false)\n",
      "hadamard(svec,2,false)\n",
      "Trying: 1 1 \n",
      "Trying: 1 1 1 \n",
      "Trying: 1 1 1 1 \n",
      "Trying: 1 1 1 1 1 \n",
      "Trying: 1 1 1 1 1 1 \n",
      "Found it after (only) 28853 permuations\n",
      "Gates applied\n",
      "phase(svec,1,false)\n",
      "cnot(svec,2,1,false)\n",
      "cnot(svec,1,2,false)\n",
      "phase(svec,1,false)\n",
      "hadamard(svec,1,false)\n",
      "hadamard(svec,2,false)\n",
      "Trying: 1 1 \n",
      "Trying: 1 1 1 \n",
      "Trying: 1 1 1 1 \n",
      "Trying: 1 1 1 1 1 \n",
      "Trying: 1 1 1 1 1 1 \n",
      "Trying: 1 1 1 1 1 1 1 \n",
      "Trying: 1 1 1 1 1 1 1 1 \n",
      "Found it after (only) 944477 permuations\n",
      "Gates applied\n",
      "phase(svec,1,false)\n",
      "hadamard(svec,1,false)\n",
      "cnot(svec,1,2,false)\n",
      "hadamard(svec,1,false)\n",
      "cnot(svec,2,1,false)\n",
      "phase(svec,1,false)\n",
      "hadamard(svec,1,false)\n",
      "hadamard(svec,2,false)\n",
      "Trying: 1 1 \n",
      "Trying: 1 1 1 \n",
      "Trying: 1 1 1 1 \n",
      "Trying: 1 1 1 1 1 \n",
      "Trying: 1 1 1 1 1 1 \n",
      "Trying: 1 1 1 1 1 1 1 \n",
      "Trying: 1 1 1 1 1 1 1 1 \n",
      "Found it after (only) 738546 permuations\n",
      "Gates applied\n",
      "hadamard(svec,1,false)\n",
      "phase(svec,1,false)\n",
      "cnot(svec,2,1,false)\n",
      "hadamard(svec,2,false)\n",
      "cnot(svec,2,1,false)\n",
      "phase(svec,2,false)\n",
      "phase(svec,2,false)\n",
      "phase(svec,2,false)\n"
     ]
    }
   ],
   "source": [
    "gatesNeeded=Array{Int32,1}[]\n",
    "for i=40:60\n",
    "    state=setup(2)\n",
    "    state[:,1:4]=stabs[i]\n",
    "    back=bruteForceBreadthFirst(state)\n",
    "    push!(gatesNeeded,back)\n",
    "    writedlm(\"gateList$i.csv\",back)\n",
    "end\n",
    "    "
   ]
  },
  {
   "cell_type": "code",
   "execution_count": 13,
   "metadata": {
    "collapsed": false
   },
   "outputs": [
    {
     "data": {
      "text/plain": [
       "(21,)"
      ]
     },
     "execution_count": 13,
     "metadata": {},
     "output_type": "execute_result"
    }
   ],
   "source": [
    "size(gatesNeeded)"
   ]
  },
  {
   "cell_type": "code",
   "execution_count": 14,
   "metadata": {
    "collapsed": false
   },
   "outputs": [
    {
     "data": {
      "text/plain": [
       "4x4 Array{Int64,2}:\n",
       " 1  0  0  0\n",
       " 0  1  0  0\n",
       " 0  0  1  0\n",
       " 0  0  0  1"
      ]
     },
     "execution_count": 14,
     "metadata": {},
     "output_type": "execute_result"
    }
   ],
   "source": [
    "stabs[29]"
   ]
  },
  {
   "cell_type": "markdown",
   "metadata": {},
   "source": [
    "##The saved gates are indexes to the following \"gate\" array"
   ]
  },
  {
   "cell_type": "code",
   "execution_count": 28,
   "metadata": {
    "collapsed": false
   },
   "outputs": [],
   "source": [
    "gates = (Expr)[]\n",
    "\tsvec = []\n",
    "\tfor i = 1:2\n",
    "\t  for j = 1:2\n",
    "\t  \tif i!=j\n",
    "\t  \t\tpush!(gates,Expr(:call,:cnot,:svec,i,j,false))\n",
    "\t  \tend\n",
    "\t  end\n",
    "\t  push!(gates,Expr(:call,:hadamard,:svec,i,false))\n",
    "\t  push!(gates,Expr(:call,:phase,:svec,i,false))\n",
    "\tend"
   ]
  },
  {
   "cell_type": "code",
   "execution_count": 29,
   "metadata": {
    "collapsed": false
   },
   "outputs": [
    {
     "data": {
      "text/plain": [
       "6-element Array{Expr,1}:\n",
       " :(cnot(svec,1,2,false))  \n",
       " :(hadamard(svec,1,false))\n",
       " :(phase(svec,1,false))   \n",
       " :(cnot(svec,2,1,false))  \n",
       " :(hadamard(svec,2,false))\n",
       " :(phase(svec,2,false))   "
      ]
     },
     "execution_count": 29,
     "metadata": {},
     "output_type": "execute_result"
    }
   ],
   "source": [
    "gates"
   ]
  },
  {
   "cell_type": "code",
   "execution_count": null,
   "metadata": {
    "collapsed": true
   },
   "outputs": [],
   "source": [
    "## Or if we just want to print it"
   ]
  },
  {
   "cell_type": "code",
   "execution_count": null,
   "metadata": {
    "collapsed": true
   },
   "outputs": [],
   "source": [
    "gatestring = []\n",
    "svec = []\n",
    "for i = 1:2\n",
    "  for j = 1:2\n",
    "  \tif i!=j\n",
    "  \t\tpush!(gates,\"cnot($i,$j)\")\n",
    "  \tend\n",
    "  end\n",
    "  push!(gatestring,\"hadamard($i)\")\n",
    "  push!(gatestring,\"phase($i)\")\n",
    "end"
   ]
  },
  {
   "cell_type": "code",
   "execution_count": 28,
   "metadata": {
    "collapsed": false
   },
   "outputs": [
    {
     "data": {
      "text/plain": [
       "makeFromCommand (generic function with 1 method)"
      ]
     },
     "execution_count": 28,
     "metadata": {},
     "output_type": "execute_result"
    }
   ],
   "source": [
    "function makeFromCommand(command)\n",
    "    currentState = [1 0 0 0;0 1 0 0;0 0 1 0;0 0 0 1]\n",
    "    si = [1 0;0 1]\n",
    "    sphase1=kron([1 0;0 im],si)\n",
    "    sphase2=kron(si,[1 0;0 im])\n",
    "    shadmard=1/sqrt(2)*[1 1;1 -1]\n",
    "    shad1 = kron(shadmard,si)\n",
    "    shad2 = kron(si,shadmard)\n",
    "    cnot12 = [1 0 0 0;0 1 0 0;0 0 0 1;0 0 1 0]\n",
    "    cnot21 = [1 0 0 0;0 0 0 1;0 0 1 0;0 1 0 0]\n",
    "    for t in command\n",
    "        m = match(r\"setup\\((.*)\\)\",t)\n",
    "        if (m!=nothing)\n",
    "           state=[1 0 0 0;0 1 0 0;0 0 1 0;0 0 0 1]\n",
    "        else \n",
    "           m=match(r\"phase\\((.*)\\)\",t)\n",
    "           if (m!=nothing)\n",
    "                bit = int(m.captures[1])\n",
    "                if bit == 1\n",
    "                   currentState=currentState*sphase1\n",
    "                else \n",
    "                   currentState=currentState*sphase2\n",
    "                end\n",
    "            else\n",
    "                m=match(r\"hadamard\\((.*)\\)\",t)\n",
    "                if (m!=nothing)\n",
    "                    bit = int(m.captures[1])\n",
    "                    if bit == 1\n",
    "                        currentState=currentState*shad1\n",
    "                    else \n",
    "                        currentState=currentState*shad2\n",
    "                    end\n",
    "                else\n",
    "                    m=match(r\"cnot\\((.*),(.*)\\)\",t)\n",
    "                    if (m!=nothing)\n",
    "                        cbit = int(m.captures[1])\n",
    "                        tbit = int(m.captures[2])\n",
    "                        if cbit ==1 \n",
    "                            currentState = currentState*cnot12\n",
    "                        else\n",
    "                            currentState = currentState*cnot21\n",
    "                        end\n",
    "                    end\n",
    "                end\n",
    "            end\n",
    "        end\n",
    "    end\n",
    "    return  currentState=currentState\n",
    "end\n"
   ]
  },
  {
   "cell_type": "code",
   "execution_count": 120,
   "metadata": {
    "collapsed": false
   },
   "outputs": [
    {
     "data": {
      "text/plain": [
       "Array{ASCIIString,1}"
      ]
     },
     "execution_count": 120,
     "metadata": {},
     "output_type": "execute_result"
    }
   ],
   "source": [
    "typeof(commands)"
   ]
  },
  {
   "cell_type": "code",
   "execution_count": 91,
   "metadata": {
    "collapsed": false
   },
   "outputs": [
    {
     "name": "stderr",
     "output_type": "stream",
     "text": [
      "INFO: Cloning cache of ProgressMeter from git://github.com/timholy/ProgressMeter.jl.git\n",
      "INFO: Installing ProgressMeter v0.2.0\n",
      "INFO: Package database updated\n",
      "INFO: METADATA is out-of-date — you may not have the latest version of ProgressMeter\n",
      "INFO: Use `Pkg.update()` to get the latest versions of your packages\n"
     ]
    }
   ],
   "source": [
    "Pkg.add(\"ProgressMeter\")"
   ]
  },
  {
   "cell_type": "code",
   "execution_count": 29,
   "metadata": {
    "collapsed": true
   },
   "outputs": [],
   "source": [
    "using ProgressMeter"
   ]
  },
  {
   "cell_type": "markdown",
   "metadata": {},
   "source": [
    "###Looks good, so lets make them all"
   ]
  },
  {
   "cell_type": "code",
   "execution_count": 30,
   "metadata": {
    "collapsed": false
   },
   "outputs": [
    {
     "name": "stdout",
     "output_type": "stream",
     "text": [
      "111\n",
      "112\n",
      "113\n",
      "114\n",
      "121\n",
      "122\n",
      "123\n",
      "124\n",
      "131\n",
      "132\n",
      "133\n",
      "134\n",
      "141\n",
      "142\n",
      "143\n",
      "144\n",
      "211\n",
      "Progress:   2%  ETA: 0:01:13212\n",
      "213\n",
      "214\n",
      "221\n",
      "222\n",
      "223\n",
      "224\n",
      "231\n",
      "232\n",
      "233\n",
      "234\n",
      "241\n",
      "242\n",
      "243\n",
      "244\n",
      "311\n",
      "312\n",
      "313\n",
      "314\n",
      "321\n",
      "322\n",
      "323\n",
      "324\n",
      "331\n",
      "332\n",
      "333\n",
      "334\n",
      "341\n",
      "342\n",
      "343\n",
      "344\n",
      "411\n",
      "412\n",
      "413\n",
      "414\n",
      "421\n",
      "422\n",
      "423\n",
      "424\n",
      "431\n",
      "432\n",
      "433\n",
      "434\n",
      "441\n",
      "442\n",
      "443\n",
      "444\n",
      "511\n",
      "512\n",
      "513\n",
      "514\n",
      "521\n",
      "522\n",
      "523\n",
      "524\n",
      "531\n",
      "532\n",
      "533\n",
      "534\n",
      "541\n",
      "542\n",
      "543\n",
      "544\n",
      "611\n",
      "612\n",
      "613\n",
      "614\n",
      "621\n",
      "622\n",
      "623\n",
      "624\n",
      "631\n",
      "632\n",
      "633\n",
      "634\n",
      "641\n",
      "642\n",
      "643\n",
      "644\n",
      "711\n",
      "712\n",
      "713\n",
      "714\n",
      "721\n",
      "722\n",
      "723\n",
      "724\n",
      "731\n",
      "732\n",
      "733\n",
      "734\n",
      "741\n",
      "742\n",
      "743\n",
      "744\n",
      "811\n",
      "812\n",
      "813\n",
      "814\n",
      "821\n",
      "822\n",
      "823\n",
      "824\n",
      "831\n",
      "832\n",
      "833\n",
      "834\n",
      "841\n",
      "842\n",
      "843\n",
      "844\n",
      "911\n",
      "912\n",
      "913\n",
      "914\n",
      "921\n",
      "922\n",
      "923\n",
      "924\n",
      "931\n",
      "932\n",
      "933\n",
      "934\n",
      "941\n",
      "942\n",
      "943\n",
      "944\n",
      "1011\n",
      "1012\n",
      "1013\n",
      "1014\n",
      "1021\n",
      "1022\n",
      "1023\n",
      "1024\n",
      "1031\n",
      "1032\n",
      "1033\n",
      "1034\n",
      "1041\n",
      "1042\n",
      "1043\n",
      "1044\n",
      "1111\n",
      "1112\n",
      "1113\n",
      "1114\n",
      "1121\n",
      "1122\n",
      "1123\n",
      "1124\n",
      "1131\n",
      "1132\n",
      "1133\n",
      "1134\n",
      "1141\n",
      "1142\n",
      "1143\n",
      "1144\n",
      "1211\n",
      "1212\n",
      "1213\n",
      "1214\n",
      "1221\n",
      "1222\n",
      "1223\n",
      "1224\n",
      "1231\n",
      "1232\n",
      "1233\n",
      "1234\n",
      "1241\n",
      "1242\n",
      "1243\n",
      "1244\n",
      "1311\n",
      "1312\n",
      "1313\n",
      "Progress:  20%  ETA: 0:00:111314\n",
      "1321\n",
      "1322\n",
      "1323\n",
      "1324\n",
      "1331\n",
      "1332\n",
      "1333\n",
      "1334\n",
      "1341\n",
      "1342\n",
      "1343\n",
      "1344\n",
      "1411\n",
      "1412\n",
      "1413\n",
      "1414\n",
      "1421\n",
      "1422\n",
      "1423\n",
      "1424\n",
      "1431\n",
      "1432\n",
      "1433\n",
      "1434\n",
      "1441\n",
      "1442\n",
      "1443\n",
      "1444\n",
      "1511\n",
      "1512\n",
      "1513\n",
      "1514\n",
      "1521\n",
      "1522\n",
      "1523\n",
      "1524\n",
      "1531\n",
      "1532\n",
      "1533\n",
      "1534\n",
      "1541\n",
      "1542\n",
      "1543\n",
      "1544\n",
      "1611\n",
      "1612\n",
      "1613\n",
      "1614\n",
      "1621\n",
      "1622\n",
      "1623\n",
      "1624\n",
      "1631\n",
      "1632\n",
      "1633\n",
      "1634\n",
      "1641\n",
      "1642\n",
      "1643\n",
      "1644\n",
      "1711\n",
      "1712\n",
      "1713\n",
      "1714\n",
      "1721\n",
      "1722\n",
      "1723\n",
      "1724\n",
      "1731\n",
      "1732\n",
      "1733\n",
      "1734\n",
      "1741\n",
      "1742\n",
      "1743\n",
      "1744\n",
      "1811\n",
      "1812\n",
      "1813\n",
      "1814\n",
      "1821\n",
      "1822\n",
      "1823\n",
      "1824\n",
      "1831\n",
      "1832\n",
      "1833\n",
      "1834\n",
      "1841\n",
      "1842\n",
      "1843\n",
      "1844\n",
      "1911\n",
      "1912\n",
      "1913\n",
      "1914\n",
      "1921\n",
      "1922\n",
      "1923\n",
      "1924\n",
      "1931\n",
      "1932\n",
      "1933\n",
      "1934\n",
      "1941\n",
      "1942\n",
      "1943\n",
      "1944\n",
      "2011\n",
      "2012\n",
      "2013\n",
      "2014\n",
      "2021\n",
      "2022\n",
      "2023\n",
      "2024\n",
      "2031\n",
      "2032\n",
      "2033\n",
      "2034\n",
      "2041\n",
      "2042\n",
      "2043\n",
      "2044\n",
      "2111\n",
      "2112\n",
      "2113\n",
      "2114\n",
      "2121\n",
      "2122\n",
      "2123\n",
      "2124\n",
      "2131\n",
      "2132\n",
      "2133\n",
      "2134\n",
      "2141\n",
      "2142\n",
      "2143\n",
      "2144\n",
      "2211\n",
      "2212\n",
      "2213\n",
      "2214\n",
      "2221\n",
      "2222\n",
      "2223\n",
      "2224\n",
      "2231\n",
      "2232\n",
      "2233\n",
      "2234\n",
      "2241\n",
      "2242\n",
      "2243\n",
      "2244\n",
      "2311\n",
      "2312\n",
      "2313\n",
      "2314\n",
      "2321\n",
      "2322\n",
      "2323\n",
      "2324\n",
      "2331\n",
      "2332\n",
      "2333\n",
      "2334\n",
      "2341\n",
      "2342\n",
      "2343\n",
      "2344\n",
      "2411\n",
      "2412\n",
      "2413\n",
      "2414\n",
      "2421\n",
      "2422\n",
      "2423\n",
      "Progress:  39%  ETA: 0:00:062424\n",
      "2431\n",
      "2432\n",
      "2433\n",
      "2434\n",
      "2441\n",
      "2442\n",
      "2443\n",
      "2444\n",
      "2511\n",
      "2512\n",
      "2513\n",
      "2514\n",
      "2521\n",
      "2522\n",
      "2523\n",
      "2524\n",
      "2531\n",
      "2532\n",
      "2533\n",
      "2534\n",
      "2541\n",
      "2542\n",
      "2543\n",
      "2544\n",
      "2611\n",
      "2612\n",
      "2613\n",
      "2614\n",
      "2621\n",
      "2622\n",
      "2623\n",
      "2624\n",
      "2631\n",
      "2632\n",
      "2633\n",
      "2634\n",
      "2641\n",
      "2642\n",
      "2643\n",
      "2644\n",
      "2711\n",
      "2712\n",
      "2713\n",
      "2714\n",
      "2721\n",
      "2722\n",
      "2723\n",
      "2724\n",
      "2731\n",
      "2732\n",
      "2733\n",
      "2734\n",
      "2741\n",
      "2742\n",
      "2743\n",
      "2744\n",
      "2811\n",
      "2812\n",
      "2813\n",
      "2814\n",
      "2821\n",
      "2822\n",
      "2823\n",
      "2824\n",
      "2831\n",
      "2832\n",
      "2833\n",
      "2834\n",
      "2841\n",
      "2842\n",
      "2843\n",
      "2844\n",
      "2911\n",
      "2912\n",
      "2913\n",
      "2914\n",
      "2921\n",
      "2922\n",
      "2923\n",
      "2924\n",
      "2931\n",
      "2932\n",
      "2933\n",
      "2934\n",
      "2941\n",
      "2942\n",
      "2943\n",
      "2944\n",
      "3011\n",
      "3012\n",
      "3013\n",
      "3014\n",
      "3021\n",
      "3022\n",
      "3023\n",
      "3024\n",
      "3031\n",
      "3032\n",
      "3033\n",
      "3034\n",
      "3041\n",
      "3042\n",
      "3043\n",
      "3044\n",
      "3111\n",
      "3112\n",
      "3113\n",
      "3114\n",
      "3121\n",
      "3122\n",
      "3123\n",
      "3124\n",
      "3131\n",
      "3132\n",
      "3133\n",
      "3134\n",
      "3141\n",
      "3142\n",
      "3143\n",
      "3144\n",
      "3211\n",
      "3212\n",
      "3213\n",
      "3214\n",
      "3221\n",
      "3222\n",
      "3223\n",
      "3224\n",
      "3231\n",
      "3232\n",
      "3233\n",
      "3234\n",
      "3241\n",
      "3242\n",
      "3243\n",
      "3244\n",
      "3311\n",
      "3312\n",
      "3313\n",
      "3314\n",
      "3321\n",
      "3322\n",
      "3323\n",
      "3324\n",
      "3331\n",
      "3332\n",
      "3333\n",
      "3334\n",
      "3341\n",
      "3342\n",
      "3343\n",
      "3344\n",
      "3411\n",
      "3412\n",
      "3413\n",
      "3414\n",
      "3421\n",
      "3422\n",
      "3423\n",
      "3424\n",
      "3431\n",
      "3432\n",
      "3433\n",
      "3434\n",
      "3441\n",
      "3442\n",
      "3443\n",
      "3444\n",
      "3511\n",
      "3512\n",
      "3513\n",
      "3514\n",
      "3521\n",
      "3522\n",
      "3523\n",
      "3524\n",
      "3531\n",
      "3532\n",
      "3533\n",
      "3534\n",
      "3541\n",
      "3542\n",
      "3543\n",
      "3544\n",
      "3611\n",
      "3612\n",
      "3613\n",
      "3614\n",
      "3621\n",
      "3622\n",
      "3623\n",
      "3624\n",
      "3631\n",
      "3632\n",
      "3633\n",
      "3634\n",
      "3641\n",
      "3642\n",
      "3643\n",
      "3644\n",
      "3711\n",
      "3712\n",
      "3713\n",
      "3714\n",
      "3721\n",
      "3722\n",
      "3723\n",
      "3724\n",
      "3731\n",
      "3732\n",
      "3733\n",
      "3734\n",
      "3741\n",
      "3742\n",
      "3743\n",
      "3744\n",
      "3811\n",
      "3812\n",
      "3813\n",
      "3814\n",
      "3821\n",
      "3822\n",
      "3823\n",
      "3824\n",
      "3831\n",
      "3832\n",
      "3833\n",
      "3834\n",
      "3841\n",
      "3842\n",
      "3843\n",
      "3844\n",
      "3911\n",
      "3912\n",
      "3913\n",
      "3914\n",
      "3921\n",
      "3922\n",
      "3923\n",
      "3924\n",
      "3931\n",
      "3932\n",
      "3933\n",
      "3934\n",
      "3941\n",
      "3942\n",
      "3943\n",
      "3944\n",
      "4011\n",
      "4012\n",
      "4013\n",
      "4014\n",
      "4021\n",
      "4022\n",
      "4023\n",
      "4024\n",
      "4031\n",
      "4032\n",
      "4033\n",
      "4034\n",
      "4041\n",
      "4042\n",
      "4043\n",
      "4044\n",
      "4111\n",
      "4112\n",
      "4113\n",
      "4114\n",
      "4121\n",
      "4122\n",
      "4123\n",
      "4124\n",
      "4131\n",
      "4132\n",
      "4133\n",
      "4134\n",
      "4141\n",
      "4142\n",
      "4143\n",
      "4144\n",
      "4211\n",
      "4212\n",
      "4213\n",
      "4214\n",
      "4221\n",
      "4222\n",
      "4223\n",
      "4224\n",
      "4231\n",
      "4232\n",
      "4233\n",
      "4234\n",
      "4241\n",
      "4242\n",
      "4243\n",
      "4244\n",
      "4311\n",
      "4312\n",
      "4313\n",
      "4314\n",
      "4321\n",
      "4322\n",
      "4323\n",
      "4324\n",
      "4331\n",
      "4332\n",
      "4333\n",
      "4334\n",
      "4341\n",
      "4342\n",
      "4343\n",
      "4344\n",
      "4411\n",
      "4412\n",
      "4413\n",
      "4414\n",
      "4421\n",
      "4422\n",
      "4423\n",
      "4424\n",
      "4431\n",
      "4432\n",
      "4433\n",
      "4434\n",
      "4441\n",
      "4442\n",
      "4443\n",
      "4444\n",
      "4511\n",
      "4512\n",
      "4513\n",
      "4514\n",
      "4521\n",
      "4522\n",
      "4523\n",
      "4524\n",
      "4531\n",
      "4532\n",
      "4533\n",
      "4534\n",
      "4541\n",
      "4542\n",
      "4543\n",
      "4544\n",
      "4611\n",
      "4612\n",
      "4613\n",
      "4614\n",
      "4621\n",
      "4622\n",
      "4623\n",
      "4624\n",
      "4631\n",
      "4632\n",
      "4633\n",
      "4634\n",
      "4641\n",
      "4642\n",
      "4643\n",
      "4644\n",
      "4711\n",
      "4712\n",
      "4713\n",
      "4714\n",
      "4721\n",
      "4722\n",
      "4723\n",
      "4724\n",
      "4731\n",
      "4732\n",
      "4733\n",
      "4734\n",
      "4741\n",
      "4742\n",
      "4743\n",
      "4744\n",
      "4811\n",
      "4812\n",
      "4813\n",
      "4814\n",
      "4821\n",
      "4822\n",
      "4823\n",
      "4824\n",
      "4831\n",
      "4832\n",
      "4833\n",
      "4834\n",
      "4841\n",
      "4842\n",
      "4843\n",
      "4844\n",
      "4911\n",
      "4912\n",
      "4913\n",
      "4914\n",
      "4921\n",
      "4922\n",
      "4923\n",
      "4924\n",
      "4931\n",
      "4932\n",
      "4933\n",
      "4934\n",
      "4941\n",
      "4942\n",
      "4943\n",
      "4944\n",
      "5011\n",
      "5012\n",
      "5013\n",
      "5014\n",
      "5021\n",
      "5022\n",
      "5023\n",
      "5024\n",
      "5031\n",
      "5032\n",
      "5033\n",
      "5034\n",
      "5041\n",
      "5042\n",
      "5043\n",
      "5044\n",
      "5111\n",
      "5112\n",
      "5113\n",
      "5114\n",
      "5121\n",
      "5122\n",
      "5123\n",
      "5124\n",
      "5131\n",
      "5132\n",
      "5133\n",
      "5134\n",
      "5141\n",
      "5142\n",
      "5143\n",
      "5144\n",
      "5211\n",
      "5212\n",
      "5213\n",
      "5214\n",
      "5221\n",
      "5222\n",
      "5223\n",
      "5224\n",
      "5231\n",
      "5232\n",
      "5233\n",
      "5234\n",
      "5241\n",
      "5242\n",
      "5243\n",
      "5244\n",
      "5311\n",
      "5312\n",
      "5313\n",
      "5314\n",
      "5321\n",
      "5322\n",
      "5323\n",
      "5324\n",
      "5331\n",
      "5332\n",
      "5333\n",
      "5334\n",
      "5341\n",
      "5342\n",
      "5343\n",
      "5344\n",
      "5411\n",
      "5412\n",
      "5413\n",
      "5414\n",
      "5421\n",
      "5422\n",
      "5423\n",
      "5424\n",
      "5431\n",
      "5432\n",
      "5433\n",
      "5434\n",
      "5441\n",
      "5442\n",
      "5443\n",
      "5444\n",
      "5511\n",
      "5512\n",
      "5513\n",
      "5514\n",
      "5521\n",
      "5522\n",
      "5523\n",
      "5524\n",
      "5531\n",
      "5532\n",
      "5533\n",
      "5534\n",
      "5541\n",
      "5542\n",
      "5543\n",
      "5544\n",
      "5611\n",
      "5612\n",
      "5613\n",
      "5614\n",
      "5621\n",
      "5622\n",
      "5623\n",
      "5624\n",
      "5631\n",
      "5632\n",
      "5633\n",
      "5634\n",
      "5641\n",
      "5642\n",
      "5643\n",
      "5644\n",
      "5711\n",
      "5712\n",
      "5713\n",
      "5714\n",
      "5721\n",
      "5722\n",
      "5723\n",
      "5724\n",
      "5731\n",
      "5732\n",
      "5733\n",
      "5734\n",
      "5741\n",
      "5742\n",
      "5743\n",
      "5744\n",
      "5811\n",
      "5812\n",
      "5813\n",
      "5814\n",
      "5821\n",
      "5822\n",
      "5823\n",
      "5824\n",
      "5831\n",
      "5832\n",
      "5833\n",
      "5834\n",
      "5841\n",
      "5842\n",
      "5843\n",
      "5844\n",
      "5911\n",
      "5912\n",
      "5913\n",
      "5914\n",
      "5921\n",
      "5922\n",
      "5923\n",
      "5924\n",
      "5931\n",
      "5932\n",
      "5933\n",
      "5934\n",
      "5941\n",
      "5942\n",
      "5943\n",
      "5944\n",
      "6011\n",
      "6012\n",
      "6013\n",
      "6014\n",
      "6021\n",
      "6022\n",
      "6023\n",
      "6024\n",
      "6031\n",
      "6032\n",
      "6033\n",
      "6034\n",
      "6041\n",
      "6042\n",
      "6043\n",
      "6044\n",
      "Progress: 100% Time: 0:00:04\n"
     ]
    }
   ],
   "source": [
    "sl2Cliffords= Array{Complex{Float64},2}[]\n",
    "sl2CliffordCommands = Array{ASCIIString,1}[]\n",
    "n=60*4*4\n",
    "p=Progress(n,1)\n",
    "for i=1:60\n",
    "    for j=1:4\n",
    "        for z=1:4\n",
    "            print(i,j,z,\"\\n\")\n",
    "            state=setup(2)\n",
    "            state[:,1:4]=stabs[i]\n",
    "            decomposeState(state,true)\n",
    "            #Apply the PAULIS!\n",
    "            if (j==2)\n",
    "                push!(commands,\"hadamard(1)\")\n",
    "                push!(commands,\"phase(1)\")\n",
    "                push!(commands,\"phase(1)\")\n",
    "                push!(commands,\"hadamard(1)\")\n",
    "            elseif (j==3)\n",
    "                push!(commands,\"phase(1)\")\n",
    "                push!(commands,\"phase(1)\")\n",
    "            elseif (j==4)\n",
    "                push!(commands,\"phase(1)\")\n",
    "                push!(commands,\"phase(1)\")\n",
    "                push!(commands,\"hadamard(1)\")\n",
    "                push!(commands,\"phase(1)\")\n",
    "                push!(commands,\"phase(1)\")\n",
    "                push!(commands,\"hadamard(1)\")\n",
    "            end\n",
    "            if (z==2)\n",
    "                push!(commands,\"hadamard(2)\")\n",
    "                push!(commands,\"phase(2)\")\n",
    "                push!(commands,\"phase(2)\")\n",
    "                push!(commands,\"hadamard(2)\")\n",
    "            elseif (z==3)\n",
    "                push!(commands,\"phase(2)\")\n",
    "                push!(commands,\"phase(2)\")\n",
    "            elseif (z==4)\n",
    "                push!(commands,\"phase(2)\")\n",
    "                push!(commands,\"phase(2)\")\n",
    "                push!(commands,\"hadamard(2)\")\n",
    "                push!(commands,\"phase(2)\")\n",
    "                push!(commands,\"phase(2)\")\n",
    "                push!(commands,\"hadamard(2)\")\n",
    "            end\n",
    "            push!(sl2CliffordCommands,commands)\n",
    "            push!(sl2Cliffords,makeFromCommand(commands))\n",
    "            next!(p)\n",
    "        end\n",
    "    end\n",
    "end"
   ]
  },
  {
   "cell_type": "code",
   "execution_count": 32,
   "metadata": {
    "collapsed": false
   },
   "outputs": [
    {
     "data": {
      "text/plain": [
       "(960,)"
      ]
     },
     "execution_count": 32,
     "metadata": {},
     "output_type": "execute_result"
    }
   ],
   "source": [
    "size(sl2Cliffords)"
   ]
  },
  {
   "cell_type": "code",
   "execution_count": 1,
   "metadata": {
    "collapsed": false
   },
   "outputs": [
    {
     "ename": "LoadError",
     "evalue": "sl2CliffordCommands not defined\nwhile loading In[1], in expression starting on line 1",
     "output_type": "error",
     "traceback": [
      "sl2CliffordCommands not defined\nwhile loading In[1], in expression starting on line 1",
      "",
      " in anonymous at no file"
     ]
    }
   ],
   "source": [
    "for i in sl2CliffordCommands\n",
    "    print(size(i,1),\", \")\n",
    "end"
   ]
  },
  {
   "cell_type": "code",
   "execution_count": 4,
   "metadata": {
    "collapsed": false
   },
   "outputs": [
    {
     "data": {
      "text/plain": [
       "2x2 Array{Complex{Float64},2}:\n",
       " 0.0+0.0im  1.0+0.0im\n",
       " 1.0+0.0im  0.0+0.0im"
      ]
     },
     "execution_count": 4,
     "metadata": {},
     "output_type": "execute_result"
    }
   ],
   "source": [
    "had*phaseg*phaseg*had"
   ]
  },
  {
   "cell_type": "code",
   "execution_count": 9,
   "metadata": {
    "collapsed": false
   },
   "outputs": [
    {
     "name": "stdout",
     "output_type": "stream",
     "text": [
      "+ZI\n",
      "+IX\n",
      "---\n",
      "+XI\n",
      "+IZ\n",
      "+ZI\n",
      "+IX\n",
      "---\n",
      "+YI\n",
      "+IZ\n",
      "+ZI\n",
      "+IX\n",
      "---\n",
      "-XI\n",
      "+IZ\n",
      "+XI\n",
      "+IX\n",
      "---\n",
      "-ZI\n",
      "+IZ\n"
     ]
    }
   ],
   "source": [
    "state=setup(2)\n",
    "hadamard!(1)\n",
    "phase!(1)\n",
    "phase!(1)\n",
    "hadamard!(1)"
   ]
  },
  {
   "cell_type": "code",
   "execution_count": 16,
   "metadata": {
    "collapsed": false
   },
   "outputs": [
    {
     "data": {
      "text/plain": [
       "6-element Array{ASCIIString,1}:\n",
       " \"setup(2)\"    \n",
       " \"hadamard(1)\" \n",
       " \"phase(1)\"    \n",
       " \"phase(1)\"    \n",
       " \"hadamard(1)\" \n",
       " \"output(svec)\""
      ]
     },
     "execution_count": 16,
     "metadata": {},
     "output_type": "execute_result"
    }
   ],
   "source": [
    "commands"
   ]
  },
  {
   "cell_type": "code",
   "execution_count": 213,
   "metadata": {
    "collapsed": false
   },
   "outputs": [
    {
     "data": {
      "text/plain": [
       "4x4 Array{Complex{Int64},2}:\n",
       " 1+0im  0+0im  0+0im  0+0im\n",
       " 0+0im  1+0im  0+0im  0+0im\n",
       " 0+0im  0+0im  0+1im  0+0im\n",
       " 0+0im  0+0im  0+0im  0+1im"
      ]
     },
     "execution_count": 213,
     "metadata": {},
     "output_type": "execute_result"
    }
   ],
   "source": [
    "phase2g=kron(phaseg,[1 0;0 1])"
   ]
  },
  {
   "cell_type": "code",
   "execution_count": 214,
   "metadata": {
    "collapsed": false
   },
   "outputs": [
    {
     "data": {
      "text/plain": [
       "4x4 Array{Complex{Int64},2}:\n",
       " 1+0im  0+0im   0+0im   0+0im\n",
       " 0+0im  1+0im   0+0im   0+0im\n",
       " 0+0im  0+0im  -1+0im   0+0im\n",
       " 0+0im  0+0im   0+0im  -1+0im"
      ]
     },
     "execution_count": 214,
     "metadata": {},
     "output_type": "execute_result"
    }
   ],
   "source": [
    "phase2g*phase2g"
   ]
  },
  {
   "cell_type": "code",
   "execution_count": 215,
   "metadata": {
    "collapsed": false
   },
   "outputs": [
    {
     "data": {
      "text/plain": [
       "4x4 Array{Int64,2}:\n",
       " 1  0   0   0\n",
       " 0  1   0   0\n",
       " 0  0  -1   0\n",
       " 0  0   0  -1"
      ]
     },
     "execution_count": 215,
     "metadata": {},
     "output_type": "execute_result"
    }
   ],
   "source": [
    "kron([1 0;0 -1],[1 0;0 1])"
   ]
  },
  {
   "cell_type": "code",
   "execution_count": 12,
   "metadata": {
    "collapsed": false
   },
   "outputs": [
    {
     "name": "stdout",
     "output_type": "stream",
     "text": [
      "Tableau for unitary: \n",
      "+XI\n",
      "+IX\n",
      "---\n",
      "-ZI\n",
      "+IZ\n",
      "setup(2)\n",
      "hadamard(1)\n",
      "phase(1)\n",
      "phase(1)\n",
      "hadamard(1)\n",
      "output(svec)\n"
     ]
    }
   ],
   "source": [
    "decomposeState(state)"
   ]
  },
  {
   "cell_type": "code",
   "execution_count": 14,
   "metadata": {
    "collapsed": false
   },
   "outputs": [
    {
     "data": {
      "text/plain": [
       "4x4 Array{Complex{Float64},2}:\n",
       " 0.0+0.0im  0.0+0.0im  1.0+0.0im  0.0+0.0im\n",
       " 0.0+0.0im  0.0+0.0im  0.0+0.0im  1.0+0.0im\n",
       " 1.0+0.0im  0.0+0.0im  0.0+0.0im  0.0+0.0im\n",
       " 0.0+0.0im  1.0+0.0im  0.0+0.0im  0.0+0.0im"
      ]
     },
     "execution_count": 14,
     "metadata": {},
     "output_type": "execute_result"
    }
   ],
   "source": [
    "makeFromCommand(commands)"
   ]
  },
  {
   "cell_type": "code",
   "execution_count": 15,
   "metadata": {
    "collapsed": false
   },
   "outputs": [
    {
     "data": {
      "text/plain": [
       "4x4 Array{Int64,2}:\n",
       " 0  0  1  0\n",
       " 0  0  0  1\n",
       " 1  0  0  0\n",
       " 0  1  0  0"
      ]
     },
     "execution_count": 15,
     "metadata": {},
     "output_type": "execute_result"
    }
   ],
   "source": [
    "kron([0 1;1 0],[1 0;0 1])"
   ]
  },
  {
   "cell_type": "code",
   "execution_count": 169,
   "metadata": {
    "collapsed": false
   },
   "outputs": [
    {
     "data": {
      "text/plain": [
       "2"
      ]
     },
     "execution_count": 169,
     "metadata": {},
     "output_type": "execute_result"
    }
   ],
   "source": [
    "rank(state[3:4,1:2])"
   ]
  },
  {
   "cell_type": "code",
   "execution_count": 170,
   "metadata": {
    "collapsed": false
   },
   "outputs": [
    {
     "data": {
      "text/plain": [
       "1"
      ]
     },
     "execution_count": 170,
     "metadata": {},
     "output_type": "execute_result"
    }
   ],
   "source": [
    "getState(state)"
   ]
  },
  {
   "cell_type": "code",
   "execution_count": 171,
   "metadata": {
    "collapsed": true
   },
   "outputs": [],
   "source": [
    "makeCtheI(state)"
   ]
  },
  {
   "cell_type": "code",
   "execution_count": 172,
   "metadata": {
    "collapsed": false
   },
   "outputs": [
    {
     "data": {
      "text/plain": [
       "2"
      ]
     },
     "execution_count": 172,
     "metadata": {},
     "output_type": "execute_result"
    }
   ],
   "source": [
    "getState(state)"
   ]
  },
  {
   "cell_type": "code",
   "execution_count": 173,
   "metadata": {
    "collapsed": false
   },
   "outputs": [
    {
     "data": {
      "text/plain": [
       "4x5 Array{Int32,2}:\n",
       " 0  1  1  0  0\n",
       " 0  0  0  0  0\n",
       " 1  0  0  0  0\n",
       " 0  1  1  1  1"
      ]
     },
     "execution_count": 173,
     "metadata": {},
     "output_type": "execute_result"
    }
   ],
   "source": [
    "state"
   ]
  },
  {
   "cell_type": "code",
   "execution_count": 174,
   "metadata": {
    "collapsed": true
   },
   "outputs": [],
   "source": [
    "diagonaliseD(state)"
   ]
  },
  {
   "cell_type": "code",
   "execution_count": 175,
   "metadata": {
    "collapsed": false
   },
   "outputs": [
    {
     "data": {
      "text/plain": [
       "4x5 Array{Int32,2}:\n",
       " 0  1  1  0  0\n",
       " 0  0  0  0  0\n",
       " 1  0  1  0  0\n",
       " 0  1  1  1  1"
      ]
     },
     "execution_count": 175,
     "metadata": {},
     "output_type": "execute_result"
    }
   ],
   "source": [
    "state"
   ]
  },
  {
   "cell_type": "code",
   "execution_count": 176,
   "metadata": {
    "collapsed": true
   },
   "outputs": [],
   "source": [
    "cmdm(state)"
   ]
  },
  {
   "cell_type": "code",
   "execution_count": 177,
   "metadata": {
    "collapsed": false
   },
   "outputs": [
    {
     "data": {
      "text/plain": [
       "4x5 Array{Int32,2}:\n",
       " 0  1  1  0  0\n",
       " 0  0  0  0  0\n",
       " 1  1  1  0  0\n",
       " 0  1  0  1  1"
      ]
     },
     "execution_count": 177,
     "metadata": {},
     "output_type": "execute_result"
    }
   ],
   "source": [
    "state"
   ]
  },
  {
   "cell_type": "code",
   "execution_count": 178,
   "metadata": {
    "collapsed": false
   },
   "outputs": [
    {
     "data": {
      "text/plain": [
       "1"
      ]
     },
     "execution_count": 178,
     "metadata": {},
     "output_type": "execute_result"
    }
   ],
   "source": [
    "getState(state)"
   ]
  },
  {
   "cell_type": "code",
   "execution_count": 183,
   "metadata": {
    "collapsed": true
   },
   "outputs": [],
   "source": [
    "nextStep(state)"
   ]
  },
  {
   "cell_type": "code",
   "execution_count": 184,
   "metadata": {
    "collapsed": false
   },
   "outputs": [
    {
     "data": {
      "text/plain": [
       "2"
      ]
     },
     "execution_count": 184,
     "metadata": {},
     "output_type": "execute_result"
    }
   ],
   "source": [
    "getState(state)"
   ]
  },
  {
   "cell_type": "code",
   "execution_count": null,
   "metadata": {
    "collapsed": true
   },
   "outputs": [],
   "source": []
  },
  {
   "cell_type": "code",
   "execution_count": null,
   "metadata": {
    "collapsed": true
   },
   "outputs": [],
   "source": []
  },
  {
   "cell_type": "code",
   "execution_count": null,
   "metadata": {
    "collapsed": true
   },
   "outputs": [],
   "source": []
  },
  {
   "cell_type": "code",
   "execution_count": null,
   "metadata": {
    "collapsed": true
   },
   "outputs": [],
   "source": []
  },
  {
   "cell_type": "code",
   "execution_count": null,
   "metadata": {
    "collapsed": true
   },
   "outputs": [],
   "source": []
  },
  {
   "cell_type": "code",
   "execution_count": null,
   "metadata": {
    "collapsed": true
   },
   "outputs": [],
   "source": []
  },
  {
   "cell_type": "code",
   "execution_count": null,
   "metadata": {
    "collapsed": true
   },
   "outputs": [],
   "source": []
  },
  {
   "cell_type": "code",
   "execution_count": 145,
   "metadata": {
    "collapsed": true
   },
   "outputs": [],
   "source": [
    "zapPhase(state)"
   ]
  },
  {
   "cell_type": "code",
   "execution_count": 111,
   "metadata": {
    "collapsed": false
   },
   "outputs": [
    {
     "ename": "LoadError",
     "evalue": "interrupt\nwhile loading In[111], in expression starting on line 1",
     "output_type": "error",
     "traceback": [
      "interrupt\nwhile loading In[111], in expression starting on line 1",
      ""
     ]
    }
   ],
   "source": [
    "decomposeState(state,true)"
   ]
  },
  {
   "cell_type": "code",
   "execution_count": 124,
   "metadata": {
    "collapsed": false
   },
   "outputs": [
    {
     "data": {
      "text/plain": [
       "10-element Array{ASCIIString,1}:\n",
       " \"setup(2)\"    \n",
       " \"cnot(2,1)\"   \n",
       " \"phase(1)\"    \n",
       " \"cnot(2,1)\"   \n",
       " \"phase(2)\"    \n",
       " \"hadamard(2)\" \n",
       " \"hadamard(1)\" \n",
       " \"cnot(2,1)\"   \n",
       " \"cnot(1,2)\"   \n",
       " \"output(svec)\""
      ]
     },
     "execution_count": 124,
     "metadata": {},
     "output_type": "execute_result"
    }
   ],
   "source": [
    "f[23]"
   ]
  },
  {
   "cell_type": "code",
   "execution_count": 139,
   "metadata": {
    "collapsed": false
   },
   "outputs": [
    {
     "data": {
      "text/plain": [
       "4x4 Array{Complex{Float64},2}:\n",
       "  0.5+0.0im  0.5+0.0im  0.5+0.0im   0.5+0.0im\n",
       " -0.5+0.0im  0.5+0.0im  0.5+0.0im  -0.5+0.0im\n",
       "  0.0+0.5im  0.0-0.5im  0.0+0.5im   0.0-0.5im\n",
       "  0.0+0.5im  0.0+0.5im  0.0-0.5im   0.0-0.5im"
      ]
     },
     "execution_count": 139,
     "metadata": {},
     "output_type": "execute_result"
    }
   ],
   "source": [
    "sl2Cliffords[23]"
   ]
  },
  {
   "cell_type": "markdown",
   "metadata": {},
   "source": [
    "##Looking good again\n",
    "\n",
    "### Time to use the Granade inspired/qutip superpauli"
   ]
  },
  {
   "cell_type": "code",
   "execution_count": 126,
   "metadata": {
    "collapsed": false
   },
   "outputs": [
    {
     "data": {
      "text/plain": [
       "to_superpauli (generic function with 1 method)"
      ]
     },
     "execution_count": 126,
     "metadata": {},
     "output_type": "execute_result"
    }
   ],
   "source": [
    "function to_superpauli(S):\n",
    "    \"\"\"\n",
    "    Converts a superoperator in the column-stacking basis to the Pauli basis. Note that\n",
    "    the argument is assumed to act on qubits.\n",
    "    \"\"\"\n",
    "    sqobj=qt.to_super(S)\n",
    "    nq=int(np.log2(sqobj[:shape][1])/2)\n",
    "    B=pycall(qt.superop_reps[\"_pauli_basis\"],PyAny,nq)\n",
    "    sq=np.sqrt(2^nq)\n",
    "    B=pyeval(\"B/sq\",PyAny,B=B,nq=nq,sq=sq)\n",
    "    B[:dims] = sqobj[:dims]\n",
    "    sqobj = pycall(B[:dag]()[\"__mul__\"],PyAny,pycall(sqobj[\"__mul__\"],PyAny,B))\n",
    "    return sqobj\n",
    "end"
   ]
  },
  {
   "cell_type": "code",
   "execution_count": 127,
   "metadata": {
    "collapsed": false
   },
   "outputs": [
    {
     "data": {
      "text/latex": [
       "Quantum object: dims = [[[4], [4]], [[4], [4]]], shape = [16, 16], type = super, isherm = False, superrep = None\\begin{equation*}\\left(\\begin{array}{*{11}c}1.000 & 0.0 & 0.0 & 0.0 & 0.0 & \\cdots & 0.0 & 0.0 & 0.0 & 0.0 & 0.0\\\\0.0 & 1.000 & 0.0 & 0.0 & 0.0 & \\cdots & 0.0 & 0.0 & 0.0 & 0.0 & 0.0\\\\0.0 & 0.0 & 0.0 & -1.000 & 0.0 & \\cdots & 0.0 & 0.0 & 0.0 & 0.0 & 0.0\\\\0.0 & 0.0 & 1.000 & 0.0 & 0.0 & \\cdots & 0.0 & 0.0 & 0.0 & 0.0 & 0.0\\\\0.0 & 0.0 & 0.0 & 0.0 & 1.000 & \\cdots & 0.0 & 0.0 & 0.0 & 0.0 & 0.0\\\\\\vdots & \\vdots & \\vdots & \\vdots & \\vdots & \\ddots & \\vdots & \\vdots & \\vdots & \\vdots & \\vdots\\\\0.0 & 0.0 & 0.0 & 0.0 & 0.0 & \\cdots & 0.0 & 0.0 & 0.0 & 1.000 & 0.0\\\\0.0 & 0.0 & 0.0 & 0.0 & 0.0 & \\cdots & 0.0 & 0.0 & 0.0 & 0.0 & 0.0\\\\0.0 & 0.0 & 0.0 & 0.0 & 0.0 & \\cdots & 0.0 & 0.0 & 0.0 & 0.0 & 0.0\\\\0.0 & 0.0 & 0.0 & 0.0 & 0.0 & \\cdots & 1.000 & 0.0 & 0.0 & 0.0 & 0.0\\\\0.0 & 0.0 & 0.0 & 0.0 & 0.0 & \\cdots & 0.0 & 0.0 & 0.0 & 0.0 & 0.0\\\\\\end{array}\\right)\\end{equation*}"
      ],
      "text/plain": [
       "PyObject Quantum object: dims = [[[4], [4]], [[4], [4]]], shape = [16, 16], type = super, isherm = False, superrep = None\n",
       "Qobj data =\n",
       "[[ 1.  0.  0.  0.  0.  0.  0.  0.  0.  0.  0.  0.  0.  0.  0.  0.]\n",
       " [ 0.  1.  0.  0.  0.  0.  0.  0.  0.  0.  0.  0.  0.  0.  0.  0.]\n",
       " [ 0.  0.  0. -1.  0.  0.  0.  0.  0.  0.  0.  0.  0.  0.  0.  0.]\n",
       " [ 0.  0.  1.  0.  0.  0.  0.  0.  0.  0.  0.  0.  0.  0.  0.  0.]\n",
       " [ 0.  0.  0.  0.  1.  0.  0.  0.  0.  0.  0.  0.  0.  0.  0.  0.]\n",
       " [ 0.  0.  0.  0.  0.  1.  0.  0.  0.  0.  0.  0.  0.  0.  0.  0.]\n",
       " [ 0.  0.  0.  0.  0.  0.  0. -1.  0.  0.  0.  0.  0.  0.  0.  0.]\n",
       " [ 0.  0.  0.  0.  0.  0.  1.  0.  0.  0.  0.  0.  0.  0.  0.  0.]\n",
       " [ 0.  0.  0.  0.  0.  0.  0.  0.  0.  0.  0.  0.  1.  0.  0.  0.]\n",
       " [ 0.  0.  0.  0.  0.  0.  0.  0.  0.  0.  0.  0.  0.  1.  0.  0.]\n",
       " [ 0.  0.  0.  0.  0.  0.  0.  0.  0.  0.  0.  0.  0.  0.  0. -1.]\n",
       " [ 0.  0.  0.  0.  0.  0.  0.  0.  0.  0.  0.  0.  0.  0.  1.  0.]\n",
       " [ 0.  0.  0.  0.  0.  0.  0.  0. -1.  0.  0.  0.  0.  0.  0.  0.]\n",
       " [ 0.  0.  0.  0.  0.  0.  0.  0.  0. -1.  0.  0.  0.  0.  0.  0.]\n",
       " [ 0.  0.  0.  0.  0.  0.  0.  0.  0.  0.  0.  1.  0.  0.  0.  0.]\n",
       " [ 0.  0.  0.  0.  0.  0.  0.  0.  0.  0. -1.  0.  0.  0.  0.  0.]]"
      ]
     },
     "execution_count": 127,
     "metadata": {},
     "output_type": "execute_result"
    }
   ],
   "source": [
    "to_superpauli(qt.Qobj(sl2Cliffords[25]))"
   ]
  },
  {
   "cell_type": "markdown",
   "metadata": {},
   "source": [
    "###Not sure where I am going with that one.\n",
    "\n",
    "##Let us just check if we do indeed have a unitary-2 design\n",
    "\n",
    "- We should recall that these 60 cliffords implement Pauli twirling, that means we need to get the Paulis to twirl!\n"
   ]
  },
  {
   "cell_type": "code",
   "execution_count": 140,
   "metadata": {
    "collapsed": false
   },
   "outputs": [],
   "source": [
    "sigma=Array{Complex{Float64},2}[]\n",
    "sigma2=Array{Complex{Float64},2}[]\n",
    "# There is nothing clever about this, if we are to do for > 2 then\n",
    "# we already have functions we should actually utilise.\n",
    "push!(sigma,[1 0;0 1])\n",
    "push!(sigma,[0 1;1 0])\n",
    "push!(sigma,[0 -im;im 0])\n",
    "push!(sigma,[1 0;0 -1])\n",
    "for i in sigma\n",
    "    for j in sigma\n",
    "        push!(sigma2,kron(i,j))\n",
    "    end\n",
    "end\n",
    "QE=Array{Complex{Float64},2}[]\n",
    "for i=1:60\n",
    "    for j=1:16\n",
    "        push!(QE,sl2Cliffords[i]*sigma2[j])\n",
    "    end\n",
    "end\n",
    "    "
   ]
  },
  {
   "cell_type": "code",
   "execution_count": 141,
   "metadata": {
    "collapsed": false
   },
   "outputs": [
    {
     "data": {
      "text/plain": [
       "960"
      ]
     },
     "execution_count": 141,
     "metadata": {},
     "output_type": "execute_result"
    }
   ],
   "source": [
    "length(QE)"
   ]
  },
  {
   "cell_type": "code",
   "execution_count": 142,
   "metadata": {
    "collapsed": false
   },
   "outputs": [
    {
     "name": "stdout",
     "output_type": "stream",
     "text": [
      "1.8431999999999998e6 -> 1.9999999999999998\n"
     ]
    }
   ],
   "source": [
    "sum = 0\n",
    "for i=1:960\n",
    "    for j=1:960\n",
    "        sum += abs(trace(conj(QE[i])'*QE[j]))^4\n",
    "    end\n",
    "end\n",
    "print(\"$sum -> $(sum/(960^2))\\n\")"
   ]
  },
  {
   "cell_type": "code",
   "execution_count": 33,
   "metadata": {
    "collapsed": false
   },
   "outputs": [
    {
     "name": "stdout",
     "output_type": "stream",
     "text": [
      "1.8431999999999998e6 -> 1.9999999999999998\n"
     ]
    }
   ],
   "source": [
    "sum = 0\n",
    "for i=1:960\n",
    "    for j=1:960\n",
    "        sum += abs(trace(conj(sl2Cliffords[i])'*sl2Cliffords[j]))^4\n",
    "    end\n",
    "end\n",
    "print(\"$sum -> $(sum/(960^2))\\n\")"
   ]
  },
  {
   "cell_type": "markdown",
   "metadata": {},
   "source": [
    "#Yay!"
   ]
  },
  {
   "cell_type": "code",
   "execution_count": 145,
   "metadata": {
    "collapsed": false
   },
   "outputs": [
    {
     "name": "stdout",
     "output_type": "stream",
     "text": [
      "4,10,10,10,6,12,12,14,6,12,12,12,4,14,10,14,18,16,16,12,22,18,10,18,18,8,14,18,2,8,8,8,16,14,14,6,20,20,14,18,18,12,18,18,4,12,14,14,16,16,16,10,18,14,8,20,18,10,18,20,"
     ]
    }
   ],
   "source": [
    "for i in sl2CliffordCommands\n",
    "    print(length(i),\",\")\n",
    "end"
   ]
  },
  {
   "cell_type": "code",
   "execution_count": 147,
   "metadata": {
    "collapsed": false
   },
   "outputs": [
    {
     "name": "stdout",
     "output_type": "stream",
     "text": [
      "ASCIIString[\"setup(2)\",\"cnot(2,1)\",\"phase(1)\",\"phase(1)\",\"phase(2)\",\"phase(1)\",\"phase(2)\",\"cnot(2,1)\",\"phase(1)\",\"hadamard(2)\",\"hadamard(1)\",\"cnot(2,1)\",\"phase(1)\",\"phase(1)\",\"phase(1)\",\"cnot(2,1)\",\"phase(1)\",\"cnot(1,2)\",\"cnot(2,1)\",\"output(svec)\"]"
     ]
    }
   ],
   "source": [
    "print(sl2CliffordCommands[60])"
   ]
  },
  {
   "cell_type": "code",
   "execution_count": 148,
   "metadata": {
    "collapsed": false
   },
   "outputs": [
    {
     "data": {
      "text/plain": [
       "20-element Array{ASCIIString,1}:\n",
       " \"setup(2)\"    \n",
       " \"cnot(2,1)\"   \n",
       " \"phase(1)\"    \n",
       " \"phase(1)\"    \n",
       " \"phase(2)\"    \n",
       " \"phase(1)\"    \n",
       " \"phase(2)\"    \n",
       " \"cnot(2,1)\"   \n",
       " \"phase(1)\"    \n",
       " \"hadamard(2)\" \n",
       " \"hadamard(1)\" \n",
       " \"cnot(2,1)\"   \n",
       " \"phase(1)\"    \n",
       " \"phase(1)\"    \n",
       " \"phase(1)\"    \n",
       " \"cnot(2,1)\"   \n",
       " \"phase(1)\"    \n",
       " \"cnot(1,2)\"   \n",
       " \"cnot(2,1)\"   \n",
       " \"output(svec)\""
      ]
     },
     "execution_count": 148,
     "metadata": {},
     "output_type": "execute_result"
    }
   ],
   "source": [
    "commands = sl2CliffordCommands[60]"
   ]
  },
  {
   "cell_type": "code",
   "execution_count": 149,
   "metadata": {
    "collapsed": false
   },
   "outputs": [
    {
     "data": {
      "image/png": "[encoded data removed]",
      "text/plain": [
       "Gray Image with:\n",
       "  data: 1730x218 Array{Gray{UfixedBase{Uint8,8}},2}\n",
       "  properties:\n",
       "    imagedescription: <suppressed>\n",
       "    spatialorder:  x y\n",
       "    pixelspacing:  1 1"
      ]
     },
     "execution_count": 149,
     "metadata": {},
     "output_type": "execute_result"
    }
   ],
   "source": [
    "drawCircuit()"
   ]
  },
  {
   "cell_type": "code",
   "execution_count": 164,
   "metadata": {
    "collapsed": false
   },
   "outputs": [
    {
     "data": {
      "text/plain": [
       "4x4 Array{Int64,2}:\n",
       " 1  1  1  0\n",
       " 1  0  0  1\n",
       " 0  1  1  0\n",
       " 1  1  0  1"
      ]
     },
     "execution_count": 164,
     "metadata": {},
     "output_type": "execute_result"
    }
   ],
   "source": [
    "state=setup(2)\n",
    "state[:,1:4]=stabs[60]\n",
    "   "
   ]
  },
  {
   "cell_type": "code",
   "execution_count": 163,
   "metadata": {
    "collapsed": false
   },
   "outputs": [
    {
     "name": "stdout",
     "output_type": "stream",
     "text": [
      "Tableau for unitary: \n",
      "+YX\n",
      "+XZ\n",
      "---\n",
      "+ZX\n",
      "+XY\n",
      "setup(2)\n",
      "cnot(2,1)\n",
      "phase(1)\n",
      "phase(1)\n",
      "phase(2)\n",
      "phase(1)\n",
      "phase(2)\n",
      "cnot(2,1)\n",
      "phase(1)\n",
      "hadamard(2)\n",
      "hadamard(1)\n",
      "cnot(2,1)\n",
      "phase(1)\n",
      "phase(1)\n",
      "phase(1)\n",
      "cnot(2,1)\n",
      "phase(1)\n",
      "cnot(1,2)\n",
      "cnot(2,1)\n",
      "output(svec)\n"
     ]
    }
   ],
   "source": [
    "decomposeState(state)"
   ]
  },
  {
   "cell_type": "code",
   "execution_count": 167,
   "metadata": {
    "collapsed": false
   },
   "outputs": [
    {
     "name": "stdout",
     "output_type": "stream",
     "text": [
      "Trying: 1 1 \n",
      "Trying: 1 1 1 \n",
      "Trying: 1 1 1 1 \n",
      "Trying: 1 1 1 1 1 \n",
      "Trying: 1 1 1 1 1 1 \n",
      "Trying: 1 1 1 1 1 1 1 \n",
      "Trying: 1 1 1 1 1 1 1 1 \n",
      "Found it after (only) 738546 permuations\n",
      "Gates applied\n",
      "hadamard(svec,1,false)\n",
      "phase(svec,1,false)\n",
      "cnot(svec,2,1,false)\n",
      "hadamard(svec,2,false)\n",
      "cnot(svec,2,1,false)\n",
      "phase(svec,2,false)\n",
      "phase(svec,2,false)\n",
      "phase(svec,2,false)\n"
     ]
    }
   ],
   "source": [
    "bruteForceBreadthFirst(state)"
   ]
  },
  {
   "cell_type": "code",
   "execution_count": null,
   "metadata": {
    "collapsed": true
   },
   "outputs": [],
   "source": []
  },
  {
   "cell_type": "code",
   "execution_count": null,
   "metadata": {
    "collapsed": true
   },
   "outputs": [],
   "source": []
  },
  {
   "cell_type": "code",
   "execution_count": 10,
   "metadata": {
    "collapsed": false
   },
   "outputs": [
    {
     "data": {
      "text/plain": [
       "4x4 Array{Float64,2}:\n",
       " 1.0   0.0  0.0  0.0\n",
       " 0.0   0.0  0.0  1.0\n",
       " 0.0   0.0  1.0  0.0\n",
       " 0.0  -1.0  0.0  0.0"
      ]
     },
     "execution_count": 10,
     "metadata": {},
     "output_type": "execute_result"
    }
   ],
   "source": [
    "#Quick example\n",
    "SO=to_superpauli(qt.Qobj(Clifford[2]))\n",
    "test = real(SO[:full]())"
   ]
  },
  {
   "cell_type": "code",
   "execution_count": 11,
   "metadata": {
    "collapsed": false
   },
   "outputs": [],
   "source": [
    "# Make the PTSM.jl superoperators in a suitable form for equality testing\n",
    "SuperClifford = Array{Float64}[]\n",
    "for i=1:24\n",
    "    push!(SuperClifford,round(generateClifford(i,0,0,0)))\n",
    "end"
   ]
  },
  {
   "cell_type": "code",
   "execution_count": 43,
   "metadata": {
    "collapsed": false
   },
   "outputs": [
    {
     "name": "stdout",
     "output_type": "stream",
     "text": [
      "1=16\n",
      "2=22\n",
      "3=19\n",
      "4=13\n",
      "5=3\n",
      "6=12\n",
      "7=9\n",
      "8=6\n",
      "9=20\n",
      "10=17\n",
      "11=23\n",
      "12=14\n",
      "13=5\n",
      "14=2\n",
      "15=8\n",
      "16=11\n",
      "17=24\n",
      "18=21\n",
      "19=18\n",
      "20=15\n",
      "21=10\n",
      "22=4\n",
      "23=7\n",
      "24=1\n"
     ]
    }
   ],
   "source": [
    "#And generate the map\n",
    "for j=1:24\n",
    "    test = round(real(to_superpauli(qt.Qobj(Clifford[j]))[:full]()))\n",
    "    for i=1:24\n",
    "        if round(SuperClifford[i])== test\n",
    "            print(\"$j=$i\\n\")\n",
    "        end\n",
    "    end\n",
    "end"
   ]
  },
  {
   "cell_type": "markdown",
   "metadata": {},
   "source": [
    "##Lets play a bit more and check what happens if we sum all of the qt superoperators."
   ]
  },
  {
   "cell_type": "code",
   "execution_count": 13,
   "metadata": {
    "collapsed": false
   },
   "outputs": [
    {
     "data": {
      "text/latex": [
       "Quantum object: dims = [[[2], [2]], [[2], [2]]], shape = [4, 4], type = super, isherm = False, superrep = None\\begin{equation*}\\left(\\begin{array}{*{11}c}1.000 & 0.0 & 0.0 & 0.0\\\\0.0 & 0.0 & 0.0 & 1.000\\\\0.0 & 0.0 & 1.000 & 0.0\\\\0.0 & -1.000 & 0.0 & 0.0\\\\\\end{array}\\right)\\end{equation*}"
      ],
      "text/plain": [
       "PyObject Quantum object: dims = [[[2], [2]], [[2], [2]]], shape = [4, 4], type = super, isherm = False, superrep = None\n",
       "Qobj data =\n",
       "[[ 1.  0.  0.  0.]\n",
       " [ 0.  0.  0.  1.]\n",
       " [ 0.  0.  1.  0.]\n",
       " [ 0. -1.  0.  0.]]"
      ]
     },
     "execution_count": 13,
     "metadata": {},
     "output_type": "execute_result"
    }
   ],
   "source": [
    "So1 = to_superpauli(qt.Qobj(Clifford[2]))\n",
    "So2 = to_superpauli(qt.Qobj(Clifford[2]))"
   ]
  },
  {
   "cell_type": "code",
   "execution_count": 14,
   "metadata": {
    "collapsed": false
   },
   "outputs": [
    {
     "ename": "LoadError",
     "evalue": "`+` has no method matching +(::PyObject, ::PyObject)\nwhile loading In[14], in expression starting on line 1",
     "output_type": "error",
     "traceback": [
      "`+` has no method matching +(::PyObject, ::PyObject)\nwhile loading In[14], in expression starting on line 1",
      ""
     ]
    }
   ],
   "source": [
    "So1+So2"
   ]
  },
  {
   "cell_type": "markdown",
   "metadata": {},
   "source": [
    "##Oops! (this is the way you do it)"
   ]
  },
  {
   "cell_type": "code",
   "execution_count": 15,
   "metadata": {
    "collapsed": false
   },
   "outputs": [
    {
     "data": {
      "text/latex": [
       "Quantum object: dims = [[[2], [2]], [[2], [2]]], shape = [4, 4], type = super, isherm = False, superrep = None\\begin{equation*}\\left(\\begin{array}{*{11}c}2.000 & 0.0 & 0.0 & 0.0\\\\0.0 & 0.0 & 0.0 & 2.000\\\\0.0 & 0.0 & 2.000 & 0.0\\\\0.0 & -2.000 & 0.0 & 0.0\\\\\\end{array}\\right)\\end{equation*}"
      ],
      "text/plain": [
       "PyObject Quantum object: dims = [[[2], [2]], [[2], [2]]], shape = [4, 4], type = super, isherm = False, superrep = None\n",
       "Qobj data =\n",
       "[[ 2.  0.  0.  0.]\n",
       " [ 0.  0.  0.  2.]\n",
       " [ 0.  0.  2.  0.]\n",
       " [ 0. -2.  0.  0.]]"
      ]
     },
     "execution_count": 15,
     "metadata": {},
     "output_type": "execute_result"
    }
   ],
   "source": [
    "pycall(So1[\"__add__\"],PyAny,So2)"
   ]
  },
  {
   "cell_type": "code",
   "execution_count": 16,
   "metadata": {
    "collapsed": false
   },
   "outputs": [
    {
     "data": {
      "text/plain": [
       "PyObject (constructor with 34 methods)"
      ]
     },
     "execution_count": 16,
     "metadata": {},
     "output_type": "execute_result"
    }
   ],
   "source": [
    "typeof(So1)"
   ]
  },
  {
   "cell_type": "code",
   "execution_count": 17,
   "metadata": {
    "collapsed": false
   },
   "outputs": [],
   "source": [
    "QtSuperOperators = PyObject[]\n",
    "for i=1:24\n",
    "    push!(QtSuperOperators,to_superpauli(qt.Qobj(Clifford[i])))\n",
    "end\n"
   ]
  },
  {
   "cell_type": "code",
   "execution_count": 18,
   "metadata": {
    "collapsed": false
   },
   "outputs": [
    {
     "data": {
      "text/latex": [
       "Quantum object: dims = [[[2], [2]], [[2], [2]]], shape = [4, 4], type = super, isherm = True, superrep = None\\begin{equation*}\\left(\\begin{array}{*{11}c}24.000 & 0.0 & 0.0 & 0.0\\\\0.0 & 0.0 & 0.0 & 0.0\\\\0.0 & 0.0 & 0.0 & 0.0\\\\0.0 & 0.0 & 0.0 & 0.0\\\\\\end{array}\\right)\\end{equation*}"
      ],
      "text/plain": [
       "PyObject Quantum object: dims = [[[2], [2]], [[2], [2]]], shape = [4, 4], type = super, isherm = True, superrep = None\n",
       "Qobj data =\n",
       "[[ 24.   0.   0.   0.]\n",
       " [  0.   0.   0.   0.]\n",
       " [  0.   0.   0.   0.]\n",
       " [  0.   0.   0.   0.]]"
      ]
     },
     "execution_count": 18,
     "metadata": {},
     "output_type": "execute_result"
    }
   ],
   "source": [
    "Start = QtSuperOperators[1]\n",
    "for i=2:24\n",
    "    Start = pycall(Start[\"__add__\"],PyAny,QtSuperOperators[i])\n",
    "end\n",
    "Start"
   ]
  },
  {
   "cell_type": "markdown",
   "metadata": {},
   "source": [
    "## Yay!"
   ]
  },
  {
   "cell_type": "markdown",
   "metadata": {},
   "source": [
    "##Let us find, all sequences of 6 cliffords that are a unitary-1 desgin, we can then check if any are a 2-design."
   ]
  },
  {
   "cell_type": "code",
   "execution_count": 19,
   "metadata": {
    "collapsed": false
   },
   "outputs": [
    {
     "name": "stdout",
     "output_type": "stream",
     "text": [
      "Matched ===> 1,2,3,19,20,21\n",
      "Matched ===> 1,5,9,13,21,23\n",
      "Matched ===> 1,6,11,18,19,23\n",
      "Matched ===> 1,8,12,13,18,20\n",
      "Matched ===> 2,4,12,16,20,24\n",
      "Matched ===> 2,6,7,14,19,24\n",
      "Matched ===> 2,9,10,14,16,21\n",
      "Matched ===> 3,4,8,15,20,22\n",
      "Matched ===> 3,5,10,17,21,22\n",
      "Matched ===> 3,7,11,15,17,19\n",
      "Matched ===> 4,5,6,22,23,24\n",
      "Matched ===> 4,9,11,15,16,23\n",
      "Matched ===> 5,7,12,13,17,24\n",
      "Matched ===> 6,8,10,14,18,22\n",
      "Matched ===> 7,8,9,13,14,15\n",
      "Matched ===> 10,11,12,16,17,18\n"
     ]
    }
   ],
   "source": [
    "toMatch = int([6 0 0 0;0 0 0 0;0 0 0 0;0 0 0 0])\n",
    "matched = Array{Int64,1}[]\n",
    "for i1=1:19\n",
    "    for i2=i1+1:20\n",
    "        for i3=i2+1:21\n",
    "            for i4=i3+1:22\n",
    "                for i5=i4+1:23\n",
    "                    for i6=i5+1:24\n",
    "                        if   int(SuperClifford[i1]+\n",
    "                                 SuperClifford[i2]+\n",
    "                                 SuperClifford[i3]+\n",
    "                                 SuperClifford[i4]+\n",
    "                                 SuperClifford[i5]+\n",
    "                            SuperClifford[i6]) == toMatch\n",
    "                            print(\"Matched ===> $i1,$i2,$i3,$i4,$i5,$i6\\n\")\n",
    "                            push!(matched,[i1,i2,i3,i4,i5,i6])\n",
    "                        end\n",
    "                    end\n",
    "                end\n",
    "            end\n",
    "        end\n",
    "    end\n",
    "end\n"
   ]
  },
  {
   "cell_type": "code",
   "execution_count": 83,
   "metadata": {
    "collapsed": false
   },
   "outputs": [
    {
     "data": {
      "text/plain": [
       "addTwo (generic function with 1 method)"
      ]
     },
     "execution_count": 83,
     "metadata": {},
     "output_type": "execute_result"
    }
   ],
   "source": [
    "function addTwo(s1,s2)\n",
    "    pycall(s1[\"__add__\"],PyAny,s2)\n",
    "end"
   ]
  },
  {
   "cell_type": "code",
   "execution_count": 21,
   "metadata": {
    "collapsed": false
   },
   "outputs": [
    {
     "data": {
      "text/plain": [
       "4x4 Array{Float64,2}:\n",
       " 1.0  0.0  0.0  0.0\n",
       " 0.0  1.0  0.0  0.0\n",
       " 0.0  0.0  1.0  0.0\n",
       " 0.0  0.0  0.0  1.0"
      ]
     },
     "execution_count": 21,
     "metadata": {},
     "output_type": "execute_result"
    }
   ],
   "source": [
    "SuperClifford[1]"
   ]
  },
  {
   "cell_type": "code",
   "execution_count": 23,
   "metadata": {
    "collapsed": false
   },
   "outputs": [
    {
     "data": {
      "text/latex": [
       "Quantum object: dims = [[[2], [2]], [[2], [2]]], shape = [4, 4], type = super, isherm = True, superrep = None\\begin{equation*}\\left(\\begin{array}{*{11}c}1.000 & 0.0 & 0.0 & 0.0\\\\0.0 & 1.000 & 0.0 & 0.0\\\\0.0 & 0.0 & 1.000 & 0.0\\\\0.0 & 0.0 & 0.0 & 1.000\\\\\\end{array}\\right)\\end{equation*}"
      ],
      "text/plain": [
       "PyObject Quantum object: dims = [[[2], [2]], [[2], [2]]], shape = [4, 4], type = super, isherm = True, superrep = None\n",
       "Qobj data =\n",
       "[[ 1.  0.  0.  0.]\n",
       " [ 0.  1.  0.  0.]\n",
       " [ 0.  0.  1.  0.]\n",
       " [ 0.  0.  0.  1.]]"
      ]
     },
     "execution_count": 23,
     "metadata": {},
     "output_type": "execute_result"
    }
   ],
   "source": [
    "QtSuperOperators[24]"
   ]
  },
  {
   "cell_type": "code",
   "execution_count": 26,
   "metadata": {
    "collapsed": false
   },
   "outputs": [
    {
     "data": {
      "text/plain": [
       "4x4 Array{Int64,2}:\n",
       " 1  0   0   0\n",
       " 0  0  -1   0\n",
       " 0  0   0  -1\n",
       " 0  1   0   0"
      ]
     },
     "execution_count": 26,
     "metadata": {},
     "output_type": "execute_result"
    }
   ],
   "source": [
    "int(SuperClifford[6])"
   ]
  },
  {
   "cell_type": "code",
   "execution_count": 25,
   "metadata": {
    "collapsed": false
   },
   "outputs": [
    {
     "data": {
      "text/latex": [
       "Quantum object: dims = [[[2], [2]], [[2], [2]]], shape = [4, 4], type = super, isherm = False, superrep = None\\begin{equation*}\\left(\\begin{array}{*{11}c}1.000 & 0.0 & 0.0 & 0.0\\\\0.0 & 0.0 & -1.000 & 0.0\\\\0.0 & 0.0 & 0.0 & -1.000\\\\0.0 & 1.000 & 0.0 & 0.0\\\\\\end{array}\\right)\\end{equation*}"
      ],
      "text/plain": [
       "PyObject Quantum object: dims = [[[2], [2]], [[2], [2]]], shape = [4, 4], type = super, isherm = False, superrep = None\n",
       "Qobj data =\n",
       "[[ 1.  0.  0.  0.]\n",
       " [ 0.  0. -1.  0.]\n",
       " [ 0.  0.  0. -1.]\n",
       " [ 0.  1.  0.  0.]]"
      ]
     },
     "execution_count": 25,
     "metadata": {},
     "output_type": "execute_result"
    }
   ],
   "source": [
    "QtSuperOperators[8]"
   ]
  },
  {
   "cell_type": "code",
   "execution_count": 46,
   "metadata": {
    "collapsed": false
   },
   "outputs": [
    {
     "data": {
      "text/plain": [
       "4x4 Array{Int64,2}:\n",
       " 1   0   0  0\n",
       " 0   0   0  1\n",
       " 0  -1   0  0\n",
       " 0   0  -1  0"
      ]
     },
     "execution_count": 46,
     "metadata": {},
     "output_type": "execute_result"
    }
   ],
   "source": [
    "int(SuperClifford[11])"
   ]
  },
  {
   "cell_type": "code",
   "execution_count": 48,
   "metadata": {
    "collapsed": false
   },
   "outputs": [
    {
     "data": {
      "text/latex": [
       "Quantum object: dims = [[[2], [2]], [[2], [2]]], shape = [4, 4], type = super, isherm = False, superrep = None\\begin{equation*}\\left(\\begin{array}{*{11}c}1.000 & 0.0 & 0.0 & 0.0\\\\0.0 & 0.0 & 0.0 & 1.000\\\\0.0 & -1.000 & 0.0 & 0.0\\\\0.0 & 0.0 & -1.000 & 0.0\\\\\\end{array}\\right)\\end{equation*}"
      ],
      "text/plain": [
       "PyObject Quantum object: dims = [[[2], [2]], [[2], [2]]], shape = [4, 4], type = super, isherm = False, superrep = None\n",
       "Qobj data =\n",
       "[[ 1.  0.  0.  0.]\n",
       " [ 0.  0.  0.  1.]\n",
       " [ 0. -1.  0.  0.]\n",
       " [ 0.  0. -1.  0.]]"
      ]
     },
     "execution_count": 48,
     "metadata": {},
     "output_type": "execute_result"
    }
   ],
   "source": [
    "QtSuperOperators[16]"
   ]
  },
  {
   "cell_type": "code",
   "execution_count": 34,
   "metadata": {
    "collapsed": false
   },
   "outputs": [
    {
     "data": {
      "text/plain": [
       "4x4 Array{Int64,2}:\n",
       " 1  0  0   0\n",
       " 0  0  1   0\n",
       " 0  1  0   0\n",
       " 0  0  0  -1"
      ]
     },
     "execution_count": 34,
     "metadata": {},
     "output_type": "execute_result"
    }
   ],
   "source": [
    "int(SuperClifford[18])"
   ]
  },
  {
   "cell_type": "code",
   "execution_count": 35,
   "metadata": {
    "collapsed": false
   },
   "outputs": [
    {
     "data": {
      "text/latex": [
       "Quantum object: dims = [[[2], [2]], [[2], [2]]], shape = [4, 4], type = super, isherm = True, superrep = None\\begin{equation*}\\left(\\begin{array}{*{11}c}1.000 & 0.0 & 0.0 & 0.0\\\\0.0 & 0.0 & 1.000 & 0.0\\\\0.0 & 1.000 & 0.0 & 0.0\\\\0.0 & 0.0 & 0.0 & -1.000\\\\\\end{array}\\right)\\end{equation*}"
      ],
      "text/plain": [
       "PyObject Quantum object: dims = [[[2], [2]], [[2], [2]]], shape = [4, 4], type = super, isherm = True, superrep = None\n",
       "Qobj data =\n",
       "[[ 1.  0.  0.  0.]\n",
       " [ 0.  0.  1.  0.]\n",
       " [ 0.  1.  0.  0.]\n",
       " [ 0.  0.  0. -1.]]"
      ]
     },
     "execution_count": 35,
     "metadata": {},
     "output_type": "execute_result"
    }
   ],
   "source": [
    "QtSuperOperators[19]"
   ]
  },
  {
   "cell_type": "code",
   "execution_count": 37,
   "metadata": {
    "collapsed": false
   },
   "outputs": [
    {
     "data": {
      "text/plain": [
       "4x4 Array{Int64,2}:\n",
       " 1   0   0   0\n",
       " 0   0   0  -1\n",
       " 0   0  -1   0\n",
       " 0  -1   0   0"
      ]
     },
     "execution_count": 37,
     "metadata": {},
     "output_type": "execute_result"
    }
   ],
   "source": [
    "int(SuperClifford[19])"
   ]
  },
  {
   "cell_type": "code",
   "execution_count": 40,
   "metadata": {
    "collapsed": false
   },
   "outputs": [
    {
     "data": {
      "text/latex": [
       "Quantum object: dims = [[[2], [2]], [[2], [2]]], shape = [4, 4], type = super, isherm = True, superrep = None\\begin{equation*}\\left(\\begin{array}{*{11}c}1.000 & 0.0 & 0.0 & 0.0\\\\0.0 & 0.0 & 0.0 & -1.000\\\\0.0 & 0.0 & -1.000 & 0.0\\\\0.0 & -1.000 & 0.0 & 0.0\\\\\\end{array}\\right)\\end{equation*}"
      ],
      "text/plain": [
       "PyObject Quantum object: dims = [[[2], [2]], [[2], [2]]], shape = [4, 4], type = super, isherm = True, superrep = None\n",
       "Qobj data =\n",
       "[[ 1.  0.  0.  0.]\n",
       " [ 0.  0.  0. -1.]\n",
       " [ 0.  0. -1.  0.]\n",
       " [ 0. -1.  0.  0.]]"
      ]
     },
     "execution_count": 40,
     "metadata": {},
     "output_type": "execute_result"
    }
   ],
   "source": [
    "QtSuperOperators[3]"
   ]
  },
  {
   "cell_type": "code",
   "execution_count": 41,
   "metadata": {
    "collapsed": false
   },
   "outputs": [
    {
     "data": {
      "text/plain": [
       "4x4 Array{Int64,2}:\n",
       " 1   0  0  0\n",
       " 0  -1  0  0\n",
       " 0   0  0  1\n",
       " 0   0  1  0"
      ]
     },
     "execution_count": 41,
     "metadata": {},
     "output_type": "execute_result"
    }
   ],
   "source": [
    "int(SuperClifford[23])"
   ]
  },
  {
   "cell_type": "code",
   "execution_count": 42,
   "metadata": {
    "collapsed": false
   },
   "outputs": [
    {
     "data": {
      "text/latex": [
       "Quantum object: dims = [[[2], [2]], [[2], [2]]], shape = [4, 4], type = super, isherm = True, superrep = None\\begin{equation*}\\left(\\begin{array}{*{11}c}1.000 & 0.0 & 0.0 & 0.0\\\\0.0 & -1.000 & 0.0 & 0.0\\\\0.0 & 0.0 & 0.0 & 1.000\\\\0.0 & 0.0 & 1.000 & 0.0\\\\\\end{array}\\right)\\end{equation*}"
      ],
      "text/plain": [
       "PyObject Quantum object: dims = [[[2], [2]], [[2], [2]]], shape = [4, 4], type = super, isherm = True, superrep = None\n",
       "Qobj data =\n",
       "[[ 1.  0.  0.  0.]\n",
       " [ 0. -1.  0.  0.]\n",
       " [ 0.  0.  0.  1.]\n",
       " [ 0.  0.  1.  0.]]"
      ]
     },
     "execution_count": 42,
     "metadata": {},
     "output_type": "execute_result"
    }
   ],
   "source": [
    "QtSuperOperators[11]"
   ]
  },
  {
   "cell_type": "code",
   "execution_count": 50,
   "metadata": {
    "collapsed": false
   },
   "outputs": [
    {
     "data": {
      "text/plain": [
       "true"
      ]
     },
     "execution_count": 50,
     "metadata": {},
     "output_type": "execute_result"
    }
   ],
   "source": [
    "toMatch = int([6 0 0 0;0 0 0 0;0 0 0 0;0 0 0 0])\n",
    "int(addTwo(QtSuperOperators[24],\n",
    "         addTwo(QtSuperOperators[8],\n",
    "         addTwo(QtSuperOperators[16],\n",
    "         addTwo(QtSuperOperators[19],\n",
    "addTwo(QtSuperOperators[3],QtSuperOperators[11])))))[:full]())==toMatch"
   ]
  },
  {
   "cell_type": "code",
   "execution_count": 51,
   "metadata": {
    "collapsed": false
   },
   "outputs": [
    {
     "name": "stdout",
     "output_type": "stream",
     "text": [
      "Matched ===> 1,6,9,14,17,22\n",
      "Matched ===> 1,6,10,16,19,21\n",
      "Matched ===> 1,7,11,16,20,22\n",
      "Matched ===> 1,7,12,14,18,21\n",
      "Matched ===> 2,5,9,15,20,22\n",
      "Matched ===> 2,5,10,13,18,21\n",
      "Matched ===> 2,8,11,13,17,22\n",
      "Matched ===> 2,8,12,15,19,21\n",
      "Matched ===> 3,5,9,14,18,24\n",
      "Matched ===> 3,5,10,16,20,23\n",
      "Matched ===> 3,8,11,16,19,24\n",
      "Matched ===> 3,8,12,14,17,23\n",
      "Matched ===> 4,6,9,15,19,24\n",
      "Matched ===> 4,6,10,13,17,23\n",
      "Matched ===> 4,7,11,13,18,24\n",
      "Matched ===> 4,7,12,15,20,23\n"
     ]
    }
   ],
   "source": [
    "#WARNING HORRIBLY SLOW\n",
    "\n",
    "toMatch = int([6 0 0 0;0 0 0 0;0 0 0 0;0 0 0 0])\n",
    "matchedQt = Array{Int64,1}[]\n",
    "for i1=1:19\n",
    "    for i2=i1+1:20\n",
    "        for i3=i2+1:21\n",
    "            for i4=i3+1:22\n",
    "                for i5=i4+1:23\n",
    "                    for i6=i5+1:24\n",
    "                       if   int(addTwo(QtSuperOperators[i1],\n",
    "                                addTwo(QtSuperOperators[i2],\n",
    "                                addTwo(QtSuperOperators[i3],\n",
    "                                addTwo(QtSuperOperators[i4],\n",
    "                            addTwo(QtSuperOperators[i5],QtSuperOperators[i6])))))[:full]()) == toMatch\n",
    "                            \n",
    "                            print(\"Matched ===> $i1,$i2,$i3,$i4,$i5,$i6\\n\")\n",
    "                            push!(matchedQt,[i1,i2,i3,i4,i5,i6])\n",
    "                        end\n",
    "                    end\n",
    "                end\n",
    "            end\n",
    "        end\n",
    "    end\n",
    "end"
   ]
  },
  {
   "cell_type": "code",
   "execution_count": 379,
   "metadata": {
    "collapsed": false
   },
   "outputs": [
    {
     "data": {
      "text/plain": [
       "4x4 Array{Int64,2}:\n",
       " 6   0  0   0\n",
       " 0  -1  0  -1\n",
       " 0   0  2   0\n",
       " 0  -1  0  -3"
      ]
     },
     "execution_count": 379,
     "metadata": {},
     "output_type": "execute_result"
    }
   ],
   "source": [
    "int(addTwo(QtSuperOperators[1],\n",
    "         addTwo(QtSuperOperators[6],\n",
    "         addTwo(QtSuperOperators[7],\n",
    "         addTwo(QtSuperOperators[18],\n",
    "         addTwo(QtSuperOperators[19],QtSuperOperators[23])))))[:full]())"
   ]
  },
  {
   "cell_type": "code",
   "execution_count": 371,
   "metadata": {
    "collapsed": false
   },
   "outputs": [
    {
     "data": {
      "text/plain": [
       "4x4 Array{Int64,2}:\n",
       " 3   0  0   0\n",
       " 0   0  0  -1\n",
       " 0   0  1   0\n",
       " 0  -1  0   0"
      ]
     },
     "execution_count": 371,
     "metadata": {},
     "output_type": "execute_result"
    }
   ],
   "source": [
    "int(addTwo(QtSuperOperators[1],addTwo(QtSuperOperators[2],QtSuperOperators[3]))[:full]())"
   ]
  },
  {
   "cell_type": "code",
   "execution_count": null,
   "metadata": {
    "collapsed": true
   },
   "outputs": [],
   "source": []
  },
  {
   "cell_type": "markdown",
   "metadata": {},
   "source": [
    "##Actually lets play with finite fields a bit\n",
    "\n",
    "- I am not sure if it all works with one qubit, but lets see"
   ]
  },
  {
   "cell_type": "markdown",
   "metadata": {},
   "source": [
    "## Just get the Python finite field package working\n",
    "- I will generate the SL for GF($2^2$)\n",
    "- Once thats done, I will go back and have a look at GF(2)"
   ]
  },
  {
   "cell_type": "code",
   "execution_count": 115,
   "metadata": {
    "collapsed": false
   },
   "outputs": [],
   "source": [
    "unshift!(PyVector(pyimport(\"sys\")[\"path\"]), \"./finite-fields/\")\n",
    "@pyimport finitefield as ff\n"
   ]
  },
  {
   "cell_type": "code",
   "execution_count": 133,
   "metadata": {
    "collapsed": false
   },
   "outputs": [
    {
     "name": "stdout",
     "output_type": "stream",
     "text": [
      "0 + 0 x^1 + 1 x^2\n",
      "0 + 1 x^1 + 1 x^2\n",
      "1 + 1 x^1 + 1 x^2\n"
     ]
    },
    {
     "data": {
      "text/plain": [
       "fn (generic function with 1 method)"
      ]
     },
     "execution_count": 133,
     "metadata": {},
     "output_type": "execute_result"
    }
   ],
   "source": [
    "F22 = ff.FiniteField(2,2)"
   ]
  },
  {
   "cell_type": "code",
   "execution_count": 175,
   "metadata": {
    "collapsed": false
   },
   "outputs": [],
   "source": [
    "count = 0 \n",
    "eles = Array{Int64,1}[]\n",
    "for i =1:2\n",
    "    for j=1:2\n",
    "        push!(eles,[i,j]) \n",
    "    end\n",
    "end\n",
    "fieldElements= PyObject[]\n",
    "for i=1:4\n",
    "    push!(fieldElements,F22(eles[i]))\n",
    "end\n",
    "reverse!(fieldElements)\n",
    "SL2Members = Array{Int64,1}[]\n",
    "for i =1:length(eles)\n",
    "    for j=1:length(eles)\n",
    "        for k=1:length(eles)\n",
    "            for l=1:length(eles)\n",
    "                if pycall(pycall(fieldElements[i][\"__mul__\"],PyAny,fieldElements[l])[\"__add__\"],\n",
    "                          PyAny,\n",
    "                          pycall(fieldElements[j][\"__mul__\"],PyAny,fieldElements[k])) == F22([1])\n",
    "                    push!(SL2Members,[i,j,k,l])\n",
    "                end\n",
    "            end\n",
    "        end\n",
    "    end\n",
    "end\n"
   ]
  },
  {
   "cell_type": "code",
   "execution_count": 170,
   "metadata": {
    "collapsed": false
   },
   "outputs": [
    {
     "data": {
      "text/plain": [
       "4-element Array{PyObject,1}:\n",
       " PyObject 0 \\u2208 F_{2^2}        \n",
       " PyObject 0 + 1 x^1 \\u2208 F_{2^2}\n",
       " PyObject 1 \\u2208 F_{2^2}        \n",
       " PyObject 1 + 1 x^1 \\u2208 F_{2^2}"
      ]
     },
     "execution_count": 170,
     "metadata": {},
     "output_type": "execute_result"
    }
   ],
   "source": [
    "fieldElements"
   ]
  },
  {
   "cell_type": "code",
   "execution_count": 176,
   "metadata": {
    "collapsed": false
   },
   "outputs": [
    {
     "data": {
      "text/plain": [
       "60"
      ]
     },
     "execution_count": 176,
     "metadata": {},
     "output_type": "execute_result"
    }
   ],
   "source": [
    "length(SL2Members)"
   ]
  },
  {
   "cell_type": "markdown",
   "metadata": {},
   "source": [
    "##So lets focus back on just the 1 bit version, this is really just 1 and 0\n",
    "- Our finite field package doesn't work with just GF(2), but it should be easy enough to do manually!\n",
    "- The dual basis eg $\\hat a$ comes from multiplying by W, which here is just T(F21(1).F2(1)), = 1\n",
    "- This is still going to map 1->1 and 0->0, which is self dual.\n",
    "- So the SL Group, must be the following 6 arrays:\n",
    "$\\left(\\array{1 0\\\\0 1}\\right)$$\\left(\\array{1 1\\\\0 1}\\right)$$\\left(\\array{1 0\\\\1 1}\\right)$$\\left(\\array{0 1\\\\1 1}\\right)$$\\left(\\array{1 1\\\\1 0}\\right)$$\\left(\\array{0 1\\\\1 0}\\right)$\n",
    "(remembering -1 = 1)\n",
    "- These represent the following six mappings:\n",
    "   1. $\\left(\\array{1 0\\\\0 1}\\right)$ X $\\rightarrow$ X, Z $\\rightarrow$ Z\n",
    "   2. $\\left(\\array{1 1\\\\0 1}\\right)$ X $\\rightarrow$ X, Z $\\rightarrow$ Y\n",
    "   3. $\\left(\\array{1 0\\\\1 1}\\right)$ X $\\rightarrow$ Y, Z $\\rightarrow$ Z\n",
    "   4. $\\left(\\array{0 1\\\\1 1}\\right)$ X $\\rightarrow$ Z, Z $\\rightarrow$ Y\n",
    "   5. $\\left(\\array{1 1\\\\1 0}\\right)$ X $\\rightarrow$ Y, Z $\\rightarrow$ X\n",
    "   6. $\\left(\\array{0 1\\\\1 0}\\right)$ X $\\rightarrow$ Z, Z $\\rightarrow$ X"
   ]
  },
  {
   "cell_type": "code",
   "execution_count": 72,
   "metadata": {
    "collapsed": false
   },
   "outputs": [
    {
     "data": {
      "text/plain": [
       "makeFromCommand (generic function with 1 method)"
      ]
     },
     "execution_count": 72,
     "metadata": {},
     "output_type": "execute_result"
    }
   ],
   "source": [
    "function makeFromCommand(command)\n",
    "    currentState = [1 0;0 1]\n",
    "    sphase=[1 0;0 im]\n",
    "    shadmard=1/sqrt(2)*[1 1;1 -1]\n",
    "    for t in command\n",
    "            m = match(r\"setup\\((.*)\\)\",t)\n",
    "            if (m!=nothing)\n",
    "                state=[1 0;0 1]\n",
    "            else \n",
    "                m=match(r\"phase\\((.*)\\)\",t)\n",
    "                if (m!=nothing)\n",
    "                    currentState=currentState*sphase\n",
    "                else\n",
    "                    m=match(r\"hadamard\\((.*)\\)\",t)\n",
    "                    if (m!=nothing)\n",
    "                         currentState=currentState*shadmard\n",
    "                    end\n",
    "                end\n",
    "            end\n",
    "    end\n",
    "    return  currentState=currentState\n",
    "end\n",
    "\n"
   ]
  },
  {
   "cell_type": "code",
   "execution_count": 234,
   "metadata": {
    "collapsed": false
   },
   "outputs": [
    {
     "data": {
      "text/plain": [
       "matchIt (generic function with 1 method)"
      ]
     },
     "execution_count": 234,
     "metadata": {},
     "output_type": "execute_result"
    }
   ],
   "source": [
    "function matchIt(ss1)\n",
    "    decomposeState(ss1,true)\n",
    "    sp=to_superpauli(qt.Qobj(makeFromCommand(commands)))\n",
    "    spd = round(real(sp[:full]()))\n",
    "    for i=1:length(SuperClifford) #Note loops are fast in Julia\n",
    "        if SuperClifford[i]==spd\n",
    "            print(\"Matched $i\\n\")\n",
    "            return i\n",
    "        end\n",
    "    end\n",
    "end"
   ]
  },
  {
   "cell_type": "code",
   "execution_count": 240,
   "metadata": {
    "collapsed": false
   },
   "outputs": [
    {
     "name": "stdout",
     "output_type": "stream",
     "text": [
      "Matched 1\n",
      "Matched 14\n",
      "Matched 15\n",
      "Matched 11\n",
      "Matched 6\n",
      "Matched 13\n"
     ]
    },
    {
     "data": {
      "text/plain": [
       "6-element Array{Int64,1}:\n",
       "  1\n",
       " 14\n",
       " 15\n",
       " 11\n",
       "  6\n",
       " 13"
      ]
     },
     "execution_count": 240,
     "metadata": {},
     "output_type": "execute_result"
    }
   ],
   "source": [
    "GFCliffords=[\n",
    "    matchIt([1 0 0;0 1 0]), # X->X Z->Z\n",
    "    matchIt([1 0 0;1 1 0]), # X->X Z->Y\n",
    "    matchIt([1 1 0;0 1 0]), # X->Y Z->Z\n",
    "    matchIt([0 1 0;1 1 0]), # X->Z Z->Y\n",
    "    matchIt([1 1 0;1 0 0]), # X->Y Z->X\n",
    "    matchIt([0 1 0;1 0 0])] # X->Z Z->X\n"
   ]
  },
  {
   "cell_type": "code",
   "execution_count": 242,
   "metadata": {
    "collapsed": false
   },
   "outputs": [
    {
     "data": {
      "text/plain": [
       "4x4 Array{Float64,2}:\n",
       " 6.0  0.0   0.0  0.0\n",
       " 0.0  2.0  -2.0  2.0\n",
       " 0.0  0.0   0.0  0.0\n",
       " 0.0  2.0  -2.0  2.0"
      ]
     },
     "execution_count": 242,
     "metadata": {},
     "output_type": "execute_result"
    }
   ],
   "source": [
    "sum=SuperClifford[GFCliffords[1]]\n",
    "for i=2:length(GFCliffords)\n",
    "    sum = sum + SuperClifford[GFCliffords[i]]\n",
    "end\n",
    "sum"
   ]
  },
  {
   "cell_type": "markdown",
   "metadata": {},
   "source": [
    "## So thats not correct \n",
    "\n",
    "However, it looks like I might need to actually multiply each of the Paulis by these things."
   ]
  },
  {
   "cell_type": "code",
   "execution_count": 74,
   "metadata": {
    "collapsed": false
   },
   "outputs": [
    {
     "data": {
      "text/plain": [
       "matchQIt (generic function with 1 method)"
      ]
     },
     "execution_count": 74,
     "metadata": {},
     "output_type": "execute_result"
    }
   ],
   "source": [
    "function matchQIt(ss1)\n",
    "    decomposeState(ss1,true)\n",
    "    sp=to_superpauli(qt.Qobj(makeFromCommand(commands)))\n",
    "    for i=1:length(QtSuperOperators) #Note loops are fast in Julia\n",
    "        if QtSuperOperators[i]==sp\n",
    "            print(\"Matched $i\\n\")\n",
    "            return i\n",
    "        end\n",
    "    end\n",
    "end"
   ]
  },
  {
   "cell_type": "code",
   "execution_count": 77,
   "metadata": {
    "collapsed": false
   },
   "outputs": [
    {
     "name": "stdout",
     "output_type": "stream",
     "text": [
      "Matched 24\n",
      "Matched 12\n",
      "Matched 20\n",
      "Matched 16\n",
      "Matched 8\n",
      "Matched 4\n"
     ]
    },
    {
     "data": {
      "text/plain": [
       "6-element Array{Int64,1}:\n",
       " 24\n",
       " 12\n",
       " 20\n",
       " 16\n",
       "  8\n",
       "  4"
      ]
     },
     "execution_count": 77,
     "metadata": {},
     "output_type": "execute_result"
    }
   ],
   "source": [
    "GLQCliffords =[matchQIt([1 0 0;0 1 0]), # X->X Z->Z\n",
    "       matchQIt([1 0 0;1 1 0]), # X->X Z->Y\n",
    "    matchQIt([1 1 0;0 1 0]), # X->Y Z->Z\n",
    "    matchQIt([0 1 0;1 1 0]), # X->Z Z->Y\n",
    "    matchQIt([1 1 0;1 0 0]), # X->Y Z->X\n",
    "    matchQIt([0 1 0;1 0 0])] # X->Z Z->X\n"
   ]
  },
  {
   "cell_type": "markdown",
   "metadata": {},
   "source": [
    "##So what I have here are the GL cliffords identified from our stabilised cliffords\n",
    "- Cliffords[X] gives you the actual Clifford i.e. 2x2\n",
    "- QtSuperopertors[X] gives you the same clifford but in a Python Qt.Superoperator object.\n",
    "\n"
   ]
  },
  {
   "cell_type": "markdown",
   "metadata": {},
   "source": [
    "###We should check that the superoperators sum to the same thing."
   ]
  },
  {
   "cell_type": "code",
   "execution_count": 86,
   "metadata": {
    "collapsed": false
   },
   "outputs": [
    {
     "data": {
      "text/latex": [
       "Quantum object: dims = [[[2], [2]], [[2], [2]]], shape = [4, 4], type = super, isherm = False, superrep = None\\begin{equation*}\\left(\\begin{array}{*{11}c}6.000 & 0.0 & 0.0 & 0.0\\\\0.0 & 2.000 & -2.000 & 2.000\\\\0.0 & 0.0 & 0.0 & 0.0\\\\0.0 & 2.000 & -2.000 & 2.000\\\\\\end{array}\\right)\\end{equation*}"
      ],
      "text/plain": [
       "PyObject Quantum object: dims = [[[2], [2]], [[2], [2]]], shape = [4, 4], type = super, isherm = False, superrep = None\n",
       "Qobj data =\n",
       "[[ 6.  0.  0.  0.]\n",
       " [ 0.  2. -2.  2.]\n",
       " [ 0.  0.  0.  0.]\n",
       " [ 0.  2. -2.  2.]]"
      ]
     },
     "execution_count": 86,
     "metadata": {},
     "output_type": "execute_result"
    }
   ],
   "source": [
    "testy = QtSuperOperators[GLQCliffords[1]]\n",
    "for i=2:6\n",
    "    testy=addTwo(testy,QtSuperOperators[GLQCliffords[i]])\n",
    "end\n",
    "testy"
   ]
  },
  {
   "cell_type": "markdown",
   "metadata": {},
   "source": [
    "##So thats the same, i.e. we have a correct mapping in GLQCliffords.\n",
    "\n",
    "- Now I am going to take these six cliffords and create 24 Unitaries $U_iP_j$, where $i$ ranges 1..6 and $j$ 1..4 "
   ]
  },
  {
   "cell_type": "code",
   "execution_count": 104,
   "metadata": {
    "collapsed": false
   },
   "outputs": [],
   "source": [
    "sigma=Array{Complex{Float64},2}[]\n",
    "push!(sigma,[1 0;0 1])\n",
    "push!(sigma,[0 1;1 0])\n",
    "push!(sigma,[0 -im;im 0])\n",
    "push!(sigma,[1 0;0 -1])\n",
    "QE=Array{Complex{Float64},2}[]\n",
    "for i=1:6\n",
    "    for j=1:4\n",
    "        push!(QE,Clifford[GLQCliffords[i]]*sigma[j])\n",
    "    end\n",
    "end\n",
    "    "
   ]
  },
  {
   "cell_type": "code",
   "execution_count": 105,
   "metadata": {
    "collapsed": false
   },
   "outputs": [
    {
     "data": {
      "text/plain": [
       "24"
      ]
     },
     "execution_count": 105,
     "metadata": {},
     "output_type": "execute_result"
    }
   ],
   "source": [
    "length(QE)"
   ]
  },
  {
   "cell_type": "code",
   "execution_count": 106,
   "metadata": {
    "collapsed": false
   },
   "outputs": [
    {
     "name": "stdout",
     "output_type": "stream",
     "text": [
      "1152.0 -> 2.0\n"
     ]
    }
   ],
   "source": [
    "sum = 0\n",
    "for i=1:24\n",
    "    for j=1:24\n",
    "        sum += abs(trace(conj(QE[i])'*QE[j]))^4\n",
    "    end\n",
    "end\n",
    "print(\"$sum -> $(sum/(24^2))\\n\")"
   ]
  },
  {
   "cell_type": "markdown",
   "metadata": {},
   "source": [
    "#PERFECT ITS A UNITARY 2 DESIGN"
   ]
  },
  {
   "cell_type": "markdown",
   "metadata": {},
   "source": [
    "## So it actually took a bit of trial and error to get the above result, whilst I was trying to work out what went wrong (I had forgotten to multiply by the Paulis), I investigated the six cliffords we were given and noticed that they weren't even a unitary-one design but apart from some \"signs\" they were - this lead to a body of investigation below, which isn't required but is interesting to keep.\n",
    "\n",
    "Inspection from stuff done above (where we found all possible 6 candidate lists) shows us that there are two similar groups that do work, looking at the one 1,6,11,18,19,23 - we can see from inspection that  we can map \n",
    "- 13$\\rightarrow$19, \n",
    "- 14$\\rightarrow$23 and \n",
    "- 15$\\rightarrow$18 \n",
    "\n",
    "by changing the sign, in each case, in the second and third row."
   ]
  },
  {
   "cell_type": "code",
   "execution_count": 261,
   "metadata": {
    "collapsed": false
   },
   "outputs": [
    {
     "data": {
      "text/plain": [
       "4x4 Array{Float64,2}:\n",
       " 1.0  0.0   0.0   0.0\n",
       " 0.0  0.0  -1.0  -0.0\n",
       " 0.0  1.0   0.0  -0.0\n",
       " 0.0  0.0  -0.0   1.0"
      ]
     },
     "execution_count": 261,
     "metadata": {},
     "output_type": "execute_result"
    }
   ],
   "source": [
    "SuperClifford[15]\n",
    "   "
   ]
  },
  {
   "cell_type": "code",
   "execution_count": 257,
   "metadata": {
    "collapsed": false
   },
   "outputs": [
    {
     "data": {
      "text/plain": [
       "4x4 Array{Float64,2}:\n",
       " 1.0   0.0   0.0   0.0\n",
       " 0.0   0.0   1.0   0.0\n",
       " 0.0   1.0  -0.0  -0.0\n",
       " 0.0  -0.0   0.0  -1.0"
      ]
     },
     "execution_count": 257,
     "metadata": {},
     "output_type": "execute_result"
    }
   ],
   "source": [
    "SuperClifford[18]"
   ]
  },
  {
   "cell_type": "code",
   "execution_count": 258,
   "metadata": {
    "collapsed": false
   },
   "outputs": [
    {
     "data": {
      "text/plain": [
       "4x4 Array{Float64,2}:\n",
       " 1.0   0.0   0.0   0.0\n",
       " 0.0   0.0   0.0  -1.0\n",
       " 0.0  -0.0  -1.0  -0.0\n",
       " 0.0  -1.0   0.0  -0.0"
      ]
     },
     "execution_count": 258,
     "metadata": {},
     "output_type": "execute_result"
    }
   ],
   "source": [
    "SuperClifford[19]"
   ]
  },
  {
   "cell_type": "code",
   "execution_count": 256,
   "metadata": {
    "collapsed": false
   },
   "outputs": [
    {
     "data": {
      "text/plain": [
       "4x4 Array{Float64,2}:\n",
       " 1.0   0.0   0.0   0.0\n",
       " 0.0  -1.0  -0.0   0.0\n",
       " 0.0   0.0   0.0   1.0\n",
       " 0.0  -0.0   1.0  -0.0"
      ]
     },
     "execution_count": 256,
     "metadata": {},
     "output_type": "execute_result"
    }
   ],
   "source": [
    "SuperClifford[23]"
   ]
  },
  {
   "cell_type": "markdown",
   "metadata": {},
   "source": [
    "## So a question is what stabilised states produce these cliffords.\n",
    "\n",
    "Earlier we did a mapping from symplecic basis to the PTSM super operators we are using here, in particular \n",
    "- 19 = (5,3) maps to 18\n",
    "- 3 (1,3) maps to 19\n",
    "- 11 (3, 3) maps to 23"
   ]
  },
  {
   "cell_type": "code",
   "execution_count": 265,
   "metadata": {
    "collapsed": false
   },
   "outputs": [
    {
     "name": "stdout",
     "output_type": "stream",
     "text": [
      "Tableau for unitary: \n",
      "-Y\n",
      "--\n",
      "-Z\n",
      "setup(1)\n",
      "phase(1)\n",
      "phase(1)\n",
      "phase(1)\n",
      "hadamard(1)\n",
      "phase(1)\n",
      "phase(1)\n",
      "hadamard(1)\n",
      "output(svec)\n"
     ]
    }
   ],
   "source": [
    "decompose(5,3,1)"
   ]
  },
  {
   "cell_type": "code",
   "execution_count": 267,
   "metadata": {
    "collapsed": false
   },
   "outputs": [
    {
     "data": {
      "text/latex": [
       "Quantum object: dims = [[[2], [2]], [[2], [2]]], shape = [4, 4], type = super, isherm = True, superrep = None\\begin{equation*}\\left(\\begin{array}{*{11}c}1.000 & 0.0 & 0.0 & 0.0\\\\0.0 & 0.0 & 1.000 & 0.0\\\\0.0 & 1.000 & 0.0 & 0.0\\\\0.0 & 0.0 & 0.0 & -1.000\\\\\\end{array}\\right)\\end{equation*}"
      ],
      "text/plain": [
       "PyObject Quantum object: dims = [[[2], [2]], [[2], [2]]], shape = [4, 4], type = super, isherm = True, superrep = None\n",
       "Qobj data =\n",
       "[[ 1.  0.  0.  0.]\n",
       " [ 0.  0.  1.  0.]\n",
       " [ 0.  1.  0.  0.]\n",
       " [ 0.  0.  0. -1.]]"
      ]
     },
     "execution_count": 267,
     "metadata": {},
     "output_type": "execute_result"
    }
   ],
   "source": [
    "to_superpauli(qt.Qobj(makeFromCommand(commands)))"
   ]
  },
  {
   "cell_type": "code",
   "execution_count": 268,
   "metadata": {
    "collapsed": false
   },
   "outputs": [
    {
     "data": {
      "text/plain": [
       "4x4 Array{Float64,2}:\n",
       " 1.0   0.0   0.0   0.0\n",
       " 0.0   0.0   1.0   0.0\n",
       " 0.0   1.0  -0.0  -0.0\n",
       " 0.0  -0.0   0.0  -1.0"
      ]
     },
     "execution_count": 268,
     "metadata": {},
     "output_type": "execute_result"
    }
   ],
   "source": [
    "SuperClifford[18]"
   ]
  },
  {
   "cell_type": "markdown",
   "metadata": {},
   "source": [
    "## So the plot thickens, 15 (formed from YZ) should maybe be 18, which is formed from -Y-Z"
   ]
  },
  {
   "cell_type": "code",
   "execution_count": 270,
   "metadata": {
    "collapsed": false
   },
   "outputs": [
    {
     "name": "stdout",
     "output_type": "stream",
     "text": [
      "Tableau for unitary: \n",
      "-Z\n",
      "--\n",
      "-X\n",
      "setup(1)\n",
      "phase(1)\n",
      "phase(1)\n",
      "hadamard(1)\n",
      "phase(1)\n",
      "phase(1)\n",
      "output(svec)\n"
     ]
    }
   ],
   "source": [
    "decompose(1,3,1)"
   ]
  },
  {
   "cell_type": "code",
   "execution_count": 271,
   "metadata": {
    "collapsed": false
   },
   "outputs": [
    {
     "data": {
      "text/latex": [
       "Quantum object: dims = [[[2], [2]], [[2], [2]]], shape = [4, 4], type = super, isherm = True, superrep = None\\begin{equation*}\\left(\\begin{array}{*{11}c}1.000 & 0.0 & 0.0 & 0.0\\\\0.0 & 0.0 & 0.0 & -1.000\\\\0.0 & 0.0 & -1.000 & 0.0\\\\0.0 & -1.000 & 0.0 & 0.0\\\\\\end{array}\\right)\\end{equation*}"
      ],
      "text/plain": [
       "PyObject Quantum object: dims = [[[2], [2]], [[2], [2]]], shape = [4, 4], type = super, isherm = True, superrep = None\n",
       "Qobj data =\n",
       "[[ 1.  0.  0.  0.]\n",
       " [ 0.  0.  0. -1.]\n",
       " [ 0.  0. -1.  0.]\n",
       " [ 0. -1.  0.  0.]]"
      ]
     },
     "execution_count": 271,
     "metadata": {},
     "output_type": "execute_result"
    }
   ],
   "source": [
    "to_superpauli(qt.Qobj(makeFromCommand(commands)))"
   ]
  },
  {
   "cell_type": "code",
   "execution_count": 272,
   "metadata": {
    "collapsed": false
   },
   "outputs": [
    {
     "data": {
      "text/plain": [
       "4x4 Array{Float64,2}:\n",
       " 1.0   0.0   0.0   0.0\n",
       " 0.0   0.0   0.0  -1.0\n",
       " 0.0  -0.0  -1.0  -0.0\n",
       " 0.0  -1.0   0.0  -0.0"
      ]
     },
     "execution_count": 272,
     "metadata": {},
     "output_type": "execute_result"
    }
   ],
   "source": [
    "SuperClifford[19]"
   ]
  },
  {
   "cell_type": "markdown",
   "metadata": {},
   "source": [
    "##And 13 ZX maps to 19 -Z-X"
   ]
  },
  {
   "cell_type": "code",
   "execution_count": 273,
   "metadata": {
    "collapsed": false
   },
   "outputs": [
    {
     "name": "stdout",
     "output_type": "stream",
     "text": [
      "Tableau for unitary: \n",
      "-X\n",
      "--\n",
      "-Y\n",
      "setup(1)\n",
      "phase(1)\n",
      "phase(1)\n",
      "phase(1)\n",
      "hadamard(1)\n",
      "phase(1)\n",
      "output(svec)\n"
     ]
    }
   ],
   "source": [
    "decompose(3,3,1)"
   ]
  },
  {
   "cell_type": "code",
   "execution_count": 274,
   "metadata": {
    "collapsed": false
   },
   "outputs": [
    {
     "data": {
      "text/latex": [
       "Quantum object: dims = [[[2], [2]], [[2], [2]]], shape = [4, 4], type = super, isherm = True, superrep = None\\begin{equation*}\\left(\\begin{array}{*{11}c}1.000 & 0.0 & 0.0 & 0.0\\\\0.0 & -1.000 & 0.0 & 0.0\\\\0.0 & 0.0 & 0.0 & 1.000\\\\0.0 & 0.0 & 1.000 & 0.0\\\\\\end{array}\\right)\\end{equation*}"
      ],
      "text/plain": [
       "PyObject Quantum object: dims = [[[2], [2]], [[2], [2]]], shape = [4, 4], type = super, isherm = True, superrep = None\n",
       "Qobj data =\n",
       "[[ 1.  0.  0.  0.]\n",
       " [ 0. -1.  0.  0.]\n",
       " [ 0.  0.  0.  1.]\n",
       " [ 0.  0.  1.  0.]]"
      ]
     },
     "execution_count": 274,
     "metadata": {},
     "output_type": "execute_result"
    }
   ],
   "source": [
    "to_superpauli(qt.Qobj(makeFromCommand(commands)))"
   ]
  },
  {
   "cell_type": "code",
   "execution_count": 275,
   "metadata": {
    "collapsed": false
   },
   "outputs": [
    {
     "data": {
      "text/plain": [
       "4x4 Array{Float64,2}:\n",
       " 1.0   0.0   0.0   0.0\n",
       " 0.0  -1.0  -0.0   0.0\n",
       " 0.0   0.0   0.0   1.0\n",
       " 0.0  -0.0   1.0  -0.0"
      ]
     },
     "execution_count": 275,
     "metadata": {},
     "output_type": "execute_result"
    }
   ],
   "source": [
    "SuperClifford[23]"
   ]
  },
  {
   "cell_type": "markdown",
   "metadata": {},
   "source": [
    "##And the last one, 14 which goes to 23, was stabilized by XY and maybe should have been stabilised by -X-Y"
   ]
  },
  {
   "cell_type": "markdown",
   "metadata": {},
   "source": [
    "###I didn't do an XZ mapping let see $\\left(\\array{1 ,1\\\\0, 1}\\right)\\left(\\array{1 \\\\1}\\right)=\\left(\\array{0\\\\ 1}\\right)$"
   ]
  },
  {
   "cell_type": "code",
   "execution_count": 278,
   "metadata": {
    "collapsed": false
   },
   "outputs": [
    {
     "data": {
      "text/plain": [
       "4x4 Array{Float64,2}:\n",
       " 1.0  0.0   0.0  0.0\n",
       " 0.0  1.0   0.0  0.0\n",
       " 0.0  0.0   0.0  1.0\n",
       " 0.0  0.0  -1.0  0.0"
      ]
     },
     "execution_count": 278,
     "metadata": {},
     "output_type": "execute_result"
    }
   ],
   "source": [
    "SuperClifford[14]"
   ]
  },
  {
   "cell_type": "code",
   "execution_count": 281,
   "metadata": {
    "collapsed": false
   },
   "outputs": [
    {
     "data": {
      "text/latex": [
       "Quantum object: dims = [[[2], [2]], [[2], [2]]], shape = [4, 4], type = super, isherm = False, superrep = None\\begin{equation*}\\left(\\begin{array}{*{11}c}1.000 & 0.0 & 0.0 & 0.0\\\\0.0 & 1.000 & 0.0 & 0.0\\\\0.0 & 0.0 & 0.0 & 1.000\\\\0.0 & 0.0 & -1.000 & 0.0\\\\\\end{array}\\right)\\end{equation*}"
      ],
      "text/plain": [
       "PyObject Quantum object: dims = [[[2], [2]], [[2], [2]]], shape = [4, 4], type = super, isherm = False, superrep = None\n",
       "Qobj data =\n",
       "[[ 1.  0.  0.  0.]\n",
       " [ 0.  1.  0.  0.]\n",
       " [ 0.  0.  0.  1.]\n",
       " [ 0.  0. -1.  0.]]"
      ]
     },
     "execution_count": 281,
     "metadata": {},
     "output_type": "execute_result"
    }
   ],
   "source": [
    "to_superpauli(qt.Qobj(Clifford[12]))"
   ]
  },
  {
   "cell_type": "code",
   "execution_count": 309,
   "metadata": {
    "collapsed": false
   },
   "outputs": [
    {
     "data": {
      "text/latex": [
       "Quantum object: dims = [[2], [2]], shape = [2, 2], type = oper, isherm = False\\begin{equation*}\\left(\\begin{array}{*{11}c}0.0 & -1.0\\\\1.0 & 0.0\\\\\\end{array}\\right)\\end{equation*}"
      ],
      "text/plain": [
       "PyObject Quantum object: dims = [[2], [2]], shape = [2, 2], type = oper, isherm = False\n",
       "Qobj data =\n",
       "[[ 0. -1.]\n",
       " [ 1.  0.]]"
      ]
     },
     "execution_count": 309,
     "metadata": {},
     "output_type": "execute_result"
    }
   ],
   "source": [
    "cl12 = qt.Qobj(Clifford[12])\n",
    "clDag12= qt.Qobj(Clifford[12])[:dag]()\n",
    "sxz=pycall(qt.sigmax()[\"__mul__\"],PyAny,qt.sigmaz())"
   ]
  },
  {
   "cell_type": "code",
   "execution_count": 310,
   "metadata": {
    "collapsed": false
   },
   "outputs": [
    {
     "data": {
      "text/latex": [
       "Quantum object: dims = [[2], [2]], shape = [2, 2], type = oper, isherm = True\\begin{equation*}\\left(\\begin{array}{*{11}c}0.0 & 1.000\\\\1.000 & 0.0\\\\\\end{array}\\right)\\end{equation*}"
      ],
      "text/plain": [
       "PyObject Quantum object: dims = [[2], [2]], shape = [2, 2], type = oper, isherm = True\n",
       "Qobj data =\n",
       "[[ 0.  1.]\n",
       " [ 1.  0.]]"
      ]
     },
     "execution_count": 310,
     "metadata": {},
     "output_type": "execute_result"
    }
   ],
   "source": [
    "(pycall(cl12[\"__mul__\"],PyAny,pycall(qt.sigmax()[\"__mul__\"],PyAny,clDag12)))\n"
   ]
  },
  {
   "cell_type": "code",
   "execution_count": 311,
   "metadata": {
    "collapsed": false
   },
   "outputs": [
    {
     "data": {
      "text/latex": [
       "Quantum object: dims = [[2], [2]], shape = [2, 2], type = oper, isherm = True\\begin{equation*}\\left(\\begin{array}{*{11}c}0.0 & 1.000j\\\\-1.000j & 0.0\\\\\\end{array}\\right)\\end{equation*}"
      ],
      "text/plain": [
       "PyObject Quantum object: dims = [[2], [2]], shape = [2, 2], type = oper, isherm = True\n",
       "Qobj data =\n",
       "[[ 0.+0.j  0.+1.j]\n",
       " [ 0.-1.j  0.+0.j]]"
      ]
     },
     "execution_count": 311,
     "metadata": {},
     "output_type": "execute_result"
    }
   ],
   "source": [
    "pycall(cl12[\"__mul__\"],PyAny,pycall(qt.sigmaz()[\"__mul__\"],PyAny,clDag12))"
   ]
  },
  {
   "cell_type": "code",
   "execution_count": 312,
   "metadata": {
    "collapsed": false
   },
   "outputs": [
    {
     "data": {
      "text/latex": [
       "Quantum object: dims = [[2], [2]], shape = [2, 2], type = oper, isherm = False\\begin{equation*}\\left(\\begin{array}{*{11}c}-1.000j & 0.0\\\\0.0 & 1.000j\\\\\\end{array}\\right)\\end{equation*}"
      ],
      "text/plain": [
       "PyObject Quantum object: dims = [[2], [2]], shape = [2, 2], type = oper, isherm = False\n",
       "Qobj data =\n",
       "[[ 0.-1.j  0.+0.j]\n",
       " [ 0.+0.j  0.+1.j]]"
      ]
     },
     "execution_count": 312,
     "metadata": {},
     "output_type": "execute_result"
    }
   ],
   "source": [
    "(pycall(cl12[\"__mul__\"],PyAny,pycall(sxz[\"__mul__\"],PyAny,clDag12)))"
   ]
  },
  {
   "cell_type": "markdown",
   "metadata": {},
   "source": [
    "##And checking out the other one"
   ]
  },
  {
   "cell_type": "code",
   "execution_count": 290,
   "metadata": {
    "collapsed": false
   },
   "outputs": [
    {
     "data": {
      "text/latex": [
       "Quantum object: dims = [[[2], [2]], [[2], [2]]], shape = [4, 4], type = super, isherm = True, superrep = None\\begin{equation*}\\left(\\begin{array}{*{11}c}1.000 & 0.0 & 0.0 & 0.0\\\\0.0 & -1.000 & 0.0 & 0.0\\\\0.0 & 0.0 & 0.0 & 1.000\\\\0.0 & 0.0 & 1.000 & 0.0\\\\\\end{array}\\right)\\end{equation*}"
      ],
      "text/plain": [
       "PyObject Quantum object: dims = [[[2], [2]], [[2], [2]]], shape = [4, 4], type = super, isherm = True, superrep = None\n",
       "Qobj data =\n",
       "[[ 1.  0.  0.  0.]\n",
       " [ 0. -1.  0.  0.]\n",
       " [ 0.  0.  0.  1.]\n",
       " [ 0.  0.  1.  0.]]"
      ]
     },
     "execution_count": 290,
     "metadata": {},
     "output_type": "execute_result"
    }
   ],
   "source": [
    "to_superpauli(qt.Qobj(Clifford[11]))"
   ]
  },
  {
   "cell_type": "code",
   "execution_count": 291,
   "metadata": {
    "collapsed": false
   },
   "outputs": [
    {
     "data": {
      "text/plain": [
       "4x4 Array{Float64,2}:\n",
       " 1.0   0.0   0.0   0.0\n",
       " 0.0  -1.0  -0.0   0.0\n",
       " 0.0   0.0   0.0   1.0\n",
       " 0.0  -0.0   1.0  -0.0"
      ]
     },
     "execution_count": 291,
     "metadata": {},
     "output_type": "execute_result"
    }
   ],
   "source": [
    "SuperClifford[23]"
   ]
  },
  {
   "cell_type": "code",
   "execution_count": 318,
   "metadata": {
    "collapsed": false
   },
   "outputs": [
    {
     "data": {
      "text/latex": [
       "Quantum object: dims = [[2], [2]], shape = [2, 2], type = oper, isherm = True\\begin{equation*}\\left(\\begin{array}{*{11}c}0.0 & -1.000\\\\-1.000 & 0.0\\\\\\end{array}\\right)\\end{equation*}"
      ],
      "text/plain": [
       "PyObject Quantum object: dims = [[2], [2]], shape = [2, 2], type = oper, isherm = True\n",
       "Qobj data =\n",
       "[[ 0. -1.]\n",
       " [-1.  0.]]"
      ]
     },
     "execution_count": 318,
     "metadata": {},
     "output_type": "execute_result"
    }
   ],
   "source": [
    "cl11 = qt.Qobj(Clifford[11])\n",
    "clDag11= qt.Qobj(Clifford[11])[:dag]()\n",
    "(pycall(cl11[\"__mul__\"],PyAny,pycall(qt.sigmax()[\"__mul__\"],PyAny,clDag11)))"
   ]
  },
  {
   "cell_type": "code",
   "execution_count": 319,
   "metadata": {
    "collapsed": false
   },
   "outputs": [
    {
     "data": {
      "text/latex": [
       "Quantum object: dims = [[2], [2]], shape = [2, 2], type = oper, isherm = True\\begin{equation*}\\left(\\begin{array}{*{11}c}0.0 & 1.000j\\\\-1.000j & 0.0\\\\\\end{array}\\right)\\end{equation*}"
      ],
      "text/plain": [
       "PyObject Quantum object: dims = [[2], [2]], shape = [2, 2], type = oper, isherm = True\n",
       "Qobj data =\n",
       "[[ 0.+0.j  0.+1.j]\n",
       " [ 0.-1.j  0.+0.j]]"
      ]
     },
     "execution_count": 319,
     "metadata": {},
     "output_type": "execute_result"
    }
   ],
   "source": [
    "pycall(cl11[\"__mul__\"],PyAny,pycall(qt.sigmaz()[\"__mul__\"],PyAny,clDag11))"
   ]
  },
  {
   "cell_type": "code",
   "execution_count": 320,
   "metadata": {
    "collapsed": false
   },
   "outputs": [
    {
     "data": {
      "text/latex": [
       "Quantum object: dims = [[2], [2]], shape = [2, 2], type = oper, isherm = False\\begin{equation*}\\left(\\begin{array}{*{11}c}1.000j & 0.0\\\\0.0 & -1.000j\\\\\\end{array}\\right)\\end{equation*}"
      ],
      "text/plain": [
       "PyObject Quantum object: dims = [[2], [2]], shape = [2, 2], type = oper, isherm = False\n",
       "Qobj data =\n",
       "[[ 0.+1.j  0.+0.j]\n",
       " [ 0.+0.j  0.-1.j]]"
      ]
     },
     "execution_count": 320,
     "metadata": {},
     "output_type": "execute_result"
    }
   ],
   "source": [
    "(pycall(cl11[\"__mul__\"],PyAny,pycall(sxz[\"__mul__\"],PyAny,clDag11)))"
   ]
  },
  {
   "cell_type": "code",
   "execution_count": 307,
   "metadata": {
    "collapsed": false
   },
   "outputs": [
    {
     "data": {
      "text/plain": [
       "2x2 Array{Complex{Float64},2}:\n",
       " 0.707107+0.0im            0.0-0.707107im\n",
       "      0.0-0.707107im  0.707107+0.0im     "
      ]
     },
     "execution_count": 307,
     "metadata": {},
     "output_type": "execute_result"
    }
   ],
   "source": [
    "Clifford[12]"
   ]
  },
  {
   "cell_type": "code",
   "execution_count": 308,
   "metadata": {
    "collapsed": false
   },
   "outputs": [
    {
     "data": {
      "text/plain": [
       "2x2 Array{Complex{Float64},2}:\n",
       " 0.707107+0.0im             0.0+0.707107im\n",
       "      0.0-0.707107im  -0.707107+0.0im     "
      ]
     },
     "execution_count": 308,
     "metadata": {},
     "output_type": "execute_result"
    }
   ],
   "source": [
    "Clifford[11]"
   ]
  },
  {
   "cell_type": "markdown",
   "metadata": {},
   "source": [
    "##Not really helping me, the one we found 14 does the correct maps, the one we want (23) changes the sign for X and Y"
   ]
  },
  {
   "cell_type": "markdown",
   "metadata": {},
   "source": [
    "###So, for a unitary two design, Gross tells us $\\sum_\\limits{U_k,U_k'} |tr(U_k^\\dagger U_{k'})|^4/K^2$ should =2, lets check for the cliffords"
   ]
  },
  {
   "cell_type": "code",
   "execution_count": 357,
   "metadata": {
    "collapsed": false
   },
   "outputs": [
    {
     "name": "stdout",
     "output_type": "stream",
     "text": [
      "1151.9999999999998 -> 1.9999999999999996\n"
     ]
    }
   ],
   "source": [
    "sum = 0\n",
    "for i=1:24\n",
    "    for j=1:24\n",
    "        sum += abs(trace(conj(Clifford[i])'*Clifford[j]))^4\n",
    "    end\n",
    "end\n",
    "print(\"$sum -> $(sum/(24^2))\\n\")"
   ]
  },
  {
   "cell_type": "markdown",
   "metadata": {},
   "source": [
    "###Well its certainly true for the cliffords"
   ]
  },
  {
   "cell_type": "markdown",
   "metadata": {},
   "source": [
    "###So lets check if its true for any of the \"6 clifford unitary-1's\" I found earlier"
   ]
  },
  {
   "cell_type": "code",
   "execution_count": 102,
   "metadata": {
    "collapsed": false
   },
   "outputs": [
    {
     "name": "stdout",
     "output_type": "stream",
     "text": [
      "[1,6,9,14,17,22]1 = 1.9999999999999996\n",
      "[1,6,10,16,19,21]2 = 1.9999999999999996\n",
      "[1,7,11,16,20,22]3 = 1.9999999999999996\n",
      "[1,7,12,14,18,21]4 = 1.9999999999999996\n",
      "[2,5,9,15,20,22]5 = 1.9999999999999996\n",
      "[2,5,10,13,18,21]6 = 1.9999999999999996\n",
      "[2,8,11,13,17,22]7 = 1.9999999999999996\n",
      "[2,8,12,15,19,21]8 = 1.9999999999999996\n",
      "[3,5,9,14,18,24]9 = 1.9999999999999996\n",
      "[3,5,10,16,20,23]10 = 1.9999999999999996\n",
      "[3,8,11,16,19,24]11 = 1.9999999999999996\n",
      "[3,8,12,14,17,23]12 = 1.9999999999999996\n",
      "[4,6,9,15,19,24]13 = 1.9999999999999996\n",
      "[4,6,10,13,17,23]14 = 1.9999999999999996\n",
      "[4,7,11,13,18,24]15 = 1.9999999999999996\n",
      "[4,7,12,15,20,23]16 = 1.9999999999999996\n"
     ]
    }
   ],
   "source": [
    "for iter=1:length(matchedQt)\n",
    "    sum = 0\n",
    "    elements=matchedQt[iter]\n",
    "    print(elements)\n",
    "    QE=Array{Complex{Float64},2}[]\n",
    "    for i=1:6\n",
    "        for j=1:4\n",
    "            push!(QE,Clifford[elements[i]]*sigma[j])\n",
    "        end\n",
    "    end\n",
    "for i=1:24\n",
    "    for j=1:24\n",
    "            sum+=abs((trace(conj(QE[i])'*QE[j])))^4\n",
    "    end\n",
    "end\n",
    "    print(\"$iter = $(sum/(24^2))\\n\")\n",
    "end"
   ]
  },
  {
   "cell_type": "markdown",
   "metadata": {},
   "source": [
    "###And there we have it, each of them is a Unitary -2 design when conjugated with the Paulis. So it appears that any six-clifford unitary-1 design conjugated with each Pauli is a Unitary-2 design. Is this obvious?"
   ]
  },
  {
   "cell_type": "markdown",
   "metadata": {},
   "source": [
    "###And also interesting they are \"close\" to a unitary-2 on their own (whatever that means)"
   ]
  },
  {
   "cell_type": "code",
   "execution_count": 103,
   "metadata": {
    "collapsed": false
   },
   "outputs": [
    {
     "name": "stdout",
     "output_type": "stream",
     "text": [
      "[1,6,9,14,17,22]1 = 2.1111111111111094\n",
      "[1,6,10,16,19,21]2 = 2.1111111111111094\n",
      "[1,7,11,16,20,22]3 = 2.1111111111111094\n",
      "[1,7,12,14,18,21]4 = 2.1111111111111094\n",
      "[2,5,9,15,20,22]5 = 2.1111111111111094\n",
      "[2,5,10,13,18,21]6 = 2.1111111111111094\n",
      "[2,8,11,13,17,22]7 = 2.1111111111111094\n",
      "[2,8,12,15,19,21]8 = 2.1111111111111094\n",
      "[3,5,9,14,18,24]9 = 2.1111111111111094\n",
      "[3,5,10,16,20,23]10 = 2.1111111111111094\n",
      "[3,8,11,16,19,24]11 = 2.1111111111111094\n",
      "[3,8,12,14,17,23]12 = 2.1111111111111094\n",
      "[4,6,9,15,19,24]13 = 2.1111111111111094\n",
      "[4,6,10,13,17,23]14 = 2.1111111111111094\n",
      "[4,7,11,13,18,24]15 = 2.1111111111111094\n",
      "[4,7,12,15,20,23]16 = 2.1111111111111094\n"
     ]
    }
   ],
   "source": [
    "for iter=1:length(matchedQt)\n",
    "    sum = 0\n",
    "    elements=matchedQt[iter]\n",
    "    print(elements)\n",
    "for i=1:6\n",
    "    for j=1:6\n",
    "            sum+=abs((trace(conj(Clifford[elements[i]])'*Clifford[elements[j]])))^4\n",
    "    end\n",
    "end\n",
    "    print(\"$iter = $(sum/36)\\n\")\n",
    "end\n"
   ]
  },
  {
   "cell_type": "markdown",
   "metadata": {
    "collapsed": true
   },
   "source": [
    "##So we have 24 Unitaries that are the 2-design from the GL Field, are they just cliffords (probably here)"
   ]
  },
  {
   "cell_type": "code",
   "execution_count": 140,
   "metadata": {
    "collapsed": false
   },
   "outputs": [
    {
     "name": "stdout",
     "output_type": "stream",
     "text": [
      "1 matches 24\n",
      "2 matches 22\n",
      "3 matches 23\n",
      "4 matches 21\n",
      "5 matches 12\n",
      "6 matches 10\n",
      "7 matches 9\n",
      "8 matches 11\n",
      "9 matches 20\n",
      "10 matches 19\n",
      "11 matches 18\n",
      "12 matches 17\n",
      "13 matches 16\n",
      "14 matches 15\n",
      "15 matches 13\n",
      "16 matches 14\n",
      "17 matches 8\n",
      "18 matches 5\n",
      "19 matches 6\n",
      "20 matches 7\n",
      "21 matches 4\n",
      "22 matches 1\n",
      "23 matches 3\n",
      "24 matches 2\n"
     ]
    }
   ],
   "source": [
    "##We are checking on the superpauli basis as its better for equality\n",
    "for i=1:24\n",
    "    for j=1:24\n",
    "        test=int(to_superpauli(qt.Qobj(QE[i]))[:full]())\n",
    "        if test==int(QtSuperOperators[j][:full]())\n",
    "            print(\"$i matches $j\\n\")\n",
    "        end\n",
    "    end\n",
    "end"
   ]
  },
  {
   "cell_type": "code",
   "execution_count": 141,
   "metadata": {
    "collapsed": false
   },
   "outputs": [
    {
     "name": "stdout",
     "output_type": "stream",
     "text": [
      "Complex{Float64}[0.0 - 0.7071067811865475im 0.7071067811865475 + 0.0im\n",
      "                 0.7071067811865475 + 0.0im 0.0 - 0.7071067811865475im]\n"
     ]
    },
    {
     "data": {
      "text/plain": [
       "2x2 Array{Complex{Float64},2}:\n",
       " 0.707107+0.0im            0.0+0.707107im\n",
       "      0.0+0.707107im  0.707107+0.0im     "
      ]
     },
     "execution_count": 141,
     "metadata": {},
     "output_type": "execute_result"
    }
   ],
   "source": [
    "#Just a quick check\n",
    "print(QE[6],\"\\n\")\n",
    "Clifford[10]"
   ]
  },
  {
   "cell_type": "code",
   "execution_count": 142,
   "metadata": {
    "collapsed": false
   },
   "outputs": [
    {
     "data": {
      "text/latex": [
       "Quantum object: dims = [[[2], [2]], [[2], [2]]], shape = [4, 4], type = super, isherm = False, superrep = None\\begin{equation*}\\left(\\begin{array}{*{11}c}1.000 & 0.0 & 0.0 & 0.0\\\\0.0 & 1.000 & 0.0 & 0.0\\\\0.0 & 0.0 & 0.0 & -1.000\\\\0.0 & 0.0 & 1.000 & 0.0\\\\\\end{array}\\right)\\end{equation*}"
      ],
      "text/plain": [
       "PyObject Quantum object: dims = [[[2], [2]], [[2], [2]]], shape = [4, 4], type = super, isherm = False, superrep = None\n",
       "Qobj data =\n",
       "[[ 1.  0.  0.  0.]\n",
       " [ 0.  1.  0.  0.]\n",
       " [ 0.  0.  0. -1.]\n",
       " [ 0.  0.  1.  0.]]"
      ]
     },
     "execution_count": 142,
     "metadata": {},
     "output_type": "execute_result"
    }
   ],
   "source": [
    "to_superpauli(qt.Qobj(QE[6]))"
   ]
  },
  {
   "cell_type": "code",
   "execution_count": 144,
   "metadata": {
    "collapsed": false
   },
   "outputs": [
    {
     "data": {
      "text/latex": [
       "Quantum object: dims = [[[2], [2]], [[2], [2]]], shape = [4, 4], type = super, isherm = False, superrep = None\\begin{equation*}\\left(\\begin{array}{*{11}c}1.000 & 0.0 & 0.0 & 0.0\\\\0.0 & 1.000 & 0.0 & 0.0\\\\0.0 & 0.0 & 0.0 & -1.000\\\\0.0 & 0.0 & 1.000 & 0.0\\\\\\end{array}\\right)\\end{equation*}"
      ],
      "text/plain": [
       "PyObject Quantum object: dims = [[[2], [2]], [[2], [2]]], shape = [4, 4], type = super, isherm = False, superrep = None\n",
       "Qobj data =\n",
       "[[ 1.  0.  0.  0.]\n",
       " [ 0.  1.  0.  0.]\n",
       " [ 0.  0.  0. -1.]\n",
       " [ 0.  0.  1.  0.]]"
      ]
     },
     "execution_count": 144,
     "metadata": {},
     "output_type": "execute_result"
    }
   ],
   "source": [
    "QtSuperOperators[10]"
   ]
  },
  {
   "cell_type": "code",
   "execution_count": 145,
   "metadata": {
    "collapsed": false
   },
   "outputs": [
    {
     "data": {
      "text/plain": [
       "2x2 Array{Complex{Float64},2}:\n",
       " 0.707107+0.0im            0.0+0.707107im\n",
       "      0.0+0.707107im  0.707107+0.0im     "
      ]
     },
     "execution_count": 145,
     "metadata": {},
     "output_type": "execute_result"
    }
   ],
   "source": [
    "im*QE[6]"
   ]
  },
  {
   "cell_type": "markdown",
   "metadata": {},
   "source": [
    "##So the same, other than a phase"
   ]
  },
  {
   "cell_type": "code",
   "execution_count": null,
   "metadata": {
    "collapsed": true
   },
   "outputs": [],
   "source": []
  }
 ],
 "metadata": {
  "kernelspec": {
   "display_name": "Julia 0.3.9",
   "language": "julia",
   "name": "julia-0.3"
  },
  "language_info": {
   "name": "julia",
   "version": "0.3.9"
  }
 },
 "nbformat": 4,
 "nbformat_minor": 0
}
