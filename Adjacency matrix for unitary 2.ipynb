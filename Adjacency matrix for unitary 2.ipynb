{
 "cells": [
  {
   "cell_type": "markdown",
   "metadata": {},
   "source": [
    "##Some preliminaries, you will need \n",
    "- package Match (Pkg.add(\"Match\")) \n",
    "- PyCall\n",
    "- a working Python, with scipy, numpy and qutip installed."
   ]
  },
  {
   "cell_type": "code",
   "execution_count": 132,
   "metadata": {
    "collapsed": false
   },
   "outputs": [],
   "source": [
    "reload(\"PTSM.jl\")\n",
    "reload(\"Initial.jl\")\n",
    "reload(\"Symplectic.jl\")"
   ]
  },
  {
   "cell_type": "code",
   "execution_count": 2,
   "metadata": {
    "collapsed": false
   },
   "outputs": [],
   "source": [
    "using PyCall"
   ]
  },
  {
   "cell_type": "code",
   "execution_count": 3,
   "metadata": {
    "collapsed": false
   },
   "outputs": [],
   "source": [
    "@pyimport scipy.optimize as so\n",
    "@pyimport numpy as np\n",
    "@pyimport matplotlib.pyplot as plt\n",
    "@pyimport qutip as qt\n",
    "@pyimport numpy.linalg as la"
   ]
  },
  {
   "cell_type": "markdown",
   "metadata": {},
   "source": [
    "## We need to get the Python finite field package working"
   ]
  },
  {
   "cell_type": "code",
   "execution_count": 4,
   "metadata": {
    "collapsed": true
   },
   "outputs": [],
   "source": [
    "unshift!(PyVector(pyimport(\"sys\")[\"path\"]), \"./finite-fields/\")\n",
    "@pyimport finitefield as ff"
   ]
  },
  {
   "cell_type": "code",
   "execution_count": 5,
   "metadata": {
    "collapsed": false
   },
   "outputs": [
    {
     "name": "stdout",
     "output_type": "stream",
     "text": [
      "1 + 1 x^1 + 1 x^2\n"
     ]
    },
    {
     "data": {
      "text/plain": [
       "fn (generic function with 1 method)"
      ]
     },
     "execution_count": 5,
     "metadata": {},
     "output_type": "execute_result"
    }
   ],
   "source": [
    "F22 = ff.FiniteField(2,2)"
   ]
  },
  {
   "cell_type": "code",
   "execution_count": 6,
   "metadata": {
    "collapsed": false
   },
   "outputs": [],
   "source": [
    "@pyimport SLFunctions as sl"
   ]
  },
  {
   "cell_type": "code",
   "execution_count": 7,
   "metadata": {
    "collapsed": false
   },
   "outputs": [
    {
     "data": {
      "text/plain": [
       "getStabilisers (generic function with 1 method)"
      ]
     },
     "execution_count": 7,
     "metadata": {},
     "output_type": "execute_result"
    }
   ],
   "source": [
    "function getStabilisers()\n",
    "    jstabs=Array{Int64,2}[]\n",
    "    stabs = sl.getF2Stabilisers()\n",
    "    for i in 1:60\n",
    "        push!(jstabs,reshape(stabs[i,:,:],4,4))\n",
    "    end\n",
    "    return jstabs\n",
    "end\n"
   ]
  },
  {
   "cell_type": "code",
   "execution_count": 8,
   "metadata": {
    "collapsed": false
   },
   "outputs": [],
   "source": [
    "stabs=getStabilisers();"
   ]
  },
  {
   "cell_type": "markdown",
   "metadata": {},
   "source": [
    "##So we have the F22 stabilisers (60 of them) loaded into stabs"
   ]
  },
  {
   "cell_type": "markdown",
   "metadata": {},
   "source": [
    "#Optimise the gates required for these 60\n",
    "##!WARNING\n",
    "these take a long time to run! - The data is now saved, just load it, next worksheet."
   ]
  },
  {
   "cell_type": "code",
   "execution_count": 9,
   "metadata": {
    "collapsed": false
   },
   "outputs": [],
   "source": [
    "#watch out currently fails for 29 (as its the identity)\n",
    "#gatesNeeded=Array{Int32,1}[]\n",
    "#for i=1:60\n",
    "#    state=setup(2)\n",
    "#    state[:,1:4]=stabs[i]\n",
    "#    back=bruteForceBreadthFirst(state)\n",
    "#    push!(gatesNeeded,back)\n",
    "#    writedlm(\"gateList$i.csv\",back)\n",
    "#end\n",
    "    "
   ]
  },
  {
   "cell_type": "code",
   "execution_count": 9,
   "metadata": {
    "collapsed": false
   },
   "outputs": [],
   "source": [
    "#since we saved them previously we can load them\n",
    "gates=Array{Float64}[]\n",
    "for i=1:60\n",
    "    push!(gates,readdlm(\"compiledGates/gateList$i.csv\"))\n",
    "end"
   ]
  },
  {
   "cell_type": "code",
   "execution_count": 10,
   "metadata": {
    "collapsed": false
   },
   "outputs": [
    {
     "data": {
      "text/plain": [
       "1-element Array{Float64,1}:\n",
       " 7.0"
      ]
     },
     "execution_count": 10,
     "metadata": {},
     "output_type": "execute_result"
    }
   ],
   "source": [
    "gates[29]=[7.0]"
   ]
  },
  {
   "cell_type": "markdown",
   "metadata": {},
   "source": [
    "##The saved gates are indexes to the following \"gate\" array"
   ]
  },
  {
   "cell_type": "code",
   "execution_count": 11,
   "metadata": {
    "collapsed": false
   },
   "outputs": [
    {
     "data": {
      "text/plain": [
       "7-element Array{Expr,1}:\n",
       " :(cnot(svec,1,2,false))  \n",
       " :(hadamard(svec,1,false))\n",
       " :(phase(svec,1,false))   \n",
       " :(cnot(svec,2,1,false))  \n",
       " :(hadamard(svec,2,false))\n",
       " :(phase(svec,2,false))   \n",
       " :(noop())                "
      ]
     },
     "execution_count": 11,
     "metadata": {},
     "output_type": "execute_result"
    }
   ],
   "source": [
    "gatesCommand = (Expr)[]\n",
    "\tsvec = []\n",
    "\tfor i = 1:2\n",
    "\t  for j = 1:2\n",
    "\t  \tif i!=j\n",
    "            push!(gatesCommand,Expr(:call,:cnot,:svec,i,j,false))\n",
    "\t  \tend\n",
    "\t  end\n",
    "    push!(gatesCommand,Expr(:call,:hadamard,:svec,i,false))\n",
    "    push!(gatesCommand,Expr(:call,:phase,:svec,i,false))\n",
    "\tend\n",
    "push!(gatesCommand,Expr(:call,:noop))"
   ]
  },
  {
   "cell_type": "markdown",
   "metadata": {
    "collapsed": true
   },
   "source": [
    "## Or if we just want to print it"
   ]
  },
  {
   "cell_type": "code",
   "execution_count": 12,
   "metadata": {
    "collapsed": false
   },
   "outputs": [
    {
     "data": {
      "text/plain": [
       "7-element Array{ASCIIString,1}:\n",
       " \"cnot(1,2)\"  \n",
       " \"hadamard(1)\"\n",
       " \"phase(1)\"   \n",
       " \"cnot(2,1)\"  \n",
       " \"hadamard(2)\"\n",
       " \"phase(2)\"   \n",
       " \"Identity\"   "
      ]
     },
     "execution_count": 12,
     "metadata": {},
     "output_type": "execute_result"
    }
   ],
   "source": [
    "gatestring = ASCIIString[]\n",
    "svec = []\n",
    "for i = 1:2\n",
    "  for j = 1:2\n",
    "  \tif i!=j\n",
    "            push!(gatestring,\"cnot($i,$j)\")\n",
    "  \tend\n",
    "  end\n",
    "  push!(gatestring,\"hadamard($i)\")\n",
    "  push!(gatestring,\"phase($i)\")\n",
    "end\n",
    "push!(gatestring,\"Identity\")"
   ]
  },
  {
   "cell_type": "code",
   "execution_count": 13,
   "metadata": {
    "collapsed": false
   },
   "outputs": [
    {
     "data": {
      "text/plain": [
       "makeFromCommand (generic function with 1 method)"
      ]
     },
     "execution_count": 13,
     "metadata": {},
     "output_type": "execute_result"
    }
   ],
   "source": [
    "function makeFromCommand(command)\n",
    "    currentState = [1 0 0 0;0 1 0 0;0 0 1 0;0 0 0 1]\n",
    "    si = [1 0;0 1]\n",
    "    sphase1=kron([1 0;0 im],si)\n",
    "    sphase2=kron(si,[1 0;0 im])\n",
    "    shadmard=1/sqrt(2)*[1 1;1 -1]\n",
    "    shad1 = kron(shadmard,si)\n",
    "    shad2 = kron(si,shadmard)\n",
    "    cnot12 = [1 0 0 0;0 1 0 0;0 0 0 1;0 0 1 0]\n",
    "    cnot21 = [1 0 0 0;0 0 0 1;0 0 1 0;0 1 0 0]\n",
    "    for t in command\n",
    "        m = match(r\"setup\\((.*)\\)\",t)\n",
    "        if (m!=nothing)\n",
    "           state=[1 0 0 0;0 1 0 0;0 0 1 0;0 0 0 1]\n",
    "        else \n",
    "           m=match(r\"phase\\((.*)\\)\",t)\n",
    "           if (m!=nothing)\n",
    "                bit = int(m.captures[1])\n",
    "                if bit == 1\n",
    "                   currentState=currentState*sphase1\n",
    "                else \n",
    "                   currentState=currentState*sphase2\n",
    "                end\n",
    "            else\n",
    "                m=match(r\"hadamard\\((.*)\\)\",t)\n",
    "                if (m!=nothing)\n",
    "                    bit = int(m.captures[1])\n",
    "                    if bit == 1\n",
    "                        currentState=currentState*shad1\n",
    "                    else \n",
    "                        currentState=currentState*shad2\n",
    "                    end\n",
    "                else\n",
    "                    m=match(r\"cnot\\((.*),(.*)\\)\",t)\n",
    "                    if (m!=nothing)\n",
    "                        cbit = int(m.captures[1])\n",
    "                        tbit = int(m.captures[2])\n",
    "                        if cbit ==1 \n",
    "                            currentState = currentState*cnot12\n",
    "                        else\n",
    "                            currentState = currentState*cnot21\n",
    "                        end\n",
    "                    end\n",
    "                end\n",
    "            end\n",
    "        end\n",
    "    end\n",
    "    return  currentState=currentState\n",
    "end\n"
   ]
  },
  {
   "cell_type": "code",
   "execution_count": null,
   "metadata": {
    "collapsed": false
   },
   "outputs": [],
   "source": [
    "# if you haven't already you may need to: Pkg.add(\"ProgressMeter\")\n",
    "# or just remove the ProgressMeter references, they aren't actually needed."
   ]
  },
  {
   "cell_type": "code",
   "execution_count": 14,
   "metadata": {
    "collapsed": true
   },
   "outputs": [],
   "source": [
    "using ProgressMeter"
   ]
  },
  {
   "cell_type": "markdown",
   "metadata": {},
   "source": [
    "###Looks good, so lets make them all"
   ]
  },
  {
   "cell_type": "code",
   "execution_count": 15,
   "metadata": {
    "collapsed": false
   },
   "outputs": [
    {
     "name": "stdout",
     "output_type": "stream",
     "text": [
      "Progress: 100% Time: 0:00:08\n"
     ]
    }
   ],
   "source": [
    "sl2Cliffords= Array{Complex{Float64},2}[]\n",
    "sl2CliffordCommands = Array{ASCIIString,1}[]\n",
    "n=60*4*4\n",
    "p=Progress(n,1)\n",
    "for i=1:60\n",
    "    for j=1:4\n",
    "        for z=1:4\n",
    "            state=setup(2)\n",
    "            state[:,1:4]=stabs[i]\n",
    "            decomposeState(state,true)\n",
    "            #Apply the PAULIS!\n",
    "            if (j==2)\n",
    "                push!(commands,\"hadamard(1)\")\n",
    "                push!(commands,\"phase(1)\")\n",
    "                push!(commands,\"phase(1)\")\n",
    "                push!(commands,\"hadamard(1)\")\n",
    "            elseif (j==3)\n",
    "                push!(commands,\"phase(1)\")\n",
    "                push!(commands,\"phase(1)\")\n",
    "            elseif (j==4)\n",
    "                push!(commands,\"phase(1)\")\n",
    "                push!(commands,\"phase(1)\")\n",
    "                push!(commands,\"hadamard(1)\")\n",
    "                push!(commands,\"phase(1)\")\n",
    "                push!(commands,\"phase(1)\")\n",
    "                push!(commands,\"hadamard(1)\")\n",
    "            end\n",
    "            if (z==2)\n",
    "                push!(commands,\"hadamard(2)\")\n",
    "                push!(commands,\"phase(2)\")\n",
    "                push!(commands,\"phase(2)\")\n",
    "                push!(commands,\"hadamard(2)\")\n",
    "            elseif (z==3)\n",
    "                push!(commands,\"phase(2)\")\n",
    "                push!(commands,\"phase(2)\")\n",
    "            elseif (z==4)\n",
    "                push!(commands,\"phase(2)\")\n",
    "                push!(commands,\"phase(2)\")\n",
    "                push!(commands,\"hadamard(2)\")\n",
    "                push!(commands,\"phase(2)\")\n",
    "                push!(commands,\"phase(2)\")\n",
    "                push!(commands,\"hadamard(2)\")\n",
    "            end\n",
    "            push!(sl2CliffordCommands,commands)\n",
    "            push!(sl2Cliffords,makeFromCommand(commands))\n",
    "            next!(p)\n",
    "        end\n",
    "    end\n",
    "end"
   ]
  },
  {
   "cell_type": "code",
   "execution_count": 16,
   "metadata": {
    "collapsed": false
   },
   "outputs": [
    {
     "data": {
      "text/plain": [
       "(960,)"
      ]
     },
     "execution_count": 16,
     "metadata": {},
     "output_type": "execute_result"
    }
   ],
   "source": [
    "size(sl2Cliffords)"
   ]
  },
  {
   "cell_type": "code",
   "execution_count": 21,
   "metadata": {
    "collapsed": false
   },
   "outputs": [
    {
     "data": {
      "text/plain": [
       "4-element Array{ASCIIString,1}:\n",
       " \"setup(2)\"    \n",
       " \"hadamard(2)\" \n",
       " \"hadamard(1)\" \n",
       " \"output(svec)\""
      ]
     },
     "execution_count": 21,
     "metadata": {},
     "output_type": "execute_result"
    }
   ],
   "source": [
    "sl2CliffordCommands[1]"
   ]
  },
  {
   "cell_type": "markdown",
   "metadata": {},
   "source": [
    "#so the number of gates is the length of the commands minus 2"
   ]
  },
  {
   "cell_type": "code",
   "execution_count": 23,
   "metadata": {
    "collapsed": false
   },
   "outputs": [
    {
     "name": "stdout",
     "output_type": "stream",
     "text": [
      "Size is 960 and mean is 17.2"
     ]
    }
   ],
   "source": [
    "sl2CliffordsLength = [size(sl2CliffordCommands[i],1)-2 for i=1:size(sl2CliffordCommands,1)]\n",
    "print(\"Size is $(size(sl2CliffordsLength,1)) and mean is $(mean(sl2CliffordsLength))\")"
   ]
  },
  {
   "cell_type": "markdown",
   "metadata": {},
   "source": [
    "##Check if it is unitary 2"
   ]
  },
  {
   "cell_type": "code",
   "execution_count": 17,
   "metadata": {
    "collapsed": false
   },
   "outputs": [
    {
     "name": "stdout",
     "output_type": "stream",
     "text": [
      "1.8431999999999998e6 -> 1.9999999999999998)\n"
     ]
    }
   ],
   "source": [
    "sum = 0\n",
    "numb = size(sl2Cliffords,1)\n",
    "for i=1:numb\n",
    "    for j=1:numb\n",
    "        sum += abs(trace(conj(sl2Cliffords[i])'*sl2Cliffords[j]))^4\n",
    "    end\n",
    "end\n",
    "print(\"$sum -> $(sum/numb^2))\\n\")"
   ]
  },
  {
   "cell_type": "markdown",
   "metadata": {},
   "source": [
    "##And the magic number is indeed 2"
   ]
  },
  {
   "cell_type": "markdown",
   "metadata": {
    "collapsed": false
   },
   "source": [
    "## Now lets compare with the actual full Clifford Group."
   ]
  },
  {
   "cell_type": "code",
   "execution_count": 18,
   "metadata": {
    "collapsed": false
   },
   "outputs": [
    {
     "data": {
      "text/plain": [
       "11520"
      ]
     },
     "execution_count": 18,
     "metadata": {},
     "output_type": "execute_result"
    }
   ],
   "source": [
    "getNumberOfCliffords(2)"
   ]
  },
  {
   "cell_type": "code",
   "execution_count": 19,
   "metadata": {
    "collapsed": false
   },
   "outputs": [
    {
     "data": {
      "text/plain": [
       "720"
      ]
     },
     "execution_count": 19,
     "metadata": {},
     "output_type": "execute_result"
    }
   ],
   "source": [
    "getNumberOfSymplecticCliffords(2) # this is the number mapped to integers"
   ]
  },
  {
   "cell_type": "code",
   "execution_count": 20,
   "metadata": {
    "collapsed": false
   },
   "outputs": [
    {
     "data": {
      "text/plain": [
       "16"
      ]
     },
     "execution_count": 20,
     "metadata": {},
     "output_type": "execute_result"
    }
   ],
   "source": [
    "getNumberOfBitStringsCliffords(2) # this is the number we multiply it by"
   ]
  },
  {
   "cell_type": "code",
   "execution_count": 134,
   "metadata": {
    "collapsed": false
   },
   "outputs": [
    {
     "name": "stdout",
     "output_type": "stream",
     "text": [
      "Progress: 100% Time: 0:00:06\n"
     ]
    }
   ],
   "source": [
    "FullCliffords= Array{Complex{Float64},2}[]\n",
    "FullCliffordCommands = Array{ASCIIString,1}[]\n",
    "n=11520\n",
    "p=Progress(n,1)\n",
    "for i=0:719 # number of symplectics\n",
    "    for j=0:15 # number of phase variations.\n",
    "        state=setup(2)\n",
    "        decompose(i,j,2,true,false) # symplectic i, bits j, 2 qubits, no output and rationalise\n",
    "        push!(FullCliffordCommands,commands)\n",
    "        push!(FullCliffords,makeFromCommand(commands))\n",
    "        next!(p)\n",
    "    end\n",
    "end"
   ]
  },
  {
   "cell_type": "code",
   "execution_count": 125,
   "metadata": {
    "collapsed": false
   },
   "outputs": [
    {
     "name": "stdout",
     "output_type": "stream",
     "text": [
      "Tableau for unitary: \n",
      "+XI\n",
      "+IX\n",
      "---\n",
      "+ZI\n",
      "+IZ\n",
      "setup(2)\n",
      "output(svec)\n",
      "Tableau for unitary: \n",
      "-XI\n",
      "+IX\n",
      "---\n",
      "+ZI\n",
      "+IZ\n",
      "setup(2)\n",
      "phase(1)\n",
      "phase(1)\n",
      "output(svec)\n",
      "Tableau for unitary: \n",
      "+XI\n",
      "-IX\n",
      "---\n",
      "-ZI\n",
      "+IZ\n",
      "setup(2)\n",
      "phase(2)\n",
      "phase(2)\n",
      "hadamard(2)\n",
      "hadamard(1)\n",
      "phase(1)\n",
      "phase(1)\n",
      "hadamard(2)\n",
      "hadamard(1)\n",
      "output(svec)\n",
      "Tableau for unitary: \n",
      "-XI\n",
      "-IX\n",
      "---\n",
      "-ZI\n",
      "+IZ\n",
      "setup(2)\n",
      "phase(2)\n",
      "phase(2)\n",
      "phase(1)\n",
      "phase(1)\n",
      "hadamard(2)\n",
      "hadamard(1)\n",
      "phase(1)\n",
      "phase(1)\n",
      "hadamard(2)\n",
      "hadamard(1)\n",
      "output(svec)\n",
      "Tableau for unitary: \n",
      "+XI\n",
      "+IX\n",
      "---\n",
      "+ZI\n",
      "-IZ\n",
      "setup(2)\n",
      "hadamard(2)\n",
      "hadamard(1)\n",
      "phase(2)\n",
      "phase(2)\n",
      "hadamard(2)\n",
      "hadamard(1)\n",
      "output(svec)\n",
      "Tableau for unitary: \n",
      "-XI\n",
      "+IX\n",
      "---\n",
      "+ZI\n",
      "-IZ\n",
      "setup(2)\n",
      "phase(1)\n",
      "phase(1)\n",
      "hadamard(2)\n",
      "hadamard(1)\n",
      "phase(2)\n",
      "phase(2)\n",
      "hadamard(2)\n",
      "hadamard(1)\n",
      "output(svec)\n",
      "Tableau for unitary: \n",
      "+XI\n",
      "-IX\n",
      "---\n",
      "-ZI\n",
      "-IZ\n",
      "setup(2)\n",
      "phase(2)\n",
      "phase(2)\n",
      "hadamard(2)\n",
      "hadamard(1)\n",
      "phase(2)\n",
      "phase(2)\n",
      "phase(1)\n",
      "phase(1)\n",
      "hadamard(2)\n",
      "hadamard(1)\n",
      "output(svec)\n",
      "Tableau for unitary: \n",
      "-XI\n",
      "-IX\n",
      "---\n",
      "-ZI\n",
      "-IZ\n",
      "setup(2)\n",
      "phase(2)\n",
      "phase(2)\n",
      "phase(1)\n",
      "phase(1)\n",
      "hadamard(2)\n",
      "hadamard(1)\n",
      "phase(2)\n",
      "phase(2)\n",
      "phase(1)\n",
      "phase(1)\n",
      "hadamard(2)\n",
      "hadamard(1)\n",
      "output(svec)\n",
      "Tableau for unitary: \n",
      "+XI\n",
      "+IX\n",
      "---\n",
      "+ZI\n",
      "+IZ\n",
      "setup(2)\n",
      "output(svec)\n",
      "Tableau for unitary: \n",
      "-XI\n",
      "+IX\n",
      "---\n",
      "+ZI\n",
      "+IZ\n",
      "setup(2)\n",
      "phase(1)\n",
      "phase(1)\n",
      "output(svec)\n",
      "Tableau for unitary: \n",
      "+XI\n",
      "-IX\n",
      "---\n",
      "-ZI\n",
      "+IZ\n",
      "setup(2)\n",
      "phase(2)\n",
      "phase(2)\n",
      "hadamard(2)\n",
      "hadamard(1)\n",
      "phase(1)\n",
      "phase(1)\n",
      "hadamard(2)\n",
      "hadamard(1)\n",
      "output(svec)\n",
      "Tableau for unitary: \n",
      "-XI\n",
      "-IX\n",
      "---\n",
      "-ZI\n",
      "+IZ\n",
      "setup(2)\n",
      "phase(2)\n",
      "phase(2)\n",
      "phase(1)\n",
      "phase(1)\n",
      "hadamard(2)\n",
      "hadamard(1)\n",
      "phase(1)\n",
      "phase(1)\n",
      "hadamard(2)\n",
      "hadamard(1)\n",
      "output(svec)\n",
      "Tableau for unitary: \n",
      "+XI\n",
      "+IX\n",
      "---\n",
      "+ZI\n",
      "-IZ\n",
      "setup(2)\n",
      "hadamard(2)\n",
      "hadamard(1)\n",
      "phase(2)\n",
      "phase(2)\n",
      "hadamard(2)\n",
      "hadamard(1)\n",
      "output(svec)\n",
      "Tableau for unitary: \n",
      "-XI\n",
      "+IX\n",
      "---\n",
      "+ZI\n",
      "-IZ\n",
      "setup(2)\n",
      "phase(1)\n",
      "phase(1)\n",
      "hadamard(2)\n",
      "hadamard(1)\n",
      "phase(2)\n",
      "phase(2)\n",
      "hadamard(2)\n",
      "hadamard(1)\n",
      "output(svec)\n",
      "Tableau for unitary: \n",
      "+XI\n",
      "-IX\n",
      "---\n",
      "-ZI\n",
      "-IZ\n",
      "setup(2)\n",
      "phase(2)\n",
      "phase(2)\n",
      "hadamard(2)\n",
      "hadamard(1)\n",
      "phase(2)\n",
      "phase(2)\n",
      "phase(1)\n",
      "phase(1)\n",
      "hadamard(2)\n",
      "hadamard(1)\n",
      "output(svec)\n",
      "Tableau for unitary: \n",
      "-XI\n",
      "-IX\n",
      "---\n",
      "-ZI\n",
      "-IZ\n",
      "setup(2)\n",
      "phase(2)\n",
      "phase(2)\n",
      "phase(1)\n",
      "phase(1)\n",
      "hadamard(2)\n",
      "hadamard(1)\n",
      "phase(2)\n",
      "phase(2)\n",
      "phase(1)\n",
      "phase(1)\n",
      "hadamard(2)\n",
      "hadamard(1)\n",
      "output(svec)\n"
     ]
    }
   ],
   "source": [
    "for i=0:15\n",
    "    decompose(0,i,2,false,false)\n",
    "end"
   ]
  },
  {
   "cell_type": "code",
   "execution_count": 124,
   "metadata": {
    "collapsed": false
   },
   "outputs": [
    {
     "name": "stdout",
     "output_type": "stream",
     "text": [
      "1\n",
      "2\n",
      "3\n",
      "4\n",
      "5\n",
      "6\n",
      "7\n",
      "8\n",
      "9\n",
      "10\n",
      "11\n",
      "12\n",
      "13\n",
      "14\n",
      "15\n",
      "16\n"
     ]
    }
   ],
   "source": [
    "for j=1:16\n",
    "    print(j,\"\\n\")\n",
    "end"
   ]
  },
  {
   "cell_type": "code",
   "execution_count": 131,
   "metadata": {
    "collapsed": false
   },
   "outputs": [
    {
     "name": "stdout",
     "output_type": "stream",
     "text": [
      "0--->{1,0} {0,0}\n",
      "0--->{0,1} {0,0}\n",
      "0--->{1,1} {0,0}\n",
      "1--->{0,0} {1,0}\n",
      "1--->{1,0} {1,0}\n",
      "1--->{0,1} {1,0}\n",
      "1--->{1,1} {1,0}\n",
      "2--->{0,0} {0,1}\n",
      "2--->{1,0} {0,1}\n",
      "2--->{0,1} {0,1}\n",
      "2--->{1,1} {0,1}\n",
      "3--->{0,0} {1,1}\n",
      "3--->{1,0} {1,1}\n",
      "3--->{0,1} {1,1}\n",
      "3--->{1,1} {1,1}\n",
      "4--->{0,0} {0,0}\n"
     ]
    }
   ],
   "source": [
    "n=2\n",
    "for bits=1:16\n",
    "    top = [ (bits >> (x-1)) %2 for x=1:n]\n",
    "    for co=1:n\n",
    "        bits = div(bits,2)\n",
    "    end\n",
    "    bottom = [ (bits >> (x-1)) %2 for x=1:n]\n",
    "    print(bits,\"--->\",top,\" \",bottom,\"\\n\")\n",
    "end"
   ]
  },
  {
   "cell_type": "code",
   "execution_count": 128,
   "metadata": {
    "collapsed": false
   },
   "outputs": [
    {
     "data": {
      "text/plain": [
       "2-element Array{Any,1}:\n",
       " 0\n",
       " 0"
      ]
     },
     "execution_count": 128,
     "metadata": {},
     "output_type": "execute_result"
    }
   ],
   "source": [
    "n=2\n",
    "bits=1\n",
    "top = [ (bits >> (x-1)) %2 for x=1:n]\n",
    "bits = div(bits,2)\n",
    "bottom = [ (bits >> (x-1)) %2 for x=1:n]\n",
    "print(top,\" \",bottom)"
   ]
  },
  {
   "cell_type": "code",
   "execution_count": 129,
   "metadata": {
    "collapsed": false
   },
   "outputs": [
    {
     "data": {
      "text/plain": [
       "2-element Array{Any,1}:\n",
       " 1\n",
       " 0"
      ]
     },
     "execution_count": 129,
     "metadata": {},
     "output_type": "execute_result"
    }
   ],
   "source": [
    "top"
   ]
  },
  {
   "cell_type": "code",
   "execution_count": 22,
   "metadata": {
    "collapsed": false
   },
   "outputs": [
    {
     "data": {
      "text/plain": [
       "(11520,)"
      ]
     },
     "execution_count": 22,
     "metadata": {},
     "output_type": "execute_result"
    }
   ],
   "source": [
    "size(FullCliffords)"
   ]
  },
  {
   "cell_type": "code",
   "execution_count": 23,
   "metadata": {
    "collapsed": false
   },
   "outputs": [
    {
     "data": {
      "text/plain": [
       "4x4 Array{Complex{Float64},2}:\n",
       "  0.707107+0.0im        0.0+0.0im  0.707107+0.0im       0.0+0.0im\n",
       "       0.0+0.0im   0.707107+0.0im       0.0+0.0im  0.707107+0.0im\n",
       " -0.707107+0.0im        0.0+0.0im  0.707107+0.0im       0.0+0.0im\n",
       "       0.0+0.0im  -0.707107+0.0im       0.0+0.0im  0.707107+0.0im"
      ]
     },
     "execution_count": 23,
     "metadata": {},
     "output_type": "execute_result"
    }
   ],
   "source": [
    "FullCliffords[1]"
   ]
  },
  {
   "cell_type": "markdown",
   "metadata": {},
   "source": [
    "## Check we have done it correct (unitary 2)"
   ]
  },
  {
   "cell_type": "code",
   "execution_count": 135,
   "metadata": {
    "collapsed": false
   },
   "outputs": [
    {
     "name": "stdout",
     "output_type": "stream",
     "text": [
      "Progress: 100% Time: 0:06:11\n",
      "2.6542079999999997e8 -> 1.9999999999999998)\n"
     ]
    }
   ],
   "source": [
    "sum = 0\n",
    "numb = size(FullCliffords,1)\n",
    "p=Progress(numb,1)\n",
    "for i=1:numb\n",
    "    for j=1:numb\n",
    "        sum += abs(trace(conj(FullCliffords[i])'*FullCliffords[j]))^4\n",
    "    end\n",
    "    next!(p)\n",
    "end\n",
    "print(\"$sum -> $(sum/numb^2))\\n\")"
   ]
  },
  {
   "cell_type": "markdown",
   "metadata": {},
   "source": [
    "##Hmm probably a rounding error."
   ]
  },
  {
   "cell_type": "markdown",
   "metadata": {
    "collapsed": false
   },
   "source": [
    "## So recap\n",
    "- we have in sl2Cliffords each of the 4 x 4 matrices that form our smaller unitary 2 design (960)\n",
    "- we have in FullCLiffords each of the 4 x 4 matrices taht form our full clifford group (11520)\n",
    "- we are going to make a SuperOperator (Pauli Basis) for each of the full clifford group and store this\n",
    "- we are going to store and INDEX for the sl2 cliffords to the SuperOperator index\n",
    "- we are going to identify our generators, superoperator and find their indices.\n",
    "- we are going to make a tree with 11520 vertices\n",
    "- then we multiply each $CL_i^\\{dagger},CL_j$ to see if they are a generator and set the edge appropriately "
   ]
  },
  {
   "cell_type": "code",
   "execution_count": 25,
   "metadata": {
    "collapsed": false
   },
   "outputs": [
    {
     "data": {
      "text/plain": [
       "to_superpauli (generic function with 1 method)"
      ]
     },
     "execution_count": 25,
     "metadata": {},
     "output_type": "execute_result"
    }
   ],
   "source": [
    "#Granade inspired\n",
    "function to_superpauli(S):\n",
    "    \"\"\"\n",
    "    Converts a superoperator in the column-stacking basis to the Pauli basis. Note that\n",
    "    the argument is assumed to act on qubits.\n",
    "    \"\"\"\n",
    "    sqobj=qt.to_super(S)\n",
    "    nq=int(np.log2(sqobj[:shape][1])/2)\n",
    "    B=pycall(qt.superop_reps[\"_pauli_basis\"],PyAny,nq)\n",
    "    sq=np.sqrt(2^nq)\n",
    "    B=pyeval(\"B/sq\",PyAny,B=B,nq=nq,sq=sq)\n",
    "    B[:dims] = sqobj[:dims]\n",
    "    sqobj = pycall(B[:dag]()[\"__mul__\"],PyAny,pycall(sqobj[\"__mul__\"],PyAny,B))\n",
    "    return sqobj\n",
    "end"
   ]
  },
  {
   "cell_type": "code",
   "execution_count": 48,
   "metadata": {
    "collapsed": false
   },
   "outputs": [
    {
     "data": {
      "text/plain": [
       "11520-element Array{Any,1}:\n",
       " 16x16 Array{Int64,2}:\n",
       " 1  0  0  0  0  0  0  0  0  0  0  0   0   0   0   0\n",
       " 0  1  0  0  0  0  0  0  0  0  0  0   0   0   0   0\n",
       " 0  0  1  0  0  0  0  0  0  0  0  0   0   0   0   0\n",
       " 0  0  0  1  0  0  0  0  0  0  0  0   0   0   0   0\n",
       " 0  0  0  0  0  0  0  0  0  0  0  0  -1   0   0   0\n",
       " 0  0  0  0  0  0  0  0  0  0  0  0   0  -1   0   0\n",
       " 0  0  0  0  0  0  0  0  0  0  0  0   0   0  -1   0\n",
       " 0  0  0  0  0  0  0  0  0  0  0  0   0   0   0  -1\n",
       " 0  0  0  0  0  0  0  0  1  0  0  0   0   0   0   0\n",
       " 0  0  0  0  0  0  0  0  0  1  0  0   0   0   0   0\n",
       " 0  0  0  0  0  0  0  0  0  0  1  0   0   0   0   0\n",
       " 0  0  0  0  0  0  0  0  0  0  0  1   0   0   0   0\n",
       " 0  0  0  0  1  0  0  0  0  0  0  0   0   0   0   0\n",
       " 0  0  0  0  0  1  0  0  0  0  0  0   0   0   0   0\n",
       " 0  0  0  0  0  0  1  0  0  0  0  0   0   0   0   0\n",
       " 0  0  0  0  0  0  0  1  0  0  0  0   0   0   0   0                                                                \n",
       " 16x16 Array{Int64,2}:\n",
       " 1   0   0  0   0  0  0   0  0   0   0  0  0   0   0  0\n",
       " 0  -1   0  0   0  0  0   0  0   0   0  0  0   0   0  0\n",
       " 0   0  -1  0   0  0  0   0  0   0   0  0  0   0   0  0\n",
       " 0   0   0  1   0  0  0   0  0   0   0  0  0   0   0  0\n",
       " 0   0   0  0   0  0  0   0  0   0   0  0  1   0   0  0\n",
       " 0   0   0  0   0  0  0   0  0   0   0  0  0  -1   0  0\n",
       " 0   0   0  0   0  0  0   0  0   0   0  0  0   0  -1  0\n",
       " 0   0   0  0   0  0  0   0  0   0   0  0  0   0   0  1\n",
       " 0   0   0  0   0  0  0   0  1   0   0  0  0   0   0  0\n",
       " 0   0   0  0   0  0  0   0  0  -1   0  0  0   0   0  0\n",
       " 0   0   0  0   0  0  0   0  0   0  -1  0  0   0   0  0\n",
       " 0   0   0  0   0  0  0   0  0   0   0  1  0   0   0  0\n",
       " 0   0   0  0  -1  0  0   0  0   0   0  0  0   0   0  0\n",
       " 0   0   0  0   0  1  0   0  0   0   0  0  0   0   0  0\n",
       " 0   0   0  0   0  0  1   0  0   0   0  0  0   0   0  0\n",
       " 0   0   0  0   0  0  0  -1  0   0   0  0  0   0   0  0\n",
       " 16x16 Array{Int64,2}:\n",
       " 1   0   0  0   0  0  0   0   0  0  0   0   0  0  0   0\n",
       " 0  -1   0  0   0  0  0   0   0  0  0   0   0  0  0   0\n",
       " 0   0  -1  0   0  0  0   0   0  0  0   0   0  0  0   0\n",
       " 0   0   0  1   0  0  0   0   0  0  0   0   0  0  0   0\n",
       " 0   0   0  0   0  0  0   0   0  0  0   0  -1  0  0   0\n",
       " 0   0   0  0   0  0  0   0   0  0  0   0   0  1  0   0\n",
       " 0   0   0  0   0  0  0   0   0  0  0   0   0  0  1   0\n",
       " 0   0   0  0   0  0  0   0   0  0  0   0   0  0  0  -1\n",
       " 0   0   0  0   0  0  0   0  -1  0  0   0   0  0  0   0\n",
       " 0   0   0  0   0  0  0   0   0  1  0   0   0  0  0   0\n",
       " 0   0   0  0   0  0  0   0   0  0  1   0   0  0  0   0\n",
       " 0   0   0  0   0  0  0   0   0  0  0  -1   0  0  0   0\n",
       " 0   0   0  0  -1  0  0   0   0  0  0   0   0  0  0   0\n",
       " 0   0   0  0   0  1  0   0   0  0  0   0   0  0  0   0\n",
       " 0   0   0  0   0  0  1   0   0  0  0   0   0  0  0   0\n",
       " 0   0   0  0   0  0  0  -1   0  0  0   0   0  0  0   0\n",
       " 16x16 Array{Int64,2}:\n",
       " 1  0   0   0  0  0   0   0   0   0  0  0  0  0   0   0\n",
       " 0  1   0   0  0  0   0   0   0   0  0  0  0  0   0   0\n",
       " 0  0  -1   0  0  0   0   0   0   0  0  0  0  0   0   0\n",
       " 0  0   0  -1  0  0   0   0   0   0  0  0  0  0   0   0\n",
       " 0  0   0   0  0  0   0   0   0   0  0  0  1  0   0   0\n",
       " 0  0   0   0  0  0   0   0   0   0  0  0  0  1   0   0\n",
       " 0  0   0   0  0  0   0   0   0   0  0  0  0  0  -1   0\n",
       " 0  0   0   0  0  0   0   0   0   0  0  0  0  0   0  -1\n",
       " 0  0   0   0  0  0   0   0  -1   0  0  0  0  0   0   0\n",
       " 0  0   0   0  0  0   0   0   0  -1  0  0  0  0   0   0\n",
       " 0  0   0   0  0  0   0   0   0   0  1  0  0  0   0   0\n",
       " 0  0   0   0  0  0   0   0   0   0  0  1  0  0   0   0\n",
       " 0  0   0   0  1  0   0   0   0   0  0  0  0  0   0   0\n",
       " 0  0   0   0  0  1   0   0   0   0  0  0  0  0   0   0\n",
       " 0  0   0   0  0  0  -1   0   0   0  0  0  0  0   0   0\n",
       " 0  0   0   0  0  0   0  -1   0   0  0  0  0  0   0   0\n",
       " 16x16 Array{Int64,2}:\n",
       " 1  0   0   0  0  0   0   0  0  0   0   0   0   0  0  0\n",
       " 0  1   0   0  0  0   0   0  0  0   0   0   0   0  0  0\n",
       " 0  0  -1   0  0  0   0   0  0  0   0   0   0   0  0  0\n",
       " 0  0   0  -1  0  0   0   0  0  0   0   0   0   0  0  0\n",
       " 0  0   0   0  0  0   0   0  0  0   0   0  -1   0  0  0\n",
       " 0  0   0   0  0  0   0   0  0  0   0   0   0  -1  0  0\n",
       " 0  0   0   0  0  0   0   0  0  0   0   0   0   0  1  0\n",
       " 0  0   0   0  0  0   0   0  0  0   0   0   0   0  0  1\n",
       " 0  0   0   0  0  0   0   0  1  0   0   0   0   0  0  0\n",
       " 0  0   0   0  0  0   0   0  0  1   0   0   0   0  0  0\n",
       " 0  0   0   0  0  0   0   0  0  0  -1   0   0   0  0  0\n",
       " 0  0   0   0  0  0   0   0  0  0   0  -1   0   0  0  0\n",
       " 0  0   0   0  1  0   0   0  0  0   0   0   0   0  0  0\n",
       " 0  0   0   0  0  1   0   0  0  0   0   0   0   0  0  0\n",
       " 0  0   0   0  0  0  -1   0  0  0   0   0   0   0  0  0\n",
       " 0  0   0   0  0  0   0  -1  0  0   0   0   0   0  0  0\n",
       " 16x16 Array{Int64,2}:\n",
       " 1   0  0   0   0  0   0  0  0   0  0   0  0   0  0   0\n",
       " 0  -1  0   0   0  0   0  0  0   0  0   0  0   0  0   0\n",
       " 0   0  1   0   0  0   0  0  0   0  0   0  0   0  0   0\n",
       " 0   0  0  -1   0  0   0  0  0   0  0   0  0   0  0   0\n",
       " 0   0  0   0   0  0   0  0  0   0  0   0  1   0  0   0\n",
       " 0   0  0   0   0  0   0  0  0   0  0   0  0  -1  0   0\n",
       " 0   0  0   0   0  0   0  0  0   0  0   0  0   0  1   0\n",
       " 0   0  0   0   0  0   0  0  0   0  0   0  0   0  0  -1\n",
       " 0   0  0   0   0  0   0  0  1   0  0   0  0   0  0   0\n",
       " 0   0  0   0   0  0   0  0  0  -1  0   0  0   0  0   0\n",
       " 0   0  0   0   0  0   0  0  0   0  1   0  0   0  0   0\n",
       " 0   0  0   0   0  0   0  0  0   0  0  -1  0   0  0   0\n",
       " 0   0  0   0  -1  0   0  0  0   0  0   0  0   0  0   0\n",
       " 0   0  0   0   0  1   0  0  0   0  0   0  0   0  0   0\n",
       " 0   0  0   0   0  0  -1  0  0   0  0   0  0   0  0   0\n",
       " 0   0  0   0   0  0   0  1  0   0  0   0  0   0  0   0\n",
       " 16x16 Array{Int64,2}:\n",
       " 1   0  0   0   0  0   0  0   0  0   0  0   0  0   0  0\n",
       " 0  -1  0   0   0  0   0  0   0  0   0  0   0  0   0  0\n",
       " 0   0  1   0   0  0   0  0   0  0   0  0   0  0   0  0\n",
       " 0   0  0  -1   0  0   0  0   0  0   0  0   0  0   0  0\n",
       " 0   0  0   0   0  0   0  0   0  0   0  0  -1  0   0  0\n",
       " 0   0  0   0   0  0   0  0   0  0   0  0   0  1   0  0\n",
       " 0   0  0   0   0  0   0  0   0  0   0  0   0  0  -1  0\n",
       " 0   0  0   0   0  0   0  0   0  0   0  0   0  0   0  1\n",
       " 0   0  0   0   0  0   0  0  -1  0   0  0   0  0   0  0\n",
       " 0   0  0   0   0  0   0  0   0  1   0  0   0  0   0  0\n",
       " 0   0  0   0   0  0   0  0   0  0  -1  0   0  0   0  0\n",
       " 0   0  0   0   0  0   0  0   0  0   0  1   0  0   0  0\n",
       " 0   0  0   0  -1  0   0  0   0  0   0  0   0  0   0  0\n",
       " 0   0  0   0   0  1   0  0   0  0   0  0   0  0   0  0\n",
       " 0   0  0   0   0  0  -1  0   0  0   0  0   0  0   0  0\n",
       " 0   0  0   0   0  0   0  1   0  0   0  0   0  0   0  0\n",
       " 16x16 Array{Int64,2}:\n",
       " 1  0  0  0  0  0  0  0   0   0   0   0  0  0  0  0\n",
       " 0  1  0  0  0  0  0  0   0   0   0   0  0  0  0  0\n",
       " 0  0  1  0  0  0  0  0   0   0   0   0  0  0  0  0\n",
       " 0  0  0  1  0  0  0  0   0   0   0   0  0  0  0  0\n",
       " 0  0  0  0  0  0  0  0   0   0   0   0  1  0  0  0\n",
       " 0  0  0  0  0  0  0  0   0   0   0   0  0  1  0  0\n",
       " 0  0  0  0  0  0  0  0   0   0   0   0  0  0  1  0\n",
       " 0  0  0  0  0  0  0  0   0   0   0   0  0  0  0  1\n",
       " 0  0  0  0  0  0  0  0  -1   0   0   0  0  0  0  0\n",
       " 0  0  0  0  0  0  0  0   0  -1   0   0  0  0  0  0\n",
       " 0  0  0  0  0  0  0  0   0   0  -1   0  0  0  0  0\n",
       " 0  0  0  0  0  0  0  0   0   0   0  -1  0  0  0  0\n",
       " 0  0  0  0  1  0  0  0   0   0   0   0  0  0  0  0\n",
       " 0  0  0  0  0  1  0  0   0   0   0   0  0  0  0  0\n",
       " 0  0  0  0  0  0  1  0   0   0   0   0  0  0  0  0\n",
       " 0  0  0  0  0  0  0  1   0   0   0   0  0  0  0  0                                                                \n",
       " 16x16 Array{Int64,2}:\n",
       " 1  0  0  0  0  0  0  0  0  0  0  0   0   0   0   0\n",
       " 0  1  0  0  0  0  0  0  0  0  0  0   0   0   0   0\n",
       " 0  0  1  0  0  0  0  0  0  0  0  0   0   0   0   0\n",
       " 0  0  0  1  0  0  0  0  0  0  0  0   0   0   0   0\n",
       " 0  0  0  0  0  0  0  0  0  0  0  0  -1   0   0   0\n",
       " 0  0  0  0  0  0  0  0  0  0  0  0   0  -1   0   0\n",
       " 0  0  0  0  0  0  0  0  0  0  0  0   0   0  -1   0\n",
       " 0  0  0  0  0  0  0  0  0  0  0  0   0   0   0  -1\n",
       " 0  0  0  0  0  0  0  0  1  0  0  0   0   0   0   0\n",
       " 0  0  0  0  0  0  0  0  0  1  0  0   0   0   0   0\n",
       " 0  0  0  0  0  0  0  0  0  0  1  0   0   0   0   0\n",
       " 0  0  0  0  0  0  0  0  0  0  0  1   0   0   0   0\n",
       " 0  0  0  0  1  0  0  0  0  0  0  0   0   0   0   0\n",
       " 0  0  0  0  0  1  0  0  0  0  0  0   0   0   0   0\n",
       " 0  0  0  0  0  0  1  0  0  0  0  0   0   0   0   0\n",
       " 0  0  0  0  0  0  0  1  0  0  0  0   0   0   0   0                                                                \n",
       " 16x16 Array{Int64,2}:\n",
       " 1   0   0  0   0  0  0   0  0   0   0  0  0   0   0  0\n",
       " 0  -1   0  0   0  0  0   0  0   0   0  0  0   0   0  0\n",
       " 0   0  -1  0   0  0  0   0  0   0   0  0  0   0   0  0\n",
       " 0   0   0  1   0  0  0   0  0   0   0  0  0   0   0  0\n",
       " 0   0   0  0   0  0  0   0  0   0   0  0  1   0   0  0\n",
       " 0   0   0  0   0  0  0   0  0   0   0  0  0  -1   0  0\n",
       " 0   0   0  0   0  0  0   0  0   0   0  0  0   0  -1  0\n",
       " 0   0   0  0   0  0  0   0  0   0   0  0  0   0   0  1\n",
       " 0   0   0  0   0  0  0   0  1   0   0  0  0   0   0  0\n",
       " 0   0   0  0   0  0  0   0  0  -1   0  0  0   0   0  0\n",
       " 0   0   0  0   0  0  0   0  0   0  -1  0  0   0   0  0\n",
       " 0   0   0  0   0  0  0   0  0   0   0  1  0   0   0  0\n",
       " 0   0   0  0  -1  0  0   0  0   0   0  0  0   0   0  0\n",
       " 0   0   0  0   0  1  0   0  0   0   0  0  0   0   0  0\n",
       " 0   0   0  0   0  0  1   0  0   0   0  0  0   0   0  0\n",
       " 0   0   0  0   0  0  0  -1  0   0   0  0  0   0   0  0\n",
       " 16x16 Array{Int64,2}:\n",
       " 1   0   0  0   0  0  0   0   0  0  0   0   0  0  0   0\n",
       " 0  -1   0  0   0  0  0   0   0  0  0   0   0  0  0   0\n",
       " 0   0  -1  0   0  0  0   0   0  0  0   0   0  0  0   0\n",
       " 0   0   0  1   0  0  0   0   0  0  0   0   0  0  0   0\n",
       " 0   0   0  0   0  0  0   0   0  0  0   0  -1  0  0   0\n",
       " 0   0   0  0   0  0  0   0   0  0  0   0   0  1  0   0\n",
       " 0   0   0  0   0  0  0   0   0  0  0   0   0  0  1   0\n",
       " 0   0   0  0   0  0  0   0   0  0  0   0   0  0  0  -1\n",
       " 0   0   0  0   0  0  0   0  -1  0  0   0   0  0  0   0\n",
       " 0   0   0  0   0  0  0   0   0  1  0   0   0  0  0   0\n",
       " 0   0   0  0   0  0  0   0   0  0  1   0   0  0  0   0\n",
       " 0   0   0  0   0  0  0   0   0  0  0  -1   0  0  0   0\n",
       " 0   0   0  0  -1  0  0   0   0  0  0   0   0  0  0   0\n",
       " 0   0   0  0   0  1  0   0   0  0  0   0   0  0  0   0\n",
       " 0   0   0  0   0  0  1   0   0  0  0   0   0  0  0   0\n",
       " 0   0   0  0   0  0  0  -1   0  0  0   0   0  0  0   0\n",
       " 16x16 Array{Int64,2}:\n",
       " 1  0   0   0  0  0   0   0   0   0  0  0  0  0   0   0\n",
       " 0  1   0   0  0  0   0   0   0   0  0  0  0  0   0   0\n",
       " 0  0  -1   0  0  0   0   0   0   0  0  0  0  0   0   0\n",
       " 0  0   0  -1  0  0   0   0   0   0  0  0  0  0   0   0\n",
       " 0  0   0   0  0  0   0   0   0   0  0  0  1  0   0   0\n",
       " 0  0   0   0  0  0   0   0   0   0  0  0  0  1   0   0\n",
       " 0  0   0   0  0  0   0   0   0   0  0  0  0  0  -1   0\n",
       " 0  0   0   0  0  0   0   0   0   0  0  0  0  0   0  -1\n",
       " 0  0   0   0  0  0   0   0  -1   0  0  0  0  0   0   0\n",
       " 0  0   0   0  0  0   0   0   0  -1  0  0  0  0   0   0\n",
       " 0  0   0   0  0  0   0   0   0   0  1  0  0  0   0   0\n",
       " 0  0   0   0  0  0   0   0   0   0  0  1  0  0   0   0\n",
       " 0  0   0   0  1  0   0   0   0   0  0  0  0  0   0   0\n",
       " 0  0   0   0  0  1   0   0   0   0  0  0  0  0   0   0\n",
       " 0  0   0   0  0  0  -1   0   0   0  0  0  0  0   0   0\n",
       " 0  0   0   0  0  0   0  -1   0   0  0  0  0  0   0   0\n",
       " 16x16 Array{Int64,2}:\n",
       " 1  0   0   0  0  0   0   0  0  0   0   0   0   0  0  0\n",
       " 0  1   0   0  0  0   0   0  0  0   0   0   0   0  0  0\n",
       " 0  0  -1   0  0  0   0   0  0  0   0   0   0   0  0  0\n",
       " 0  0   0  -1  0  0   0   0  0  0   0   0   0   0  0  0\n",
       " 0  0   0   0  0  0   0   0  0  0   0   0  -1   0  0  0\n",
       " 0  0   0   0  0  0   0   0  0  0   0   0   0  -1  0  0\n",
       " 0  0   0   0  0  0   0   0  0  0   0   0   0   0  1  0\n",
       " 0  0   0   0  0  0   0   0  0  0   0   0   0   0  0  1\n",
       " 0  0   0   0  0  0   0   0  1  0   0   0   0   0  0  0\n",
       " 0  0   0   0  0  0   0   0  0  1   0   0   0   0  0  0\n",
       " 0  0   0   0  0  0   0   0  0  0  -1   0   0   0  0  0\n",
       " 0  0   0   0  0  0   0   0  0  0   0  -1   0   0  0  0\n",
       " 0  0   0   0  1  0   0   0  0  0   0   0   0   0  0  0\n",
       " 0  0   0   0  0  1   0   0  0  0   0   0   0   0  0  0\n",
       " 0  0   0   0  0  0  -1   0  0  0   0   0   0   0  0  0\n",
       " 0  0   0   0  0  0   0  -1  0  0   0   0   0   0  0  0\n",
       " ⋮                                                                                                                                                                                                                                                                                                                                                                                                                                                                                                                                                                                                                                                                                                                                                                                                                                                                                                                                                    \n",
       " 16x16 Array{Int64,2}:\n",
       " 1  0   0   0   0   0  0  0   0   0  0  0  0  0   0   0\n",
       " 0  1   0   0   0   0  0  0   0   0  0  0  0  0   0   0\n",
       " 0  0  -1   0   0   0  0  0   0   0  0  0  0  0   0   0\n",
       " 0  0   0  -1   0   0  0  0   0   0  0  0  0  0   0   0\n",
       " 0  0   0   0  -1   0  0  0   0   0  0  0  0  0   0   0\n",
       " 0  0   0   0   0  -1  0  0   0   0  0  0  0  0   0   0\n",
       " 0  0   0   0   0   0  1  0   0   0  0  0  0  0   0   0\n",
       " 0  0   0   0   0   0  0  1   0   0  0  0  0  0   0   0\n",
       " 0  0   0   0   0   0  0  0  -1   0  0  0  0  0   0   0\n",
       " 0  0   0   0   0   0  0  0   0  -1  0  0  0  0   0   0\n",
       " 0  0   0   0   0   0  0  0   0   0  1  0  0  0   0   0\n",
       " 0  0   0   0   0   0  0  0   0   0  0  1  0  0   0   0\n",
       " 0  0   0   0   0   0  0  0   0   0  0  0  1  0   0   0\n",
       " 0  0   0   0   0   0  0  0   0   0  0  0  0  1   0   0\n",
       " 0  0   0   0   0   0  0  0   0   0  0  0  0  0  -1   0\n",
       " 0  0   0   0   0   0  0  0   0   0  0  0  0  0   0  -1\n",
       " 16x16 Array{Int64,2}:\n",
       " 1   0  0   0  0   0  0   0   0  0   0  0   0  0   0  0\n",
       " 0  -1  0   0  0   0  0   0   0  0   0  0   0  0   0  0\n",
       " 0   0  1   0  0   0  0   0   0  0   0  0   0  0   0  0\n",
       " 0   0  0  -1  0   0  0   0   0  0   0  0   0  0   0  0\n",
       " 0   0  0   0  1   0  0   0   0  0   0  0   0  0   0  0\n",
       " 0   0  0   0  0  -1  0   0   0  0   0  0   0  0   0  0\n",
       " 0   0  0   0  0   0  1   0   0  0   0  0   0  0   0  0\n",
       " 0   0  0   0  0   0  0  -1   0  0   0  0   0  0   0  0\n",
       " 0   0  0   0  0   0  0   0  -1  0   0  0   0  0   0  0\n",
       " 0   0  0   0  0   0  0   0   0  1   0  0   0  0   0  0\n",
       " 0   0  0   0  0   0  0   0   0  0  -1  0   0  0   0  0\n",
       " 0   0  0   0  0   0  0   0   0  0   0  1   0  0   0  0\n",
       " 0   0  0   0  0   0  0   0   0  0   0  0  -1  0   0  0\n",
       " 0   0  0   0  0   0  0   0   0  0   0  0   0  1   0  0\n",
       " 0   0  0   0  0   0  0   0   0  0   0  0   0  0  -1  0\n",
       " 0   0  0   0  0   0  0   0   0  0   0  0   0  0   0  1\n",
       " 16x16 Array{Int64,2}:\n",
       " 1   0  0   0   0  0   0  0  0   0  0   0   0  0   0  0\n",
       " 0  -1  0   0   0  0   0  0  0   0  0   0   0  0   0  0\n",
       " 0   0  1   0   0  0   0  0  0   0  0   0   0  0   0  0\n",
       " 0   0  0  -1   0  0   0  0  0   0  0   0   0  0   0  0\n",
       " 0   0  0   0  -1  0   0  0  0   0  0   0   0  0   0  0\n",
       " 0   0  0   0   0  1   0  0  0   0  0   0   0  0   0  0\n",
       " 0   0  0   0   0  0  -1  0  0   0  0   0   0  0   0  0\n",
       " 0   0  0   0   0  0   0  1  0   0  0   0   0  0   0  0\n",
       " 0   0  0   0   0  0   0  0  1   0  0   0   0  0   0  0\n",
       " 0   0  0   0   0  0   0  0  0  -1  0   0   0  0   0  0\n",
       " 0   0  0   0   0  0   0  0  0   0  1   0   0  0   0  0\n",
       " 0   0  0   0   0  0   0  0  0   0  0  -1   0  0   0  0\n",
       " 0   0  0   0   0  0   0  0  0   0  0   0  -1  0   0  0\n",
       " 0   0  0   0   0  0   0  0  0   0  0   0   0  1   0  0\n",
       " 0   0  0   0   0  0   0  0  0   0  0   0   0  0  -1  0\n",
       " 0   0  0   0   0  0   0  0  0   0  0   0   0  0   0  1\n",
       " 16x16 Array{Int64,2}:\n",
       " 1  0  0  0  0  0  0  0  0  0  0  0  0  0  0  0\n",
       " 0  1  0  0  0  0  0  0  0  0  0  0  0  0  0  0\n",
       " 0  0  1  0  0  0  0  0  0  0  0  0  0  0  0  0\n",
       " 0  0  0  1  0  0  0  0  0  0  0  0  0  0  0  0\n",
       " 0  0  0  0  1  0  0  0  0  0  0  0  0  0  0  0\n",
       " 0  0  0  0  0  1  0  0  0  0  0  0  0  0  0  0\n",
       " 0  0  0  0  0  0  1  0  0  0  0  0  0  0  0  0\n",
       " 0  0  0  0  0  0  0  1  0  0  0  0  0  0  0  0\n",
       " 0  0  0  0  0  0  0  0  1  0  0  0  0  0  0  0\n",
       " 0  0  0  0  0  0  0  0  0  1  0  0  0  0  0  0\n",
       " 0  0  0  0  0  0  0  0  0  0  1  0  0  0  0  0\n",
       " 0  0  0  0  0  0  0  0  0  0  0  1  0  0  0  0\n",
       " 0  0  0  0  0  0  0  0  0  0  0  0  1  0  0  0\n",
       " 0  0  0  0  0  0  0  0  0  0  0  0  0  1  0  0\n",
       " 0  0  0  0  0  0  0  0  0  0  0  0  0  0  1  0\n",
       " 0  0  0  0  0  0  0  0  0  0  0  0  0  0  0  1                                                                                                                                \n",
       " 16x16 Array{Int64,2}:\n",
       " 1  0  0  0   0   0   0   0   0   0   0   0  0  0  0  0\n",
       " 0  1  0  0   0   0   0   0   0   0   0   0  0  0  0  0\n",
       " 0  0  1  0   0   0   0   0   0   0   0   0  0  0  0  0\n",
       " 0  0  0  1   0   0   0   0   0   0   0   0  0  0  0  0\n",
       " 0  0  0  0  -1   0   0   0   0   0   0   0  0  0  0  0\n",
       " 0  0  0  0   0  -1   0   0   0   0   0   0  0  0  0  0\n",
       " 0  0  0  0   0   0  -1   0   0   0   0   0  0  0  0  0\n",
       " 0  0  0  0   0   0   0  -1   0   0   0   0  0  0  0  0\n",
       " 0  0  0  0   0   0   0   0  -1   0   0   0  0  0  0  0\n",
       " 0  0  0  0   0   0   0   0   0  -1   0   0  0  0  0  0\n",
       " 0  0  0  0   0   0   0   0   0   0  -1   0  0  0  0  0\n",
       " 0  0  0  0   0   0   0   0   0   0   0  -1  0  0  0  0\n",
       " 0  0  0  0   0   0   0   0   0   0   0   0  1  0  0  0\n",
       " 0  0  0  0   0   0   0   0   0   0   0   0  0  1  0  0\n",
       " 0  0  0  0   0   0   0   0   0   0   0   0  0  0  1  0\n",
       " 0  0  0  0   0   0   0   0   0   0   0   0  0  0  0  1\n",
       " 16x16 Array{Int64,2}:\n",
       " 1   0   0  0  0   0   0  0   0  0  0   0   0  0  0   0\n",
       " 0  -1   0  0  0   0   0  0   0  0  0   0   0  0  0   0\n",
       " 0   0  -1  0  0   0   0  0   0  0  0   0   0  0  0   0\n",
       " 0   0   0  1  0   0   0  0   0  0  0   0   0  0  0   0\n",
       " 0   0   0  0  1   0   0  0   0  0  0   0   0  0  0   0\n",
       " 0   0   0  0  0  -1   0  0   0  0  0   0   0  0  0   0\n",
       " 0   0   0  0  0   0  -1  0   0  0  0   0   0  0  0   0\n",
       " 0   0   0  0  0   0   0  1   0  0  0   0   0  0  0   0\n",
       " 0   0   0  0  0   0   0  0  -1  0  0   0   0  0  0   0\n",
       " 0   0   0  0  0   0   0  0   0  1  0   0   0  0  0   0\n",
       " 0   0   0  0  0   0   0  0   0  0  1   0   0  0  0   0\n",
       " 0   0   0  0  0   0   0  0   0  0  0  -1   0  0  0   0\n",
       " 0   0   0  0  0   0   0  0   0  0  0   0  -1  0  0   0\n",
       " 0   0   0  0  0   0   0  0   0  0  0   0   0  1  0   0\n",
       " 0   0   0  0  0   0   0  0   0  0  0   0   0  0  1   0\n",
       " 0   0   0  0  0   0   0  0   0  0  0   0   0  0  0  -1\n",
       " 16x16 Array{Int64,2}:\n",
       " 1   0   0  0   0  0  0   0  0   0   0  0   0  0  0   0\n",
       " 0  -1   0  0   0  0  0   0  0   0   0  0   0  0  0   0\n",
       " 0   0  -1  0   0  0  0   0  0   0   0  0   0  0  0   0\n",
       " 0   0   0  1   0  0  0   0  0   0   0  0   0  0  0   0\n",
       " 0   0   0  0  -1  0  0   0  0   0   0  0   0  0  0   0\n",
       " 0   0   0  0   0  1  0   0  0   0   0  0   0  0  0   0\n",
       " 0   0   0  0   0  0  1   0  0   0   0  0   0  0  0   0\n",
       " 0   0   0  0   0  0  0  -1  0   0   0  0   0  0  0   0\n",
       " 0   0   0  0   0  0  0   0  1   0   0  0   0  0  0   0\n",
       " 0   0   0  0   0  0  0   0  0  -1   0  0   0  0  0   0\n",
       " 0   0   0  0   0  0  0   0  0   0  -1  0   0  0  0   0\n",
       " 0   0   0  0   0  0  0   0  0   0   0  1   0  0  0   0\n",
       " 0   0   0  0   0  0  0   0  0   0   0  0  -1  0  0   0\n",
       " 0   0   0  0   0  0  0   0  0   0   0  0   0  1  0   0\n",
       " 0   0   0  0   0  0  0   0  0   0   0  0   0  0  1   0\n",
       " 0   0   0  0   0  0  0   0  0   0   0  0   0  0  0  -1\n",
       " 16x16 Array{Int64,2}:\n",
       " 1  0   0   0  0  0   0   0  0  0   0   0  0  0   0   0\n",
       " 0  1   0   0  0  0   0   0  0  0   0   0  0  0   0   0\n",
       " 0  0  -1   0  0  0   0   0  0  0   0   0  0  0   0   0\n",
       " 0  0   0  -1  0  0   0   0  0  0   0   0  0  0   0   0\n",
       " 0  0   0   0  1  0   0   0  0  0   0   0  0  0   0   0\n",
       " 0  0   0   0  0  1   0   0  0  0   0   0  0  0   0   0\n",
       " 0  0   0   0  0  0  -1   0  0  0   0   0  0  0   0   0\n",
       " 0  0   0   0  0  0   0  -1  0  0   0   0  0  0   0   0\n",
       " 0  0   0   0  0  0   0   0  1  0   0   0  0  0   0   0\n",
       " 0  0   0   0  0  0   0   0  0  1   0   0  0  0   0   0\n",
       " 0  0   0   0  0  0   0   0  0  0  -1   0  0  0   0   0\n",
       " 0  0   0   0  0  0   0   0  0  0   0  -1  0  0   0   0\n",
       " 0  0   0   0  0  0   0   0  0  0   0   0  1  0   0   0\n",
       " 0  0   0   0  0  0   0   0  0  0   0   0  0  1   0   0\n",
       " 0  0   0   0  0  0   0   0  0  0   0   0  0  0  -1   0\n",
       " 0  0   0   0  0  0   0   0  0  0   0   0  0  0   0  -1\n",
       " 16x16 Array{Int64,2}:\n",
       " 1  0   0   0   0   0  0  0   0   0  0  0  0  0   0   0\n",
       " 0  1   0   0   0   0  0  0   0   0  0  0  0  0   0   0\n",
       " 0  0  -1   0   0   0  0  0   0   0  0  0  0  0   0   0\n",
       " 0  0   0  -1   0   0  0  0   0   0  0  0  0  0   0   0\n",
       " 0  0   0   0  -1   0  0  0   0   0  0  0  0  0   0   0\n",
       " 0  0   0   0   0  -1  0  0   0   0  0  0  0  0   0   0\n",
       " 0  0   0   0   0   0  1  0   0   0  0  0  0  0   0   0\n",
       " 0  0   0   0   0   0  0  1   0   0  0  0  0  0   0   0\n",
       " 0  0   0   0   0   0  0  0  -1   0  0  0  0  0   0   0\n",
       " 0  0   0   0   0   0  0  0   0  -1  0  0  0  0   0   0\n",
       " 0  0   0   0   0   0  0  0   0   0  1  0  0  0   0   0\n",
       " 0  0   0   0   0   0  0  0   0   0  0  1  0  0   0   0\n",
       " 0  0   0   0   0   0  0  0   0   0  0  0  1  0   0   0\n",
       " 0  0   0   0   0   0  0  0   0   0  0  0  0  1   0   0\n",
       " 0  0   0   0   0   0  0  0   0   0  0  0  0  0  -1   0\n",
       " 0  0   0   0   0   0  0  0   0   0  0  0  0  0   0  -1\n",
       " 16x16 Array{Int64,2}:\n",
       " 1   0  0   0  0   0  0   0   0  0   0  0   0  0   0  0\n",
       " 0  -1  0   0  0   0  0   0   0  0   0  0   0  0   0  0\n",
       " 0   0  1   0  0   0  0   0   0  0   0  0   0  0   0  0\n",
       " 0   0  0  -1  0   0  0   0   0  0   0  0   0  0   0  0\n",
       " 0   0  0   0  1   0  0   0   0  0   0  0   0  0   0  0\n",
       " 0   0  0   0  0  -1  0   0   0  0   0  0   0  0   0  0\n",
       " 0   0  0   0  0   0  1   0   0  0   0  0   0  0   0  0\n",
       " 0   0  0   0  0   0  0  -1   0  0   0  0   0  0   0  0\n",
       " 0   0  0   0  0   0  0   0  -1  0   0  0   0  0   0  0\n",
       " 0   0  0   0  0   0  0   0   0  1   0  0   0  0   0  0\n",
       " 0   0  0   0  0   0  0   0   0  0  -1  0   0  0   0  0\n",
       " 0   0  0   0  0   0  0   0   0  0   0  1   0  0   0  0\n",
       " 0   0  0   0  0   0  0   0   0  0   0  0  -1  0   0  0\n",
       " 0   0  0   0  0   0  0   0   0  0   0  0   0  1   0  0\n",
       " 0   0  0   0  0   0  0   0   0  0   0  0   0  0  -1  0\n",
       " 0   0  0   0  0   0  0   0   0  0   0  0   0  0   0  1\n",
       " 16x16 Array{Int64,2}:\n",
       " 1   0  0   0   0  0   0  0  0   0  0   0   0  0   0  0\n",
       " 0  -1  0   0   0  0   0  0  0   0  0   0   0  0   0  0\n",
       " 0   0  1   0   0  0   0  0  0   0  0   0   0  0   0  0\n",
       " 0   0  0  -1   0  0   0  0  0   0  0   0   0  0   0  0\n",
       " 0   0  0   0  -1  0   0  0  0   0  0   0   0  0   0  0\n",
       " 0   0  0   0   0  1   0  0  0   0  0   0   0  0   0  0\n",
       " 0   0  0   0   0  0  -1  0  0   0  0   0   0  0   0  0\n",
       " 0   0  0   0   0  0   0  1  0   0  0   0   0  0   0  0\n",
       " 0   0  0   0   0  0   0  0  1   0  0   0   0  0   0  0\n",
       " 0   0  0   0   0  0   0  0  0  -1  0   0   0  0   0  0\n",
       " 0   0  0   0   0  0   0  0  0   0  1   0   0  0   0  0\n",
       " 0   0  0   0   0  0   0  0  0   0  0  -1   0  0   0  0\n",
       " 0   0  0   0   0  0   0  0  0   0  0   0  -1  0   0  0\n",
       " 0   0  0   0   0  0   0  0  0   0  0   0   0  1   0  0\n",
       " 0   0  0   0   0  0   0  0  0   0  0   0   0  0  -1  0\n",
       " 0   0  0   0   0  0   0  0  0   0  0   0   0  0   0  1\n",
       " 16x16 Array{Int64,2}:\n",
       " 1  0  0  0  0  0  0  0  0  0  0  0  0  0  0  0\n",
       " 0  1  0  0  0  0  0  0  0  0  0  0  0  0  0  0\n",
       " 0  0  1  0  0  0  0  0  0  0  0  0  0  0  0  0\n",
       " 0  0  0  1  0  0  0  0  0  0  0  0  0  0  0  0\n",
       " 0  0  0  0  1  0  0  0  0  0  0  0  0  0  0  0\n",
       " 0  0  0  0  0  1  0  0  0  0  0  0  0  0  0  0\n",
       " 0  0  0  0  0  0  1  0  0  0  0  0  0  0  0  0\n",
       " 0  0  0  0  0  0  0  1  0  0  0  0  0  0  0  0\n",
       " 0  0  0  0  0  0  0  0  1  0  0  0  0  0  0  0\n",
       " 0  0  0  0  0  0  0  0  0  1  0  0  0  0  0  0\n",
       " 0  0  0  0  0  0  0  0  0  0  1  0  0  0  0  0\n",
       " 0  0  0  0  0  0  0  0  0  0  0  1  0  0  0  0\n",
       " 0  0  0  0  0  0  0  0  0  0  0  0  1  0  0  0\n",
       " 0  0  0  0  0  0  0  0  0  0  0  0  0  1  0  0\n",
       " 0  0  0  0  0  0  0  0  0  0  0  0  0  0  1  0\n",
       " 0  0  0  0  0  0  0  0  0  0  0  0  0  0  0  1                                                                                                                                "
      ]
     },
     "execution_count": 48,
     "metadata": {},
     "output_type": "execute_result"
    }
   ],
   "source": [
    "SuperCliffs = [int(real(to_superpauli(qt.Qobj(FullCliffords[i]))[:full]())) for i =1:length(FullCliffords)]"
   ]
  },
  {
   "cell_type": "code",
   "execution_count": 45,
   "metadata": {
    "collapsed": false
   },
   "outputs": [
    {
     "data": {
      "text/plain": [
       "16x16 Array{Int64,2}:\n",
       " 1  0  0  0   0   0   0   0  0  0  0  0  0  0  0  0\n",
       " 0  1  0  0   0   0   0   0  0  0  0  0  0  0  0  0\n",
       " 0  0  1  0   0   0   0   0  0  0  0  0  0  0  0  0\n",
       " 0  0  0  1   0   0   0   0  0  0  0  0  0  0  0  0\n",
       " 0  0  0  0   0   0   0   0  1  0  0  0  0  0  0  0\n",
       " 0  0  0  0   0   0   0   0  0  1  0  0  0  0  0  0\n",
       " 0  0  0  0   0   0   0   0  0  0  1  0  0  0  0  0\n",
       " 0  0  0  0   0   0   0   0  0  0  0  1  0  0  0  0\n",
       " 0  0  0  0  -1   0   0   0  0  0  0  0  0  0  0  0\n",
       " 0  0  0  0   0  -1   0   0  0  0  0  0  0  0  0  0\n",
       " 0  0  0  0   0   0  -1   0  0  0  0  0  0  0  0  0\n",
       " 0  0  0  0   0   0   0  -1  0  0  0  0  0  0  0  0\n",
       " 0  0  0  0   0   0   0   0  0  0  0  0  1  0  0  0\n",
       " 0  0  0  0   0   0   0   0  0  0  0  0  0  1  0  0\n",
       " 0  0  0  0   0   0   0   0  0  0  0  0  0  0  1  0\n",
       " 0  0  0  0   0   0   0   0  0  0  0  0  0  0  0  1"
      ]
     },
     "execution_count": 45,
     "metadata": {},
     "output_type": "execute_result"
    }
   ],
   "source": [
    "int(real(ar))"
   ]
  },
  {
   "cell_type": "code",
   "execution_count": 49,
   "metadata": {
    "collapsed": false
   },
   "outputs": [
    {
     "data": {
      "text/plain": [
       "16x16 Array{Int64,2}:\n",
       " 1   0  0   0   0  0   0  0  0   0  0   0  0   0  0   0\n",
       " 0  -1  0   0   0  0   0  0  0   0  0   0  0   0  0   0\n",
       " 0   0  1   0   0  0   0  0  0   0  0   0  0   0  0   0\n",
       " 0   0  0  -1   0  0   0  0  0   0  0   0  0   0  0   0\n",
       " 0   0  0   0   0  0   0  0  0   0  0   0  1   0  0   0\n",
       " 0   0  0   0   0  0   0  0  0   0  0   0  0  -1  0   0\n",
       " 0   0  0   0   0  0   0  0  0   0  0   0  0   0  1   0\n",
       " 0   0  0   0   0  0   0  0  0   0  0   0  0   0  0  -1\n",
       " 0   0  0   0   0  0   0  0  1   0  0   0  0   0  0   0\n",
       " 0   0  0   0   0  0   0  0  0  -1  0   0  0   0  0   0\n",
       " 0   0  0   0   0  0   0  0  0   0  1   0  0   0  0   0\n",
       " 0   0  0   0   0  0   0  0  0   0  0  -1  0   0  0   0\n",
       " 0   0  0   0  -1  0   0  0  0   0  0   0  0   0  0   0\n",
       " 0   0  0   0   0  1   0  0  0   0  0   0  0   0  0   0\n",
       " 0   0  0   0   0  0  -1  0  0   0  0   0  0   0  0   0\n",
       " 0   0  0   0   0  0   0  1  0   0  0   0  0   0  0   0"
      ]
     },
     "execution_count": 49,
     "metadata": {},
     "output_type": "execute_result"
    }
   ],
   "source": [
    "test=SuperCliffs[6]\n"
   ]
  },
  {
   "cell_type": "code",
   "execution_count": 50,
   "metadata": {
    "collapsed": false
   },
   "outputs": [
    {
     "data": {
      "text/plain": [
       "6"
      ]
     },
     "execution_count": 50,
     "metadata": {},
     "output_type": "execute_result"
    }
   ],
   "source": [
    "findfirst(SuperCliffs,test)"
   ]
  },
  {
   "cell_type": "code",
   "execution_count": 51,
   "metadata": {
    "collapsed": false
   },
   "outputs": [
    {
     "data": {
      "text/plain": [
       "4x4 Array{Complex{Float64},2}:\n",
       "  0.5+0.0im   0.5+0.0im  0.5+0.0im   0.5+0.0im\n",
       "  0.5+0.0im  -0.5+0.0im  0.5+0.0im  -0.5+0.0im\n",
       " -0.5+0.0im  -0.5+0.0im  0.5+0.0im   0.5+0.0im\n",
       " -0.5+0.0im   0.5+0.0im  0.5+0.0im  -0.5+0.0im"
      ]
     },
     "execution_count": 51,
     "metadata": {},
     "output_type": "execute_result"
    }
   ],
   "source": [
    "sl2Cliffords[5]"
   ]
  },
  {
   "cell_type": "code",
   "execution_count": 53,
   "metadata": {
    "collapsed": false
   },
   "outputs": [
    {
     "data": {
      "text/plain": [
       "960-element Array{Any,1}:\n",
       "  1928\n",
       "     0\n",
       "  1924\n",
       "     0\n",
       "  1921\n",
       "     0\n",
       "  1925\n",
       "     0\n",
       "     0\n",
       "  1922\n",
       "     0\n",
       "  1926\n",
       "     0\n",
       "     ⋮\n",
       "     0\n",
       " 10167\n",
       " 10164\n",
       "     0\n",
       "     0\n",
       " 10161\n",
       " 10162\n",
       "     0\n",
       " 10166\n",
       "     0\n",
       "     0\n",
       " 10165"
      ]
     },
     "execution_count": 53,
     "metadata": {},
     "output_type": "execute_result"
    }
   ],
   "source": [
    "indexOfSl2 = [findfirst(SuperCliffs,int(real(to_superpauli(qt.Qobj(sl2Cliffords[i]))[:full]()))) for i=1:length(sl2Cliffords)]"
   ]
  },
  {
   "cell_type": "code",
   "execution_count": 55,
   "metadata": {
    "collapsed": false
   },
   "outputs": [
    {
     "data": {
      "text/plain": [
       "0"
      ]
     },
     "execution_count": 55,
     "metadata": {},
     "output_type": "execute_result"
    }
   ],
   "source": [
    "findfirst(SuperCliffs,int(real(to_superpauli(qt.Qobj(sl2Cliffords[2]))[:full]())))"
   ]
  },
  {
   "cell_type": "code",
   "execution_count": 56,
   "metadata": {
    "collapsed": false
   },
   "outputs": [
    {
     "data": {
      "text/plain": [
       "16x16 Array{Int64,2}:\n",
       " 1  0  0   0  0  0  0   0   0   0   0  0  0  0  0   0\n",
       " 0  0  0  -1  0  0  0   0   0   0   0  0  0  0  0   0\n",
       " 0  0  1   0  0  0  0   0   0   0   0  0  0  0  0   0\n",
       " 0  1  0   0  0  0  0   0   0   0   0  0  0  0  0   0\n",
       " 0  0  0   0  0  0  0   0   0   0   0  0  1  0  0   0\n",
       " 0  0  0   0  0  0  0   0   0   0   0  0  0  0  0  -1\n",
       " 0  0  0   0  0  0  0   0   0   0   0  0  0  0  1   0\n",
       " 0  0  0   0  0  0  0   0   0   0   0  0  0  1  0   0\n",
       " 0  0  0   0  0  0  0   0  -1   0   0  0  0  0  0   0\n",
       " 0  0  0   0  0  0  0   0   0   0   0  1  0  0  0   0\n",
       " 0  0  0   0  0  0  0   0   0   0  -1  0  0  0  0   0\n",
       " 0  0  0   0  0  0  0   0   0  -1   0  0  0  0  0   0\n",
       " 0  0  0   0  1  0  0   0   0   0   0  0  0  0  0   0\n",
       " 0  0  0   0  0  0  0  -1   0   0   0  0  0  0  0   0\n",
       " 0  0  0   0  0  0  1   0   0   0   0  0  0  0  0   0\n",
       " 0  0  0   0  0  1  0   0   0   0   0  0  0  0  0   0"
      ]
     },
     "execution_count": 56,
     "metadata": {},
     "output_type": "execute_result"
    }
   ],
   "source": [
    "int(real(to_superpauli(qt.Qobj(sl2Cliffords[2]))[:full]()))"
   ]
  },
  {
   "cell_type": "code",
   "execution_count": 57,
   "metadata": {
    "collapsed": false
   },
   "outputs": [
    {
     "data": {
      "text/plain": [
       "20922789888000"
      ]
     },
     "execution_count": 57,
     "metadata": {},
     "output_type": "execute_result"
    }
   ],
   "source": [
    "factorial(16)"
   ]
  },
  {
   "cell_type": "code",
   "execution_count": 65,
   "metadata": {
    "collapsed": false
   },
   "outputs": [
    {
     "data": {
      "text/plain": [
       "0"
      ]
     },
     "execution_count": 65,
     "metadata": {},
     "output_type": "execute_result"
    }
   ],
   "source": [
    "findfirst(SuperCliffs,int(real(to_superpauli(qt.Qobj(kron([0 1;1 0],[1 0;0 1])))[:full]())))"
   ]
  },
  {
   "cell_type": "code",
   "execution_count": 69,
   "metadata": {
    "collapsed": false
   },
   "outputs": [
    {
     "data": {
      "text/plain": [
       "0"
      ]
     },
     "execution_count": 69,
     "metadata": {},
     "output_type": "execute_result"
    }
   ],
   "source": [
    "findfirst(FullCliffords,kron([0im 1;1 0],[1 0;0 1]))"
   ]
  },
  {
   "cell_type": "code",
   "execution_count": 70,
   "metadata": {
    "collapsed": false
   },
   "outputs": [
    {
     "data": {
      "text/plain": [
       "4x4 Array{Complex{Int64},2}:\n",
       " 0+0im  0+0im  1+0im  0+0im\n",
       " 0+0im  0+0im  0+0im  1+0im\n",
       " 1+0im  0+0im  0+0im  0+0im\n",
       " 0+0im  1+0im  0+0im  0+0im"
      ]
     },
     "execution_count": 70,
     "metadata": {},
     "output_type": "execute_result"
    }
   ],
   "source": [
    "kron([0im 1;1 0],[1 0;0 1])"
   ]
  },
  {
   "cell_type": "code",
   "execution_count": 73,
   "metadata": {
    "collapsed": false
   },
   "outputs": [
    {
     "data": {
      "text/plain": [
       "4"
      ]
     },
     "execution_count": 73,
     "metadata": {},
     "output_type": "execute_result"
    }
   ],
   "source": [
    "findfirst(FullCliffordCommands,FullCliffordCommands[4])"
   ]
  },
  {
   "cell_type": "code",
   "execution_count": 96,
   "metadata": {
    "collapsed": false
   },
   "outputs": [
    {
     "data": {
      "text/plain": [
       "6-element Array{ASCIIString,1}:\n",
       " \"setup(2)\"    \n",
       " \"hadamard(2)\" \n",
       " \"hadamard(1)\" \n",
       " \"cnot(2,1)\"   \n",
       " \"cnot(1,2)\"   \n",
       " \"output(svec)\""
      ]
     },
     "execution_count": 96,
     "metadata": {},
     "output_type": "execute_result"
    }
   ],
   "source": [
    "test=copy(FullCliffordCommands[104])"
   ]
  },
  {
   "cell_type": "code",
   "execution_count": 110,
   "metadata": {
    "collapsed": false
   },
   "outputs": [
    {
     "name": "stdout",
     "output_type": "stream",
     "text": [
      "1928\n",
      "ASCIIString[\"setup(2)\",\"hadamard(2)\",\"hadamard(1)\",\"output(svec)\"]1936\n",
      "ASCIIString[\"setup(2)\",\"hadamard(2)\",\"hadamard(1)\",\"output(svec)\"]3640\n",
      "ASCIIString[\"setup(2)\",\"cnot(1,2)\",\"cnot(2,1)\",\"output(svec)\"]3648\n",
      "ASCIIString[\"setup(2)\",\"cnot(1,2)\",\"cnot(2,1)\",\"output(svec)\"]9176\n",
      "ASCIIString[\"setup(2)\",\"cnot(2,1)\",\"cnot(1,2)\",\"output(svec)\"]9184\n",
      "ASCIIString[\"setup(2)\",\"cnot(2,1)\",\"cnot(1,2)\",\"output(svec)\"]11505\n",
      "ASCIIString[\"setup(2)\",\"phase(1)\",\"phase(1)\",\"output(svec)\"]11513\n",
      "ASCIIString[\"setup(2)\",\"phase(1)\",\"phase(1)\",\"output(svec)\"]"
     ]
    }
   ],
   "source": [
    "for i=1:size(FullCliffordCommands,1)\n",
    "    if (size(FullCliffordCommands[i],1)==4)\n",
    "        print(i,\"\\n\")\n",
    "        print(FullCliffordCommands[i])\n",
    "    end\n",
    "end"
   ]
  },
  {
   "cell_type": "code",
   "execution_count": 113,
   "metadata": {
    "collapsed": false
   },
   "outputs": [
    {
     "data": {
      "text/plain": [
       "9"
      ]
     },
     "execution_count": 113,
     "metadata": {},
     "output_type": "execute_result"
    }
   ],
   "source": [
    "11513-719*16\n"
   ]
  },
  {
   "cell_type": "code",
   "execution_count": null,
   "metadata": {
    "collapsed": true
   },
   "outputs": [],
   "source": []
  }
 ],
 "metadata": {
  "kernelspec": {
   "display_name": "Julia 0.3.9",
   "language": "julia",
   "name": "julia-0.3"
  },
  "language_info": {
   "name": "julia",
   "version": "0.3.9"
  }
 },
 "nbformat": 4,
 "nbformat_minor": 0
}
