{
 "cells": [
  {
   "cell_type": "markdown",
   "metadata": {},
   "source": [
    "##Some preliminaries, you will need \n",
    "- package Match (Pkg.add(\"Match\")) \n",
    "- PyCall\n",
    "- a working Python, with scipy, numpy and qutip installed."
   ]
  },
  {
   "cell_type": "code",
   "execution_count": 1,
   "metadata": {
    "collapsed": false
   },
   "outputs": [
    {
     "name": "stderr",
     "output_type": "stream",
     "text": [
      "Warning: could not import Base.Text into Tk\n",
      "Warning: using Images.phase in module Main conflicts with an existing identifier.\n"
     ]
    }
   ],
   "source": [
    "reload(\"PTSM.jl\")\n",
    "reload(\"Initial.jl\")\n",
    "reload(\"Symplectic.jl\")"
   ]
  },
  {
   "cell_type": "code",
   "execution_count": 2,
   "metadata": {
    "collapsed": false
   },
   "outputs": [],
   "source": [
    "using PyCall"
   ]
  },
  {
   "cell_type": "code",
   "execution_count": 3,
   "metadata": {
    "collapsed": false
   },
   "outputs": [],
   "source": [
    "@pyimport scipy.optimize as so\n",
    "@pyimport numpy as np\n",
    "@pyimport matplotlib.pyplot as plt\n",
    "@pyimport qutip as qt\n",
    "@pyimport numpy.linalg as la"
   ]
  },
  {
   "cell_type": "markdown",
   "metadata": {},
   "source": [
    "## We need to get the Python finite field package working"
   ]
  },
  {
   "cell_type": "code",
   "execution_count": 4,
   "metadata": {
    "collapsed": true
   },
   "outputs": [],
   "source": [
    "unshift!(PyVector(pyimport(\"sys\")[\"path\"]), \"./finite-fields/\")\n",
    "@pyimport finitefield as ff"
   ]
  },
  {
   "cell_type": "code",
   "execution_count": 5,
   "metadata": {
    "collapsed": false
   },
   "outputs": [
    {
     "name": "stdout",
     "output_type": "stream",
     "text": [
      "1 + 0 x^1 + 1 x^2\n",
      "1 + 0 x^1 + 1 x^2\n",
      "0 + 0 x^1 + 1 x^2\n",
      "0 + 1 x^1 + 1 x^2\n",
      "0 + 1 x^1 + 1 x^2\n",
      "0 + 1 x^1 + 1 x^2\n",
      "1 + 1 x^1 + 1 x^2\n"
     ]
    },
    {
     "data": {
      "text/plain": [
       "fn (generic function with 1 method)"
      ]
     },
     "execution_count": 5,
     "metadata": {},
     "output_type": "execute_result"
    }
   ],
   "source": [
    "F22 = ff.FiniteField(2,2)"
   ]
  },
  {
   "cell_type": "code",
   "execution_count": 6,
   "metadata": {
    "collapsed": false
   },
   "outputs": [],
   "source": [
    "@pyimport SLFunctions as sl"
   ]
  },
  {
   "cell_type": "code",
   "execution_count": 7,
   "metadata": {
    "collapsed": false
   },
   "outputs": [
    {
     "data": {
      "text/plain": [
       "getStabilisers (generic function with 1 method)"
      ]
     },
     "execution_count": 7,
     "metadata": {},
     "output_type": "execute_result"
    }
   ],
   "source": [
    "function getStabilisers()\n",
    "    jstabs=Array{Int64,2}[]\n",
    "    stabs = sl.getF2Stabilisers()\n",
    "    for i in 1:60\n",
    "        push!(jstabs,reshape(stabs[i,:,:],4,4))\n",
    "    end\n",
    "    return jstabs\n",
    "end\n"
   ]
  },
  {
   "cell_type": "code",
   "execution_count": 8,
   "metadata": {
    "collapsed": false
   },
   "outputs": [],
   "source": [
    "stabs=getStabilisers();"
   ]
  },
  {
   "cell_type": "markdown",
   "metadata": {},
   "source": [
    "##So we have the F22 stabilisers (60 of them) loaded into stabs"
   ]
  },
  {
   "cell_type": "markdown",
   "metadata": {},
   "source": [
    "#Optimise the gates required for these 60\n",
    "##!WARNING\n",
    "these take a long time to run! - The data is now saved, just load it, next worksheet."
   ]
  },
  {
   "cell_type": "code",
   "execution_count": 9,
   "metadata": {
    "collapsed": false
   },
   "outputs": [],
   "source": [
    "#watch out currently fails for 29 (as its the identity)\n",
    "#gatesNeeded=Array{Int32,1}[]\n",
    "#for i=1:60\n",
    "#    state=setup(2)\n",
    "#    state[:,1:4]=stabs[i]\n",
    "#    back=bruteForceBreadthFirst(state)\n",
    "#    push!(gatesNeeded,back)\n",
    "#    writedlm(\"gateList$i.csv\",back)\n",
    "#end\n",
    "    "
   ]
  },
  {
   "cell_type": "code",
   "execution_count": 10,
   "metadata": {
    "collapsed": false
   },
   "outputs": [],
   "source": [
    "#since we saved them previously we can load them\n",
    "gates=Array{Float64}[]\n",
    "for i=1:60\n",
    "    push!(gates,readdlm(\"compiledGates/gateList$i.csv\"))\n",
    "end"
   ]
  },
  {
   "cell_type": "code",
   "execution_count": 11,
   "metadata": {
    "collapsed": false
   },
   "outputs": [
    {
     "data": {
      "text/plain": [
       "1-element Array{Float64,1}:\n",
       " 7.0"
      ]
     },
     "execution_count": 11,
     "metadata": {},
     "output_type": "execute_result"
    }
   ],
   "source": [
    "gates[29]=[7.0]"
   ]
  },
  {
   "cell_type": "markdown",
   "metadata": {},
   "source": [
    "##The saved gates are indexes to the following \"gate\" array"
   ]
  },
  {
   "cell_type": "code",
   "execution_count": 12,
   "metadata": {
    "collapsed": false
   },
   "outputs": [
    {
     "data": {
      "text/plain": [
       "7-element Array{Expr,1}:\n",
       " :(cnot(svec,1,2,false))  \n",
       " :(hadamard(svec,1,false))\n",
       " :(phase(svec,1,false))   \n",
       " :(cnot(svec,2,1,false))  \n",
       " :(hadamard(svec,2,false))\n",
       " :(phase(svec,2,false))   \n",
       " :(noop())                "
      ]
     },
     "execution_count": 12,
     "metadata": {},
     "output_type": "execute_result"
    }
   ],
   "source": [
    "gatesCommand = (Expr)[]\n",
    "\tsvec = []\n",
    "\tfor i = 1:2\n",
    "\t  for j = 1:2\n",
    "\t  \tif i!=j\n",
    "            push!(gatesCommand,Expr(:call,:cnot,:svec,i,j,false))\n",
    "\t  \tend\n",
    "\t  end\n",
    "    push!(gatesCommand,Expr(:call,:hadamard,:svec,i,false))\n",
    "    push!(gatesCommand,Expr(:call,:phase,:svec,i,false))\n",
    "\tend\n",
    "push!(gatesCommand,Expr(:call,:noop))"
   ]
  },
  {
   "cell_type": "markdown",
   "metadata": {
    "collapsed": true
   },
   "source": [
    "## Or if we just want to print it"
   ]
  },
  {
   "cell_type": "code",
   "execution_count": 13,
   "metadata": {
    "collapsed": false
   },
   "outputs": [
    {
     "data": {
      "text/plain": [
       "7-element Array{ASCIIString,1}:\n",
       " \"cnot(1,2)\"  \n",
       " \"hadamard(1)\"\n",
       " \"phase(1)\"   \n",
       " \"cnot(2,1)\"  \n",
       " \"hadamard(2)\"\n",
       " \"phase(2)\"   \n",
       " \"Identity\"   "
      ]
     },
     "execution_count": 13,
     "metadata": {},
     "output_type": "execute_result"
    }
   ],
   "source": [
    "gatestring = ASCIIString[]\n",
    "svec = []\n",
    "for i = 1:2\n",
    "  for j = 1:2\n",
    "  \tif i!=j\n",
    "            push!(gatestring,\"cnot($i,$j)\")\n",
    "  \tend\n",
    "  end\n",
    "  push!(gatestring,\"hadamard($i)\")\n",
    "  push!(gatestring,\"phase($i)\")\n",
    "end\n",
    "push!(gatestring,\"Identity\")"
   ]
  },
  {
   "cell_type": "code",
   "execution_count": 14,
   "metadata": {
    "collapsed": false
   },
   "outputs": [
    {
     "data": {
      "text/plain": [
       "makeFromCommand (generic function with 1 method)"
      ]
     },
     "execution_count": 14,
     "metadata": {},
     "output_type": "execute_result"
    }
   ],
   "source": [
    "function makeFromCommand(command)\n",
    "    currentState = [1 0 0 0;0 1 0 0;0 0 1 0;0 0 0 1]\n",
    "    si = [1 0;0 1]\n",
    "    sphase1=kron([1 0;0 im],si)\n",
    "    sphase2=kron(si,[1 0;0 im])\n",
    "    shadmard=1/sqrt(2)*[1 1;1 -1]\n",
    "    shad1 = kron(shadmard,si)\n",
    "    shad2 = kron(si,shadmard)\n",
    "    cnot12 = [1 0 0 0;0 1 0 0;0 0 0 1;0 0 1 0]\n",
    "    cnot21 = [1 0 0 0;0 0 0 1;0 0 1 0;0 1 0 0]\n",
    "    for t in command\n",
    "        m = match(r\"setup\\((.*)\\)\",t)\n",
    "        if (m!=nothing)\n",
    "           state=[1 0 0 0;0 1 0 0;0 0 1 0;0 0 0 1]\n",
    "        else \n",
    "           m=match(r\"phase\\((.*)\\)\",t)\n",
    "           if (m!=nothing)\n",
    "                bit = int(m.captures[1])\n",
    "                if bit == 1\n",
    "                   currentState=currentState*sphase1\n",
    "                else \n",
    "                   currentState=currentState*sphase2\n",
    "                end\n",
    "            else\n",
    "                m=match(r\"hadamard\\((.*)\\)\",t)\n",
    "                if (m!=nothing)\n",
    "                    bit = int(m.captures[1])\n",
    "                    if bit == 1\n",
    "                        currentState=currentState*shad1\n",
    "                    else \n",
    "                        currentState=currentState*shad2\n",
    "                    end\n",
    "                else\n",
    "                    m=match(r\"cnot\\((.*),(.*)\\)\",t)\n",
    "                    if (m!=nothing)\n",
    "                        cbit = int(m.captures[1])\n",
    "                        tbit = int(m.captures[2])\n",
    "                        if cbit ==1 \n",
    "                            currentState = currentState*cnot12\n",
    "                        else\n",
    "                            currentState = currentState*cnot21\n",
    "                        end\n",
    "                    end\n",
    "                end\n",
    "            end\n",
    "        end\n",
    "    end\n",
    "    return  currentState=currentState\n",
    "end\n"
   ]
  },
  {
   "cell_type": "code",
   "execution_count": 15,
   "metadata": {
    "collapsed": false
   },
   "outputs": [],
   "source": [
    "# if you haven't already you may need to: Pkg.add(\"ProgressMeter\")\n",
    "# or just remove the ProgressMeter references, they aren't actually needed."
   ]
  },
  {
   "cell_type": "code",
   "execution_count": 16,
   "metadata": {
    "collapsed": true
   },
   "outputs": [],
   "source": [
    "using ProgressMeter"
   ]
  },
  {
   "cell_type": "markdown",
   "metadata": {},
   "source": [
    "###Looks good, so lets make them all"
   ]
  },
  {
   "cell_type": "code",
   "execution_count": 237,
   "metadata": {
    "collapsed": false
   },
   "outputs": [],
   "source": [
    "sl2Cliffords= Array{Complex{Float64},2}[]\n",
    "sl2CliffordCommands = Array{ASCIIString,1}[]\n",
    "n=60*4*4\n",
    "p=Progress(n,1)\n",
    "for i=1:60\n",
    "    for j=1:4\n",
    "        for z=1:4\n",
    "            state=setup(2)\n",
    "            state[:,1:4]=stabs[i]\n",
    "            decomposeState(state,true)\n",
    "            #Apply the PAULIS!\n",
    "            if (j==2)\n",
    "                push!(commands,\"hadamard(1)\")\n",
    "                push!(commands,\"phase(1)\")\n",
    "                push!(commands,\"phase(1)\")\n",
    "                push!(commands,\"hadamard(1)\")\n",
    "            elseif (j==3)\n",
    "                push!(commands,\"phase(1)\")\n",
    "                push!(commands,\"phase(1)\")\n",
    "            elseif (j==4)\n",
    "                push!(commands,\"phase(1)\")\n",
    "                push!(commands,\"phase(1)\")\n",
    "                push!(commands,\"hadamard(1)\")\n",
    "                push!(commands,\"phase(1)\")\n",
    "                push!(commands,\"phase(1)\")\n",
    "                push!(commands,\"hadamard(1)\")\n",
    "            end\n",
    "            if (z==2)\n",
    "                push!(commands,\"hadamard(2)\")\n",
    "                push!(commands,\"phase(2)\")\n",
    "                push!(commands,\"phase(2)\")\n",
    "                push!(commands,\"hadamard(2)\")\n",
    "            elseif (z==3)\n",
    "                push!(commands,\"phase(2)\")\n",
    "                push!(commands,\"phase(2)\")\n",
    "            elseif (z==4)\n",
    "                push!(commands,\"phase(2)\")\n",
    "                push!(commands,\"phase(2)\")\n",
    "                push!(commands,\"hadamard(2)\")\n",
    "                push!(commands,\"phase(2)\")\n",
    "                push!(commands,\"phase(2)\")\n",
    "                push!(commands,\"hadamard(2)\")\n",
    "            end\n",
    "            push!(sl2CliffordCommands,commands)\n",
    "            push!(sl2Cliffords,makeFromCommand(commands))\n",
    "            next!(p)\n",
    "        end\n",
    "    end\n",
    "end"
   ]
  },
  {
   "cell_type": "code",
   "execution_count": 238,
   "metadata": {
    "collapsed": false
   },
   "outputs": [
    {
     "data": {
      "text/plain": [
       "(960,)"
      ]
     },
     "execution_count": 238,
     "metadata": {},
     "output_type": "execute_result"
    }
   ],
   "source": [
    "size(sl2Cliffords)"
   ]
  },
  {
   "cell_type": "code",
   "execution_count": 19,
   "metadata": {
    "collapsed": false
   },
   "outputs": [
    {
     "data": {
      "text/plain": [
       "4-element Array{ASCIIString,1}:\n",
       " \"setup(2)\"    \n",
       " \"hadamard(2)\" \n",
       " \"hadamard(1)\" \n",
       " \"output(svec)\""
      ]
     },
     "execution_count": 19,
     "metadata": {},
     "output_type": "execute_result"
    }
   ],
   "source": [
    "sl2CliffordCommands[1]"
   ]
  },
  {
   "cell_type": "markdown",
   "metadata": {},
   "source": [
    "#so the number of gates is the length of the commands minus 2"
   ]
  },
  {
   "cell_type": "code",
   "execution_count": 20,
   "metadata": {
    "collapsed": false
   },
   "outputs": [
    {
     "name": "stdout",
     "output_type": "stream",
     "text": [
      "Size is 960 and mean is 17.2"
     ]
    }
   ],
   "source": [
    "sl2CliffordsLength = [size(sl2CliffordCommands[i],1)-2 for i=1:size(sl2CliffordCommands,1)]\n",
    "print(\"Size is $(size(sl2CliffordsLength,1)) and mean is $(mean(sl2CliffordsLength))\")"
   ]
  },
  {
   "cell_type": "markdown",
   "metadata": {},
   "source": [
    "##Check if it is unitary 2"
   ]
  },
  {
   "cell_type": "code",
   "execution_count": 21,
   "metadata": {
    "collapsed": false
   },
   "outputs": [
    {
     "name": "stdout",
     "output_type": "stream",
     "text": [
      "1.8431999999999998e6 -> 1.9999999999999998)\n"
     ]
    }
   ],
   "source": [
    "sum = 0\n",
    "numb = size(sl2Cliffords,1)\n",
    "for i=1:numb\n",
    "    for j=1:numb\n",
    "        sum += abs(trace(conj(sl2Cliffords[i])'*sl2Cliffords[j]))^4\n",
    "    end\n",
    "end\n",
    "print(\"$sum -> $(sum/numb^2))\\n\")"
   ]
  },
  {
   "cell_type": "markdown",
   "metadata": {},
   "source": [
    "##And the magic number is indeed 2"
   ]
  },
  {
   "cell_type": "markdown",
   "metadata": {
    "collapsed": false
   },
   "source": [
    "## Now lets compare with the actual full Clifford Group."
   ]
  },
  {
   "cell_type": "code",
   "execution_count": 22,
   "metadata": {
    "collapsed": false
   },
   "outputs": [
    {
     "data": {
      "text/plain": [
       "11520"
      ]
     },
     "execution_count": 22,
     "metadata": {},
     "output_type": "execute_result"
    }
   ],
   "source": [
    "getNumberOfCliffords(2)"
   ]
  },
  {
   "cell_type": "code",
   "execution_count": 23,
   "metadata": {
    "collapsed": false
   },
   "outputs": [
    {
     "data": {
      "text/plain": [
       "720"
      ]
     },
     "execution_count": 23,
     "metadata": {},
     "output_type": "execute_result"
    }
   ],
   "source": [
    "getNumberOfSymplecticCliffords(2) # this is the number mapped to integers"
   ]
  },
  {
   "cell_type": "code",
   "execution_count": 24,
   "metadata": {
    "collapsed": false
   },
   "outputs": [
    {
     "data": {
      "text/plain": [
       "16"
      ]
     },
     "execution_count": 24,
     "metadata": {},
     "output_type": "execute_result"
    }
   ],
   "source": [
    "getNumberOfBitStringsCliffords(2) # this is the number we multiply it by"
   ]
  },
  {
   "cell_type": "code",
   "execution_count": 25,
   "metadata": {
    "collapsed": false
   },
   "outputs": [
    {
     "name": "stdout",
     "output_type": "stream",
     "text": [
      "Progress: 100% Time: 0:00:07\n"
     ]
    }
   ],
   "source": [
    "FullCliffords= Array{Complex{Float64},2}[]\n",
    "FullCliffordCommands = Array{ASCIIString,1}[]\n",
    "n=11520\n",
    "p=Progress(n,1)\n",
    "for i=0:719 # number of symplectics\n",
    "    for j=0:15 # number of phase variations.\n",
    "        state=setup(2)\n",
    "        decompose(i,j,2,true,false) # symplectic i, bits j, 2 qubits, no output and rationalise\n",
    "        push!(FullCliffordCommands,commands)\n",
    "        push!(FullCliffords,makeFromCommand(commands))\n",
    "        next!(p)\n",
    "    end\n",
    "end"
   ]
  },
  {
   "cell_type": "code",
   "execution_count": 26,
   "metadata": {
    "collapsed": false
   },
   "outputs": [
    {
     "name": "stdout",
     "output_type": "stream",
     "text": [
      "Tableau for unitary: \n",
      "+XI\n",
      "+IX\n",
      "---\n",
      "+ZI\n",
      "+IZ\n",
      "setup(2)\n",
      "output(svec)\n",
      "Tableau for unitary: \n",
      "-XI\n",
      "+IX\n",
      "---\n",
      "+ZI\n",
      "+IZ\n",
      "setup(2)\n",
      "phase(1)\n",
      "phase(1)\n",
      "output(svec)\n",
      "Tableau for unitary: \n",
      "+XI\n",
      "-IX\n",
      "---\n",
      "+ZI\n",
      "+IZ\n",
      "setup(2)\n",
      "phase(2)\n",
      "phase(2)\n",
      "output(svec)\n",
      "Tableau for unitary: \n",
      "-XI\n",
      "-IX\n",
      "---\n",
      "+ZI\n",
      "+IZ\n",
      "setup(2)\n",
      "phase(2)\n",
      "phase(2)\n",
      "phase(1)\n",
      "phase(1)\n",
      "output(svec)\n",
      "Tableau for unitary: \n",
      "+XI\n",
      "+IX\n",
      "---\n",
      "-ZI\n",
      "+IZ\n",
      "setup(2)\n",
      "hadamard(2)\n",
      "hadamard(1)\n",
      "phase(1)\n",
      "phase(1)\n",
      "hadamard(2)\n",
      "hadamard(1)\n",
      "output(svec)\n",
      "Tableau for unitary: \n",
      "-XI\n",
      "+IX\n",
      "---\n",
      "-ZI\n",
      "+IZ\n",
      "setup(2)\n",
      "phase(1)\n",
      "phase(1)\n",
      "hadamard(2)\n",
      "hadamard(1)\n",
      "phase(1)\n",
      "phase(1)\n",
      "hadamard(2)\n",
      "hadamard(1)\n",
      "output(svec)\n",
      "Tableau for unitary: \n",
      "+XI\n",
      "-IX\n",
      "---\n",
      "-ZI\n",
      "+IZ\n",
      "setup(2)\n",
      "phase(2)\n",
      "phase(2)\n",
      "hadamard(2)\n",
      "hadamard(1)\n",
      "phase(1)\n",
      "phase(1)\n",
      "hadamard(2)\n",
      "hadamard(1)\n",
      "output(svec)\n",
      "Tableau for unitary: \n",
      "-XI\n",
      "-IX\n",
      "---\n",
      "-ZI\n",
      "+IZ\n",
      "setup(2)\n",
      "phase(2)\n",
      "phase(2)\n",
      "phase(1)\n",
      "phase(1)\n",
      "hadamard(2)\n",
      "hadamard(1)\n",
      "phase(1)\n",
      "phase(1)\n",
      "hadamard(2)\n",
      "hadamard(1)\n",
      "output(svec)\n",
      "Tableau for unitary: \n",
      "+XI\n",
      "+IX\n",
      "---\n",
      "+ZI\n",
      "-IZ\n",
      "setup(2)\n",
      "hadamard(2)\n",
      "hadamard(1)\n",
      "phase(2)\n",
      "phase(2)\n",
      "hadamard(2)\n",
      "hadamard(1)\n",
      "output(svec)\n",
      "Tableau for unitary: \n",
      "-XI\n",
      "+IX\n",
      "---\n",
      "+ZI\n",
      "-IZ\n",
      "setup(2)\n",
      "phase(1)\n",
      "phase(1)\n",
      "hadamard(2)\n",
      "hadamard(1)\n",
      "phase(2)\n",
      "phase(2)\n",
      "hadamard(2)\n",
      "hadamard(1)\n",
      "output(svec)\n",
      "Tableau for unitary: \n",
      "+XI\n",
      "-IX\n",
      "---\n",
      "+ZI\n",
      "-IZ\n",
      "setup(2)\n",
      "phase(2)\n",
      "phase(2)\n",
      "hadamard(2)\n",
      "hadamard(1)\n",
      "phase(2)\n",
      "phase(2)\n",
      "hadamard(2)\n",
      "hadamard(1)\n",
      "output(svec)\n",
      "Tableau for unitary: \n",
      "-XI\n",
      "-IX\n",
      "---\n",
      "+ZI\n",
      "-IZ\n",
      "setup(2)\n",
      "phase(2)\n",
      "phase(2)\n",
      "phase(1)\n",
      "phase(1)\n",
      "hadamard(2)\n",
      "hadamard(1)\n",
      "phase(2)\n",
      "phase(2)\n",
      "hadamard(2)\n",
      "hadamard(1)\n",
      "output(svec)\n",
      "Tableau for unitary: \n",
      "+XI\n",
      "+IX\n",
      "---\n",
      "-ZI\n",
      "-IZ\n",
      "setup(2)\n",
      "hadamard(2)\n",
      "hadamard(1)\n",
      "phase(2)\n",
      "phase(2)\n",
      "phase(1)\n",
      "phase(1)\n",
      "hadamard(2)\n",
      "hadamard(1)\n",
      "output(svec)\n",
      "Tableau for unitary: \n",
      "-XI\n",
      "+IX\n",
      "---\n",
      "-ZI\n",
      "-IZ\n",
      "setup(2)\n",
      "phase(1)\n",
      "phase(1)\n",
      "hadamard(2)\n",
      "hadamard(1)\n",
      "phase(2)\n",
      "phase(2)\n",
      "phase(1)\n",
      "phase(1)\n",
      "hadamard(2)\n",
      "hadamard(1)\n",
      "output(svec)\n",
      "Tableau for unitary: \n",
      "+XI\n",
      "-IX\n",
      "---\n",
      "-ZI\n",
      "-IZ\n",
      "setup(2)\n",
      "phase(2)\n",
      "phase(2)\n",
      "hadamard(2)\n",
      "hadamard(1)\n",
      "phase(2)\n",
      "phase(2)\n",
      "phase(1)\n",
      "phase(1)\n",
      "hadamard(2)\n",
      "hadamard(1)\n",
      "output(svec)\n",
      "Tableau for unitary: \n",
      "-XI\n",
      "-IX\n",
      "---\n",
      "-ZI\n",
      "-IZ\n",
      "setup(2)\n",
      "phase(2)\n",
      "phase(2)\n",
      "phase(1)\n",
      "phase(1)\n",
      "hadamard(2)\n",
      "hadamard(1)\n",
      "phase(2)\n",
      "phase(2)\n",
      "phase(1)\n",
      "phase(1)\n",
      "hadamard(2)\n",
      "hadamard(1)\n",
      "output(svec)\n"
     ]
    }
   ],
   "source": [
    "for i=0:15\n",
    "    decompose(0,i,2,false,false)\n",
    "end"
   ]
  },
  {
   "cell_type": "code",
   "execution_count": 27,
   "metadata": {
    "collapsed": false
   },
   "outputs": [
    {
     "name": "stdout",
     "output_type": "stream",
     "text": [
      "1\n",
      "2\n",
      "3\n",
      "4\n",
      "5\n",
      "6\n",
      "7\n",
      "8\n",
      "9\n",
      "10\n",
      "11\n",
      "12\n",
      "13\n",
      "14\n",
      "15\n",
      "16\n"
     ]
    }
   ],
   "source": [
    "for j=1:16\n",
    "    print(j,\"\\n\")\n",
    "end"
   ]
  },
  {
   "cell_type": "code",
   "execution_count": 28,
   "metadata": {
    "collapsed": false
   },
   "outputs": [
    {
     "name": "stdout",
     "output_type": "stream",
     "text": [
      "0--->[1,0] [0,0]\n",
      "0--->[0,1] [0,0]\n",
      "0--->[1,1] [0,0]\n",
      "1--->[0,0] [1,0]\n",
      "1--->[1,0] [1,0]\n",
      "1--->[0,1] [1,0]\n",
      "1--->[1,1] [1,0]\n",
      "2--->[0,0] [0,1]\n",
      "2--->[1,0] [0,1]\n",
      "2--->[0,1] [0,1]\n",
      "2--->[1,1] [0,1]\n",
      "3--->[0,0] [1,1]\n",
      "3--->[1,0] [1,1]\n",
      "3--->[0,1] [1,1]\n",
      "3--->[1,1] [1,1]\n",
      "4--->[0,0] [0,0]\n"
     ]
    }
   ],
   "source": [
    "n=2\n",
    "for bits=1:16\n",
    "    top = [ (bits >> (x-1)) %2 for x=1:n]\n",
    "    for co=1:n\n",
    "        bits = div(bits,2)\n",
    "    end\n",
    "    bottom = [ (bits >> (x-1)) %2 for x=1:n]\n",
    "    print(bits,\"--->\",top,\" \",bottom,\"\\n\")\n",
    "end"
   ]
  },
  {
   "cell_type": "code",
   "execution_count": 29,
   "metadata": {
    "collapsed": false
   },
   "outputs": [
    {
     "name": "stdout",
     "output_type": "stream",
     "text": [
      "{1,0} {0,0}"
     ]
    }
   ],
   "source": [
    "n=2\n",
    "bits=1\n",
    "top = [ (bits >> (x-1)) %2 for x=1:n]\n",
    "bits = div(bits,2)\n",
    "bottom = [ (bits >> (x-1)) %2 for x=1:n]\n",
    "print(top,\" \",bottom)"
   ]
  },
  {
   "cell_type": "code",
   "execution_count": 30,
   "metadata": {
    "collapsed": false
   },
   "outputs": [
    {
     "data": {
      "text/plain": [
       "2-element Array{Any,1}:\n",
       " 1\n",
       " 0"
      ]
     },
     "execution_count": 30,
     "metadata": {},
     "output_type": "execute_result"
    }
   ],
   "source": [
    "top"
   ]
  },
  {
   "cell_type": "code",
   "execution_count": 31,
   "metadata": {
    "collapsed": false
   },
   "outputs": [
    {
     "data": {
      "text/plain": [
       "(11520,)"
      ]
     },
     "execution_count": 31,
     "metadata": {},
     "output_type": "execute_result"
    }
   ],
   "source": [
    "size(FullCliffords)"
   ]
  },
  {
   "cell_type": "code",
   "execution_count": 32,
   "metadata": {
    "collapsed": false
   },
   "outputs": [
    {
     "data": {
      "text/plain": [
       "4x4 Array{Complex{Float64},2}:\n",
       " 1.0+0.0im  0.0+0.0im  0.0+0.0im  0.0+0.0im\n",
       " 0.0+0.0im  1.0+0.0im  0.0+0.0im  0.0+0.0im\n",
       " 0.0+0.0im  0.0+0.0im  1.0+0.0im  0.0+0.0im\n",
       " 0.0+0.0im  0.0+0.0im  0.0+0.0im  1.0+0.0im"
      ]
     },
     "execution_count": 32,
     "metadata": {},
     "output_type": "execute_result"
    }
   ],
   "source": [
    "FullCliffords[1]"
   ]
  },
  {
   "cell_type": "markdown",
   "metadata": {},
   "source": [
    "## Check we have done it correct (unitary 2)"
   ]
  },
  {
   "cell_type": "code",
   "execution_count": 33,
   "metadata": {
    "collapsed": false
   },
   "outputs": [
    {
     "name": "stdout",
     "output_type": "stream",
     "text": [
      "Progress: 100% Time: 0:05:59\n",
      "2.6542079999999997e8 -> 1.9999999999999998)\n"
     ]
    }
   ],
   "source": [
    "sum = 0\n",
    "numb = size(FullCliffords,1)\n",
    "p=Progress(numb,1)\n",
    "for i=1:numb\n",
    "    for j=1:numb\n",
    "        sum += abs(trace(conj(FullCliffords[i])'*FullCliffords[j]))^4\n",
    "    end\n",
    "    next!(p)\n",
    "end\n",
    "print(\"$sum -> $(sum/numb^2))\\n\")"
   ]
  },
  {
   "cell_type": "markdown",
   "metadata": {},
   "source": [
    "##Hmm probably a rounding error."
   ]
  },
  {
   "cell_type": "markdown",
   "metadata": {
    "collapsed": false
   },
   "source": [
    "## So recap\n",
    "- we have in sl2Cliffords each of the 4 x 4 matrices that form our smaller unitary 2 design (960)\n",
    "- we have in FullCLiffords each of the 4 x 4 matrices taht form our full clifford group (11520)\n",
    "- we are going to make a SuperOperator (Pauli Basis) for each of the full clifford group and store this\n",
    "- we are going to store and INDEX for the sl2 cliffords to the SuperOperator index\n",
    "- we are going to identify our generators, superoperator and find their indices.\n",
    "- we are going to make a tree with 11520 vertices\n",
    "- then we multiply each $CL_i^\\{dagger},CL_j$ to see if they are a generator and set the edge appropriately "
   ]
  },
  {
   "cell_type": "code",
   "execution_count": 34,
   "metadata": {
    "collapsed": false
   },
   "outputs": [
    {
     "data": {
      "text/plain": [
       "to_superpauli (generic function with 1 method)"
      ]
     },
     "execution_count": 34,
     "metadata": {},
     "output_type": "execute_result"
    }
   ],
   "source": [
    "#Granade inspired\n",
    "function to_superpauli(S):\n",
    "    \"\"\"\n",
    "    Converts a superoperator in the column-stacking basis to the Pauli basis. Note that\n",
    "    the argument is assumed to act on qubits.\n",
    "    \"\"\"\n",
    "    sqobj=qt.to_super(S)\n",
    "    nq=int(np.log2(sqobj[:shape][1])/2)\n",
    "    B=pycall(qt.superop_reps[\"_pauli_basis\"],PyAny,nq)\n",
    "    sq=np.sqrt(2^nq)\n",
    "    B=pyeval(\"B/sq\",PyAny,B=B,nq=nq,sq=sq)\n",
    "    B[:dims] = sqobj[:dims]\n",
    "    sqobj = pycall(B[:dag]()[\"__mul__\"],PyAny,pycall(sqobj[\"__mul__\"],PyAny,B))\n",
    "    return sqobj\n",
    "end"
   ]
  },
  {
   "cell_type": "code",
   "execution_count": 35,
   "metadata": {
    "collapsed": false
   },
   "outputs": [],
   "source": [
    "SuperCliffs = [int(real(to_superpauli(qt.Qobj(FullCliffords[i]))[:full]())) for i =1:length(FullCliffords)];"
   ]
  },
  {
   "cell_type": "code",
   "execution_count": 36,
   "metadata": {
    "collapsed": false
   },
   "outputs": [
    {
     "data": {
      "text/plain": [
       "960-element Array{Any,1}:\n",
       "  1937\n",
       "  1939\n",
       "  1945\n",
       "  1947\n",
       "  1938\n",
       "  1940\n",
       "  1946\n",
       "  1948\n",
       "  1941\n",
       "  1943\n",
       "  1949\n",
       "  1951\n",
       "  1942\n",
       "     ⋮\n",
       " 10182\n",
       " 10192\n",
       " 10185\n",
       " 10179\n",
       " 10188\n",
       " 10178\n",
       " 10183\n",
       " 10189\n",
       " 10191\n",
       " 10181\n",
       " 10180\n",
       " 10186"
      ]
     },
     "execution_count": 36,
     "metadata": {},
     "output_type": "execute_result"
    }
   ],
   "source": [
    "indexOfSl2 = [findfirst(SuperCliffs,int(real(to_superpauli(qt.Qobj(sl2Cliffords[i]))[:full]()))) for i=1:length(sl2Cliffords)]"
   ]
  },
  {
   "cell_type": "code",
   "execution_count": 176,
   "metadata": {
    "collapsed": false
   },
   "outputs": [],
   "source": [
    "## So our generators\n",
    "# start with some easy ones (note forcing to complex for just now)\n",
    "identity = [1 0im;0 1]\n",
    "pauliX = [0im 1;1 0]\n",
    "pauliZ = [1 0im;0 -1]\n",
    "pauliY = [0 -1im;1im 0]\n",
    "phaseGate = [1 0;0 1im]\n",
    "rphaseGate = phaseGate*phaseGate*phaseGate\n",
    "shadmard=1/sqrt(2)*[1 1+0im;1 -1]\n",
    "cnot12 = [1 0 0 0im;0 1 0 0;0 0 0 1;0 0 1 0]\n",
    "cnot21 = [1 0 0 0im;0 0 0 1;0 0 1 0;0 1 0 0]\n",
    "#Assume that can't parallelise gates so we have\n",
    "Generators=Array{Complex{Float64},2}[]\n",
    "push!(Generators,[kron(identity,pauliX)])\n",
    "push!(Generators,[kron(pauliX,identity)])\n",
    "push!(Generators,[kron(pauliX,pauliX)])\n",
    "push!(Generators,[kron(pauliY,pauliY)])\n",
    "push!(Generators,[kron(pauliZ,pauliZ)])\n",
    "push!(Generators,[kron(identity,pauliZ)])\n",
    "push!(Generators,[kron(pauliZ,identity)])\n",
    "push!(Generators,[kron(identity,pauliY)])\n",
    "push!(Generators,[kron(pauliY,identity)])\n",
    "push!(Generators,[kron(identity,phaseGate)])\n",
    "push!(Generators,[kron(phaseGate,identity)])\n",
    "push!(Generators,[kron(identity,rphaseGate)])\n",
    "push!(Generators,[kron(rphaseGate,identity)])\n",
    "push!(Generators,[kron(identity,shadmard)])\n",
    "push!(Generators,[kron(shadmard,identity)])\n",
    "push!(Generators,[kron(phaseGate,phaseGate)])\n",
    "push!(Generators,[kron(rphaseGate,rphaseGate)])\n",
    "push!(Generators,[kron(shadmard,shadmard)])\n",
    "push!(Generators,cnot12)\n",
    "push!(Generators,cnot21);"
   ]
  },
  {
   "cell_type": "code",
   "execution_count": 177,
   "metadata": {
    "collapsed": false
   },
   "outputs": [
    {
     "data": {
      "text/plain": [
       "20-element Array{Any,1}:\n",
       "     9\n",
       "     5\n",
       "    13\n",
       "    16\n",
       "     4\n",
       "     3\n",
       "     2\n",
       "    11\n",
       "     6\n",
       "  9603\n",
       "    34\n",
       "  9601\n",
       "    33\n",
       "  1921\n",
       "    17\n",
       "  9636\n",
       "  9633\n",
       "  1937\n",
       "  5825\n",
       " 10561"
      ]
     },
     "execution_count": 177,
     "metadata": {},
     "output_type": "execute_result"
    }
   ],
   "source": [
    "indexOfGens = [findfirst(SuperCliffs,int(real(to_superpauli(qt.Qobj(Generators[i]))[:full]()))) for i=1:length(Generators)]"
   ]
  },
  {
   "cell_type": "code",
   "execution_count": 47,
   "metadata": {
    "collapsed": false
   },
   "outputs": [
    {
     "data": {
      "text/plain": [
       "Array{Complex{Int64},2}"
      ]
     },
     "execution_count": 47,
     "metadata": {},
     "output_type": "execute_result"
    }
   ],
   "source": [
    "#actually lets check we have a group.\n"
   ]
  },
  {
   "cell_type": "code",
   "execution_count": 40,
   "metadata": {
    "collapsed": false
   },
   "outputs": [
    {
     "data": {
      "text/plain": [
       "2x2 Array{Complex{Int64},2}:\n",
       " 1+0im  0+0im\n",
       " 0+0im  0-1im"
      ]
     },
     "execution_count": 40,
     "metadata": {},
     "output_type": "execute_result"
    }
   ],
   "source": [
    "rphaseGate"
   ]
  },
  {
   "cell_type": "code",
   "execution_count": 59,
   "metadata": {
    "collapsed": true
   },
   "outputs": [],
   "source": [
    "SuperSL2 = [int(real(to_superpauli(qt.Qobj(sl2Cliffords[i]))[:full]())) for i =1:length(sl2Cliffords)];"
   ]
  },
  {
   "cell_type": "code",
   "execution_count": 62,
   "metadata": {
    "collapsed": false
   },
   "outputs": [
    {
     "data": {
      "text/plain": [
       "960"
      ]
     },
     "execution_count": 62,
     "metadata": {},
     "output_type": "execute_result"
    }
   ],
   "source": [
    "length(SuperSL2)"
   ]
  },
  {
   "cell_type": "code",
   "execution_count": 64,
   "metadata": {
    "collapsed": false
   },
   "outputs": [],
   "source": [
    "for i=1:length(SuperSL2)\n",
    "    for j=1:length(SuperSL2)\n",
    "        if (findfirst(SuperSL2,SuperSL2[i]*SuperSL2[j])==0)\n",
    "            print(\"Check \",i,\", \",j)\n",
    "        end\n",
    "    end\n",
    "end"
   ]
  },
  {
   "cell_type": "code",
   "execution_count": 178,
   "metadata": {
    "collapsed": false
   },
   "outputs": [
    {
     "data": {
      "text/plain": [
       "20-element Array{Any,1}:\n",
       " 450\n",
       " 453\n",
       " 454\n",
       " 464\n",
       " 459\n",
       " 451\n",
       " 457\n",
       " 452\n",
       " 461\n",
       "   0\n",
       "   0\n",
       "   0\n",
       "   0\n",
       "   0\n",
       "   0\n",
       " 507\n",
       " 497\n",
       "   1\n",
       "   0\n",
       "   0"
      ]
     },
     "execution_count": 178,
     "metadata": {},
     "output_type": "execute_result"
    }
   ],
   "source": [
    "GensinSL2=[findfirst(SuperSL2,int(real(to_superpauli(qt.Qobj(Generators[i]))[:full]()))) for i=1:length(Generators)]"
   ]
  },
  {
   "cell_type": "code",
   "execution_count": 70,
   "metadata": {
    "collapsed": false
   },
   "outputs": [
    {
     "name": "stderr",
     "output_type": "stream",
     "text": [
      "INFO: Cloning cache of DataStructures from git://github.com/JuliaLang/DataStructures.jl.git\n",
      "INFO: Cloning cache of Docile from git://github.com/MichaelHatherly/Docile.jl.git\n",
      "INFO: Cloning cache of Graphs from git://github.com/JuliaLang/Graphs.jl.git\n",
      "INFO: Installing DataStructures v0.3.9\n",
      "INFO: Installing Docile v0.5.7\n",
      "INFO: Installing Graphs v0.5.4\n",
      "INFO: Package database updated\n",
      "INFO: METADATA is out-of-date — you may not have the latest version of Graphs\n",
      "INFO: Use `Pkg.update()` to get the latest versions of your packages\n"
     ]
    }
   ],
   "source": [
    "Pkg.add(\"Graphs\")"
   ]
  },
  {
   "cell_type": "code",
   "execution_count": 131,
   "metadata": {
    "collapsed": false
   },
   "outputs": [
    {
     "data": {
      "text/plain": [
       "11520x11520 Array{Int64,2}:\n",
       " 0  0  0  0  0  0  0  0  0  0  0  0  0  …  0  0  0  0  0  0  0  0  0  0  0  0\n",
       " 0  0  0  0  0  0  0  0  0  0  0  0  0     0  0  0  0  0  0  0  0  0  0  0  0\n",
       " 0  0  0  0  0  0  0  0  0  0  0  0  0     0  0  0  0  0  0  0  0  0  0  0  0\n",
       " 0  0  0  0  0  0  0  0  0  0  0  0  0     0  0  0  0  0  0  0  0  0  0  0  0\n",
       " 0  0  0  0  0  0  0  0  0  0  0  0  0     0  0  0  0  0  0  0  0  0  0  0  0\n",
       " 0  0  0  0  0  0  0  0  0  0  0  0  0  …  0  0  0  0  0  0  0  0  0  0  0  0\n",
       " 0  0  0  0  0  0  0  0  0  0  0  0  0     0  0  0  0  0  0  0  0  0  0  0  0\n",
       " 0  0  0  0  0  0  0  0  0  0  0  0  0     0  0  0  0  0  0  0  0  0  0  0  0\n",
       " 0  0  0  0  0  0  0  0  0  0  0  0  0     0  0  0  0  0  0  0  0  0  0  0  0\n",
       " 0  0  0  0  0  0  0  0  0  0  0  0  0     0  0  0  0  0  0  0  0  0  0  0  0\n",
       " 0  0  0  0  0  0  0  0  0  0  0  0  0  …  0  0  0  0  0  0  0  0  0  0  0  0\n",
       " 0  0  0  0  0  0  0  0  0  0  0  0  0     0  0  0  0  0  0  0  0  0  0  0  0\n",
       " 0  0  0  0  0  0  0  0  0  0  0  0  0     0  0  0  0  0  0  0  0  0  0  0  0\n",
       " ⋮              ⋮              ⋮        ⋱        ⋮              ⋮            \n",
       " 0  0  0  0  0  0  0  0  0  0  0  0  0     0  0  0  0  0  0  0  0  0  0  0  0\n",
       " 0  0  0  0  0  0  0  0  0  0  0  0  0     0  0  0  0  0  0  0  0  0  0  0  0\n",
       " 0  0  0  0  0  0  0  0  0  0  0  0  0  …  0  0  0  0  0  0  0  0  0  0  0  0\n",
       " 0  0  0  0  0  0  0  0  0  0  0  0  0     0  0  0  0  0  0  0  0  0  0  0  0\n",
       " 0  0  0  0  0  0  0  0  0  0  0  0  0     0  0  0  0  0  0  0  0  0  0  0  0\n",
       " 0  0  0  0  0  0  0  0  0  0  0  0  0     0  0  0  0  0  0  0  0  0  0  0  0\n",
       " 0  0  0  0  0  0  0  0  0  0  0  0  0     0  0  0  0  0  0  0  0  0  0  0  0\n",
       " 0  0  0  0  0  0  0  0  0  0  0  0  0  …  0  0  0  0  0  0  0  0  0  0  0  0\n",
       " 0  0  0  0  0  0  0  0  0  0  0  0  0     0  0  0  0  0  0  0  0  0  0  0  0\n",
       " 0  0  0  0  0  0  0  0  0  0  0  0  0     0  0  0  0  0  0  0  0  0  0  0  0\n",
       " 0  0  0  0  0  0  0  0  0  0  0  0  0     0  0  0  0  0  0  0  0  0  0  0  0\n",
       " 0  0  0  0  0  0  0  0  0  0  0  0  0     0  0  0  0  0  0  0  0  0  0  0  0"
      ]
     },
     "execution_count": 131,
     "metadata": {},
     "output_type": "execute_result"
    }
   ],
   "source": [
    "Adjacency=zeros(Int64,length(FullCliffords),length(FullCliffords))"
   ]
  },
  {
   "cell_type": "code",
   "execution_count": 179,
   "metadata": {
    "collapsed": false
   },
   "outputs": [],
   "source": [
    "SuperGenerators=[int(real(to_superpauli(qt.Qobj(Generators[i]))[:full]())) for i =1:length(Generators)];"
   ]
  },
  {
   "cell_type": "code",
   "execution_count": 180,
   "metadata": {
    "collapsed": false
   },
   "outputs": [
    {
     "name": "stdout",
     "output_type": "stream",
     "text": [
      "Progress: 100%|█████████████████████████████████████████| Time: 0:28:00\n"
     ]
    }
   ],
   "source": [
    "p=Progress(length(SuperCliffs))\n",
    "for i=1:length(SuperCliffs)\n",
    "    for j=1:length(SuperCliffs)\n",
    "        if (findfirst(SuperGenerators,SuperCliffs[i]'*SuperCliffs[j])!=0)\n",
    "            Adjacency[i,j]=1\n",
    "        end\n",
    "    end\n",
    "    next!(p)\n",
    "end\n"
   ]
  },
  {
   "cell_type": "code",
   "execution_count": 134,
   "metadata": {
    "collapsed": false
   },
   "outputs": [
    {
     "data": {
      "text/plain": [
       "11520x11520 Array{Int64,2}:\n",
       " 0  1  1  0  1  1  0  0  1  0  1  0  0  …  0  0  0  0  0  0  0  0  0  0  0  0\n",
       " 1  0  0  1  1  1  0  0  0  1  0  1  0     0  0  0  0  0  0  0  0  0  0  0  0\n",
       " 1  0  0  1  0  0  1  1  1  0  1  0  0     0  0  0  0  0  0  0  0  0  0  0  0\n",
       " 0  1  1  0  0  0  1  1  0  1  0  1  0     0  0  0  0  0  0  0  0  0  0  0  0\n",
       " 1  1  0  0  0  1  1  0  0  0  0  0  1     0  0  0  0  0  0  0  0  0  0  0  0\n",
       " 1  1  0  0  1  0  0  1  0  0  0  0  0  …  0  0  0  0  0  0  0  0  0  0  0  0\n",
       " 0  0  1  1  1  0  0  1  0  0  0  0  1     0  0  0  0  0  0  0  0  0  0  0  0\n",
       " 0  0  1  1  0  1  1  0  0  0  0  0  0     0  0  0  0  0  0  0  0  0  0  0  0\n",
       " 1  0  1  0  0  0  0  0  0  1  1  0  1     0  0  0  0  0  0  0  0  0  0  0  0\n",
       " 0  1  0  1  0  0  0  0  1  0  0  1  1     0  0  0  0  0  0  0  0  0  0  0  0\n",
       " 1  0  1  0  0  0  0  0  1  0  0  1  0  …  0  0  0  0  0  0  0  0  0  0  0  0\n",
       " 0  1  0  1  0  0  0  0  0  1  1  0  0     0  0  0  0  0  0  0  0  0  0  0  0\n",
       " 0  0  0  0  1  0  1  0  1  1  0  0  0     0  0  0  0  0  0  0  0  0  0  0  0\n",
       " ⋮              ⋮              ⋮        ⋱        ⋮              ⋮            \n",
       " 0  0  0  0  0  0  0  0  0  0  0  0  0     0  1  0  1  0  0  1  1  0  1  1  0\n",
       " 0  0  0  0  0  0  0  0  0  0  0  0  0     1  0  1  0  0  0  1  1  1  0  0  1\n",
       " 0  0  0  0  0  0  0  0  0  0  0  0  0  …  0  1  0  1  1  1  0  0  1  0  0  1\n",
       " 0  0  0  0  0  0  0  0  0  0  0  0  0     1  0  1  0  1  1  0  0  0  1  1  0\n",
       " 0  0  0  0  0  0  0  0  0  0  0  0  0     0  0  1  1  0  1  0  1  0  0  0  0\n",
       " 0  0  0  0  0  0  0  0  0  0  0  0  0     0  0  1  1  1  0  1  0  0  0  0  0\n",
       " 0  0  0  0  0  0  0  0  0  0  0  0  0     1  1  0  0  0  1  0  1  0  0  0  0\n",
       " 0  0  0  0  0  0  0  0  0  0  0  0  0  …  1  1  0  0  1  0  1  0  0  0  0  0\n",
       " 0  0  0  0  0  0  0  0  0  0  0  0  0     0  1  1  0  0  0  0  0  0  1  0  1\n",
       " 0  0  0  0  0  0  0  0  0  0  0  0  0     1  0  0  1  0  0  0  0  1  0  1  0\n",
       " 0  0  0  0  0  0  0  0  0  0  0  0  0     1  0  0  1  0  0  0  0  0  1  0  1\n",
       " 0  0  0  0  0  0  0  0  0  0  0  0  0     0  1  1  0  0  0  0  0  1  0  1  0"
      ]
     },
     "execution_count": 134,
     "metadata": {},
     "output_type": "execute_result"
    }
   ],
   "source": [
    "Adjacency"
   ]
  },
  {
   "cell_type": "code",
   "execution_count": 182,
   "metadata": {
    "collapsed": false
   },
   "outputs": [
    {
     "data": {
      "text/plain": [
       "18"
      ]
     },
     "execution_count": 182,
     "metadata": {},
     "output_type": "execute_result"
    }
   ],
   "source": [
    "findfirst(SuperCliffs,SuperCliffs[18])"
   ]
  },
  {
   "cell_type": "code",
   "execution_count": 231,
   "metadata": {
    "collapsed": true
   },
   "outputs": [],
   "source": [
    "writecsv(\"adjacencyF.csv\",AdjacencyF)"
   ]
  },
  {
   "cell_type": "code",
   "execution_count": 184,
   "metadata": {
    "collapsed": false
   },
   "outputs": [
    {
     "data": {
      "text/plain": [
       "1"
      ]
     },
     "execution_count": 184,
     "metadata": {},
     "output_type": "execute_result"
    }
   ],
   "source": [
    "findfirst(SuperCliffs,int(real(to_superpauli(qt.Qobj(kron(identity,identity)))[:full]())))"
   ]
  },
  {
   "cell_type": "code",
   "execution_count": 185,
   "metadata": {
    "collapsed": false
   },
   "outputs": [
    {
     "data": {
      "text/plain": [
       "1x11520 Array{Int64,2}:\n",
       " 0  1  1  1  1  1  0  0  1  0  1  0  1  …  0  0  0  0  0  0  0  0  0  0  0  0"
      ]
     },
     "execution_count": 185,
     "metadata": {},
     "output_type": "execute_result"
    }
   ],
   "source": [
    "Adjacency[1,:]"
   ]
  },
  {
   "cell_type": "code",
   "execution_count": 186,
   "metadata": {
    "collapsed": true
   },
   "outputs": [],
   "source": [
    "#So these are the ones that are reachable using one generator."
   ]
  },
  {
   "cell_type": "code",
   "execution_count": 187,
   "metadata": {
    "collapsed": false
   },
   "outputs": [
    {
     "data": {
      "text/plain": [
       "8-element Array{ASCIIString,1}:\n",
       " \"setup(2)\"    \n",
       " \"hadamard(2)\" \n",
       " \"hadamard(1)\" \n",
       " \"phase(1)\"    \n",
       " \"phase(1)\"    \n",
       " \"hadamard(2)\" \n",
       " \"hadamard(1)\" \n",
       " \"output(svec)\""
      ]
     },
     "execution_count": 187,
     "metadata": {},
     "output_type": "execute_result"
    }
   ],
   "source": [
    "FullCliffordCommands[5]"
   ]
  },
  {
   "cell_type": "code",
   "execution_count": 188,
   "metadata": {
    "collapsed": false
   },
   "outputs": [
    {
     "data": {
      "text/plain": [
       "2"
      ]
     },
     "execution_count": 188,
     "metadata": {},
     "output_type": "execute_result"
    }
   ],
   "source": [
    "findfirst(SuperGenerators,SuperCliffs[5])"
   ]
  },
  {
   "cell_type": "code",
   "execution_count": 189,
   "metadata": {
    "collapsed": false
   },
   "outputs": [],
   "source": [
    "pathLength=zeros(Int64,size(Adjacency,1));"
   ]
  },
  {
   "cell_type": "code",
   "execution_count": 190,
   "metadata": {
    "collapsed": false
   },
   "outputs": [],
   "source": [
    "iteration=1\n",
    "for i=1:size(Adjacency,1)\n",
    "    if (pathLength[i]==0 && Adjacency[1,i] != 0)\n",
    "        pathLength[i]=iteration\n",
    "    end\n",
    "end"
   ]
  },
  {
   "cell_type": "code",
   "execution_count": 218,
   "metadata": {
    "collapsed": false
   },
   "outputs": [
    {
     "data": {
      "text/plain": [
       "11520-element Array{Int64,1}:\n",
       " 2\n",
       " 1\n",
       " 1\n",
       " 1\n",
       " 1\n",
       " 1\n",
       " 2\n",
       " 2\n",
       " 1\n",
       " 2\n",
       " 1\n",
       " 2\n",
       " 1\n",
       " ⋮\n",
       " 4\n",
       " 4\n",
       " 5\n",
       " 4\n",
       " 4\n",
       " 4\n",
       " 4\n",
       " 4\n",
       " 4\n",
       " 4\n",
       " 4\n",
       " 4"
      ]
     },
     "execution_count": 218,
     "metadata": {},
     "output_type": "execute_result"
    }
   ],
   "source": [
    "pathLength"
   ]
  },
  {
   "cell_type": "markdown",
   "metadata": {},
   "source": [
    "# Turns out that we need it to be Float64 (well not Int8/Int64 anyway) for the multiplicaiton\n",
    "# to be done in a sane time. I presume its to do with LAPACK"
   ]
  },
  {
   "cell_type": "code",
   "execution_count": 192,
   "metadata": {
    "collapsed": false
   },
   "outputs": [
    {
     "data": {
      "text/plain": [
       "11520x11520 Array{Float64,2}:\n",
       " 0.0  1.0  1.0  1.0  1.0  1.0  0.0  0.0  …  0.0  0.0  0.0  0.0  0.0  0.0  0.0\n",
       " 1.0  0.0  1.0  1.0  1.0  1.0  0.0  0.0     0.0  0.0  0.0  0.0  0.0  0.0  0.0\n",
       " 1.0  1.0  0.0  1.0  0.0  0.0  1.0  1.0     0.0  0.0  0.0  0.0  0.0  0.0  0.0\n",
       " 1.0  1.0  1.0  0.0  0.0  0.0  1.0  1.0     0.0  0.0  0.0  0.0  0.0  0.0  0.0\n",
       " 1.0  1.0  0.0  0.0  0.0  1.0  1.0  1.0     0.0  0.0  0.0  0.0  0.0  0.0  0.0\n",
       " 1.0  1.0  0.0  0.0  1.0  0.0  1.0  1.0  …  0.0  0.0  0.0  0.0  0.0  0.0  0.0\n",
       " 0.0  0.0  1.0  1.0  1.0  1.0  0.0  1.0     0.0  0.0  0.0  0.0  0.0  0.0  0.0\n",
       " 0.0  0.0  1.0  1.0  1.0  1.0  1.0  0.0     0.0  0.0  0.0  0.0  0.0  0.0  0.0\n",
       " 1.0  0.0  1.0  0.0  1.0  0.0  0.0  1.0     0.0  0.0  0.0  0.0  0.0  0.0  0.0\n",
       " 0.0  1.0  0.0  1.0  0.0  1.0  1.0  0.0     0.0  0.0  0.0  0.0  0.0  0.0  0.0\n",
       " 1.0  0.0  1.0  0.0  0.0  1.0  1.0  0.0  …  0.0  0.0  0.0  0.0  0.0  0.0  0.0\n",
       " 0.0  1.0  0.0  1.0  1.0  0.0  0.0  1.0     0.0  0.0  0.0  0.0  0.0  0.0  0.0\n",
       " 1.0  0.0  0.0  1.0  1.0  0.0  1.0  0.0     0.0  0.0  0.0  0.0  0.0  0.0  0.0\n",
       " ⋮                        ⋮              ⋱            ⋮                      \n",
       " 0.0  0.0  0.0  0.0  0.0  0.0  0.0  0.0     0.0  1.0  1.0  1.0  1.0  1.0  0.0\n",
       " 0.0  0.0  0.0  0.0  0.0  0.0  0.0  0.0     1.0  1.0  1.0  1.0  1.0  0.0  1.0\n",
       " 0.0  0.0  0.0  0.0  0.0  0.0  0.0  0.0  …  1.0  1.0  0.0  1.0  0.0  1.0  1.0\n",
       " 0.0  0.0  0.0  0.0  0.0  0.0  0.0  0.0     1.0  0.0  1.0  0.0  1.0  1.0  1.0\n",
       " 0.0  0.0  0.0  0.0  0.0  0.0  0.0  0.0     1.0  0.0  1.0  1.0  0.0  0.0  0.0\n",
       " 0.0  0.0  0.0  0.0  0.0  0.0  0.0  0.0     0.0  1.0  0.0  0.0  1.0  0.0  0.0\n",
       " 0.0  0.0  0.0  0.0  0.0  0.0  0.0  0.0     1.0  0.0  1.0  0.0  0.0  1.0  0.0\n",
       " 0.0  0.0  0.0  0.0  0.0  0.0  0.0  0.0  …  0.0  1.0  0.0  0.0  0.0  0.0  1.0\n",
       " 0.0  0.0  0.0  0.0  0.0  0.0  0.0  0.0     0.0  0.0  0.0  0.0  1.0  0.0  1.0\n",
       " 0.0  0.0  0.0  0.0  0.0  0.0  0.0  0.0     1.0  0.0  0.0  1.0  0.0  1.0  0.0\n",
       " 0.0  0.0  0.0  0.0  0.0  0.0  0.0  0.0     0.0  1.0  0.0  0.0  1.0  0.0  1.0\n",
       " 0.0  0.0  0.0  0.0  0.0  0.0  0.0  0.0     0.0  0.0  1.0  1.0  0.0  1.0  0.0"
      ]
     },
     "execution_count": 192,
     "metadata": {},
     "output_type": "execute_result"
    }
   ],
   "source": [
    "AdjacencyF=convert(Array{Float64,2},Adjacency)\n"
   ]
  },
  {
   "cell_type": "code",
   "execution_count": 193,
   "metadata": {
    "collapsed": false
   },
   "outputs": [
    {
     "data": {
      "text/plain": [
       "11520x11520 Array{Float64,2}:\n",
       " 20.0   6.0   6.0   6.0   4.0   4.0  …   0.0   0.0   0.0   0.0   0.0   0.0\n",
       "  6.0  20.0   6.0   6.0   4.0   4.0      0.0   0.0   0.0   0.0   0.0   0.0\n",
       "  6.0   6.0  20.0   6.0   6.0   6.0      0.0   0.0   0.0   0.0   0.0   0.0\n",
       "  6.0   6.0   6.0  20.0   6.0   6.0      0.0   0.0   0.0   0.0   0.0   0.0\n",
       "  4.0   4.0   6.0   6.0  20.0   6.0      0.0   0.0   0.0   0.0   0.0   0.0\n",
       "  4.0   4.0   6.0   6.0   6.0  20.0  …   0.0   0.0   0.0   0.0   0.0   0.0\n",
       "  6.0   6.0   4.0   4.0   6.0   6.0      0.0   0.0   0.0   0.0   0.0   0.0\n",
       "  6.0   6.0   4.0   4.0   6.0   6.0      0.0   0.0   0.0   0.0   0.0   0.0\n",
       "  4.0   6.0   4.0   6.0   4.0   6.0      0.0   0.0   0.0   0.0   0.0   0.0\n",
       "  6.0   4.0   6.0   4.0   6.0   4.0      0.0   0.0   0.0   0.0   0.0   0.0\n",
       "  4.0   6.0   4.0   6.0   6.0   4.0  …   0.0   0.0   0.0   0.0   0.0   0.0\n",
       "  6.0   4.0   6.0   4.0   4.0   6.0      0.0   0.0   0.0   0.0   0.0   0.0\n",
       "  4.0   6.0   6.0   4.0   4.0   6.0      0.0   0.0   0.0   0.0   0.0   0.0\n",
       "  ⋮                             ⋮    ⋱         ⋮                          \n",
       "  0.0   0.0   0.0   0.0   0.0   0.0      4.0   4.0   6.0   6.0   4.0   6.0\n",
       "  0.0   0.0   0.0   0.0   0.0   0.0      4.0   4.0   6.0   6.0   6.0   4.0\n",
       "  0.0   0.0   0.0   0.0   0.0   0.0  …   4.0   6.0   4.0   6.0   6.0   6.0\n",
       "  0.0   0.0   0.0   0.0   0.0   0.0      6.0   4.0   6.0   4.0   6.0   6.0\n",
       "  0.0   0.0   0.0   0.0   0.0   0.0      6.0   4.0   4.0   6.0   6.0   6.0\n",
       "  0.0   0.0   0.0   0.0   0.0   0.0      4.0   6.0   6.0   4.0   6.0   6.0\n",
       "  0.0   0.0   0.0   0.0   0.0   0.0     20.0   6.0   6.0   6.0   4.0   6.0\n",
       "  0.0   0.0   0.0   0.0   0.0   0.0  …   6.0  20.0   6.0   6.0   6.0   4.0\n",
       "  0.0   0.0   0.0   0.0   0.0   0.0      6.0   6.0  20.0   6.0   6.0   4.0\n",
       "  0.0   0.0   0.0   0.0   0.0   0.0      6.0   6.0   6.0  20.0   4.0   6.0\n",
       "  0.0   0.0   0.0   0.0   0.0   0.0      4.0   6.0   6.0   4.0  20.0   6.0\n",
       "  0.0   0.0   0.0   0.0   0.0   0.0      6.0   4.0   4.0   6.0   6.0  20.0"
      ]
     },
     "execution_count": 193,
     "metadata": {},
     "output_type": "execute_result"
    }
   ],
   "source": [
    "Adjacency2= AdjacencyF*AdjacencyF"
   ]
  },
  {
   "cell_type": "markdown",
   "metadata": {},
   "source": [
    "##So what we have here is showing us the number of ways we can get from one Clifford (the row) to another (the column) in two moves.\n",
    "\n",
    "Just now I am only interested in the number of path length, not the number of paths."
   ]
  },
  {
   "cell_type": "code",
   "execution_count": 194,
   "metadata": {
    "collapsed": true
   },
   "outputs": [],
   "source": [
    "iteration=2\n",
    "for i=1:size(Adjacency2,1)\n",
    "    if (pathLength[i]==0 && Adjacency2[1,i] != 0)\n",
    "        pathLength[i]=iteration\n",
    "    end\n",
    "end"
   ]
  },
  {
   "cell_type": "code",
   "execution_count": 195,
   "metadata": {
    "collapsed": false
   },
   "outputs": [
    {
     "data": {
      "text/plain": [
       "11520-element Array{Int64,1}:\n",
       " 2\n",
       " 1\n",
       " 1\n",
       " 1\n",
       " 1\n",
       " 1\n",
       " 2\n",
       " 2\n",
       " 1\n",
       " 2\n",
       " 1\n",
       " 2\n",
       " 1\n",
       " ⋮\n",
       " 0\n",
       " 0\n",
       " 0\n",
       " 0\n",
       " 0\n",
       " 0\n",
       " 0\n",
       " 0\n",
       " 0\n",
       " 0\n",
       " 0\n",
       " 0"
      ]
     },
     "execution_count": 195,
     "metadata": {},
     "output_type": "execute_result"
    }
   ],
   "source": [
    "pathLength"
   ]
  },
  {
   "cell_type": "code",
   "execution_count": 196,
   "metadata": {
    "collapsed": false
   },
   "outputs": [
    {
     "data": {
      "text/plain": [
       "11520x11520 Array{Float64,2}:\n",
       "  72.0  106.0  106.0  104.0   88.0  …    0.0    0.0    0.0    0.0    0.0\n",
       " 106.0   72.0  104.0  106.0   86.0       0.0    0.0    0.0    0.0    0.0\n",
       " 106.0  104.0   72.0  106.0   57.0       0.0    0.0    0.0    0.0    0.0\n",
       " 104.0  106.0  106.0   72.0   55.0       0.0    0.0    0.0    0.0    0.0\n",
       "  88.0   86.0   57.0   55.0   72.0       0.0    0.0    0.0    0.0    0.0\n",
       "  86.0   88.0   55.0   57.0  106.0  …    0.0    0.0    0.0    0.0    0.0\n",
       "  57.0   55.0   88.0   86.0  106.0       0.0    0.0    0.0    0.0    0.0\n",
       "  55.0   57.0   86.0   88.0  104.0       0.0    0.0    0.0    0.0    0.0\n",
       "  88.0   57.0   86.0   55.0   86.0       0.0    0.0    0.0    0.0    0.0\n",
       "  57.0   88.0   55.0   86.0   55.0       0.0    0.0    0.0    0.0    0.0\n",
       "  86.0   55.0   88.0   57.0   55.0  …    1.0    0.0    0.0    0.0    0.0\n",
       "  55.0   86.0   57.0   88.0   86.0       0.0    0.0    0.0    0.0    0.0\n",
       "  86.0   55.0   55.0   86.0   88.0       0.0    0.0    1.0    0.0    0.0\n",
       "   ⋮                                ⋱    ⋮                              \n",
       "   0.0    0.0    0.0    0.0    0.0      88.0  104.0  106.0   86.0   55.0\n",
       "   0.0    0.0    0.0    0.0    1.0      86.0  106.0  104.0   55.0   86.0\n",
       "   0.0    0.0    0.0    0.0    0.0  …   55.0   86.0   55.0  104.0  106.0\n",
       "   0.0    0.0    0.0    0.0    0.0      86.0   55.0   86.0  106.0  104.0\n",
       "   0.0    0.0    0.0    0.0    0.0      88.0   86.0   55.0   57.0   55.0\n",
       "   0.0    0.0    0.0    0.0    0.0      57.0   55.0   86.0   55.0   57.0\n",
       "   0.0    0.0    0.0    0.0    0.0     106.0   57.0   55.0   86.0   55.0\n",
       "   0.0    0.0    0.0    0.0    0.0  …   72.0   55.0   57.0   55.0   86.0\n",
       "   0.0    0.0    0.0    0.0    0.0      55.0   72.0  106.0   57.0   88.0\n",
       "   0.0    0.0    0.0    0.0    0.0      57.0  106.0   72.0   88.0   57.0\n",
       "   0.0    0.0    0.0    0.0    0.0      55.0   57.0   88.0   72.0  106.0\n",
       "   0.0    0.0    0.0    0.0    0.0      86.0   88.0   57.0  106.0   72.0"
      ]
     },
     "execution_count": 196,
     "metadata": {},
     "output_type": "execute_result"
    }
   ],
   "source": [
    "AdjacencyN = AdjacencyF * Adjacency2"
   ]
  },
  {
   "cell_type": "code",
   "execution_count": 197,
   "metadata": {
    "collapsed": true
   },
   "outputs": [],
   "source": [
    "iteration=3\n",
    "for i=1:size(AdjacencyN,1)\n",
    "    if (pathLength[i]==0 && AdjacencyN[1,i] != 0)\n",
    "        pathLength[i]=iteration\n",
    "    end\n",
    "end"
   ]
  },
  {
   "cell_type": "code",
   "execution_count": 198,
   "metadata": {
    "collapsed": false
   },
   "outputs": [
    {
     "name": "stdout",
     "output_type": "stream",
     "text": [
      "Progress: 100% Time: 0:03:54\n"
     ]
    }
   ],
   "source": [
    "p=Progress(7,1)\n",
    "for co=4:10\n",
    "    AdjacencyN = AdjacencyF * AdjacencyN\n",
    "    for i=1:size(AdjacencyN,1)\n",
    "        if (pathLength[i]==0 && AdjacencyN[1,i] != 0)\n",
    "            pathLength[i]=co\n",
    "        end\n",
    "    end\n",
    "    next!(p)\n",
    "end"
   ]
  },
  {
   "cell_type": "code",
   "execution_count": 199,
   "metadata": {
    "collapsed": false
   },
   "outputs": [
    {
     "data": {
      "text/plain": [
       "11520-element Array{Int64,1}:\n",
       " 2\n",
       " 1\n",
       " 1\n",
       " 1\n",
       " 1\n",
       " 1\n",
       " 2\n",
       " 2\n",
       " 1\n",
       " 2\n",
       " 1\n",
       " 2\n",
       " 1\n",
       " ⋮\n",
       " 4\n",
       " 4\n",
       " 5\n",
       " 4\n",
       " 4\n",
       " 4\n",
       " 4\n",
       " 4\n",
       " 4\n",
       " 4\n",
       " 4\n",
       " 4"
      ]
     },
     "execution_count": 199,
     "metadata": {},
     "output_type": "execute_result"
    }
   ],
   "source": [
    "pathLength"
   ]
  },
  {
   "cell_type": "code",
   "execution_count": 200,
   "metadata": {
    "collapsed": false
   },
   "outputs": [],
   "source": [
    "for i=1:11520\n",
    "    if pathLength[i]==0 \n",
    "        print(\"$i is still zero\\n\")\n",
    "    end\n",
    "end"
   ]
  },
  {
   "cell_type": "code",
   "execution_count": 201,
   "metadata": {
    "collapsed": false
   },
   "outputs": [
    {
     "data": {
      "text/plain": [
       "4.852256944444444"
      ]
     },
     "execution_count": 201,
     "metadata": {},
     "output_type": "execute_result"
    }
   ],
   "source": [
    "mean(pathLength)"
   ]
  },
  {
   "cell_type": "code",
   "execution_count": 202,
   "metadata": {
    "collapsed": true
   },
   "outputs": [],
   "source": [
    "count = 0\n",
    "for i = 1:length(indexOfSl2)\n",
    "    count += pathLength[indexOfSl2[i]]\n",
    "end\n"
   ]
  },
  {
   "cell_type": "code",
   "execution_count": 203,
   "metadata": {
    "collapsed": false
   },
   "outputs": [
    {
     "data": {
      "text/plain": [
       "4532"
      ]
     },
     "execution_count": 203,
     "metadata": {},
     "output_type": "execute_result"
    }
   ],
   "source": [
    "count"
   ]
  },
  {
   "cell_type": "code",
   "execution_count": 204,
   "metadata": {
    "collapsed": false
   },
   "outputs": [
    {
     "data": {
      "text/plain": [
       "4.720833333333333"
      ]
     },
     "execution_count": 204,
     "metadata": {},
     "output_type": "execute_result"
    }
   ],
   "source": [
    "count = count/length(indexOfSl2)"
   ]
  },
  {
   "cell_type": "code",
   "execution_count": 205,
   "metadata": {
    "collapsed": false
   },
   "outputs": [
    {
     "data": {
      "text/plain": [
       "7"
      ]
     },
     "execution_count": 205,
     "metadata": {},
     "output_type": "execute_result"
    }
   ],
   "source": [
    "maximum(pathLength)"
   ]
  },
  {
   "cell_type": "code",
   "execution_count": 206,
   "metadata": {
    "collapsed": false
   },
   "outputs": [],
   "source": [
    "maxL=0\n",
    "for i = 1:length(indexOfSl2)\n",
    "    if pathLength[indexOfSl2[i]] > maxL\n",
    "        maxL =  pathLength[indexOfSl2[i]] \n",
    "    end\n",
    "end"
   ]
  },
  {
   "cell_type": "code",
   "execution_count": 207,
   "metadata": {
    "collapsed": false
   },
   "outputs": [
    {
     "data": {
      "text/plain": [
       "6"
      ]
     },
     "execution_count": 207,
     "metadata": {},
     "output_type": "execute_result"
    }
   ],
   "source": [
    "maxL"
   ]
  },
  {
   "cell_type": "markdown",
   "metadata": {},
   "source": [
    "###So I should be able to do this, using just the generators in the Sl2 group, (although I suspect gate lengths will be longer?)\n"
   ]
  },
  {
   "cell_type": "markdown",
   "metadata": {},
   "source": [
    "###first just re-check SL2 is a group, we checked that any group member* another group member = a group member, but I think I also need to check that each group member has an inverse in the group"
   ]
  },
  {
   "cell_type": "code",
   "execution_count": 209,
   "metadata": {
    "collapsed": false
   },
   "outputs": [
    {
     "name": "stdout",
     "output_type": "stream",
     "text": [
      "449"
     ]
    }
   ],
   "source": [
    "Superidentity = int(real(to_superpauli(qt.Qobj(kron(identity,identity)))[:full]()))\n",
    "print(findfirst(SuperSL2,Superidentity))"
   ]
  },
  {
   "cell_type": "code",
   "execution_count": 247,
   "metadata": {
    "collapsed": true
   },
   "outputs": [],
   "source": [
    "for i = 1:length(SuperSL2)\n",
    "    done  = 0\n",
    "    for j=1:length(SuperSL2)\n",
    "        if SuperSL2[i]*SuperSL2[j] == Superidentity\n",
    "            done=1\n",
    "            continue\n",
    "        end\n",
    "    end\n",
    "    if (done == 0) print(\"Failed with $i\\n\")\n",
    "    end\n",
    "end\n"
   ]
  },
  {
   "cell_type": "code",
   "execution_count": 211,
   "metadata": {
    "collapsed": false
   },
   "outputs": [
    {
     "data": {
      "text/plain": [
       "16x16 Array{Int64,2}:\n",
       " 1  0  0  0  0  0  0  0  0  0  0  0  0  0  0  0\n",
       " 0  1  0  0  0  0  0  0  0  0  0  0  0  0  0  0\n",
       " 0  0  1  0  0  0  0  0  0  0  0  0  0  0  0  0\n",
       " 0  0  0  1  0  0  0  0  0  0  0  0  0  0  0  0\n",
       " 0  0  0  0  1  0  0  0  0  0  0  0  0  0  0  0\n",
       " 0  0  0  0  0  1  0  0  0  0  0  0  0  0  0  0\n",
       " 0  0  0  0  0  0  1  0  0  0  0  0  0  0  0  0\n",
       " 0  0  0  0  0  0  0  1  0  0  0  0  0  0  0  0\n",
       " 0  0  0  0  0  0  0  0  1  0  0  0  0  0  0  0\n",
       " 0  0  0  0  0  0  0  0  0  1  0  0  0  0  0  0\n",
       " 0  0  0  0  0  0  0  0  0  0  1  0  0  0  0  0\n",
       " 0  0  0  0  0  0  0  0  0  0  0  1  0  0  0  0\n",
       " 0  0  0  0  0  0  0  0  0  0  0  0  1  0  0  0\n",
       " 0  0  0  0  0  0  0  0  0  0  0  0  0  1  0  0\n",
       " 0  0  0  0  0  0  0  0  0  0  0  0  0  0  1  0\n",
       " 0  0  0  0  0  0  0  0  0  0  0  0  0  0  0  1"
      ]
     },
     "execution_count": 211,
     "metadata": {},
     "output_type": "execute_result"
    }
   ],
   "source": [
    "SuperSL2[449]"
   ]
  },
  {
   "cell_type": "code",
   "execution_count": 232,
   "metadata": {
    "collapsed": false
   },
   "outputs": [],
   "source": [
    "##Playing with the SL 60"
   ]
  },
  {
   "cell_type": "code",
   "execution_count": 235,
   "metadata": {
    "collapsed": false
   },
   "outputs": [],
   "source": [
    "sl60Cliffords= Array{Complex{Float64},2}[]\n",
    "sl60CliffordCommands = Array{ASCIIString,1}[]\n",
    "n=60\n",
    "p=Progress(n,1)\n",
    "for i=1:60\n",
    "      state=setup(2)\n",
    "      state[:,1:4]=stabs[i]\n",
    "      decomposeState(state,true)\n",
    "      push!(sl60CliffordCommands,commands)\n",
    "      push!(sl60Cliffords,makeFromCommand(commands))\n",
    "end"
   ]
  },
  {
   "cell_type": "code",
   "execution_count": 236,
   "metadata": {
    "collapsed": false
   },
   "outputs": [
    {
     "data": {
      "text/plain": [
       "(60,)"
      ]
     },
     "execution_count": 236,
     "metadata": {},
     "output_type": "execute_result"
    }
   ],
   "source": [
    "size(sl60Cliffords)"
   ]
  },
  {
   "cell_type": "code",
   "execution_count": 241,
   "metadata": {
    "collapsed": false
   },
   "outputs": [],
   "source": [
    "#Find the index of these cliffords in the FullClifford group\n",
    "Super60Cliffords=[int(real(to_superpauli(qt.Qobj(sl60Cliffords[i]))[:full]())) for i =1:length(sl60Cliffords)];"
   ]
  },
  {
   "cell_type": "code",
   "execution_count": 243,
   "metadata": {
    "collapsed": false
   },
   "outputs": [
    {
     "data": {
      "text/plain": [
       "60-element Array{Any,1}:\n",
       "  1937\n",
       "  2897\n",
       "  7937\n",
       "  8897\n",
       "   113\n",
       "  6113\n",
       "  6593\n",
       "   593\n",
       "  1585\n",
       "  4465\n",
       "  9985\n",
       "  7105\n",
       "  3649\n",
       "     ⋮\n",
       " 10865\n",
       "  1185\n",
       "  7393\n",
       "  4657\n",
       "  3665\n",
       "  8385\n",
       " 10273\n",
       "  1777\n",
       "  4865\n",
       "  6705\n",
       "  1393\n",
       " 10177"
      ]
     },
     "execution_count": 243,
     "metadata": {},
     "output_type": "execute_result"
    }
   ],
   "source": [
    "indexOfSl60 = [findfirst(SuperCliffs,Super60Cliffords[i]) for i=1:length(Super60Cliffords)]"
   ]
  },
  {
   "cell_type": "code",
   "execution_count": 246,
   "metadata": {
    "collapsed": false
   },
   "outputs": [
    {
     "name": "stdout",
     "output_type": "stream",
     "text": [
      "Failed with 7\n",
      "Failed with 11\n",
      "Failed with 14\n",
      "Failed with 15\n",
      "Failed with 18\n",
      "Failed with 19\n",
      "Failed with 21\n",
      "Failed with 22\n",
      "Failed with 24\n",
      "Failed with 25\n",
      "Failed with 28\n",
      "Failed with 30\n",
      "Failed with 31\n",
      "Failed with 32\n",
      "Failed with 33\n",
      "Failed with 34\n",
      "Failed with 35\n",
      "Failed with 37\n",
      "Failed with 39\n",
      "Failed with 40\n",
      "Failed with 41\n",
      "Failed with 42\n",
      "Failed with 44\n",
      "Failed with 46\n",
      "Failed with 47\n",
      "Failed with 50\n",
      "Failed with 51\n",
      "Failed with 53\n",
      "Failed with 56\n",
      "Failed with 57\n",
      "Failed with 59\n",
      "Failed with 60\n"
     ]
    }
   ],
   "source": [
    "for i = 1:length(Super60Cliffords)\n",
    "    done  = 0\n",
    "    for j=1:length(Super60Cliffords)\n",
    "        if Super60Cliffords[i]*Super60Cliffords[j] == Superidentity\n",
    "            done=1\n",
    "            continue\n",
    "        end\n",
    "    end\n",
    "    if (done == 0) print(\"Failed with $i\\n\")\n",
    "    end\n",
    "end\n"
   ]
  },
  {
   "cell_type": "markdown",
   "metadata": {},
   "source": [
    "##So this means that the 60 SL group (prior to conjugation with a Pauli don't have their own inverses i.e. they do not form a group"
   ]
  },
  {
   "cell_type": "code",
   "execution_count": 250,
   "metadata": {
    "collapsed": false
   },
   "outputs": [],
   "source": [
    "CTable=zeros(60,60)\n",
    "for i=1:60\n",
    "    for j=1:60\n",
    "        CTable[i,j]=findfirst(Super60Cliffords,Super60Cliffords[i]*Super60Cliffords[j])\n",
    "    end\n",
    "end"
   ]
  },
  {
   "cell_type": "code",
   "execution_count": 251,
   "metadata": {
    "collapsed": false
   },
   "outputs": [
    {
     "data": {
      "text/plain": [
       "60x60 Array{Float64,2}:\n",
       " 29.0  31.0  32.0  30.0  45.0  47.0  …  53.0  54.0  23.0  21.0  22.0  24.0\n",
       "  0.0  43.0  44.0   0.0   0.0  51.0      0.0  58.0   0.0   0.0   0.0  16.0\n",
       "  0.0   0.0  36.0   0.0   0.0  55.0     45.0   0.0   0.0  17.0   0.0   0.0\n",
       "  0.0   0.0  40.0  38.0   0.0  59.0     49.0   0.0   0.0  25.0  26.0   0.0\n",
       " 13.0   0.0  15.0   0.0  29.0   0.0      0.0   0.0  58.0  57.0   0.0   0.0\n",
       "  0.0   0.0  27.0   0.0   0.0   0.0  …  37.0   0.0   0.0  49.0   0.0   0.0\n",
       "  0.0   0.0  19.0   0.0   0.0   0.0     33.0   0.0   0.0   0.0   0.0   0.0\n",
       "  0.0   0.0  23.0   0.0   0.0   0.0     29.0   0.0   0.0   0.0   0.0   0.0\n",
       " 45.0   0.0  46.0   0.0  13.0   0.0      0.0   0.0  36.0  33.0   0.0   0.0\n",
       "  0.0   0.0  58.0   0.0   0.0   0.0     13.0   0.0   0.0   0.0   0.0   0.0\n",
       "  0.0   0.0  50.0   0.0   0.0   0.0  …  25.0   0.0   0.0  37.0   0.0   0.0\n",
       "  0.0   0.0  54.0   0.0   0.0   0.0      0.0   0.0   0.0  29.0   0.0   0.0\n",
       "  5.0   0.0   8.0   0.0   9.0   0.0      0.0   0.0  33.0  36.0   0.0   0.0\n",
       "  ⋮                             ⋮    ⋱         ⋮                          \n",
       "  0.0  10.0  12.0   0.0   0.0   3.0      0.0   0.0   0.0   0.0   0.0   0.0\n",
       "  0.0   0.0  53.0  56.0   0.0  25.0      2.0   0.0   0.0   0.0   0.0   0.0\n",
       "  0.0   0.0  20.0   0.0   0.0  39.0  …  48.0   0.0   0.0  35.0   0.0   0.0\n",
       "  0.0   0.0  31.0  29.0   0.0   0.0     40.0   0.0   0.0   0.0   6.0   0.0\n",
       "  0.0   0.0  11.0   0.0   0.0   2.0      0.0   0.0   0.0  19.0   0.0   0.0\n",
       "  0.0   0.0  49.0  52.0   0.0   0.0      3.0   0.0   0.0   0.0   0.0   0.0\n",
       "  0.0   0.0  16.0   0.0   0.0  31.0      0.0   0.0   0.0  43.0   0.0   0.0\n",
       "  0.0   0.0  39.0  37.0   0.0   0.0  …  32.0   0.0   0.0   0.0   0.0   0.0\n",
       "  0.0  11.0   9.0   0.0   0.0   1.0      0.0   0.0   0.0   0.0   0.0   0.0\n",
       "  0.0   0.0  45.0  48.0   0.0  13.0      0.0   0.0   0.0   0.0   0.0   0.0\n",
       "  0.0   0.0  24.0   0.0   0.0   0.0      0.0   0.0   0.0  31.0   0.0   0.0\n",
       "  0.0   0.0  35.0   0.0   0.0   0.0     44.0   0.0   0.0   0.0   0.0   0.0"
      ]
     },
     "execution_count": 251,
     "metadata": {},
     "output_type": "execute_result"
    }
   ],
   "source": [
    "CTable\n"
   ]
  },
  {
   "cell_type": "code",
   "execution_count": 260,
   "metadata": {
    "collapsed": false
   },
   "outputs": [
    {
     "name": "stdout",
     "output_type": "stream",
     "text": [
      "1\n",
      "29\n"
     ]
    }
   ],
   "source": [
    "for i=1:60\n",
    "    if (sort(vec(int(CTable[i,:])))) == [1,2,3,4,5,6,7,8,9,10,11,12,13,14,15,16,17,18,19,20,21,22,23,24,25,26,27,28,29,30,31,32,33,34,35,36,37,38,39,40,41,42,43,44,45,46,47,48,49,50,51,52,53,54,55,56,57,58,59,60]\n",
    "        print(i,\"\\n\")\n",
    "    end\n",
    "end\n"
   ]
  },
  {
   "cell_type": "code",
   "execution_count": 263,
   "metadata": {
    "collapsed": false
   },
   "outputs": [
    {
     "data": {
      "text/plain": [
       "16x16 Array{Int64,2}:\n",
       " 1  0  0  0  0  0  0  0  0  0  0  0  0  0  0  0\n",
       " 0  1  0  0  0  0  0  0  0  0  0  0  0  0  0  0\n",
       " 0  0  1  0  0  0  0  0  0  0  0  0  0  0  0  0\n",
       " 0  0  0  1  0  0  0  0  0  0  0  0  0  0  0  0\n",
       " 0  0  0  0  1  0  0  0  0  0  0  0  0  0  0  0\n",
       " 0  0  0  0  0  1  0  0  0  0  0  0  0  0  0  0\n",
       " 0  0  0  0  0  0  1  0  0  0  0  0  0  0  0  0\n",
       " 0  0  0  0  0  0  0  1  0  0  0  0  0  0  0  0\n",
       " 0  0  0  0  0  0  0  0  1  0  0  0  0  0  0  0\n",
       " 0  0  0  0  0  0  0  0  0  1  0  0  0  0  0  0\n",
       " 0  0  0  0  0  0  0  0  0  0  1  0  0  0  0  0\n",
       " 0  0  0  0  0  0  0  0  0  0  0  1  0  0  0  0\n",
       " 0  0  0  0  0  0  0  0  0  0  0  0  1  0  0  0\n",
       " 0  0  0  0  0  0  0  0  0  0  0  0  0  1  0  0\n",
       " 0  0  0  0  0  0  0  0  0  0  0  0  0  0  1  0\n",
       " 0  0  0  0  0  0  0  0  0  0  0  0  0  0  0  1"
      ]
     },
     "execution_count": 263,
     "metadata": {},
     "output_type": "execute_result"
    }
   ],
   "source": [
    "Super60Cliffords[29]"
   ]
  },
  {
   "cell_type": "code",
   "execution_count": 268,
   "metadata": {
    "collapsed": false
   },
   "outputs": [
    {
     "data": {
      "text/plain": [
       "4-element Array{ASCIIString,1}:\n",
       " \"setup(2)\"    \n",
       " \"hadamard(2)\" \n",
       " \"hadamard(1)\" \n",
       " \"output(svec)\""
      ]
     },
     "execution_count": 268,
     "metadata": {},
     "output_type": "execute_result"
    }
   ],
   "source": [
    "sl60CliffordCommands[1]"
   ]
  },
  {
   "cell_type": "code",
   "execution_count": 269,
   "metadata": {
    "collapsed": false
   },
   "outputs": [
    {
     "data": {
      "text/plain": [
       "4x4 Array{Int64,2}:\n",
       " 0  0  1  0\n",
       " 0  0  0  1\n",
       " 1  0  0  0\n",
       " 0  1  0  0"
      ]
     },
     "execution_count": 269,
     "metadata": {},
     "output_type": "execute_result"
    }
   ],
   "source": [
    "stabs[1]"
   ]
  },
  {
   "cell_type": "code",
   "execution_count": 270,
   "metadata": {
    "collapsed": false
   },
   "outputs": [
    {
     "data": {
      "text/plain": [
       "4x4 Array{Int64,2}:\n",
       " 0  0  1  0\n",
       " 0  0  0  1\n",
       " 1  0  1  0\n",
       " 0  1  0  1"
      ]
     },
     "execution_count": 270,
     "metadata": {},
     "output_type": "execute_result"
    }
   ],
   "source": [
    "stabs[3]"
   ]
  },
  {
   "cell_type": "code",
   "execution_count": 271,
   "metadata": {
    "collapsed": false
   },
   "outputs": [
    {
     "data": {
      "text/plain": [
       "4x4 Array{Int64,2}:\n",
       " 1  0  1  0\n",
       " 0  1  0  1\n",
       " 1  0  0  0\n",
       " 0  1  0  0"
      ]
     },
     "execution_count": 271,
     "metadata": {},
     "output_type": "execute_result"
    }
   ],
   "source": [
    "stabs[36]"
   ]
  },
  {
   "cell_type": "code",
   "execution_count": null,
   "metadata": {
    "collapsed": true
   },
   "outputs": [],
   "source": []
  },
  {
   "cell_type": "code",
   "execution_count": null,
   "metadata": {
    "collapsed": true
   },
   "outputs": [],
   "source": []
  },
  {
   "cell_type": "code",
   "execution_count": 275,
   "metadata": {
    "collapsed": false
   },
   "outputs": [
    {
     "data": {
      "text/plain": [
       "4113"
      ]
     },
     "execution_count": 275,
     "metadata": {},
     "output_type": "execute_result"
    }
   ],
   "source": [
    "findfirst(SuperCliffs,Super60Cliffords[36])"
   ]
  },
  {
   "cell_type": "code",
   "execution_count": 278,
   "metadata": {
    "collapsed": false
   },
   "outputs": [
    {
     "data": {
      "text/plain": [
       "2"
      ]
     },
     "execution_count": 278,
     "metadata": {},
     "output_type": "execute_result"
    }
   ],
   "source": [
    "pathLength[4113]"
   ]
  },
  {
   "cell_type": "code",
   "execution_count": null,
   "metadata": {
    "collapsed": true
   },
   "outputs": [],
   "source": []
  }
 ],
 "metadata": {
  "kernelspec": {
   "display_name": "Julia 0.3.9",
   "language": "julia",
   "name": "julia-0.3"
  },
  "language_info": {
   "name": "julia",
   "version": "0.3.9"
  }
 },
 "nbformat": 4,
 "nbformat_minor": 0
}
