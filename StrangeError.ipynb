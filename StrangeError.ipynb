{
 "cells": [
  {
   "cell_type": "code",
   "execution_count": 1,
   "metadata": {
    "collapsed": false
   },
   "outputs": [
    {
     "data": {
      "text/plain": [
       "reverseCommands (generic function with 1 method)"
      ]
     },
     "execution_count": 1,
     "metadata": {},
     "output_type": "execute_result"
    }
   ],
   "source": [
    "include(\"Initial.jl\")\n",
    "include(\"Symplectic.jl\")"
   ]
  },
  {
   "cell_type": "code",
   "execution_count": 2,
   "metadata": {
    "collapsed": true
   },
   "outputs": [],
   "source": [
    "state=setup(6)\n",
    "hadamard(5)\n",
    "hadamard(4)\n",
    "hadamard(3)\n",
    "hadamard(2)\n",
    "hadamard(1)\n",
    "cnot(1,2)\n",
    "cnot(1,3)\n",
    "cnot(1,4)\n",
    "cnot(1,5)\n",
    "cnot(1,6)\n",
    "cnot(2,3)\n",
    "cnot(2,4)\n",
    "cnot(2,5)\n",
    "cnot(2,6)\n",
    "cnot(3,4)\n",
    "cnot(3,5)\n",
    "cnot(3,6)\n",
    "cnot(4,5)\n",
    "cnot(4,6)\n",
    "cnot(5,6)\n",
    "hadamard(6)\n",
    "hadamard(5)\n",
    "hadamard(4)\n",
    "hadamard(3)\n",
    "hadamard(2)\n",
    "hadamard(1)\n",
    "phase(1)\n",
    "phase(1)\n",
    "phase(1)\n",
    "phase(6)\n",
    "phase(6)\n",
    "phase(6)\n",
    "cnot(6,1)\n",
    "phase(1)\n",
    "cnot(6,1)\n",
    "\n",
    "hadamard(6)\n",
    "hadamard(5)\n",
    "hadamard(4)\n",
    "hadamard(3)\n",
    "hadamard(2)\n",
    "hadamard(1)\n",
    "\n",
    "cnot(1,6)\n",
    "phase(1)\n",
    "phase(1)\n",
    "phase(1)\n",
    "cnot(6,1)\n",
    "phase(1)\n",
    "phase(6)\n",
    "hadamard(6)\n",
    "hadamard(5)\n",
    "hadamard(4)\n",
    "hadamard(3)\n",
    "hadamard(2)\n",
    "hadamard(1)\n",
    "cnot(5,6)\n",
    "cnot(4,5)\n",
    "cnot(4,6)\n",
    "cnot(3,4)\n",
    "cnot(3,5)\n",
    "cnot(3,6)\n",
    "cnot(2,3)\n",
    "cnot(2,4)\n",
    "cnot(2,5)\n",
    "cnot(2,6)\n",
    "cnot(1,2)\n",
    "cnot(1,3)\n",
    "cnot(1,4)\n",
    "cnot(1,5)\n",
    "cnot(1,6)\n",
    "hadamard(5)\n",
    "hadamard(4)\n",
    "hadamard(3)\n",
    "hadamard(2)\n",
    "hadamard(1)"
   ]
  },
  {
   "cell_type": "code",
   "execution_count": 3,
   "metadata": {
    "collapsed": false
   },
   "outputs": [
    {
     "name": "stdout",
     "output_type": "stream",
     "text": [
      "Tableau for unitary: \n",
      "-XIIIXZ\n",
      "-XZZZYY\n",
      "-XZIIXZ\n",
      "-XZIZYY\n",
      "-XZIZXZ\n",
      "+YZZZYZ\n",
      "-------\n",
      "-YYZZYY\n",
      "+XIXIII\n",
      "+IXIXII\n",
      "+IIXIXI\n",
      "+YZZYZZ\n",
      "-XZIZII\n",
      "setup(6)\n",
      "cnot(6,3)\n",
      "cnot(5,3)\n",
      "cnot(4,2)\n",
      "cnot(3,2)\n",
      "cnot(3,1)\n",
      "cnot(2,1)\n",
      "phase(2)\n",
      "phase(2)\n",
      "phase(6)\n",
      "phase(5)\n",
      "phase(4)\n",
      "phase(3)\n",
      "phase(2)\n",
      "phase(1)\n",
      "cnot(6,3)\n",
      "cnot(5,3)\n",
      "phase(3)\n",
      "cnot(6,2)\n",
      "cnot(5,2)\n",
      "cnot(4,2)\n",
      "cnot(3,2)\n",
      "phase(2)\n",
      "cnot(4,1)\n",
      "cnot(2,1)\n",
      "phase(6)\n",
      "phase(5)\n",
      "phase(4)\n",
      "phase(3)\n",
      "phase(2)\n",
      "phase(1)\n",
      "hadamard(6)\n",
      "hadamard(5)\n",
      "hadamard(4)\n",
      "hadamard(3)\n",
      "hadamard(2)\n",
      "hadamard(1)\n",
      "cnot(6,5)\n",
      "cnot(6,1)\n",
      "phase(6)\n",
      "phase(6)\n",
      "phase(6)\n",
      "phase(5)\n",
      "phase(1)\n",
      "cnot(6,5)\n",
      "cnot(6,1)\n",
      "phase(6)\n",
      "phase(5)\n",
      "phase(1)\n",
      "cnot(6,5)\n",
      "cnot(6,4)\n",
      "cnot(6,3)\n",
      "cnot(6,2)\n",
      "cnot(6,1)\n",
      "cnot(5,6)\n",
      "cnot(5,3)\n",
      "cnot(5,1)\n",
      "cnot(4,6)\n",
      "cnot(4,3)\n",
      "cnot(4,2)\n",
      "cnot(4,1)\n",
      "cnot(3,6)\n",
      "cnot(3,5)\n",
      "cnot(3,4)\n",
      "cnot(3,2)\n",
      "cnot(3,1)\n",
      "cnot(2,6)\n",
      "cnot(2,5)\n",
      "cnot(2,3)\n",
      "cnot(2,1)\n",
      "cnot(1,6)\n",
      "cnot(1,5)\n",
      "cnot(1,2)\n",
      "output(state)\n"
     ]
    }
   ],
   "source": [
    "decomposeState(state)"
   ]
  },
  {
   "cell_type": "code",
   "execution_count": 4,
   "metadata": {
    "collapsed": true
   },
   "outputs": [],
   "source": [
    "state=setup(6)\n",
    "hadamard(5)\n",
    "cnot(2,6)\n",
    "cnot(4,6)\n",
    "cnot(5,6)\n",
    "hadamard(6)\n",
    "hadamard(5)\n",
    "phase(1)\n",
    "phase(1)\n",
    "phase(1)\n",
    "phase(6)\n",
    "phase(6)\n",
    "phase(6)\n",
    "cnot(6,1)\n",
    "phase(1)\n",
    "cnot(6,1)\n",
    "hadamard(6)\n",
    "hadamard(5)\n",
    "hadamard(1)\n",
    "\n",
    "cnot(1,6)"
   ]
  },
  {
   "cell_type": "code",
   "execution_count": 5,
   "metadata": {
    "collapsed": false
   },
   "outputs": [
    {
     "name": "stdout",
     "output_type": "stream",
     "text": [
      "Tableau for unitary: \n",
      "+ZIIIIX\n",
      "+IXIIIX\n",
      "+IIXIII\n",
      "+IIIXIX\n",
      "+IIIIZI\n",
      "+IIIIIX\n",
      "-------\n",
      "+XIIIIX\n",
      "+IZIIII\n",
      "+IIZIII\n",
      "+IIIZII\n",
      "+IIIIXX\n",
      "-YZIZZY\n",
      "setup(6)\n",
      "cnot(6,2)\n",
      "cnot(4,2)\n",
      "cnot(2,1)\n",
      "phase(6)\n",
      "phase(4)\n",
      "phase(2)\n",
      "phase(1)\n",
      "cnot(6,2)\n",
      "cnot(4,2)\n",
      "phase(2)\n",
      "cnot(6,1)\n",
      "cnot(4,1)\n",
      "cnot(2,1)\n",
      "phase(6)\n",
      "phase(4)\n",
      "phase(2)\n",
      "phase(1)\n",
      "hadamard(6)\n",
      "hadamard(5)\n",
      "hadamard(4)\n",
      "hadamard(2)\n",
      "hadamard(1)\n",
      "cnot(6,1)\n",
      "phase(1)\n",
      "phase(1)\n",
      "phase(6)\n",
      "phase(1)\n",
      "phase(6)\n",
      "cnot(6,1)\n",
      "phase(6)\n",
      "phase(1)\n",
      "cnot(6,4)\n",
      "cnot(6,2)\n",
      "cnot(5,1)\n",
      "cnot(1,6)\n",
      "cnot(6,1)\n",
      "hadamard(4)\n",
      "hadamard(2)\n",
      "hadamard(1)\n",
      "output(state)\n"
     ]
    }
   ],
   "source": [
    "decomposeState(state)"
   ]
  },
  {
   "cell_type": "code",
   "execution_count": 6,
   "metadata": {
    "collapsed": false
   },
   "outputs": [
    {
     "name": "stdout",
     "output_type": "stream",
     "text": [
      "+XIIIII\n",
      "+IXIIII\n",
      "+IIXIII\n",
      "+IIIXII\n",
      "+IIIIXI\n",
      "+IIIIIX\n",
      "-------\n",
      "+ZIIIII\n",
      "+IZIIII\n",
      "+IIZIII\n",
      "+IIIZII\n",
      "+IIIIZI\n",
      "+IIIIIZ\n"
     ]
    }
   ],
   "source": [
    "output(state)"
   ]
  },
  {
   "cell_type": "code",
   "execution_count": null,
   "metadata": {
    "collapsed": true
   },
   "outputs": [],
   "source": []
  }
 ],
 "metadata": {
  "kernelspec": {
   "display_name": "Julia 0.5.0",
   "language": "julia",
   "name": "julia-0.5"
  },
  "language_info": {
   "file_extension": ".jl",
   "mimetype": "application/julia",
   "name": "julia",
   "version": "0.5.0"
  }
 },
 "nbformat": 4,
 "nbformat_minor": 0
}
